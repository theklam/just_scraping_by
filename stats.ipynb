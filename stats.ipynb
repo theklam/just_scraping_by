{
 "cells": [
  {
   "cell_type": "code",
   "execution_count": 42,
   "metadata": {},
   "outputs": [],
   "source": [
    "import pyreadr\n",
    "import numpy as np\n",
    "import pandas as pd\n",
    "import matplotlib.pyplot as plt\n",
    "import chart_studio.plotly as py\n",
    "import plotly\n",
    "import plotly.graph_objects as go\n",
    "import plotly.express as px\n",
    "from scipy.stats import chi2_contingency"
   ]
  },
  {
   "cell_type": "code",
   "execution_count": 43,
   "metadata": {},
   "outputs": [
    {
     "data": {
      "text/plain": [
       "\"\\nwith pd.ExcelWriter('output2.xlsx') as writer:\\n    df_1114.to_excel(writer, sheet_name='Sheet_name_1')\\n\""
      ]
     },
     "execution_count": 43,
     "metadata": {},
     "output_type": "execute_result"
    }
   ],
   "source": [
    "data_2014 = pyreadr.read_r('cleaned_data/data14.rds')\n",
    "df_14=data_2014[None]\n",
    "\n",
    "data_2015_18 = pyreadr.read_r('cleaned_data/data1518.rds')\n",
    "df_1518=data_2015_18[None]\n",
    "\n",
    "data_2011_14 = pyreadr.read_r('cleaned_data/new_data1114.rds')\n",
    "df_1114=data_2011_14[None]\n",
    "\n",
    "new_data_2015_18 = pyreadr.read_r('cleaned_data/new_data1518.rds')\n",
    "df_new_1518=new_data_2015_18[None]\n",
    "\n",
    "'''\n",
    "with pd.ExcelWriter('output2.xlsx') as writer:\n",
    "    df_1114.to_excel(writer, sheet_name='Sheet_name_1')\n",
    "'''"
   ]
  },
  {
   "cell_type": "code",
   "execution_count": 44,
   "metadata": {},
   "outputs": [
    {
     "name": "stdout",
     "output_type": "stream",
     "text": [
      "Index(['xstate', 'imonth', 'genhlth', 'physhlth', 'poorhlth', 'hlthpln1',\n",
      "       'persdoc2', 'medcost', 'checkup1', 'exerany2', 'sex', 'educa',\n",
      "       'employ1', 'income2', 'flushot6', 'howlong', 'lastpap2', 'lastsig3',\n",
      "       'hadsigm3', 'xhcvu651', 'xtotinda', 'drvisits', 'medicare', 'hlthcvr1',\n",
      "       'nocov121', 'medscost', 'carercvd', 'year'],\n",
      "      dtype='object')\n",
      "Index(['xstate', 'imonth', 'genhlth', 'physhlth', 'poorhlth', 'hlthpln1',\n",
      "       'persdoc2', 'medcost', 'checkup1', 'exerany2', 'sex', 'educa',\n",
      "       'employ1', 'income2', 'flushot6', 'howlong', 'lastpap2', 'lastsig3',\n",
      "       'hadsigm3', 'xhcvu651', 'xtotinda', 'year', 'drvisits', 'medicare',\n",
      "       'hlthcvr1', 'nocov121', 'medscost', 'carercvd'],\n",
      "      dtype='object')\n",
      "Index(['xstate', 'genhlth', 'hlthpln1', 'numadult', 'race', 'income2',\n",
      "       'physhlth', 'poorhlth', 'persdoc2', 'checkup1', 'exerany2', 'sex',\n",
      "       'educa', 'numadult.1', 'children', 'employ', 'flushot5', 'howlong',\n",
      "       'lastpap2', 'lastsig3', 'hadsigm3', 'xhcvu651', 'medcost', 'year',\n",
      "       'medscost', 'drvisits'],\n",
      "      dtype='object')\n",
      "Index(['xstate', 'genhlth', 'hlthpln1', 'numadult', 'race', 'income2',\n",
      "       'physhlth', 'poorhlth', 'persdoc2', 'checkup1', 'exerany2', 'sex',\n",
      "       'educa', 'numadult.1', 'children', 'employ', 'flushot5', 'howlong',\n",
      "       'lastpap2', 'lastsig3', 'hadsigm3', 'xhcvu651', 'medcost', 'year',\n",
      "       'drvisits', 'medscost'],\n",
      "      dtype='object')\n"
     ]
    }
   ],
   "source": [
    "titles=df_14.keys()\n",
    "titles2 = df_1518.keys()\n",
    "print(titles)\n",
    "print(titles2)\n",
    "\n",
    "titles3=df_1114.keys()\n",
    "titles4 = df_new_1518.keys()\n",
    "print(titles3)\n",
    "print(titles4)"
   ]
  },
  {
   "cell_type": "code",
   "execution_count": 45,
   "metadata": {},
   "outputs": [],
   "source": [
    "low_income14 = df_14.loc[df_14['income2'] <= 4]\n",
    "low_income1518 = df_1518.loc[df_1518['income2'] <= 4]"
   ]
  },
  {
   "cell_type": "code",
   "execution_count": 46,
   "metadata": {},
   "outputs": [],
   "source": [
    "#function to return the counts of people for each category in a given column\n",
    "def getCounts(df, num_cols, threshold = 7):\n",
    "    counts = [0 for i in range(num_cols)]\n",
    "    for row in df:\n",
    "        value = (int)(row)\n",
    "        if value < threshold:\n",
    "            counts[value-1] += 1\n",
    "    return counts"
   ]
  },
  {
   "cell_type": "code",
   "execution_count": 47,
   "metadata": {},
   "outputs": [
    {
     "data": {
      "text/plain": [
       "0        1.0\n",
       "1        3.0\n",
       "2        2.0\n",
       "3        1.0\n",
       "4        3.0\n",
       "        ... \n",
       "51853    3.0\n",
       "51854    2.0\n",
       "51855    2.0\n",
       "51856    1.0\n",
       "51857    2.0\n",
       "Name: genhlth, Length: 51858, dtype: float64"
      ]
     },
     "execution_count": 47,
     "metadata": {},
     "output_type": "execute_result"
    }
   ],
   "source": [
    "#start of chi2 test for general health data\n",
    "gen_health14 = df_14['genhlth']\n",
    "gen_health14"
   ]
  },
  {
   "cell_type": "code",
   "execution_count": 48,
   "metadata": {},
   "outputs": [
    {
     "data": {
      "text/plain": [
       "0         3.0\n",
       "1         3.0\n",
       "2         3.0\n",
       "3         1.0\n",
       "4         3.0\n",
       "         ... \n",
       "193644    3.0\n",
       "193645    3.0\n",
       "193646    1.0\n",
       "193647    2.0\n",
       "193648    1.0\n",
       "Name: genhlth, Length: 193649, dtype: float64"
      ]
     },
     "execution_count": 48,
     "metadata": {},
     "output_type": "execute_result"
    }
   ],
   "source": [
    "gen_health1518 = df_1518['genhlth']\n",
    "gen_health1518"
   ]
  },
  {
   "cell_type": "code",
   "execution_count": 49,
   "metadata": {},
   "outputs": [
    {
     "data": {
      "text/plain": [
       "120187    4.0\n",
       "74314     2.0\n",
       "10751     5.0\n",
       "34734     2.0\n",
       "83776     5.0\n",
       "         ... \n",
       "56529     4.0\n",
       "101909    3.0\n",
       "36504     2.0\n",
       "26896     2.0\n",
       "126199    4.0\n",
       "Name: genhlth, Length: 51858, dtype: float64"
      ]
     },
     "execution_count": 49,
     "metadata": {},
     "output_type": "execute_result"
    }
   ],
   "source": [
    "#account for much larger data by taking random sample of same size of 2014 dataset\n",
    "sample1518 = gen_health1518.sample(n = 51858, random_state = 1)\n",
    "sample1518"
   ]
  },
  {
   "cell_type": "code",
   "execution_count": 50,
   "metadata": {},
   "outputs": [
    {
     "data": {
      "text/plain": [
       "[10706, 18539, 14412, 5803, 2254]"
      ]
     },
     "execution_count": 50,
     "metadata": {},
     "output_type": "execute_result"
    }
   ],
   "source": [
    "#get counts for each value of general health in 2014 data set\n",
    "counts14 = getCounts(gen_health14, 5)\n",
    "counts14"
   ]
  },
  {
   "cell_type": "code",
   "execution_count": 51,
   "metadata": {},
   "outputs": [
    {
     "data": {
      "text/plain": [
       "[10274, 18518, 14806, 5884, 2257]"
      ]
     },
     "execution_count": 51,
     "metadata": {},
     "output_type": "execute_result"
    }
   ],
   "source": [
    "#get counts for each value of general health in 2015-2018 data set sample\n",
    "counts1518 = getCounts(sample1518,5)\n",
    "counts1518"
   ]
  },
  {
   "cell_type": "code",
   "execution_count": 52,
   "metadata": {},
   "outputs": [
    {
     "name": "stdout",
     "output_type": "stream",
     "text": [
      "2014 total 51714\n",
      "2015-2018 total 51739\n"
     ]
    }
   ],
   "source": [
    "#number of non refused or not sure answers in data set\n",
    "total14 = np.sum(counts14)\n",
    "total1518 = np.sum(counts1518)\n",
    "\n",
    "print(\"2014 total\", total14)\n",
    "print(\"2015-2018 total\",total1518)"
   ]
  },
  {
   "cell_type": "code",
   "execution_count": 53,
   "metadata": {},
   "outputs": [
    {
     "data": {
      "text/html": [
       "<div>\n",
       "<style scoped>\n",
       "    .dataframe tbody tr th:only-of-type {\n",
       "        vertical-align: middle;\n",
       "    }\n",
       "\n",
       "    .dataframe tbody tr th {\n",
       "        vertical-align: top;\n",
       "    }\n",
       "\n",
       "    .dataframe thead th {\n",
       "        text-align: right;\n",
       "    }\n",
       "</style>\n",
       "<table border=\"1\" class=\"dataframe\">\n",
       "  <thead>\n",
       "    <tr style=\"text-align: right;\">\n",
       "      <th></th>\n",
       "      <th>Excellent</th>\n",
       "      <th>Very Good</th>\n",
       "      <th>Good</th>\n",
       "      <th>Fair</th>\n",
       "      <th>Poor</th>\n",
       "    </tr>\n",
       "  </thead>\n",
       "  <tbody>\n",
       "    <tr>\n",
       "      <th>2014</th>\n",
       "      <td>10706</td>\n",
       "      <td>18539</td>\n",
       "      <td>14412</td>\n",
       "      <td>5803</td>\n",
       "      <td>2254</td>\n",
       "    </tr>\n",
       "    <tr>\n",
       "      <th>2015-2018</th>\n",
       "      <td>10274</td>\n",
       "      <td>18518</td>\n",
       "      <td>14806</td>\n",
       "      <td>5884</td>\n",
       "      <td>2257</td>\n",
       "    </tr>\n",
       "  </tbody>\n",
       "</table>\n",
       "</div>"
      ],
      "text/plain": [
       "           Excellent  Very Good   Good  Fair  Poor\n",
       "2014           10706      18539  14412  5803  2254\n",
       "2015-2018      10274      18518  14806  5884  2257"
      ]
     },
     "execution_count": 53,
     "metadata": {},
     "output_type": "execute_result"
    }
   ],
   "source": [
    "#create combined matrix\n",
    "genhealth = pd.DataFrame([counts14, counts1518], index = [\"2014\", \"2015-2018\"], columns = [\"Excellent\", \"Very Good\", \"Good\", \"Fair\", \"Poor\"])\n",
    "genhealth"
   ]
  },
  {
   "cell_type": "code",
   "execution_count": 54,
   "metadata": {},
   "outputs": [
    {
     "data": {
      "application/vnd.plotly.v1+json": {
       "config": {
        "plotlyServerURL": "https://plot.ly"
       },
       "data": [
        {
         "name": "2014",
         "type": "bar",
         "x": [
          "Excellent",
          "Very Good",
          "Good",
          "Fair",
          "Poor"
         ],
         "y": [
          10706,
          18539,
          14412,
          5803,
          2254
         ]
        },
        {
         "name": "2015-18",
         "type": "bar",
         "x": [
          "Excellent",
          "Very Good",
          "Good",
          "Fair",
          "Poor"
         ],
         "y": [
          10274,
          18518,
          14806,
          5884,
          2257
         ]
        }
       ],
       "layout": {
        "barmode": "group",
        "template": {
         "data": {
          "bar": [
           {
            "error_x": {
             "color": "#2a3f5f"
            },
            "error_y": {
             "color": "#2a3f5f"
            },
            "marker": {
             "line": {
              "color": "#E5ECF6",
              "width": 0.5
             }
            },
            "type": "bar"
           }
          ],
          "barpolar": [
           {
            "marker": {
             "line": {
              "color": "#E5ECF6",
              "width": 0.5
             }
            },
            "type": "barpolar"
           }
          ],
          "carpet": [
           {
            "aaxis": {
             "endlinecolor": "#2a3f5f",
             "gridcolor": "white",
             "linecolor": "white",
             "minorgridcolor": "white",
             "startlinecolor": "#2a3f5f"
            },
            "baxis": {
             "endlinecolor": "#2a3f5f",
             "gridcolor": "white",
             "linecolor": "white",
             "minorgridcolor": "white",
             "startlinecolor": "#2a3f5f"
            },
            "type": "carpet"
           }
          ],
          "choropleth": [
           {
            "colorbar": {
             "outlinewidth": 0,
             "ticks": ""
            },
            "type": "choropleth"
           }
          ],
          "contour": [
           {
            "colorbar": {
             "outlinewidth": 0,
             "ticks": ""
            },
            "colorscale": [
             [
              0,
              "#0d0887"
             ],
             [
              0.1111111111111111,
              "#46039f"
             ],
             [
              0.2222222222222222,
              "#7201a8"
             ],
             [
              0.3333333333333333,
              "#9c179e"
             ],
             [
              0.4444444444444444,
              "#bd3786"
             ],
             [
              0.5555555555555556,
              "#d8576b"
             ],
             [
              0.6666666666666666,
              "#ed7953"
             ],
             [
              0.7777777777777778,
              "#fb9f3a"
             ],
             [
              0.8888888888888888,
              "#fdca26"
             ],
             [
              1,
              "#f0f921"
             ]
            ],
            "type": "contour"
           }
          ],
          "contourcarpet": [
           {
            "colorbar": {
             "outlinewidth": 0,
             "ticks": ""
            },
            "type": "contourcarpet"
           }
          ],
          "heatmap": [
           {
            "colorbar": {
             "outlinewidth": 0,
             "ticks": ""
            },
            "colorscale": [
             [
              0,
              "#0d0887"
             ],
             [
              0.1111111111111111,
              "#46039f"
             ],
             [
              0.2222222222222222,
              "#7201a8"
             ],
             [
              0.3333333333333333,
              "#9c179e"
             ],
             [
              0.4444444444444444,
              "#bd3786"
             ],
             [
              0.5555555555555556,
              "#d8576b"
             ],
             [
              0.6666666666666666,
              "#ed7953"
             ],
             [
              0.7777777777777778,
              "#fb9f3a"
             ],
             [
              0.8888888888888888,
              "#fdca26"
             ],
             [
              1,
              "#f0f921"
             ]
            ],
            "type": "heatmap"
           }
          ],
          "heatmapgl": [
           {
            "colorbar": {
             "outlinewidth": 0,
             "ticks": ""
            },
            "colorscale": [
             [
              0,
              "#0d0887"
             ],
             [
              0.1111111111111111,
              "#46039f"
             ],
             [
              0.2222222222222222,
              "#7201a8"
             ],
             [
              0.3333333333333333,
              "#9c179e"
             ],
             [
              0.4444444444444444,
              "#bd3786"
             ],
             [
              0.5555555555555556,
              "#d8576b"
             ],
             [
              0.6666666666666666,
              "#ed7953"
             ],
             [
              0.7777777777777778,
              "#fb9f3a"
             ],
             [
              0.8888888888888888,
              "#fdca26"
             ],
             [
              1,
              "#f0f921"
             ]
            ],
            "type": "heatmapgl"
           }
          ],
          "histogram": [
           {
            "marker": {
             "colorbar": {
              "outlinewidth": 0,
              "ticks": ""
             }
            },
            "type": "histogram"
           }
          ],
          "histogram2d": [
           {
            "colorbar": {
             "outlinewidth": 0,
             "ticks": ""
            },
            "colorscale": [
             [
              0,
              "#0d0887"
             ],
             [
              0.1111111111111111,
              "#46039f"
             ],
             [
              0.2222222222222222,
              "#7201a8"
             ],
             [
              0.3333333333333333,
              "#9c179e"
             ],
             [
              0.4444444444444444,
              "#bd3786"
             ],
             [
              0.5555555555555556,
              "#d8576b"
             ],
             [
              0.6666666666666666,
              "#ed7953"
             ],
             [
              0.7777777777777778,
              "#fb9f3a"
             ],
             [
              0.8888888888888888,
              "#fdca26"
             ],
             [
              1,
              "#f0f921"
             ]
            ],
            "type": "histogram2d"
           }
          ],
          "histogram2dcontour": [
           {
            "colorbar": {
             "outlinewidth": 0,
             "ticks": ""
            },
            "colorscale": [
             [
              0,
              "#0d0887"
             ],
             [
              0.1111111111111111,
              "#46039f"
             ],
             [
              0.2222222222222222,
              "#7201a8"
             ],
             [
              0.3333333333333333,
              "#9c179e"
             ],
             [
              0.4444444444444444,
              "#bd3786"
             ],
             [
              0.5555555555555556,
              "#d8576b"
             ],
             [
              0.6666666666666666,
              "#ed7953"
             ],
             [
              0.7777777777777778,
              "#fb9f3a"
             ],
             [
              0.8888888888888888,
              "#fdca26"
             ],
             [
              1,
              "#f0f921"
             ]
            ],
            "type": "histogram2dcontour"
           }
          ],
          "mesh3d": [
           {
            "colorbar": {
             "outlinewidth": 0,
             "ticks": ""
            },
            "type": "mesh3d"
           }
          ],
          "parcoords": [
           {
            "line": {
             "colorbar": {
              "outlinewidth": 0,
              "ticks": ""
             }
            },
            "type": "parcoords"
           }
          ],
          "pie": [
           {
            "automargin": true,
            "type": "pie"
           }
          ],
          "scatter": [
           {
            "marker": {
             "colorbar": {
              "outlinewidth": 0,
              "ticks": ""
             }
            },
            "type": "scatter"
           }
          ],
          "scatter3d": [
           {
            "line": {
             "colorbar": {
              "outlinewidth": 0,
              "ticks": ""
             }
            },
            "marker": {
             "colorbar": {
              "outlinewidth": 0,
              "ticks": ""
             }
            },
            "type": "scatter3d"
           }
          ],
          "scattercarpet": [
           {
            "marker": {
             "colorbar": {
              "outlinewidth": 0,
              "ticks": ""
             }
            },
            "type": "scattercarpet"
           }
          ],
          "scattergeo": [
           {
            "marker": {
             "colorbar": {
              "outlinewidth": 0,
              "ticks": ""
             }
            },
            "type": "scattergeo"
           }
          ],
          "scattergl": [
           {
            "marker": {
             "colorbar": {
              "outlinewidth": 0,
              "ticks": ""
             }
            },
            "type": "scattergl"
           }
          ],
          "scattermapbox": [
           {
            "marker": {
             "colorbar": {
              "outlinewidth": 0,
              "ticks": ""
             }
            },
            "type": "scattermapbox"
           }
          ],
          "scatterpolar": [
           {
            "marker": {
             "colorbar": {
              "outlinewidth": 0,
              "ticks": ""
             }
            },
            "type": "scatterpolar"
           }
          ],
          "scatterpolargl": [
           {
            "marker": {
             "colorbar": {
              "outlinewidth": 0,
              "ticks": ""
             }
            },
            "type": "scatterpolargl"
           }
          ],
          "scatterternary": [
           {
            "marker": {
             "colorbar": {
              "outlinewidth": 0,
              "ticks": ""
             }
            },
            "type": "scatterternary"
           }
          ],
          "surface": [
           {
            "colorbar": {
             "outlinewidth": 0,
             "ticks": ""
            },
            "colorscale": [
             [
              0,
              "#0d0887"
             ],
             [
              0.1111111111111111,
              "#46039f"
             ],
             [
              0.2222222222222222,
              "#7201a8"
             ],
             [
              0.3333333333333333,
              "#9c179e"
             ],
             [
              0.4444444444444444,
              "#bd3786"
             ],
             [
              0.5555555555555556,
              "#d8576b"
             ],
             [
              0.6666666666666666,
              "#ed7953"
             ],
             [
              0.7777777777777778,
              "#fb9f3a"
             ],
             [
              0.8888888888888888,
              "#fdca26"
             ],
             [
              1,
              "#f0f921"
             ]
            ],
            "type": "surface"
           }
          ],
          "table": [
           {
            "cells": {
             "fill": {
              "color": "#EBF0F8"
             },
             "line": {
              "color": "white"
             }
            },
            "header": {
             "fill": {
              "color": "#C8D4E3"
             },
             "line": {
              "color": "white"
             }
            },
            "type": "table"
           }
          ]
         },
         "layout": {
          "annotationdefaults": {
           "arrowcolor": "#2a3f5f",
           "arrowhead": 0,
           "arrowwidth": 1
          },
          "coloraxis": {
           "colorbar": {
            "outlinewidth": 0,
            "ticks": ""
           }
          },
          "colorscale": {
           "diverging": [
            [
             0,
             "#8e0152"
            ],
            [
             0.1,
             "#c51b7d"
            ],
            [
             0.2,
             "#de77ae"
            ],
            [
             0.3,
             "#f1b6da"
            ],
            [
             0.4,
             "#fde0ef"
            ],
            [
             0.5,
             "#f7f7f7"
            ],
            [
             0.6,
             "#e6f5d0"
            ],
            [
             0.7,
             "#b8e186"
            ],
            [
             0.8,
             "#7fbc41"
            ],
            [
             0.9,
             "#4d9221"
            ],
            [
             1,
             "#276419"
            ]
           ],
           "sequential": [
            [
             0,
             "#0d0887"
            ],
            [
             0.1111111111111111,
             "#46039f"
            ],
            [
             0.2222222222222222,
             "#7201a8"
            ],
            [
             0.3333333333333333,
             "#9c179e"
            ],
            [
             0.4444444444444444,
             "#bd3786"
            ],
            [
             0.5555555555555556,
             "#d8576b"
            ],
            [
             0.6666666666666666,
             "#ed7953"
            ],
            [
             0.7777777777777778,
             "#fb9f3a"
            ],
            [
             0.8888888888888888,
             "#fdca26"
            ],
            [
             1,
             "#f0f921"
            ]
           ],
           "sequentialminus": [
            [
             0,
             "#0d0887"
            ],
            [
             0.1111111111111111,
             "#46039f"
            ],
            [
             0.2222222222222222,
             "#7201a8"
            ],
            [
             0.3333333333333333,
             "#9c179e"
            ],
            [
             0.4444444444444444,
             "#bd3786"
            ],
            [
             0.5555555555555556,
             "#d8576b"
            ],
            [
             0.6666666666666666,
             "#ed7953"
            ],
            [
             0.7777777777777778,
             "#fb9f3a"
            ],
            [
             0.8888888888888888,
             "#fdca26"
            ],
            [
             1,
             "#f0f921"
            ]
           ]
          },
          "colorway": [
           "#636efa",
           "#EF553B",
           "#00cc96",
           "#ab63fa",
           "#FFA15A",
           "#19d3f3",
           "#FF6692",
           "#B6E880",
           "#FF97FF",
           "#FECB52"
          ],
          "font": {
           "color": "#2a3f5f"
          },
          "geo": {
           "bgcolor": "white",
           "lakecolor": "white",
           "landcolor": "#E5ECF6",
           "showlakes": true,
           "showland": true,
           "subunitcolor": "white"
          },
          "hoverlabel": {
           "align": "left"
          },
          "hovermode": "closest",
          "mapbox": {
           "style": "light"
          },
          "paper_bgcolor": "white",
          "plot_bgcolor": "#E5ECF6",
          "polar": {
           "angularaxis": {
            "gridcolor": "white",
            "linecolor": "white",
            "ticks": ""
           },
           "bgcolor": "#E5ECF6",
           "radialaxis": {
            "gridcolor": "white",
            "linecolor": "white",
            "ticks": ""
           }
          },
          "scene": {
           "xaxis": {
            "backgroundcolor": "#E5ECF6",
            "gridcolor": "white",
            "gridwidth": 2,
            "linecolor": "white",
            "showbackground": true,
            "ticks": "",
            "zerolinecolor": "white"
           },
           "yaxis": {
            "backgroundcolor": "#E5ECF6",
            "gridcolor": "white",
            "gridwidth": 2,
            "linecolor": "white",
            "showbackground": true,
            "ticks": "",
            "zerolinecolor": "white"
           },
           "zaxis": {
            "backgroundcolor": "#E5ECF6",
            "gridcolor": "white",
            "gridwidth": 2,
            "linecolor": "white",
            "showbackground": true,
            "ticks": "",
            "zerolinecolor": "white"
           }
          },
          "shapedefaults": {
           "line": {
            "color": "#2a3f5f"
           }
          },
          "ternary": {
           "aaxis": {
            "gridcolor": "white",
            "linecolor": "white",
            "ticks": ""
           },
           "baxis": {
            "gridcolor": "white",
            "linecolor": "white",
            "ticks": ""
           },
           "bgcolor": "#E5ECF6",
           "caxis": {
            "gridcolor": "white",
            "linecolor": "white",
            "ticks": ""
           }
          },
          "title": {
           "x": 0.05
          },
          "xaxis": {
           "automargin": true,
           "gridcolor": "white",
           "linecolor": "white",
           "ticks": "",
           "title": {
            "standoff": 15
           },
           "zerolinecolor": "white",
           "zerolinewidth": 2
          },
          "yaxis": {
           "automargin": true,
           "gridcolor": "white",
           "linecolor": "white",
           "ticks": "",
           "title": {
            "standoff": 15
           },
           "zerolinecolor": "white",
           "zerolinewidth": 2
          }
         }
        }
       }
      },
      "text/html": [
       "<div>\n",
       "        \n",
       "        \n",
       "            <div id=\"d365112b-db04-4116-a50f-a025b5a84425\" class=\"plotly-graph-div\" style=\"height:525px; width:100%;\"></div>\n",
       "            <script type=\"text/javascript\">\n",
       "                require([\"plotly\"], function(Plotly) {\n",
       "                    window.PLOTLYENV=window.PLOTLYENV || {};\n",
       "                    \n",
       "                if (document.getElementById(\"d365112b-db04-4116-a50f-a025b5a84425\")) {\n",
       "                    Plotly.newPlot(\n",
       "                        'd365112b-db04-4116-a50f-a025b5a84425',\n",
       "                        [{\"name\": \"2014\", \"type\": \"bar\", \"x\": [\"Excellent\", \"Very Good\", \"Good\", \"Fair\", \"Poor\"], \"y\": [10706, 18539, 14412, 5803, 2254]}, {\"name\": \"2015-18\", \"type\": \"bar\", \"x\": [\"Excellent\", \"Very Good\", \"Good\", \"Fair\", \"Poor\"], \"y\": [10274, 18518, 14806, 5884, 2257]}],\n",
       "                        {\"barmode\": \"group\", \"template\": {\"data\": {\"bar\": [{\"error_x\": {\"color\": \"#2a3f5f\"}, \"error_y\": {\"color\": \"#2a3f5f\"}, \"marker\": {\"line\": {\"color\": \"#E5ECF6\", \"width\": 0.5}}, \"type\": \"bar\"}], \"barpolar\": [{\"marker\": {\"line\": {\"color\": \"#E5ECF6\", \"width\": 0.5}}, \"type\": \"barpolar\"}], \"carpet\": [{\"aaxis\": {\"endlinecolor\": \"#2a3f5f\", \"gridcolor\": \"white\", \"linecolor\": \"white\", \"minorgridcolor\": \"white\", \"startlinecolor\": \"#2a3f5f\"}, \"baxis\": {\"endlinecolor\": \"#2a3f5f\", \"gridcolor\": \"white\", \"linecolor\": \"white\", \"minorgridcolor\": \"white\", \"startlinecolor\": \"#2a3f5f\"}, \"type\": \"carpet\"}], \"choropleth\": [{\"colorbar\": {\"outlinewidth\": 0, \"ticks\": \"\"}, \"type\": \"choropleth\"}], \"contour\": [{\"colorbar\": {\"outlinewidth\": 0, \"ticks\": \"\"}, \"colorscale\": [[0.0, \"#0d0887\"], [0.1111111111111111, \"#46039f\"], [0.2222222222222222, \"#7201a8\"], [0.3333333333333333, \"#9c179e\"], [0.4444444444444444, \"#bd3786\"], [0.5555555555555556, \"#d8576b\"], [0.6666666666666666, \"#ed7953\"], [0.7777777777777778, \"#fb9f3a\"], [0.8888888888888888, \"#fdca26\"], [1.0, \"#f0f921\"]], \"type\": \"contour\"}], \"contourcarpet\": [{\"colorbar\": {\"outlinewidth\": 0, \"ticks\": \"\"}, \"type\": \"contourcarpet\"}], \"heatmap\": [{\"colorbar\": {\"outlinewidth\": 0, \"ticks\": \"\"}, \"colorscale\": [[0.0, \"#0d0887\"], [0.1111111111111111, \"#46039f\"], [0.2222222222222222, \"#7201a8\"], [0.3333333333333333, \"#9c179e\"], [0.4444444444444444, \"#bd3786\"], [0.5555555555555556, \"#d8576b\"], [0.6666666666666666, \"#ed7953\"], [0.7777777777777778, \"#fb9f3a\"], [0.8888888888888888, \"#fdca26\"], [1.0, \"#f0f921\"]], \"type\": \"heatmap\"}], \"heatmapgl\": [{\"colorbar\": {\"outlinewidth\": 0, \"ticks\": \"\"}, \"colorscale\": [[0.0, \"#0d0887\"], [0.1111111111111111, \"#46039f\"], [0.2222222222222222, \"#7201a8\"], [0.3333333333333333, \"#9c179e\"], [0.4444444444444444, \"#bd3786\"], [0.5555555555555556, \"#d8576b\"], [0.6666666666666666, \"#ed7953\"], [0.7777777777777778, \"#fb9f3a\"], [0.8888888888888888, \"#fdca26\"], [1.0, \"#f0f921\"]], \"type\": \"heatmapgl\"}], \"histogram\": [{\"marker\": {\"colorbar\": {\"outlinewidth\": 0, \"ticks\": \"\"}}, \"type\": \"histogram\"}], \"histogram2d\": [{\"colorbar\": {\"outlinewidth\": 0, \"ticks\": \"\"}, \"colorscale\": [[0.0, \"#0d0887\"], [0.1111111111111111, \"#46039f\"], [0.2222222222222222, \"#7201a8\"], [0.3333333333333333, \"#9c179e\"], [0.4444444444444444, \"#bd3786\"], [0.5555555555555556, \"#d8576b\"], [0.6666666666666666, \"#ed7953\"], [0.7777777777777778, \"#fb9f3a\"], [0.8888888888888888, \"#fdca26\"], [1.0, \"#f0f921\"]], \"type\": \"histogram2d\"}], \"histogram2dcontour\": [{\"colorbar\": {\"outlinewidth\": 0, \"ticks\": \"\"}, \"colorscale\": [[0.0, \"#0d0887\"], [0.1111111111111111, \"#46039f\"], [0.2222222222222222, \"#7201a8\"], [0.3333333333333333, \"#9c179e\"], [0.4444444444444444, \"#bd3786\"], [0.5555555555555556, \"#d8576b\"], [0.6666666666666666, \"#ed7953\"], [0.7777777777777778, \"#fb9f3a\"], [0.8888888888888888, \"#fdca26\"], [1.0, \"#f0f921\"]], \"type\": \"histogram2dcontour\"}], \"mesh3d\": [{\"colorbar\": {\"outlinewidth\": 0, \"ticks\": \"\"}, \"type\": \"mesh3d\"}], \"parcoords\": [{\"line\": {\"colorbar\": {\"outlinewidth\": 0, \"ticks\": \"\"}}, \"type\": \"parcoords\"}], \"pie\": [{\"automargin\": true, \"type\": \"pie\"}], \"scatter\": [{\"marker\": {\"colorbar\": {\"outlinewidth\": 0, \"ticks\": \"\"}}, \"type\": \"scatter\"}], \"scatter3d\": [{\"line\": {\"colorbar\": {\"outlinewidth\": 0, \"ticks\": \"\"}}, \"marker\": {\"colorbar\": {\"outlinewidth\": 0, \"ticks\": \"\"}}, \"type\": \"scatter3d\"}], \"scattercarpet\": [{\"marker\": {\"colorbar\": {\"outlinewidth\": 0, \"ticks\": \"\"}}, \"type\": \"scattercarpet\"}], \"scattergeo\": [{\"marker\": {\"colorbar\": {\"outlinewidth\": 0, \"ticks\": \"\"}}, \"type\": \"scattergeo\"}], \"scattergl\": [{\"marker\": {\"colorbar\": {\"outlinewidth\": 0, \"ticks\": \"\"}}, \"type\": \"scattergl\"}], \"scattermapbox\": [{\"marker\": {\"colorbar\": {\"outlinewidth\": 0, \"ticks\": \"\"}}, \"type\": \"scattermapbox\"}], \"scatterpolar\": [{\"marker\": {\"colorbar\": {\"outlinewidth\": 0, \"ticks\": \"\"}}, \"type\": \"scatterpolar\"}], \"scatterpolargl\": [{\"marker\": {\"colorbar\": {\"outlinewidth\": 0, \"ticks\": \"\"}}, \"type\": \"scatterpolargl\"}], \"scatterternary\": [{\"marker\": {\"colorbar\": {\"outlinewidth\": 0, \"ticks\": \"\"}}, \"type\": \"scatterternary\"}], \"surface\": [{\"colorbar\": {\"outlinewidth\": 0, \"ticks\": \"\"}, \"colorscale\": [[0.0, \"#0d0887\"], [0.1111111111111111, \"#46039f\"], [0.2222222222222222, \"#7201a8\"], [0.3333333333333333, \"#9c179e\"], [0.4444444444444444, \"#bd3786\"], [0.5555555555555556, \"#d8576b\"], [0.6666666666666666, \"#ed7953\"], [0.7777777777777778, \"#fb9f3a\"], [0.8888888888888888, \"#fdca26\"], [1.0, \"#f0f921\"]], \"type\": \"surface\"}], \"table\": [{\"cells\": {\"fill\": {\"color\": \"#EBF0F8\"}, \"line\": {\"color\": \"white\"}}, \"header\": {\"fill\": {\"color\": \"#C8D4E3\"}, \"line\": {\"color\": \"white\"}}, \"type\": \"table\"}]}, \"layout\": {\"annotationdefaults\": {\"arrowcolor\": \"#2a3f5f\", \"arrowhead\": 0, \"arrowwidth\": 1}, \"coloraxis\": {\"colorbar\": {\"outlinewidth\": 0, \"ticks\": \"\"}}, \"colorscale\": {\"diverging\": [[0, \"#8e0152\"], [0.1, \"#c51b7d\"], [0.2, \"#de77ae\"], [0.3, \"#f1b6da\"], [0.4, \"#fde0ef\"], [0.5, \"#f7f7f7\"], [0.6, \"#e6f5d0\"], [0.7, \"#b8e186\"], [0.8, \"#7fbc41\"], [0.9, \"#4d9221\"], [1, \"#276419\"]], \"sequential\": [[0.0, \"#0d0887\"], [0.1111111111111111, \"#46039f\"], [0.2222222222222222, \"#7201a8\"], [0.3333333333333333, \"#9c179e\"], [0.4444444444444444, \"#bd3786\"], [0.5555555555555556, \"#d8576b\"], [0.6666666666666666, \"#ed7953\"], [0.7777777777777778, \"#fb9f3a\"], [0.8888888888888888, \"#fdca26\"], [1.0, \"#f0f921\"]], \"sequentialminus\": [[0.0, \"#0d0887\"], [0.1111111111111111, \"#46039f\"], [0.2222222222222222, \"#7201a8\"], [0.3333333333333333, \"#9c179e\"], [0.4444444444444444, \"#bd3786\"], [0.5555555555555556, \"#d8576b\"], [0.6666666666666666, \"#ed7953\"], [0.7777777777777778, \"#fb9f3a\"], [0.8888888888888888, \"#fdca26\"], [1.0, \"#f0f921\"]]}, \"colorway\": [\"#636efa\", \"#EF553B\", \"#00cc96\", \"#ab63fa\", \"#FFA15A\", \"#19d3f3\", \"#FF6692\", \"#B6E880\", \"#FF97FF\", \"#FECB52\"], \"font\": {\"color\": \"#2a3f5f\"}, \"geo\": {\"bgcolor\": \"white\", \"lakecolor\": \"white\", \"landcolor\": \"#E5ECF6\", \"showlakes\": true, \"showland\": true, \"subunitcolor\": \"white\"}, \"hoverlabel\": {\"align\": \"left\"}, \"hovermode\": \"closest\", \"mapbox\": {\"style\": \"light\"}, \"paper_bgcolor\": \"white\", \"plot_bgcolor\": \"#E5ECF6\", \"polar\": {\"angularaxis\": {\"gridcolor\": \"white\", \"linecolor\": \"white\", \"ticks\": \"\"}, \"bgcolor\": \"#E5ECF6\", \"radialaxis\": {\"gridcolor\": \"white\", \"linecolor\": \"white\", \"ticks\": \"\"}}, \"scene\": {\"xaxis\": {\"backgroundcolor\": \"#E5ECF6\", \"gridcolor\": \"white\", \"gridwidth\": 2, \"linecolor\": \"white\", \"showbackground\": true, \"ticks\": \"\", \"zerolinecolor\": \"white\"}, \"yaxis\": {\"backgroundcolor\": \"#E5ECF6\", \"gridcolor\": \"white\", \"gridwidth\": 2, \"linecolor\": \"white\", \"showbackground\": true, \"ticks\": \"\", \"zerolinecolor\": \"white\"}, \"zaxis\": {\"backgroundcolor\": \"#E5ECF6\", \"gridcolor\": \"white\", \"gridwidth\": 2, \"linecolor\": \"white\", \"showbackground\": true, \"ticks\": \"\", \"zerolinecolor\": \"white\"}}, \"shapedefaults\": {\"line\": {\"color\": \"#2a3f5f\"}}, \"ternary\": {\"aaxis\": {\"gridcolor\": \"white\", \"linecolor\": \"white\", \"ticks\": \"\"}, \"baxis\": {\"gridcolor\": \"white\", \"linecolor\": \"white\", \"ticks\": \"\"}, \"bgcolor\": \"#E5ECF6\", \"caxis\": {\"gridcolor\": \"white\", \"linecolor\": \"white\", \"ticks\": \"\"}}, \"title\": {\"x\": 0.05}, \"xaxis\": {\"automargin\": true, \"gridcolor\": \"white\", \"linecolor\": \"white\", \"ticks\": \"\", \"title\": {\"standoff\": 15}, \"zerolinecolor\": \"white\", \"zerolinewidth\": 2}, \"yaxis\": {\"automargin\": true, \"gridcolor\": \"white\", \"linecolor\": \"white\", \"ticks\": \"\", \"title\": {\"standoff\": 15}, \"zerolinecolor\": \"white\", \"zerolinewidth\": 2}}}},\n",
       "                        {\"responsive\": true}\n",
       "                    ).then(function(){\n",
       "                            \n",
       "var gd = document.getElementById('d365112b-db04-4116-a50f-a025b5a84425');\n",
       "var x = new MutationObserver(function (mutations, observer) {{\n",
       "        var display = window.getComputedStyle(gd).display;\n",
       "        if (!display || display === 'none') {{\n",
       "            console.log([gd, 'removed!']);\n",
       "            Plotly.purge(gd);\n",
       "            observer.disconnect();\n",
       "        }}\n",
       "}});\n",
       "\n",
       "// Listen for the removal of the full notebook cells\n",
       "var notebookContainer = gd.closest('#notebook-container');\n",
       "if (notebookContainer) {{\n",
       "    x.observe(notebookContainer, {childList: true});\n",
       "}}\n",
       "\n",
       "// Listen for the clearing of the current output cell\n",
       "var outputEl = gd.closest('.output');\n",
       "if (outputEl) {{\n",
       "    x.observe(outputEl, {childList: true});\n",
       "}}\n",
       "\n",
       "                        })\n",
       "                };\n",
       "                });\n",
       "            </script>\n",
       "        </div>"
      ]
     },
     "metadata": {},
     "output_type": "display_data"
    }
   ],
   "source": [
    "#chart to view data and see if results match up\n",
    "fig = go.Figure(data = [go.Bar(name = '2014', x = genhealth.columns, y = genhealth.iloc[0]),\n",
    "                       go.Bar(name = '2015-18', x = genhealth.columns, y = genhealth.iloc[1])])\n",
    "fig.update_layout(barmode='group')\n",
    "fig.show()"
   ]
  },
  {
   "cell_type": "code",
   "execution_count": 55,
   "metadata": {},
   "outputs": [
    {
     "data": {
      "text/plain": [
       "(14.77760328295258,\n",
       " 0.005185422461637733,\n",
       " 4,\n",
       " array([[10487.46503243, 18524.02248364, 14605.46965289,  5842.08788532,\n",
       "          2254.95494572],\n",
       "        [10492.53496757, 18532.97751636, 14612.53034711,  5844.91211468,\n",
       "          2256.04505428]]))"
      ]
     },
     "execution_count": 55,
     "metadata": {},
     "output_type": "execute_result"
    }
   ],
   "source": [
    "#perform chi2 test\n",
    "test = chi2_contingency(genhealth)\n",
    "test"
   ]
  },
  {
   "cell_type": "code",
   "execution_count": 56,
   "metadata": {},
   "outputs": [
    {
     "data": {
      "text/html": [
       "<div>\n",
       "<style scoped>\n",
       "    .dataframe tbody tr th:only-of-type {\n",
       "        vertical-align: middle;\n",
       "    }\n",
       "\n",
       "    .dataframe tbody tr th {\n",
       "        vertical-align: top;\n",
       "    }\n",
       "\n",
       "    .dataframe thead th {\n",
       "        text-align: right;\n",
       "    }\n",
       "</style>\n",
       "<table border=\"1\" class=\"dataframe\">\n",
       "  <thead>\n",
       "    <tr style=\"text-align: right;\">\n",
       "      <th></th>\n",
       "      <th>Excellent</th>\n",
       "      <th>Very Good</th>\n",
       "      <th>Good</th>\n",
       "      <th>Fair</th>\n",
       "      <th>Poor</th>\n",
       "    </tr>\n",
       "  </thead>\n",
       "  <tbody>\n",
       "    <tr>\n",
       "      <th>2014</th>\n",
       "      <td>10487.47</td>\n",
       "      <td>18524.02</td>\n",
       "      <td>14605.47</td>\n",
       "      <td>5842.09</td>\n",
       "      <td>2254.95</td>\n",
       "    </tr>\n",
       "    <tr>\n",
       "      <th>2015-2018</th>\n",
       "      <td>10492.53</td>\n",
       "      <td>18532.98</td>\n",
       "      <td>14612.53</td>\n",
       "      <td>5844.91</td>\n",
       "      <td>2256.05</td>\n",
       "    </tr>\n",
       "  </tbody>\n",
       "</table>\n",
       "</div>"
      ],
      "text/plain": [
       "           Excellent  Very Good      Good     Fair     Poor\n",
       "2014        10487.47   18524.02  14605.47  5842.09  2254.95\n",
       "2015-2018   10492.53   18532.98  14612.53  5844.91  2256.05"
      ]
     },
     "execution_count": 56,
     "metadata": {},
     "output_type": "execute_result"
    }
   ],
   "source": [
    "#look at expected values of the data\n",
    "#it appears that if anything the general health in 2014 is better than 2015-2018 (at least the sample I chose)\n",
    "df = test[3]\n",
    "\n",
    "ev = pd.DataFrame(data = df[:,:], index = [\"2014\", \"2015-2018\"],\n",
    "                  columns = [\"Excellent\", \"Very Good\", \"Good\", \"Fair\", \"Poor\"]).round(2)\n",
    "\n",
    "ev"
   ]
  },
  {
   "cell_type": "code",
   "execution_count": 57,
   "metadata": {},
   "outputs": [
    {
     "data": {
      "text/plain": [
       "14.77760328295258"
      ]
     },
     "execution_count": 57,
     "metadata": {},
     "output_type": "execute_result"
    }
   ],
   "source": [
    "chi2 = test[0]\n",
    "chi2"
   ]
  },
  {
   "cell_type": "code",
   "execution_count": 58,
   "metadata": {},
   "outputs": [
    {
     "data": {
      "text/plain": [
       "0.005185422461637733"
      ]
     },
     "execution_count": 58,
     "metadata": {},
     "output_type": "execute_result"
    }
   ],
   "source": [
    "#note since we have so many data points the p value may be artifically lower\n",
    "#p value indicates signficant difference?\n",
    "pvalue = test[1]\n",
    "pvalue"
   ]
  },
  {
   "cell_type": "code",
   "execution_count": 59,
   "metadata": {},
   "outputs": [
    {
     "data": {
      "text/plain": [
       "4"
      ]
     },
     "execution_count": 59,
     "metadata": {},
     "output_type": "execute_result"
    }
   ],
   "source": [
    "dof = test[2]\n",
    "dof"
   ]
  },
  {
   "cell_type": "code",
   "execution_count": 60,
   "metadata": {},
   "outputs": [],
   "source": [
    "#Was there a time you could not see a doctor because of cost?\n",
    "cost2014 = df_14['medcost']"
   ]
  },
  {
   "cell_type": "code",
   "execution_count": 61,
   "metadata": {},
   "outputs": [],
   "source": [
    "cost201518 = df_1518['medcost']"
   ]
  },
  {
   "cell_type": "code",
   "execution_count": 62,
   "metadata": {},
   "outputs": [],
   "source": [
    "#take random sample same size as 2014 data\n",
    "sample1518 = cost201518.sample(n = 51858, random_state = 1)"
   ]
  },
  {
   "cell_type": "code",
   "execution_count": 63,
   "metadata": {},
   "outputs": [
    {
     "data": {
      "text/plain": [
       "[4177, 47546]"
      ]
     },
     "execution_count": 63,
     "metadata": {},
     "output_type": "execute_result"
    }
   ],
   "source": [
    "#1 corresponds to not being able to see a doctor and 2 is being able to see a doctor\n",
    "counts14 = getCounts(cost2014, 2)\n",
    "counts14"
   ]
  },
  {
   "cell_type": "code",
   "execution_count": 64,
   "metadata": {},
   "outputs": [
    {
     "data": {
      "text/plain": [
       "[4097, 47633]"
      ]
     },
     "execution_count": 64,
     "metadata": {},
     "output_type": "execute_result"
    }
   ],
   "source": [
    "counts1518 = getCounts(sample1518, 2)\n",
    "counts1518"
   ]
  },
  {
   "cell_type": "code",
   "execution_count": 65,
   "metadata": {},
   "outputs": [
    {
     "name": "stdout",
     "output_type": "stream",
     "text": [
      "2014 total: 51723\n",
      "2015-2018 total: 51730\n"
     ]
    }
   ],
   "source": [
    "#total number of nonrefused or not sure answers\n",
    "total14 = np.sum(counts14)\n",
    "total1518 = np.sum(counts1518)\n",
    "\n",
    "print(\"2014 total:\", total14)\n",
    "print(\"2015-2018 total:\",total1518)"
   ]
  },
  {
   "cell_type": "code",
   "execution_count": 66,
   "metadata": {},
   "outputs": [
    {
     "data": {
      "text/html": [
       "<div>\n",
       "<style scoped>\n",
       "    .dataframe tbody tr th:only-of-type {\n",
       "        vertical-align: middle;\n",
       "    }\n",
       "\n",
       "    .dataframe tbody tr th {\n",
       "        vertical-align: top;\n",
       "    }\n",
       "\n",
       "    .dataframe thead th {\n",
       "        text-align: right;\n",
       "    }\n",
       "</style>\n",
       "<table border=\"1\" class=\"dataframe\">\n",
       "  <thead>\n",
       "    <tr style=\"text-align: right;\">\n",
       "      <th></th>\n",
       "      <th>Yes</th>\n",
       "      <th>No</th>\n",
       "    </tr>\n",
       "  </thead>\n",
       "  <tbody>\n",
       "    <tr>\n",
       "      <th>2014</th>\n",
       "      <td>4177</td>\n",
       "      <td>47546</td>\n",
       "    </tr>\n",
       "    <tr>\n",
       "      <th>2015-2018</th>\n",
       "      <td>4097</td>\n",
       "      <td>47633</td>\n",
       "    </tr>\n",
       "  </tbody>\n",
       "</table>\n",
       "</div>"
      ],
      "text/plain": [
       "            Yes     No\n",
       "2014       4177  47546\n",
       "2015-2018  4097  47633"
      ]
     },
     "execution_count": 66,
     "metadata": {},
     "output_type": "execute_result"
    }
   ],
   "source": [
    "#create combined matrix\n",
    "cost = pd.DataFrame([counts14, counts1518], index = [\"2014\", \"2015-2018\"], \n",
    "                         columns = [\"Yes\", \"No\"])\n",
    "cost"
   ]
  },
  {
   "cell_type": "code",
   "execution_count": 67,
   "metadata": {},
   "outputs": [
    {
     "data": {
      "application/vnd.plotly.v1+json": {
       "config": {
        "plotlyServerURL": "https://plot.ly"
       },
       "data": [
        {
         "name": "2014",
         "type": "bar",
         "x": [
          "Yes",
          "No"
         ],
         "y": [
          4177,
          47546
         ]
        },
        {
         "name": "2015-18",
         "type": "bar",
         "x": [
          "Yes",
          "No"
         ],
         "y": [
          4097,
          47633
         ]
        }
       ],
       "layout": {
        "barmode": "group",
        "template": {
         "data": {
          "bar": [
           {
            "error_x": {
             "color": "#2a3f5f"
            },
            "error_y": {
             "color": "#2a3f5f"
            },
            "marker": {
             "line": {
              "color": "#E5ECF6",
              "width": 0.5
             }
            },
            "type": "bar"
           }
          ],
          "barpolar": [
           {
            "marker": {
             "line": {
              "color": "#E5ECF6",
              "width": 0.5
             }
            },
            "type": "barpolar"
           }
          ],
          "carpet": [
           {
            "aaxis": {
             "endlinecolor": "#2a3f5f",
             "gridcolor": "white",
             "linecolor": "white",
             "minorgridcolor": "white",
             "startlinecolor": "#2a3f5f"
            },
            "baxis": {
             "endlinecolor": "#2a3f5f",
             "gridcolor": "white",
             "linecolor": "white",
             "minorgridcolor": "white",
             "startlinecolor": "#2a3f5f"
            },
            "type": "carpet"
           }
          ],
          "choropleth": [
           {
            "colorbar": {
             "outlinewidth": 0,
             "ticks": ""
            },
            "type": "choropleth"
           }
          ],
          "contour": [
           {
            "colorbar": {
             "outlinewidth": 0,
             "ticks": ""
            },
            "colorscale": [
             [
              0,
              "#0d0887"
             ],
             [
              0.1111111111111111,
              "#46039f"
             ],
             [
              0.2222222222222222,
              "#7201a8"
             ],
             [
              0.3333333333333333,
              "#9c179e"
             ],
             [
              0.4444444444444444,
              "#bd3786"
             ],
             [
              0.5555555555555556,
              "#d8576b"
             ],
             [
              0.6666666666666666,
              "#ed7953"
             ],
             [
              0.7777777777777778,
              "#fb9f3a"
             ],
             [
              0.8888888888888888,
              "#fdca26"
             ],
             [
              1,
              "#f0f921"
             ]
            ],
            "type": "contour"
           }
          ],
          "contourcarpet": [
           {
            "colorbar": {
             "outlinewidth": 0,
             "ticks": ""
            },
            "type": "contourcarpet"
           }
          ],
          "heatmap": [
           {
            "colorbar": {
             "outlinewidth": 0,
             "ticks": ""
            },
            "colorscale": [
             [
              0,
              "#0d0887"
             ],
             [
              0.1111111111111111,
              "#46039f"
             ],
             [
              0.2222222222222222,
              "#7201a8"
             ],
             [
              0.3333333333333333,
              "#9c179e"
             ],
             [
              0.4444444444444444,
              "#bd3786"
             ],
             [
              0.5555555555555556,
              "#d8576b"
             ],
             [
              0.6666666666666666,
              "#ed7953"
             ],
             [
              0.7777777777777778,
              "#fb9f3a"
             ],
             [
              0.8888888888888888,
              "#fdca26"
             ],
             [
              1,
              "#f0f921"
             ]
            ],
            "type": "heatmap"
           }
          ],
          "heatmapgl": [
           {
            "colorbar": {
             "outlinewidth": 0,
             "ticks": ""
            },
            "colorscale": [
             [
              0,
              "#0d0887"
             ],
             [
              0.1111111111111111,
              "#46039f"
             ],
             [
              0.2222222222222222,
              "#7201a8"
             ],
             [
              0.3333333333333333,
              "#9c179e"
             ],
             [
              0.4444444444444444,
              "#bd3786"
             ],
             [
              0.5555555555555556,
              "#d8576b"
             ],
             [
              0.6666666666666666,
              "#ed7953"
             ],
             [
              0.7777777777777778,
              "#fb9f3a"
             ],
             [
              0.8888888888888888,
              "#fdca26"
             ],
             [
              1,
              "#f0f921"
             ]
            ],
            "type": "heatmapgl"
           }
          ],
          "histogram": [
           {
            "marker": {
             "colorbar": {
              "outlinewidth": 0,
              "ticks": ""
             }
            },
            "type": "histogram"
           }
          ],
          "histogram2d": [
           {
            "colorbar": {
             "outlinewidth": 0,
             "ticks": ""
            },
            "colorscale": [
             [
              0,
              "#0d0887"
             ],
             [
              0.1111111111111111,
              "#46039f"
             ],
             [
              0.2222222222222222,
              "#7201a8"
             ],
             [
              0.3333333333333333,
              "#9c179e"
             ],
             [
              0.4444444444444444,
              "#bd3786"
             ],
             [
              0.5555555555555556,
              "#d8576b"
             ],
             [
              0.6666666666666666,
              "#ed7953"
             ],
             [
              0.7777777777777778,
              "#fb9f3a"
             ],
             [
              0.8888888888888888,
              "#fdca26"
             ],
             [
              1,
              "#f0f921"
             ]
            ],
            "type": "histogram2d"
           }
          ],
          "histogram2dcontour": [
           {
            "colorbar": {
             "outlinewidth": 0,
             "ticks": ""
            },
            "colorscale": [
             [
              0,
              "#0d0887"
             ],
             [
              0.1111111111111111,
              "#46039f"
             ],
             [
              0.2222222222222222,
              "#7201a8"
             ],
             [
              0.3333333333333333,
              "#9c179e"
             ],
             [
              0.4444444444444444,
              "#bd3786"
             ],
             [
              0.5555555555555556,
              "#d8576b"
             ],
             [
              0.6666666666666666,
              "#ed7953"
             ],
             [
              0.7777777777777778,
              "#fb9f3a"
             ],
             [
              0.8888888888888888,
              "#fdca26"
             ],
             [
              1,
              "#f0f921"
             ]
            ],
            "type": "histogram2dcontour"
           }
          ],
          "mesh3d": [
           {
            "colorbar": {
             "outlinewidth": 0,
             "ticks": ""
            },
            "type": "mesh3d"
           }
          ],
          "parcoords": [
           {
            "line": {
             "colorbar": {
              "outlinewidth": 0,
              "ticks": ""
             }
            },
            "type": "parcoords"
           }
          ],
          "pie": [
           {
            "automargin": true,
            "type": "pie"
           }
          ],
          "scatter": [
           {
            "marker": {
             "colorbar": {
              "outlinewidth": 0,
              "ticks": ""
             }
            },
            "type": "scatter"
           }
          ],
          "scatter3d": [
           {
            "line": {
             "colorbar": {
              "outlinewidth": 0,
              "ticks": ""
             }
            },
            "marker": {
             "colorbar": {
              "outlinewidth": 0,
              "ticks": ""
             }
            },
            "type": "scatter3d"
           }
          ],
          "scattercarpet": [
           {
            "marker": {
             "colorbar": {
              "outlinewidth": 0,
              "ticks": ""
             }
            },
            "type": "scattercarpet"
           }
          ],
          "scattergeo": [
           {
            "marker": {
             "colorbar": {
              "outlinewidth": 0,
              "ticks": ""
             }
            },
            "type": "scattergeo"
           }
          ],
          "scattergl": [
           {
            "marker": {
             "colorbar": {
              "outlinewidth": 0,
              "ticks": ""
             }
            },
            "type": "scattergl"
           }
          ],
          "scattermapbox": [
           {
            "marker": {
             "colorbar": {
              "outlinewidth": 0,
              "ticks": ""
             }
            },
            "type": "scattermapbox"
           }
          ],
          "scatterpolar": [
           {
            "marker": {
             "colorbar": {
              "outlinewidth": 0,
              "ticks": ""
             }
            },
            "type": "scatterpolar"
           }
          ],
          "scatterpolargl": [
           {
            "marker": {
             "colorbar": {
              "outlinewidth": 0,
              "ticks": ""
             }
            },
            "type": "scatterpolargl"
           }
          ],
          "scatterternary": [
           {
            "marker": {
             "colorbar": {
              "outlinewidth": 0,
              "ticks": ""
             }
            },
            "type": "scatterternary"
           }
          ],
          "surface": [
           {
            "colorbar": {
             "outlinewidth": 0,
             "ticks": ""
            },
            "colorscale": [
             [
              0,
              "#0d0887"
             ],
             [
              0.1111111111111111,
              "#46039f"
             ],
             [
              0.2222222222222222,
              "#7201a8"
             ],
             [
              0.3333333333333333,
              "#9c179e"
             ],
             [
              0.4444444444444444,
              "#bd3786"
             ],
             [
              0.5555555555555556,
              "#d8576b"
             ],
             [
              0.6666666666666666,
              "#ed7953"
             ],
             [
              0.7777777777777778,
              "#fb9f3a"
             ],
             [
              0.8888888888888888,
              "#fdca26"
             ],
             [
              1,
              "#f0f921"
             ]
            ],
            "type": "surface"
           }
          ],
          "table": [
           {
            "cells": {
             "fill": {
              "color": "#EBF0F8"
             },
             "line": {
              "color": "white"
             }
            },
            "header": {
             "fill": {
              "color": "#C8D4E3"
             },
             "line": {
              "color": "white"
             }
            },
            "type": "table"
           }
          ]
         },
         "layout": {
          "annotationdefaults": {
           "arrowcolor": "#2a3f5f",
           "arrowhead": 0,
           "arrowwidth": 1
          },
          "coloraxis": {
           "colorbar": {
            "outlinewidth": 0,
            "ticks": ""
           }
          },
          "colorscale": {
           "diverging": [
            [
             0,
             "#8e0152"
            ],
            [
             0.1,
             "#c51b7d"
            ],
            [
             0.2,
             "#de77ae"
            ],
            [
             0.3,
             "#f1b6da"
            ],
            [
             0.4,
             "#fde0ef"
            ],
            [
             0.5,
             "#f7f7f7"
            ],
            [
             0.6,
             "#e6f5d0"
            ],
            [
             0.7,
             "#b8e186"
            ],
            [
             0.8,
             "#7fbc41"
            ],
            [
             0.9,
             "#4d9221"
            ],
            [
             1,
             "#276419"
            ]
           ],
           "sequential": [
            [
             0,
             "#0d0887"
            ],
            [
             0.1111111111111111,
             "#46039f"
            ],
            [
             0.2222222222222222,
             "#7201a8"
            ],
            [
             0.3333333333333333,
             "#9c179e"
            ],
            [
             0.4444444444444444,
             "#bd3786"
            ],
            [
             0.5555555555555556,
             "#d8576b"
            ],
            [
             0.6666666666666666,
             "#ed7953"
            ],
            [
             0.7777777777777778,
             "#fb9f3a"
            ],
            [
             0.8888888888888888,
             "#fdca26"
            ],
            [
             1,
             "#f0f921"
            ]
           ],
           "sequentialminus": [
            [
             0,
             "#0d0887"
            ],
            [
             0.1111111111111111,
             "#46039f"
            ],
            [
             0.2222222222222222,
             "#7201a8"
            ],
            [
             0.3333333333333333,
             "#9c179e"
            ],
            [
             0.4444444444444444,
             "#bd3786"
            ],
            [
             0.5555555555555556,
             "#d8576b"
            ],
            [
             0.6666666666666666,
             "#ed7953"
            ],
            [
             0.7777777777777778,
             "#fb9f3a"
            ],
            [
             0.8888888888888888,
             "#fdca26"
            ],
            [
             1,
             "#f0f921"
            ]
           ]
          },
          "colorway": [
           "#636efa",
           "#EF553B",
           "#00cc96",
           "#ab63fa",
           "#FFA15A",
           "#19d3f3",
           "#FF6692",
           "#B6E880",
           "#FF97FF",
           "#FECB52"
          ],
          "font": {
           "color": "#2a3f5f"
          },
          "geo": {
           "bgcolor": "white",
           "lakecolor": "white",
           "landcolor": "#E5ECF6",
           "showlakes": true,
           "showland": true,
           "subunitcolor": "white"
          },
          "hoverlabel": {
           "align": "left"
          },
          "hovermode": "closest",
          "mapbox": {
           "style": "light"
          },
          "paper_bgcolor": "white",
          "plot_bgcolor": "#E5ECF6",
          "polar": {
           "angularaxis": {
            "gridcolor": "white",
            "linecolor": "white",
            "ticks": ""
           },
           "bgcolor": "#E5ECF6",
           "radialaxis": {
            "gridcolor": "white",
            "linecolor": "white",
            "ticks": ""
           }
          },
          "scene": {
           "xaxis": {
            "backgroundcolor": "#E5ECF6",
            "gridcolor": "white",
            "gridwidth": 2,
            "linecolor": "white",
            "showbackground": true,
            "ticks": "",
            "zerolinecolor": "white"
           },
           "yaxis": {
            "backgroundcolor": "#E5ECF6",
            "gridcolor": "white",
            "gridwidth": 2,
            "linecolor": "white",
            "showbackground": true,
            "ticks": "",
            "zerolinecolor": "white"
           },
           "zaxis": {
            "backgroundcolor": "#E5ECF6",
            "gridcolor": "white",
            "gridwidth": 2,
            "linecolor": "white",
            "showbackground": true,
            "ticks": "",
            "zerolinecolor": "white"
           }
          },
          "shapedefaults": {
           "line": {
            "color": "#2a3f5f"
           }
          },
          "ternary": {
           "aaxis": {
            "gridcolor": "white",
            "linecolor": "white",
            "ticks": ""
           },
           "baxis": {
            "gridcolor": "white",
            "linecolor": "white",
            "ticks": ""
           },
           "bgcolor": "#E5ECF6",
           "caxis": {
            "gridcolor": "white",
            "linecolor": "white",
            "ticks": ""
           }
          },
          "title": {
           "x": 0.05
          },
          "xaxis": {
           "automargin": true,
           "gridcolor": "white",
           "linecolor": "white",
           "ticks": "",
           "title": {
            "standoff": 15
           },
           "zerolinecolor": "white",
           "zerolinewidth": 2
          },
          "yaxis": {
           "automargin": true,
           "gridcolor": "white",
           "linecolor": "white",
           "ticks": "",
           "title": {
            "standoff": 15
           },
           "zerolinecolor": "white",
           "zerolinewidth": 2
          }
         }
        }
       }
      },
      "text/html": [
       "<div>\n",
       "        \n",
       "        \n",
       "            <div id=\"c24d664a-38a4-450f-9629-ee4483a870c6\" class=\"plotly-graph-div\" style=\"height:525px; width:100%;\"></div>\n",
       "            <script type=\"text/javascript\">\n",
       "                require([\"plotly\"], function(Plotly) {\n",
       "                    window.PLOTLYENV=window.PLOTLYENV || {};\n",
       "                    \n",
       "                if (document.getElementById(\"c24d664a-38a4-450f-9629-ee4483a870c6\")) {\n",
       "                    Plotly.newPlot(\n",
       "                        'c24d664a-38a4-450f-9629-ee4483a870c6',\n",
       "                        [{\"name\": \"2014\", \"type\": \"bar\", \"x\": [\"Yes\", \"No\"], \"y\": [4177, 47546]}, {\"name\": \"2015-18\", \"type\": \"bar\", \"x\": [\"Yes\", \"No\"], \"y\": [4097, 47633]}],\n",
       "                        {\"barmode\": \"group\", \"template\": {\"data\": {\"bar\": [{\"error_x\": {\"color\": \"#2a3f5f\"}, \"error_y\": {\"color\": \"#2a3f5f\"}, \"marker\": {\"line\": {\"color\": \"#E5ECF6\", \"width\": 0.5}}, \"type\": \"bar\"}], \"barpolar\": [{\"marker\": {\"line\": {\"color\": \"#E5ECF6\", \"width\": 0.5}}, \"type\": \"barpolar\"}], \"carpet\": [{\"aaxis\": {\"endlinecolor\": \"#2a3f5f\", \"gridcolor\": \"white\", \"linecolor\": \"white\", \"minorgridcolor\": \"white\", \"startlinecolor\": \"#2a3f5f\"}, \"baxis\": {\"endlinecolor\": \"#2a3f5f\", \"gridcolor\": \"white\", \"linecolor\": \"white\", \"minorgridcolor\": \"white\", \"startlinecolor\": \"#2a3f5f\"}, \"type\": \"carpet\"}], \"choropleth\": [{\"colorbar\": {\"outlinewidth\": 0, \"ticks\": \"\"}, \"type\": \"choropleth\"}], \"contour\": [{\"colorbar\": {\"outlinewidth\": 0, \"ticks\": \"\"}, \"colorscale\": [[0.0, \"#0d0887\"], [0.1111111111111111, \"#46039f\"], [0.2222222222222222, \"#7201a8\"], [0.3333333333333333, \"#9c179e\"], [0.4444444444444444, \"#bd3786\"], [0.5555555555555556, \"#d8576b\"], [0.6666666666666666, \"#ed7953\"], [0.7777777777777778, \"#fb9f3a\"], [0.8888888888888888, \"#fdca26\"], [1.0, \"#f0f921\"]], \"type\": \"contour\"}], \"contourcarpet\": [{\"colorbar\": {\"outlinewidth\": 0, \"ticks\": \"\"}, \"type\": \"contourcarpet\"}], \"heatmap\": [{\"colorbar\": {\"outlinewidth\": 0, \"ticks\": \"\"}, \"colorscale\": [[0.0, \"#0d0887\"], [0.1111111111111111, \"#46039f\"], [0.2222222222222222, \"#7201a8\"], [0.3333333333333333, \"#9c179e\"], [0.4444444444444444, \"#bd3786\"], [0.5555555555555556, \"#d8576b\"], [0.6666666666666666, \"#ed7953\"], [0.7777777777777778, \"#fb9f3a\"], [0.8888888888888888, \"#fdca26\"], [1.0, \"#f0f921\"]], \"type\": \"heatmap\"}], \"heatmapgl\": [{\"colorbar\": {\"outlinewidth\": 0, \"ticks\": \"\"}, \"colorscale\": [[0.0, \"#0d0887\"], [0.1111111111111111, \"#46039f\"], [0.2222222222222222, \"#7201a8\"], [0.3333333333333333, \"#9c179e\"], [0.4444444444444444, \"#bd3786\"], [0.5555555555555556, \"#d8576b\"], [0.6666666666666666, \"#ed7953\"], [0.7777777777777778, \"#fb9f3a\"], [0.8888888888888888, \"#fdca26\"], [1.0, \"#f0f921\"]], \"type\": \"heatmapgl\"}], \"histogram\": [{\"marker\": {\"colorbar\": {\"outlinewidth\": 0, \"ticks\": \"\"}}, \"type\": \"histogram\"}], \"histogram2d\": [{\"colorbar\": {\"outlinewidth\": 0, \"ticks\": \"\"}, \"colorscale\": [[0.0, \"#0d0887\"], [0.1111111111111111, \"#46039f\"], [0.2222222222222222, \"#7201a8\"], [0.3333333333333333, \"#9c179e\"], [0.4444444444444444, \"#bd3786\"], [0.5555555555555556, \"#d8576b\"], [0.6666666666666666, \"#ed7953\"], [0.7777777777777778, \"#fb9f3a\"], [0.8888888888888888, \"#fdca26\"], [1.0, \"#f0f921\"]], \"type\": \"histogram2d\"}], \"histogram2dcontour\": [{\"colorbar\": {\"outlinewidth\": 0, \"ticks\": \"\"}, \"colorscale\": [[0.0, \"#0d0887\"], [0.1111111111111111, \"#46039f\"], [0.2222222222222222, \"#7201a8\"], [0.3333333333333333, \"#9c179e\"], [0.4444444444444444, \"#bd3786\"], [0.5555555555555556, \"#d8576b\"], [0.6666666666666666, \"#ed7953\"], [0.7777777777777778, \"#fb9f3a\"], [0.8888888888888888, \"#fdca26\"], [1.0, \"#f0f921\"]], \"type\": \"histogram2dcontour\"}], \"mesh3d\": [{\"colorbar\": {\"outlinewidth\": 0, \"ticks\": \"\"}, \"type\": \"mesh3d\"}], \"parcoords\": [{\"line\": {\"colorbar\": {\"outlinewidth\": 0, \"ticks\": \"\"}}, \"type\": \"parcoords\"}], \"pie\": [{\"automargin\": true, \"type\": \"pie\"}], \"scatter\": [{\"marker\": {\"colorbar\": {\"outlinewidth\": 0, \"ticks\": \"\"}}, \"type\": \"scatter\"}], \"scatter3d\": [{\"line\": {\"colorbar\": {\"outlinewidth\": 0, \"ticks\": \"\"}}, \"marker\": {\"colorbar\": {\"outlinewidth\": 0, \"ticks\": \"\"}}, \"type\": \"scatter3d\"}], \"scattercarpet\": [{\"marker\": {\"colorbar\": {\"outlinewidth\": 0, \"ticks\": \"\"}}, \"type\": \"scattercarpet\"}], \"scattergeo\": [{\"marker\": {\"colorbar\": {\"outlinewidth\": 0, \"ticks\": \"\"}}, \"type\": \"scattergeo\"}], \"scattergl\": [{\"marker\": {\"colorbar\": {\"outlinewidth\": 0, \"ticks\": \"\"}}, \"type\": \"scattergl\"}], \"scattermapbox\": [{\"marker\": {\"colorbar\": {\"outlinewidth\": 0, \"ticks\": \"\"}}, \"type\": \"scattermapbox\"}], \"scatterpolar\": [{\"marker\": {\"colorbar\": {\"outlinewidth\": 0, \"ticks\": \"\"}}, \"type\": \"scatterpolar\"}], \"scatterpolargl\": [{\"marker\": {\"colorbar\": {\"outlinewidth\": 0, \"ticks\": \"\"}}, \"type\": \"scatterpolargl\"}], \"scatterternary\": [{\"marker\": {\"colorbar\": {\"outlinewidth\": 0, \"ticks\": \"\"}}, \"type\": \"scatterternary\"}], \"surface\": [{\"colorbar\": {\"outlinewidth\": 0, \"ticks\": \"\"}, \"colorscale\": [[0.0, \"#0d0887\"], [0.1111111111111111, \"#46039f\"], [0.2222222222222222, \"#7201a8\"], [0.3333333333333333, \"#9c179e\"], [0.4444444444444444, \"#bd3786\"], [0.5555555555555556, \"#d8576b\"], [0.6666666666666666, \"#ed7953\"], [0.7777777777777778, \"#fb9f3a\"], [0.8888888888888888, \"#fdca26\"], [1.0, \"#f0f921\"]], \"type\": \"surface\"}], \"table\": [{\"cells\": {\"fill\": {\"color\": \"#EBF0F8\"}, \"line\": {\"color\": \"white\"}}, \"header\": {\"fill\": {\"color\": \"#C8D4E3\"}, \"line\": {\"color\": \"white\"}}, \"type\": \"table\"}]}, \"layout\": {\"annotationdefaults\": {\"arrowcolor\": \"#2a3f5f\", \"arrowhead\": 0, \"arrowwidth\": 1}, \"coloraxis\": {\"colorbar\": {\"outlinewidth\": 0, \"ticks\": \"\"}}, \"colorscale\": {\"diverging\": [[0, \"#8e0152\"], [0.1, \"#c51b7d\"], [0.2, \"#de77ae\"], [0.3, \"#f1b6da\"], [0.4, \"#fde0ef\"], [0.5, \"#f7f7f7\"], [0.6, \"#e6f5d0\"], [0.7, \"#b8e186\"], [0.8, \"#7fbc41\"], [0.9, \"#4d9221\"], [1, \"#276419\"]], \"sequential\": [[0.0, \"#0d0887\"], [0.1111111111111111, \"#46039f\"], [0.2222222222222222, \"#7201a8\"], [0.3333333333333333, \"#9c179e\"], [0.4444444444444444, \"#bd3786\"], [0.5555555555555556, \"#d8576b\"], [0.6666666666666666, \"#ed7953\"], [0.7777777777777778, \"#fb9f3a\"], [0.8888888888888888, \"#fdca26\"], [1.0, \"#f0f921\"]], \"sequentialminus\": [[0.0, \"#0d0887\"], [0.1111111111111111, \"#46039f\"], [0.2222222222222222, \"#7201a8\"], [0.3333333333333333, \"#9c179e\"], [0.4444444444444444, \"#bd3786\"], [0.5555555555555556, \"#d8576b\"], [0.6666666666666666, \"#ed7953\"], [0.7777777777777778, \"#fb9f3a\"], [0.8888888888888888, \"#fdca26\"], [1.0, \"#f0f921\"]]}, \"colorway\": [\"#636efa\", \"#EF553B\", \"#00cc96\", \"#ab63fa\", \"#FFA15A\", \"#19d3f3\", \"#FF6692\", \"#B6E880\", \"#FF97FF\", \"#FECB52\"], \"font\": {\"color\": \"#2a3f5f\"}, \"geo\": {\"bgcolor\": \"white\", \"lakecolor\": \"white\", \"landcolor\": \"#E5ECF6\", \"showlakes\": true, \"showland\": true, \"subunitcolor\": \"white\"}, \"hoverlabel\": {\"align\": \"left\"}, \"hovermode\": \"closest\", \"mapbox\": {\"style\": \"light\"}, \"paper_bgcolor\": \"white\", \"plot_bgcolor\": \"#E5ECF6\", \"polar\": {\"angularaxis\": {\"gridcolor\": \"white\", \"linecolor\": \"white\", \"ticks\": \"\"}, \"bgcolor\": \"#E5ECF6\", \"radialaxis\": {\"gridcolor\": \"white\", \"linecolor\": \"white\", \"ticks\": \"\"}}, \"scene\": {\"xaxis\": {\"backgroundcolor\": \"#E5ECF6\", \"gridcolor\": \"white\", \"gridwidth\": 2, \"linecolor\": \"white\", \"showbackground\": true, \"ticks\": \"\", \"zerolinecolor\": \"white\"}, \"yaxis\": {\"backgroundcolor\": \"#E5ECF6\", \"gridcolor\": \"white\", \"gridwidth\": 2, \"linecolor\": \"white\", \"showbackground\": true, \"ticks\": \"\", \"zerolinecolor\": \"white\"}, \"zaxis\": {\"backgroundcolor\": \"#E5ECF6\", \"gridcolor\": \"white\", \"gridwidth\": 2, \"linecolor\": \"white\", \"showbackground\": true, \"ticks\": \"\", \"zerolinecolor\": \"white\"}}, \"shapedefaults\": {\"line\": {\"color\": \"#2a3f5f\"}}, \"ternary\": {\"aaxis\": {\"gridcolor\": \"white\", \"linecolor\": \"white\", \"ticks\": \"\"}, \"baxis\": {\"gridcolor\": \"white\", \"linecolor\": \"white\", \"ticks\": \"\"}, \"bgcolor\": \"#E5ECF6\", \"caxis\": {\"gridcolor\": \"white\", \"linecolor\": \"white\", \"ticks\": \"\"}}, \"title\": {\"x\": 0.05}, \"xaxis\": {\"automargin\": true, \"gridcolor\": \"white\", \"linecolor\": \"white\", \"ticks\": \"\", \"title\": {\"standoff\": 15}, \"zerolinecolor\": \"white\", \"zerolinewidth\": 2}, \"yaxis\": {\"automargin\": true, \"gridcolor\": \"white\", \"linecolor\": \"white\", \"ticks\": \"\", \"title\": {\"standoff\": 15}, \"zerolinecolor\": \"white\", \"zerolinewidth\": 2}}}},\n",
       "                        {\"responsive\": true}\n",
       "                    ).then(function(){\n",
       "                            \n",
       "var gd = document.getElementById('c24d664a-38a4-450f-9629-ee4483a870c6');\n",
       "var x = new MutationObserver(function (mutations, observer) {{\n",
       "        var display = window.getComputedStyle(gd).display;\n",
       "        if (!display || display === 'none') {{\n",
       "            console.log([gd, 'removed!']);\n",
       "            Plotly.purge(gd);\n",
       "            observer.disconnect();\n",
       "        }}\n",
       "}});\n",
       "\n",
       "// Listen for the removal of the full notebook cells\n",
       "var notebookContainer = gd.closest('#notebook-container');\n",
       "if (notebookContainer) {{\n",
       "    x.observe(notebookContainer, {childList: true});\n",
       "}}\n",
       "\n",
       "// Listen for the clearing of the current output cell\n",
       "var outputEl = gd.closest('.output');\n",
       "if (outputEl) {{\n",
       "    x.observe(outputEl, {childList: true});\n",
       "}}\n",
       "\n",
       "                        })\n",
       "                };\n",
       "                });\n",
       "            </script>\n",
       "        </div>"
      ]
     },
     "metadata": {},
     "output_type": "display_data"
    }
   ],
   "source": [
    "#chart to view data and see if results match up\n",
    "fig = go.Figure(data = [go.Bar(name = '2014', x = cost.columns, y = cost.iloc[0]),\n",
    "                       go.Bar(name = '2015-18', x = cost.columns, y = cost.iloc[1])])\n",
    "fig.update_layout(barmode='group')\n",
    "fig.show()"
   ]
  },
  {
   "cell_type": "code",
   "execution_count": 68,
   "metadata": {},
   "outputs": [
    {
     "data": {
      "text/plain": [
       "(0.8315231241843959,\n",
       " 0.361832471245386,\n",
       " 1,\n",
       " array([[ 4136.72007578, 47586.27992422],\n",
       "        [ 4137.27992422, 47592.72007578]]))"
      ]
     },
     "execution_count": 68,
     "metadata": {},
     "output_type": "execute_result"
    }
   ],
   "source": [
    "#perform chi2 test\n",
    "test1 = chi2_contingency(cost)\n",
    "test1"
   ]
  },
  {
   "cell_type": "code",
   "execution_count": 69,
   "metadata": {},
   "outputs": [
    {
     "data": {
      "text/html": [
       "<div>\n",
       "<style scoped>\n",
       "    .dataframe tbody tr th:only-of-type {\n",
       "        vertical-align: middle;\n",
       "    }\n",
       "\n",
       "    .dataframe tbody tr th {\n",
       "        vertical-align: top;\n",
       "    }\n",
       "\n",
       "    .dataframe thead th {\n",
       "        text-align: right;\n",
       "    }\n",
       "</style>\n",
       "<table border=\"1\" class=\"dataframe\">\n",
       "  <thead>\n",
       "    <tr style=\"text-align: right;\">\n",
       "      <th></th>\n",
       "      <th>Yes</th>\n",
       "      <th>No</th>\n",
       "    </tr>\n",
       "  </thead>\n",
       "  <tbody>\n",
       "    <tr>\n",
       "      <th>2014</th>\n",
       "      <td>4136.72</td>\n",
       "      <td>47586.28</td>\n",
       "    </tr>\n",
       "    <tr>\n",
       "      <th>2015-2018</th>\n",
       "      <td>4137.28</td>\n",
       "      <td>47592.72</td>\n",
       "    </tr>\n",
       "  </tbody>\n",
       "</table>\n",
       "</div>"
      ],
      "text/plain": [
       "               Yes        No\n",
       "2014       4136.72  47586.28\n",
       "2015-2018  4137.28  47592.72"
      ]
     },
     "execution_count": 69,
     "metadata": {},
     "output_type": "execute_result"
    }
   ],
   "source": [
    "#find contingency matrix for data\n",
    "df = test1[3]\n",
    "\n",
    "ev = pd.DataFrame(data = df[:,:], index = [\"2014\", \"2015-2018\"],\n",
    "                  columns = [\"Yes\",\"No\"]).round(2)\n",
    "\n",
    "ev"
   ]
  },
  {
   "cell_type": "code",
   "execution_count": 70,
   "metadata": {},
   "outputs": [
    {
     "name": "stdout",
     "output_type": "stream",
     "text": [
      "chi2: 0.8315231241843959 p-value: 0.361832471245386 dof: 1\n"
     ]
    }
   ],
   "source": [
    "#print summary statistics\n",
    "#note only 1 degree of freedom, however p value indicates no significant difference\n",
    "chi2 = test1[0]\n",
    "pvalue = test1[1]\n",
    "dof = test1[2]\n",
    "print(\"chi2:\", chi2, \"p-value:\", pvalue, \"dof:\", dof)"
   ]
  },
  {
   "cell_type": "code",
   "execution_count": 71,
   "metadata": {},
   "outputs": [
    {
     "data": {
      "text/html": [
       "<div>\n",
       "<style scoped>\n",
       "    .dataframe tbody tr th:only-of-type {\n",
       "        vertical-align: middle;\n",
       "    }\n",
       "\n",
       "    .dataframe tbody tr th {\n",
       "        vertical-align: top;\n",
       "    }\n",
       "\n",
       "    .dataframe thead th {\n",
       "        text-align: right;\n",
       "    }\n",
       "</style>\n",
       "<table border=\"1\" class=\"dataframe\">\n",
       "  <thead>\n",
       "    <tr style=\"text-align: right;\">\n",
       "      <th></th>\n",
       "      <th>Yes</th>\n",
       "      <th>No</th>\n",
       "    </tr>\n",
       "  </thead>\n",
       "  <tbody>\n",
       "    <tr>\n",
       "      <th>2014</th>\n",
       "      <td>1745</td>\n",
       "      <td>9354</td>\n",
       "    </tr>\n",
       "    <tr>\n",
       "      <th>2015-2018</th>\n",
       "      <td>1610</td>\n",
       "      <td>9439</td>\n",
       "    </tr>\n",
       "  </tbody>\n",
       "</table>\n",
       "</div>"
      ],
      "text/plain": [
       "            Yes    No\n",
       "2014       1745  9354\n",
       "2015-2018  1610  9439"
      ]
     },
     "execution_count": 71,
     "metadata": {},
     "output_type": "execute_result"
    }
   ],
   "source": [
    "#splitting cost data on race/income\n",
    "\n",
    "lowcost14 = low_income14['medcost']\n",
    "lowcost1518 = low_income1518['medcost']\n",
    "\n",
    "sample1518 = lowcost1518.sample(n = 11099, random_state = 1)\n",
    "\n",
    "#get counts for each value of having care or not in 2014 data set\n",
    "counts14 = getCounts(lowcost14, 2)\n",
    "total = np.sum(counts14)\n",
    "#get counts for each value of having care or not in 2014 data set\n",
    "counts1518 = getCounts(sample1518, 2)\n",
    "        \n",
    "lowcost = pd.DataFrame([counts14, counts1518], index = [\"2014\", \"2015-2018\"], \n",
    "                         columns = [\"Yes\", \"No\"])\n",
    "lowcost\n"
   ]
  },
  {
   "cell_type": "code",
   "execution_count": 72,
   "metadata": {},
   "outputs": [
    {
     "data": {
      "application/vnd.plotly.v1+json": {
       "config": {
        "plotlyServerURL": "https://plot.ly"
       },
       "data": [
        {
         "name": "2014",
         "type": "bar",
         "x": [
          "Yes",
          "No"
         ],
         "y": [
          1745,
          9354
         ]
        },
        {
         "name": "2015-18",
         "type": "bar",
         "x": [
          "Yes",
          "No"
         ],
         "y": [
          1610,
          9439
         ]
        }
       ],
       "layout": {
        "barmode": "group",
        "template": {
         "data": {
          "bar": [
           {
            "error_x": {
             "color": "#2a3f5f"
            },
            "error_y": {
             "color": "#2a3f5f"
            },
            "marker": {
             "line": {
              "color": "#E5ECF6",
              "width": 0.5
             }
            },
            "type": "bar"
           }
          ],
          "barpolar": [
           {
            "marker": {
             "line": {
              "color": "#E5ECF6",
              "width": 0.5
             }
            },
            "type": "barpolar"
           }
          ],
          "carpet": [
           {
            "aaxis": {
             "endlinecolor": "#2a3f5f",
             "gridcolor": "white",
             "linecolor": "white",
             "minorgridcolor": "white",
             "startlinecolor": "#2a3f5f"
            },
            "baxis": {
             "endlinecolor": "#2a3f5f",
             "gridcolor": "white",
             "linecolor": "white",
             "minorgridcolor": "white",
             "startlinecolor": "#2a3f5f"
            },
            "type": "carpet"
           }
          ],
          "choropleth": [
           {
            "colorbar": {
             "outlinewidth": 0,
             "ticks": ""
            },
            "type": "choropleth"
           }
          ],
          "contour": [
           {
            "colorbar": {
             "outlinewidth": 0,
             "ticks": ""
            },
            "colorscale": [
             [
              0,
              "#0d0887"
             ],
             [
              0.1111111111111111,
              "#46039f"
             ],
             [
              0.2222222222222222,
              "#7201a8"
             ],
             [
              0.3333333333333333,
              "#9c179e"
             ],
             [
              0.4444444444444444,
              "#bd3786"
             ],
             [
              0.5555555555555556,
              "#d8576b"
             ],
             [
              0.6666666666666666,
              "#ed7953"
             ],
             [
              0.7777777777777778,
              "#fb9f3a"
             ],
             [
              0.8888888888888888,
              "#fdca26"
             ],
             [
              1,
              "#f0f921"
             ]
            ],
            "type": "contour"
           }
          ],
          "contourcarpet": [
           {
            "colorbar": {
             "outlinewidth": 0,
             "ticks": ""
            },
            "type": "contourcarpet"
           }
          ],
          "heatmap": [
           {
            "colorbar": {
             "outlinewidth": 0,
             "ticks": ""
            },
            "colorscale": [
             [
              0,
              "#0d0887"
             ],
             [
              0.1111111111111111,
              "#46039f"
             ],
             [
              0.2222222222222222,
              "#7201a8"
             ],
             [
              0.3333333333333333,
              "#9c179e"
             ],
             [
              0.4444444444444444,
              "#bd3786"
             ],
             [
              0.5555555555555556,
              "#d8576b"
             ],
             [
              0.6666666666666666,
              "#ed7953"
             ],
             [
              0.7777777777777778,
              "#fb9f3a"
             ],
             [
              0.8888888888888888,
              "#fdca26"
             ],
             [
              1,
              "#f0f921"
             ]
            ],
            "type": "heatmap"
           }
          ],
          "heatmapgl": [
           {
            "colorbar": {
             "outlinewidth": 0,
             "ticks": ""
            },
            "colorscale": [
             [
              0,
              "#0d0887"
             ],
             [
              0.1111111111111111,
              "#46039f"
             ],
             [
              0.2222222222222222,
              "#7201a8"
             ],
             [
              0.3333333333333333,
              "#9c179e"
             ],
             [
              0.4444444444444444,
              "#bd3786"
             ],
             [
              0.5555555555555556,
              "#d8576b"
             ],
             [
              0.6666666666666666,
              "#ed7953"
             ],
             [
              0.7777777777777778,
              "#fb9f3a"
             ],
             [
              0.8888888888888888,
              "#fdca26"
             ],
             [
              1,
              "#f0f921"
             ]
            ],
            "type": "heatmapgl"
           }
          ],
          "histogram": [
           {
            "marker": {
             "colorbar": {
              "outlinewidth": 0,
              "ticks": ""
             }
            },
            "type": "histogram"
           }
          ],
          "histogram2d": [
           {
            "colorbar": {
             "outlinewidth": 0,
             "ticks": ""
            },
            "colorscale": [
             [
              0,
              "#0d0887"
             ],
             [
              0.1111111111111111,
              "#46039f"
             ],
             [
              0.2222222222222222,
              "#7201a8"
             ],
             [
              0.3333333333333333,
              "#9c179e"
             ],
             [
              0.4444444444444444,
              "#bd3786"
             ],
             [
              0.5555555555555556,
              "#d8576b"
             ],
             [
              0.6666666666666666,
              "#ed7953"
             ],
             [
              0.7777777777777778,
              "#fb9f3a"
             ],
             [
              0.8888888888888888,
              "#fdca26"
             ],
             [
              1,
              "#f0f921"
             ]
            ],
            "type": "histogram2d"
           }
          ],
          "histogram2dcontour": [
           {
            "colorbar": {
             "outlinewidth": 0,
             "ticks": ""
            },
            "colorscale": [
             [
              0,
              "#0d0887"
             ],
             [
              0.1111111111111111,
              "#46039f"
             ],
             [
              0.2222222222222222,
              "#7201a8"
             ],
             [
              0.3333333333333333,
              "#9c179e"
             ],
             [
              0.4444444444444444,
              "#bd3786"
             ],
             [
              0.5555555555555556,
              "#d8576b"
             ],
             [
              0.6666666666666666,
              "#ed7953"
             ],
             [
              0.7777777777777778,
              "#fb9f3a"
             ],
             [
              0.8888888888888888,
              "#fdca26"
             ],
             [
              1,
              "#f0f921"
             ]
            ],
            "type": "histogram2dcontour"
           }
          ],
          "mesh3d": [
           {
            "colorbar": {
             "outlinewidth": 0,
             "ticks": ""
            },
            "type": "mesh3d"
           }
          ],
          "parcoords": [
           {
            "line": {
             "colorbar": {
              "outlinewidth": 0,
              "ticks": ""
             }
            },
            "type": "parcoords"
           }
          ],
          "pie": [
           {
            "automargin": true,
            "type": "pie"
           }
          ],
          "scatter": [
           {
            "marker": {
             "colorbar": {
              "outlinewidth": 0,
              "ticks": ""
             }
            },
            "type": "scatter"
           }
          ],
          "scatter3d": [
           {
            "line": {
             "colorbar": {
              "outlinewidth": 0,
              "ticks": ""
             }
            },
            "marker": {
             "colorbar": {
              "outlinewidth": 0,
              "ticks": ""
             }
            },
            "type": "scatter3d"
           }
          ],
          "scattercarpet": [
           {
            "marker": {
             "colorbar": {
              "outlinewidth": 0,
              "ticks": ""
             }
            },
            "type": "scattercarpet"
           }
          ],
          "scattergeo": [
           {
            "marker": {
             "colorbar": {
              "outlinewidth": 0,
              "ticks": ""
             }
            },
            "type": "scattergeo"
           }
          ],
          "scattergl": [
           {
            "marker": {
             "colorbar": {
              "outlinewidth": 0,
              "ticks": ""
             }
            },
            "type": "scattergl"
           }
          ],
          "scattermapbox": [
           {
            "marker": {
             "colorbar": {
              "outlinewidth": 0,
              "ticks": ""
             }
            },
            "type": "scattermapbox"
           }
          ],
          "scatterpolar": [
           {
            "marker": {
             "colorbar": {
              "outlinewidth": 0,
              "ticks": ""
             }
            },
            "type": "scatterpolar"
           }
          ],
          "scatterpolargl": [
           {
            "marker": {
             "colorbar": {
              "outlinewidth": 0,
              "ticks": ""
             }
            },
            "type": "scatterpolargl"
           }
          ],
          "scatterternary": [
           {
            "marker": {
             "colorbar": {
              "outlinewidth": 0,
              "ticks": ""
             }
            },
            "type": "scatterternary"
           }
          ],
          "surface": [
           {
            "colorbar": {
             "outlinewidth": 0,
             "ticks": ""
            },
            "colorscale": [
             [
              0,
              "#0d0887"
             ],
             [
              0.1111111111111111,
              "#46039f"
             ],
             [
              0.2222222222222222,
              "#7201a8"
             ],
             [
              0.3333333333333333,
              "#9c179e"
             ],
             [
              0.4444444444444444,
              "#bd3786"
             ],
             [
              0.5555555555555556,
              "#d8576b"
             ],
             [
              0.6666666666666666,
              "#ed7953"
             ],
             [
              0.7777777777777778,
              "#fb9f3a"
             ],
             [
              0.8888888888888888,
              "#fdca26"
             ],
             [
              1,
              "#f0f921"
             ]
            ],
            "type": "surface"
           }
          ],
          "table": [
           {
            "cells": {
             "fill": {
              "color": "#EBF0F8"
             },
             "line": {
              "color": "white"
             }
            },
            "header": {
             "fill": {
              "color": "#C8D4E3"
             },
             "line": {
              "color": "white"
             }
            },
            "type": "table"
           }
          ]
         },
         "layout": {
          "annotationdefaults": {
           "arrowcolor": "#2a3f5f",
           "arrowhead": 0,
           "arrowwidth": 1
          },
          "coloraxis": {
           "colorbar": {
            "outlinewidth": 0,
            "ticks": ""
           }
          },
          "colorscale": {
           "diverging": [
            [
             0,
             "#8e0152"
            ],
            [
             0.1,
             "#c51b7d"
            ],
            [
             0.2,
             "#de77ae"
            ],
            [
             0.3,
             "#f1b6da"
            ],
            [
             0.4,
             "#fde0ef"
            ],
            [
             0.5,
             "#f7f7f7"
            ],
            [
             0.6,
             "#e6f5d0"
            ],
            [
             0.7,
             "#b8e186"
            ],
            [
             0.8,
             "#7fbc41"
            ],
            [
             0.9,
             "#4d9221"
            ],
            [
             1,
             "#276419"
            ]
           ],
           "sequential": [
            [
             0,
             "#0d0887"
            ],
            [
             0.1111111111111111,
             "#46039f"
            ],
            [
             0.2222222222222222,
             "#7201a8"
            ],
            [
             0.3333333333333333,
             "#9c179e"
            ],
            [
             0.4444444444444444,
             "#bd3786"
            ],
            [
             0.5555555555555556,
             "#d8576b"
            ],
            [
             0.6666666666666666,
             "#ed7953"
            ],
            [
             0.7777777777777778,
             "#fb9f3a"
            ],
            [
             0.8888888888888888,
             "#fdca26"
            ],
            [
             1,
             "#f0f921"
            ]
           ],
           "sequentialminus": [
            [
             0,
             "#0d0887"
            ],
            [
             0.1111111111111111,
             "#46039f"
            ],
            [
             0.2222222222222222,
             "#7201a8"
            ],
            [
             0.3333333333333333,
             "#9c179e"
            ],
            [
             0.4444444444444444,
             "#bd3786"
            ],
            [
             0.5555555555555556,
             "#d8576b"
            ],
            [
             0.6666666666666666,
             "#ed7953"
            ],
            [
             0.7777777777777778,
             "#fb9f3a"
            ],
            [
             0.8888888888888888,
             "#fdca26"
            ],
            [
             1,
             "#f0f921"
            ]
           ]
          },
          "colorway": [
           "#636efa",
           "#EF553B",
           "#00cc96",
           "#ab63fa",
           "#FFA15A",
           "#19d3f3",
           "#FF6692",
           "#B6E880",
           "#FF97FF",
           "#FECB52"
          ],
          "font": {
           "color": "#2a3f5f"
          },
          "geo": {
           "bgcolor": "white",
           "lakecolor": "white",
           "landcolor": "#E5ECF6",
           "showlakes": true,
           "showland": true,
           "subunitcolor": "white"
          },
          "hoverlabel": {
           "align": "left"
          },
          "hovermode": "closest",
          "mapbox": {
           "style": "light"
          },
          "paper_bgcolor": "white",
          "plot_bgcolor": "#E5ECF6",
          "polar": {
           "angularaxis": {
            "gridcolor": "white",
            "linecolor": "white",
            "ticks": ""
           },
           "bgcolor": "#E5ECF6",
           "radialaxis": {
            "gridcolor": "white",
            "linecolor": "white",
            "ticks": ""
           }
          },
          "scene": {
           "xaxis": {
            "backgroundcolor": "#E5ECF6",
            "gridcolor": "white",
            "gridwidth": 2,
            "linecolor": "white",
            "showbackground": true,
            "ticks": "",
            "zerolinecolor": "white"
           },
           "yaxis": {
            "backgroundcolor": "#E5ECF6",
            "gridcolor": "white",
            "gridwidth": 2,
            "linecolor": "white",
            "showbackground": true,
            "ticks": "",
            "zerolinecolor": "white"
           },
           "zaxis": {
            "backgroundcolor": "#E5ECF6",
            "gridcolor": "white",
            "gridwidth": 2,
            "linecolor": "white",
            "showbackground": true,
            "ticks": "",
            "zerolinecolor": "white"
           }
          },
          "shapedefaults": {
           "line": {
            "color": "#2a3f5f"
           }
          },
          "ternary": {
           "aaxis": {
            "gridcolor": "white",
            "linecolor": "white",
            "ticks": ""
           },
           "baxis": {
            "gridcolor": "white",
            "linecolor": "white",
            "ticks": ""
           },
           "bgcolor": "#E5ECF6",
           "caxis": {
            "gridcolor": "white",
            "linecolor": "white",
            "ticks": ""
           }
          },
          "title": {
           "x": 0.05
          },
          "xaxis": {
           "automargin": true,
           "gridcolor": "white",
           "linecolor": "white",
           "ticks": "",
           "title": {
            "standoff": 15
           },
           "zerolinecolor": "white",
           "zerolinewidth": 2
          },
          "yaxis": {
           "automargin": true,
           "gridcolor": "white",
           "linecolor": "white",
           "ticks": "",
           "title": {
            "standoff": 15
           },
           "zerolinecolor": "white",
           "zerolinewidth": 2
          }
         }
        }
       }
      },
      "text/html": [
       "<div>\n",
       "        \n",
       "        \n",
       "            <div id=\"9b72f100-1e83-42e0-bc77-9e6cf3cc617f\" class=\"plotly-graph-div\" style=\"height:525px; width:100%;\"></div>\n",
       "            <script type=\"text/javascript\">\n",
       "                require([\"plotly\"], function(Plotly) {\n",
       "                    window.PLOTLYENV=window.PLOTLYENV || {};\n",
       "                    \n",
       "                if (document.getElementById(\"9b72f100-1e83-42e0-bc77-9e6cf3cc617f\")) {\n",
       "                    Plotly.newPlot(\n",
       "                        '9b72f100-1e83-42e0-bc77-9e6cf3cc617f',\n",
       "                        [{\"name\": \"2014\", \"type\": \"bar\", \"x\": [\"Yes\", \"No\"], \"y\": [1745, 9354]}, {\"name\": \"2015-18\", \"type\": \"bar\", \"x\": [\"Yes\", \"No\"], \"y\": [1610, 9439]}],\n",
       "                        {\"barmode\": \"group\", \"template\": {\"data\": {\"bar\": [{\"error_x\": {\"color\": \"#2a3f5f\"}, \"error_y\": {\"color\": \"#2a3f5f\"}, \"marker\": {\"line\": {\"color\": \"#E5ECF6\", \"width\": 0.5}}, \"type\": \"bar\"}], \"barpolar\": [{\"marker\": {\"line\": {\"color\": \"#E5ECF6\", \"width\": 0.5}}, \"type\": \"barpolar\"}], \"carpet\": [{\"aaxis\": {\"endlinecolor\": \"#2a3f5f\", \"gridcolor\": \"white\", \"linecolor\": \"white\", \"minorgridcolor\": \"white\", \"startlinecolor\": \"#2a3f5f\"}, \"baxis\": {\"endlinecolor\": \"#2a3f5f\", \"gridcolor\": \"white\", \"linecolor\": \"white\", \"minorgridcolor\": \"white\", \"startlinecolor\": \"#2a3f5f\"}, \"type\": \"carpet\"}], \"choropleth\": [{\"colorbar\": {\"outlinewidth\": 0, \"ticks\": \"\"}, \"type\": \"choropleth\"}], \"contour\": [{\"colorbar\": {\"outlinewidth\": 0, \"ticks\": \"\"}, \"colorscale\": [[0.0, \"#0d0887\"], [0.1111111111111111, \"#46039f\"], [0.2222222222222222, \"#7201a8\"], [0.3333333333333333, \"#9c179e\"], [0.4444444444444444, \"#bd3786\"], [0.5555555555555556, \"#d8576b\"], [0.6666666666666666, \"#ed7953\"], [0.7777777777777778, \"#fb9f3a\"], [0.8888888888888888, \"#fdca26\"], [1.0, \"#f0f921\"]], \"type\": \"contour\"}], \"contourcarpet\": [{\"colorbar\": {\"outlinewidth\": 0, \"ticks\": \"\"}, \"type\": \"contourcarpet\"}], \"heatmap\": [{\"colorbar\": {\"outlinewidth\": 0, \"ticks\": \"\"}, \"colorscale\": [[0.0, \"#0d0887\"], [0.1111111111111111, \"#46039f\"], [0.2222222222222222, \"#7201a8\"], [0.3333333333333333, \"#9c179e\"], [0.4444444444444444, \"#bd3786\"], [0.5555555555555556, \"#d8576b\"], [0.6666666666666666, \"#ed7953\"], [0.7777777777777778, \"#fb9f3a\"], [0.8888888888888888, \"#fdca26\"], [1.0, \"#f0f921\"]], \"type\": \"heatmap\"}], \"heatmapgl\": [{\"colorbar\": {\"outlinewidth\": 0, \"ticks\": \"\"}, \"colorscale\": [[0.0, \"#0d0887\"], [0.1111111111111111, \"#46039f\"], [0.2222222222222222, \"#7201a8\"], [0.3333333333333333, \"#9c179e\"], [0.4444444444444444, \"#bd3786\"], [0.5555555555555556, \"#d8576b\"], [0.6666666666666666, \"#ed7953\"], [0.7777777777777778, \"#fb9f3a\"], [0.8888888888888888, \"#fdca26\"], [1.0, \"#f0f921\"]], \"type\": \"heatmapgl\"}], \"histogram\": [{\"marker\": {\"colorbar\": {\"outlinewidth\": 0, \"ticks\": \"\"}}, \"type\": \"histogram\"}], \"histogram2d\": [{\"colorbar\": {\"outlinewidth\": 0, \"ticks\": \"\"}, \"colorscale\": [[0.0, \"#0d0887\"], [0.1111111111111111, \"#46039f\"], [0.2222222222222222, \"#7201a8\"], [0.3333333333333333, \"#9c179e\"], [0.4444444444444444, \"#bd3786\"], [0.5555555555555556, \"#d8576b\"], [0.6666666666666666, \"#ed7953\"], [0.7777777777777778, \"#fb9f3a\"], [0.8888888888888888, \"#fdca26\"], [1.0, \"#f0f921\"]], \"type\": \"histogram2d\"}], \"histogram2dcontour\": [{\"colorbar\": {\"outlinewidth\": 0, \"ticks\": \"\"}, \"colorscale\": [[0.0, \"#0d0887\"], [0.1111111111111111, \"#46039f\"], [0.2222222222222222, \"#7201a8\"], [0.3333333333333333, \"#9c179e\"], [0.4444444444444444, \"#bd3786\"], [0.5555555555555556, \"#d8576b\"], [0.6666666666666666, \"#ed7953\"], [0.7777777777777778, \"#fb9f3a\"], [0.8888888888888888, \"#fdca26\"], [1.0, \"#f0f921\"]], \"type\": \"histogram2dcontour\"}], \"mesh3d\": [{\"colorbar\": {\"outlinewidth\": 0, \"ticks\": \"\"}, \"type\": \"mesh3d\"}], \"parcoords\": [{\"line\": {\"colorbar\": {\"outlinewidth\": 0, \"ticks\": \"\"}}, \"type\": \"parcoords\"}], \"pie\": [{\"automargin\": true, \"type\": \"pie\"}], \"scatter\": [{\"marker\": {\"colorbar\": {\"outlinewidth\": 0, \"ticks\": \"\"}}, \"type\": \"scatter\"}], \"scatter3d\": [{\"line\": {\"colorbar\": {\"outlinewidth\": 0, \"ticks\": \"\"}}, \"marker\": {\"colorbar\": {\"outlinewidth\": 0, \"ticks\": \"\"}}, \"type\": \"scatter3d\"}], \"scattercarpet\": [{\"marker\": {\"colorbar\": {\"outlinewidth\": 0, \"ticks\": \"\"}}, \"type\": \"scattercarpet\"}], \"scattergeo\": [{\"marker\": {\"colorbar\": {\"outlinewidth\": 0, \"ticks\": \"\"}}, \"type\": \"scattergeo\"}], \"scattergl\": [{\"marker\": {\"colorbar\": {\"outlinewidth\": 0, \"ticks\": \"\"}}, \"type\": \"scattergl\"}], \"scattermapbox\": [{\"marker\": {\"colorbar\": {\"outlinewidth\": 0, \"ticks\": \"\"}}, \"type\": \"scattermapbox\"}], \"scatterpolar\": [{\"marker\": {\"colorbar\": {\"outlinewidth\": 0, \"ticks\": \"\"}}, \"type\": \"scatterpolar\"}], \"scatterpolargl\": [{\"marker\": {\"colorbar\": {\"outlinewidth\": 0, \"ticks\": \"\"}}, \"type\": \"scatterpolargl\"}], \"scatterternary\": [{\"marker\": {\"colorbar\": {\"outlinewidth\": 0, \"ticks\": \"\"}}, \"type\": \"scatterternary\"}], \"surface\": [{\"colorbar\": {\"outlinewidth\": 0, \"ticks\": \"\"}, \"colorscale\": [[0.0, \"#0d0887\"], [0.1111111111111111, \"#46039f\"], [0.2222222222222222, \"#7201a8\"], [0.3333333333333333, \"#9c179e\"], [0.4444444444444444, \"#bd3786\"], [0.5555555555555556, \"#d8576b\"], [0.6666666666666666, \"#ed7953\"], [0.7777777777777778, \"#fb9f3a\"], [0.8888888888888888, \"#fdca26\"], [1.0, \"#f0f921\"]], \"type\": \"surface\"}], \"table\": [{\"cells\": {\"fill\": {\"color\": \"#EBF0F8\"}, \"line\": {\"color\": \"white\"}}, \"header\": {\"fill\": {\"color\": \"#C8D4E3\"}, \"line\": {\"color\": \"white\"}}, \"type\": \"table\"}]}, \"layout\": {\"annotationdefaults\": {\"arrowcolor\": \"#2a3f5f\", \"arrowhead\": 0, \"arrowwidth\": 1}, \"coloraxis\": {\"colorbar\": {\"outlinewidth\": 0, \"ticks\": \"\"}}, \"colorscale\": {\"diverging\": [[0, \"#8e0152\"], [0.1, \"#c51b7d\"], [0.2, \"#de77ae\"], [0.3, \"#f1b6da\"], [0.4, \"#fde0ef\"], [0.5, \"#f7f7f7\"], [0.6, \"#e6f5d0\"], [0.7, \"#b8e186\"], [0.8, \"#7fbc41\"], [0.9, \"#4d9221\"], [1, \"#276419\"]], \"sequential\": [[0.0, \"#0d0887\"], [0.1111111111111111, \"#46039f\"], [0.2222222222222222, \"#7201a8\"], [0.3333333333333333, \"#9c179e\"], [0.4444444444444444, \"#bd3786\"], [0.5555555555555556, \"#d8576b\"], [0.6666666666666666, \"#ed7953\"], [0.7777777777777778, \"#fb9f3a\"], [0.8888888888888888, \"#fdca26\"], [1.0, \"#f0f921\"]], \"sequentialminus\": [[0.0, \"#0d0887\"], [0.1111111111111111, \"#46039f\"], [0.2222222222222222, \"#7201a8\"], [0.3333333333333333, \"#9c179e\"], [0.4444444444444444, \"#bd3786\"], [0.5555555555555556, \"#d8576b\"], [0.6666666666666666, \"#ed7953\"], [0.7777777777777778, \"#fb9f3a\"], [0.8888888888888888, \"#fdca26\"], [1.0, \"#f0f921\"]]}, \"colorway\": [\"#636efa\", \"#EF553B\", \"#00cc96\", \"#ab63fa\", \"#FFA15A\", \"#19d3f3\", \"#FF6692\", \"#B6E880\", \"#FF97FF\", \"#FECB52\"], \"font\": {\"color\": \"#2a3f5f\"}, \"geo\": {\"bgcolor\": \"white\", \"lakecolor\": \"white\", \"landcolor\": \"#E5ECF6\", \"showlakes\": true, \"showland\": true, \"subunitcolor\": \"white\"}, \"hoverlabel\": {\"align\": \"left\"}, \"hovermode\": \"closest\", \"mapbox\": {\"style\": \"light\"}, \"paper_bgcolor\": \"white\", \"plot_bgcolor\": \"#E5ECF6\", \"polar\": {\"angularaxis\": {\"gridcolor\": \"white\", \"linecolor\": \"white\", \"ticks\": \"\"}, \"bgcolor\": \"#E5ECF6\", \"radialaxis\": {\"gridcolor\": \"white\", \"linecolor\": \"white\", \"ticks\": \"\"}}, \"scene\": {\"xaxis\": {\"backgroundcolor\": \"#E5ECF6\", \"gridcolor\": \"white\", \"gridwidth\": 2, \"linecolor\": \"white\", \"showbackground\": true, \"ticks\": \"\", \"zerolinecolor\": \"white\"}, \"yaxis\": {\"backgroundcolor\": \"#E5ECF6\", \"gridcolor\": \"white\", \"gridwidth\": 2, \"linecolor\": \"white\", \"showbackground\": true, \"ticks\": \"\", \"zerolinecolor\": \"white\"}, \"zaxis\": {\"backgroundcolor\": \"#E5ECF6\", \"gridcolor\": \"white\", \"gridwidth\": 2, \"linecolor\": \"white\", \"showbackground\": true, \"ticks\": \"\", \"zerolinecolor\": \"white\"}}, \"shapedefaults\": {\"line\": {\"color\": \"#2a3f5f\"}}, \"ternary\": {\"aaxis\": {\"gridcolor\": \"white\", \"linecolor\": \"white\", \"ticks\": \"\"}, \"baxis\": {\"gridcolor\": \"white\", \"linecolor\": \"white\", \"ticks\": \"\"}, \"bgcolor\": \"#E5ECF6\", \"caxis\": {\"gridcolor\": \"white\", \"linecolor\": \"white\", \"ticks\": \"\"}}, \"title\": {\"x\": 0.05}, \"xaxis\": {\"automargin\": true, \"gridcolor\": \"white\", \"linecolor\": \"white\", \"ticks\": \"\", \"title\": {\"standoff\": 15}, \"zerolinecolor\": \"white\", \"zerolinewidth\": 2}, \"yaxis\": {\"automargin\": true, \"gridcolor\": \"white\", \"linecolor\": \"white\", \"ticks\": \"\", \"title\": {\"standoff\": 15}, \"zerolinecolor\": \"white\", \"zerolinewidth\": 2}}}},\n",
       "                        {\"responsive\": true}\n",
       "                    ).then(function(){\n",
       "                            \n",
       "var gd = document.getElementById('9b72f100-1e83-42e0-bc77-9e6cf3cc617f');\n",
       "var x = new MutationObserver(function (mutations, observer) {{\n",
       "        var display = window.getComputedStyle(gd).display;\n",
       "        if (!display || display === 'none') {{\n",
       "            console.log([gd, 'removed!']);\n",
       "            Plotly.purge(gd);\n",
       "            observer.disconnect();\n",
       "        }}\n",
       "}});\n",
       "\n",
       "// Listen for the removal of the full notebook cells\n",
       "var notebookContainer = gd.closest('#notebook-container');\n",
       "if (notebookContainer) {{\n",
       "    x.observe(notebookContainer, {childList: true});\n",
       "}}\n",
       "\n",
       "// Listen for the clearing of the current output cell\n",
       "var outputEl = gd.closest('.output');\n",
       "if (outputEl) {{\n",
       "    x.observe(outputEl, {childList: true});\n",
       "}}\n",
       "\n",
       "                        })\n",
       "                };\n",
       "                });\n",
       "            </script>\n",
       "        </div>"
      ]
     },
     "metadata": {},
     "output_type": "display_data"
    }
   ],
   "source": [
    "fig = go.Figure(data = [go.Bar(name = '2014', x = cost.columns, y = lowcost.iloc[0]),\n",
    "                       go.Bar(name = '2015-18', x = cost.columns, y = lowcost.iloc[1])])\n",
    "fig.update_layout(barmode='group')\n",
    "fig.show()"
   ]
  },
  {
   "cell_type": "code",
   "execution_count": 73,
   "metadata": {},
   "outputs": [
    {
     "name": "stdout",
     "output_type": "stream",
     "text": [
      "chi2: 5.61462247562772 p-value: 0.017811217717322733 dof: 1\n"
     ]
    }
   ],
   "source": [
    "#perform chi2 test for low income interviewees\n",
    "test2 = chi2_contingency(lowcost)\n",
    "chi2 = test2[0]\n",
    "pvalue = test2[1]\n",
    "dof = test2[2]\n",
    "print(\"chi2:\", chi2, \"p-value:\", pvalue, \"dof:\", dof)"
   ]
  },
  {
   "cell_type": "code",
   "execution_count": 74,
   "metadata": {},
   "outputs": [
    {
     "data": {
      "text/html": [
       "<div>\n",
       "<style scoped>\n",
       "    .dataframe tbody tr th:only-of-type {\n",
       "        vertical-align: middle;\n",
       "    }\n",
       "\n",
       "    .dataframe tbody tr th {\n",
       "        vertical-align: top;\n",
       "    }\n",
       "\n",
       "    .dataframe thead th {\n",
       "        text-align: right;\n",
       "    }\n",
       "</style>\n",
       "<table border=\"1\" class=\"dataframe\">\n",
       "  <thead>\n",
       "    <tr style=\"text-align: right;\">\n",
       "      <th></th>\n",
       "      <th>Yes</th>\n",
       "      <th>No</th>\n",
       "    </tr>\n",
       "  </thead>\n",
       "  <tbody>\n",
       "    <tr>\n",
       "      <th>2014</th>\n",
       "      <td>48933</td>\n",
       "      <td>2739</td>\n",
       "    </tr>\n",
       "    <tr>\n",
       "      <th>2015-2018</th>\n",
       "      <td>49145</td>\n",
       "      <td>2540</td>\n",
       "    </tr>\n",
       "  </tbody>\n",
       "</table>\n",
       "</div>"
      ],
      "text/plain": [
       "             Yes    No\n",
       "2014       48933  2739\n",
       "2015-2018  49145  2540"
      ]
     },
     "execution_count": 74,
     "metadata": {},
     "output_type": "execute_result"
    }
   ],
   "source": [
    "#do you have health care coverage?\n",
    "care14 = df_14['hlthpln1']\n",
    "care1518 = df_1518['hlthpln1']\n",
    "sample1518 = care1518.sample(n = 51858, random_state = 1)\n",
    "\n",
    "#get counts for each value of having care or not in 2014 data set\n",
    "columns = [1, 2]\n",
    "counts14 = [0,0]\n",
    "for row in care14:\n",
    "    value = (int)(row)\n",
    "    if value < 7:\n",
    "        counts14[value-1] += 1\n",
    "\n",
    "#get counts for each value of having care or not in 2014 data set\n",
    "columns = [1, 2]\n",
    "counts1518 = [0,0]\n",
    "for row in sample1518:\n",
    "    value = (int)(row)\n",
    "    if value < 7:\n",
    "        counts1518[value-1] += 1\n",
    "        \n",
    "care = pd.DataFrame([counts14, counts1518], index = [\"2014\", \"2015-2018\"], \n",
    "                         columns = [\"Yes\", \"No\"])\n",
    "care"
   ]
  },
  {
   "cell_type": "code",
   "execution_count": 75,
   "metadata": {},
   "outputs": [
    {
     "data": {
      "application/vnd.plotly.v1+json": {
       "config": {
        "plotlyServerURL": "https://plot.ly"
       },
       "data": [
        {
         "name": "2014",
         "type": "bar",
         "x": [
          "Yes",
          "No"
         ],
         "y": [
          48933,
          2739
         ]
        },
        {
         "name": "2015-18",
         "type": "bar",
         "x": [
          "Yes",
          "No"
         ],
         "y": [
          49145,
          2540
         ]
        }
       ],
       "layout": {
        "barmode": "group",
        "template": {
         "data": {
          "bar": [
           {
            "error_x": {
             "color": "#2a3f5f"
            },
            "error_y": {
             "color": "#2a3f5f"
            },
            "marker": {
             "line": {
              "color": "#E5ECF6",
              "width": 0.5
             }
            },
            "type": "bar"
           }
          ],
          "barpolar": [
           {
            "marker": {
             "line": {
              "color": "#E5ECF6",
              "width": 0.5
             }
            },
            "type": "barpolar"
           }
          ],
          "carpet": [
           {
            "aaxis": {
             "endlinecolor": "#2a3f5f",
             "gridcolor": "white",
             "linecolor": "white",
             "minorgridcolor": "white",
             "startlinecolor": "#2a3f5f"
            },
            "baxis": {
             "endlinecolor": "#2a3f5f",
             "gridcolor": "white",
             "linecolor": "white",
             "minorgridcolor": "white",
             "startlinecolor": "#2a3f5f"
            },
            "type": "carpet"
           }
          ],
          "choropleth": [
           {
            "colorbar": {
             "outlinewidth": 0,
             "ticks": ""
            },
            "type": "choropleth"
           }
          ],
          "contour": [
           {
            "colorbar": {
             "outlinewidth": 0,
             "ticks": ""
            },
            "colorscale": [
             [
              0,
              "#0d0887"
             ],
             [
              0.1111111111111111,
              "#46039f"
             ],
             [
              0.2222222222222222,
              "#7201a8"
             ],
             [
              0.3333333333333333,
              "#9c179e"
             ],
             [
              0.4444444444444444,
              "#bd3786"
             ],
             [
              0.5555555555555556,
              "#d8576b"
             ],
             [
              0.6666666666666666,
              "#ed7953"
             ],
             [
              0.7777777777777778,
              "#fb9f3a"
             ],
             [
              0.8888888888888888,
              "#fdca26"
             ],
             [
              1,
              "#f0f921"
             ]
            ],
            "type": "contour"
           }
          ],
          "contourcarpet": [
           {
            "colorbar": {
             "outlinewidth": 0,
             "ticks": ""
            },
            "type": "contourcarpet"
           }
          ],
          "heatmap": [
           {
            "colorbar": {
             "outlinewidth": 0,
             "ticks": ""
            },
            "colorscale": [
             [
              0,
              "#0d0887"
             ],
             [
              0.1111111111111111,
              "#46039f"
             ],
             [
              0.2222222222222222,
              "#7201a8"
             ],
             [
              0.3333333333333333,
              "#9c179e"
             ],
             [
              0.4444444444444444,
              "#bd3786"
             ],
             [
              0.5555555555555556,
              "#d8576b"
             ],
             [
              0.6666666666666666,
              "#ed7953"
             ],
             [
              0.7777777777777778,
              "#fb9f3a"
             ],
             [
              0.8888888888888888,
              "#fdca26"
             ],
             [
              1,
              "#f0f921"
             ]
            ],
            "type": "heatmap"
           }
          ],
          "heatmapgl": [
           {
            "colorbar": {
             "outlinewidth": 0,
             "ticks": ""
            },
            "colorscale": [
             [
              0,
              "#0d0887"
             ],
             [
              0.1111111111111111,
              "#46039f"
             ],
             [
              0.2222222222222222,
              "#7201a8"
             ],
             [
              0.3333333333333333,
              "#9c179e"
             ],
             [
              0.4444444444444444,
              "#bd3786"
             ],
             [
              0.5555555555555556,
              "#d8576b"
             ],
             [
              0.6666666666666666,
              "#ed7953"
             ],
             [
              0.7777777777777778,
              "#fb9f3a"
             ],
             [
              0.8888888888888888,
              "#fdca26"
             ],
             [
              1,
              "#f0f921"
             ]
            ],
            "type": "heatmapgl"
           }
          ],
          "histogram": [
           {
            "marker": {
             "colorbar": {
              "outlinewidth": 0,
              "ticks": ""
             }
            },
            "type": "histogram"
           }
          ],
          "histogram2d": [
           {
            "colorbar": {
             "outlinewidth": 0,
             "ticks": ""
            },
            "colorscale": [
             [
              0,
              "#0d0887"
             ],
             [
              0.1111111111111111,
              "#46039f"
             ],
             [
              0.2222222222222222,
              "#7201a8"
             ],
             [
              0.3333333333333333,
              "#9c179e"
             ],
             [
              0.4444444444444444,
              "#bd3786"
             ],
             [
              0.5555555555555556,
              "#d8576b"
             ],
             [
              0.6666666666666666,
              "#ed7953"
             ],
             [
              0.7777777777777778,
              "#fb9f3a"
             ],
             [
              0.8888888888888888,
              "#fdca26"
             ],
             [
              1,
              "#f0f921"
             ]
            ],
            "type": "histogram2d"
           }
          ],
          "histogram2dcontour": [
           {
            "colorbar": {
             "outlinewidth": 0,
             "ticks": ""
            },
            "colorscale": [
             [
              0,
              "#0d0887"
             ],
             [
              0.1111111111111111,
              "#46039f"
             ],
             [
              0.2222222222222222,
              "#7201a8"
             ],
             [
              0.3333333333333333,
              "#9c179e"
             ],
             [
              0.4444444444444444,
              "#bd3786"
             ],
             [
              0.5555555555555556,
              "#d8576b"
             ],
             [
              0.6666666666666666,
              "#ed7953"
             ],
             [
              0.7777777777777778,
              "#fb9f3a"
             ],
             [
              0.8888888888888888,
              "#fdca26"
             ],
             [
              1,
              "#f0f921"
             ]
            ],
            "type": "histogram2dcontour"
           }
          ],
          "mesh3d": [
           {
            "colorbar": {
             "outlinewidth": 0,
             "ticks": ""
            },
            "type": "mesh3d"
           }
          ],
          "parcoords": [
           {
            "line": {
             "colorbar": {
              "outlinewidth": 0,
              "ticks": ""
             }
            },
            "type": "parcoords"
           }
          ],
          "pie": [
           {
            "automargin": true,
            "type": "pie"
           }
          ],
          "scatter": [
           {
            "marker": {
             "colorbar": {
              "outlinewidth": 0,
              "ticks": ""
             }
            },
            "type": "scatter"
           }
          ],
          "scatter3d": [
           {
            "line": {
             "colorbar": {
              "outlinewidth": 0,
              "ticks": ""
             }
            },
            "marker": {
             "colorbar": {
              "outlinewidth": 0,
              "ticks": ""
             }
            },
            "type": "scatter3d"
           }
          ],
          "scattercarpet": [
           {
            "marker": {
             "colorbar": {
              "outlinewidth": 0,
              "ticks": ""
             }
            },
            "type": "scattercarpet"
           }
          ],
          "scattergeo": [
           {
            "marker": {
             "colorbar": {
              "outlinewidth": 0,
              "ticks": ""
             }
            },
            "type": "scattergeo"
           }
          ],
          "scattergl": [
           {
            "marker": {
             "colorbar": {
              "outlinewidth": 0,
              "ticks": ""
             }
            },
            "type": "scattergl"
           }
          ],
          "scattermapbox": [
           {
            "marker": {
             "colorbar": {
              "outlinewidth": 0,
              "ticks": ""
             }
            },
            "type": "scattermapbox"
           }
          ],
          "scatterpolar": [
           {
            "marker": {
             "colorbar": {
              "outlinewidth": 0,
              "ticks": ""
             }
            },
            "type": "scatterpolar"
           }
          ],
          "scatterpolargl": [
           {
            "marker": {
             "colorbar": {
              "outlinewidth": 0,
              "ticks": ""
             }
            },
            "type": "scatterpolargl"
           }
          ],
          "scatterternary": [
           {
            "marker": {
             "colorbar": {
              "outlinewidth": 0,
              "ticks": ""
             }
            },
            "type": "scatterternary"
           }
          ],
          "surface": [
           {
            "colorbar": {
             "outlinewidth": 0,
             "ticks": ""
            },
            "colorscale": [
             [
              0,
              "#0d0887"
             ],
             [
              0.1111111111111111,
              "#46039f"
             ],
             [
              0.2222222222222222,
              "#7201a8"
             ],
             [
              0.3333333333333333,
              "#9c179e"
             ],
             [
              0.4444444444444444,
              "#bd3786"
             ],
             [
              0.5555555555555556,
              "#d8576b"
             ],
             [
              0.6666666666666666,
              "#ed7953"
             ],
             [
              0.7777777777777778,
              "#fb9f3a"
             ],
             [
              0.8888888888888888,
              "#fdca26"
             ],
             [
              1,
              "#f0f921"
             ]
            ],
            "type": "surface"
           }
          ],
          "table": [
           {
            "cells": {
             "fill": {
              "color": "#EBF0F8"
             },
             "line": {
              "color": "white"
             }
            },
            "header": {
             "fill": {
              "color": "#C8D4E3"
             },
             "line": {
              "color": "white"
             }
            },
            "type": "table"
           }
          ]
         },
         "layout": {
          "annotationdefaults": {
           "arrowcolor": "#2a3f5f",
           "arrowhead": 0,
           "arrowwidth": 1
          },
          "coloraxis": {
           "colorbar": {
            "outlinewidth": 0,
            "ticks": ""
           }
          },
          "colorscale": {
           "diverging": [
            [
             0,
             "#8e0152"
            ],
            [
             0.1,
             "#c51b7d"
            ],
            [
             0.2,
             "#de77ae"
            ],
            [
             0.3,
             "#f1b6da"
            ],
            [
             0.4,
             "#fde0ef"
            ],
            [
             0.5,
             "#f7f7f7"
            ],
            [
             0.6,
             "#e6f5d0"
            ],
            [
             0.7,
             "#b8e186"
            ],
            [
             0.8,
             "#7fbc41"
            ],
            [
             0.9,
             "#4d9221"
            ],
            [
             1,
             "#276419"
            ]
           ],
           "sequential": [
            [
             0,
             "#0d0887"
            ],
            [
             0.1111111111111111,
             "#46039f"
            ],
            [
             0.2222222222222222,
             "#7201a8"
            ],
            [
             0.3333333333333333,
             "#9c179e"
            ],
            [
             0.4444444444444444,
             "#bd3786"
            ],
            [
             0.5555555555555556,
             "#d8576b"
            ],
            [
             0.6666666666666666,
             "#ed7953"
            ],
            [
             0.7777777777777778,
             "#fb9f3a"
            ],
            [
             0.8888888888888888,
             "#fdca26"
            ],
            [
             1,
             "#f0f921"
            ]
           ],
           "sequentialminus": [
            [
             0,
             "#0d0887"
            ],
            [
             0.1111111111111111,
             "#46039f"
            ],
            [
             0.2222222222222222,
             "#7201a8"
            ],
            [
             0.3333333333333333,
             "#9c179e"
            ],
            [
             0.4444444444444444,
             "#bd3786"
            ],
            [
             0.5555555555555556,
             "#d8576b"
            ],
            [
             0.6666666666666666,
             "#ed7953"
            ],
            [
             0.7777777777777778,
             "#fb9f3a"
            ],
            [
             0.8888888888888888,
             "#fdca26"
            ],
            [
             1,
             "#f0f921"
            ]
           ]
          },
          "colorway": [
           "#636efa",
           "#EF553B",
           "#00cc96",
           "#ab63fa",
           "#FFA15A",
           "#19d3f3",
           "#FF6692",
           "#B6E880",
           "#FF97FF",
           "#FECB52"
          ],
          "font": {
           "color": "#2a3f5f"
          },
          "geo": {
           "bgcolor": "white",
           "lakecolor": "white",
           "landcolor": "#E5ECF6",
           "showlakes": true,
           "showland": true,
           "subunitcolor": "white"
          },
          "hoverlabel": {
           "align": "left"
          },
          "hovermode": "closest",
          "mapbox": {
           "style": "light"
          },
          "paper_bgcolor": "white",
          "plot_bgcolor": "#E5ECF6",
          "polar": {
           "angularaxis": {
            "gridcolor": "white",
            "linecolor": "white",
            "ticks": ""
           },
           "bgcolor": "#E5ECF6",
           "radialaxis": {
            "gridcolor": "white",
            "linecolor": "white",
            "ticks": ""
           }
          },
          "scene": {
           "xaxis": {
            "backgroundcolor": "#E5ECF6",
            "gridcolor": "white",
            "gridwidth": 2,
            "linecolor": "white",
            "showbackground": true,
            "ticks": "",
            "zerolinecolor": "white"
           },
           "yaxis": {
            "backgroundcolor": "#E5ECF6",
            "gridcolor": "white",
            "gridwidth": 2,
            "linecolor": "white",
            "showbackground": true,
            "ticks": "",
            "zerolinecolor": "white"
           },
           "zaxis": {
            "backgroundcolor": "#E5ECF6",
            "gridcolor": "white",
            "gridwidth": 2,
            "linecolor": "white",
            "showbackground": true,
            "ticks": "",
            "zerolinecolor": "white"
           }
          },
          "shapedefaults": {
           "line": {
            "color": "#2a3f5f"
           }
          },
          "ternary": {
           "aaxis": {
            "gridcolor": "white",
            "linecolor": "white",
            "ticks": ""
           },
           "baxis": {
            "gridcolor": "white",
            "linecolor": "white",
            "ticks": ""
           },
           "bgcolor": "#E5ECF6",
           "caxis": {
            "gridcolor": "white",
            "linecolor": "white",
            "ticks": ""
           }
          },
          "title": {
           "x": 0.05
          },
          "xaxis": {
           "automargin": true,
           "gridcolor": "white",
           "linecolor": "white",
           "ticks": "",
           "title": {
            "standoff": 15
           },
           "zerolinecolor": "white",
           "zerolinewidth": 2
          },
          "yaxis": {
           "automargin": true,
           "gridcolor": "white",
           "linecolor": "white",
           "ticks": "",
           "title": {
            "standoff": 15
           },
           "zerolinecolor": "white",
           "zerolinewidth": 2
          }
         }
        }
       }
      },
      "text/html": [
       "<div>\n",
       "        \n",
       "        \n",
       "            <div id=\"679d3bcd-d066-4c29-b394-2f9f09226cf9\" class=\"plotly-graph-div\" style=\"height:525px; width:100%;\"></div>\n",
       "            <script type=\"text/javascript\">\n",
       "                require([\"plotly\"], function(Plotly) {\n",
       "                    window.PLOTLYENV=window.PLOTLYENV || {};\n",
       "                    \n",
       "                if (document.getElementById(\"679d3bcd-d066-4c29-b394-2f9f09226cf9\")) {\n",
       "                    Plotly.newPlot(\n",
       "                        '679d3bcd-d066-4c29-b394-2f9f09226cf9',\n",
       "                        [{\"name\": \"2014\", \"type\": \"bar\", \"x\": [\"Yes\", \"No\"], \"y\": [48933, 2739]}, {\"name\": \"2015-18\", \"type\": \"bar\", \"x\": [\"Yes\", \"No\"], \"y\": [49145, 2540]}],\n",
       "                        {\"barmode\": \"group\", \"template\": {\"data\": {\"bar\": [{\"error_x\": {\"color\": \"#2a3f5f\"}, \"error_y\": {\"color\": \"#2a3f5f\"}, \"marker\": {\"line\": {\"color\": \"#E5ECF6\", \"width\": 0.5}}, \"type\": \"bar\"}], \"barpolar\": [{\"marker\": {\"line\": {\"color\": \"#E5ECF6\", \"width\": 0.5}}, \"type\": \"barpolar\"}], \"carpet\": [{\"aaxis\": {\"endlinecolor\": \"#2a3f5f\", \"gridcolor\": \"white\", \"linecolor\": \"white\", \"minorgridcolor\": \"white\", \"startlinecolor\": \"#2a3f5f\"}, \"baxis\": {\"endlinecolor\": \"#2a3f5f\", \"gridcolor\": \"white\", \"linecolor\": \"white\", \"minorgridcolor\": \"white\", \"startlinecolor\": \"#2a3f5f\"}, \"type\": \"carpet\"}], \"choropleth\": [{\"colorbar\": {\"outlinewidth\": 0, \"ticks\": \"\"}, \"type\": \"choropleth\"}], \"contour\": [{\"colorbar\": {\"outlinewidth\": 0, \"ticks\": \"\"}, \"colorscale\": [[0.0, \"#0d0887\"], [0.1111111111111111, \"#46039f\"], [0.2222222222222222, \"#7201a8\"], [0.3333333333333333, \"#9c179e\"], [0.4444444444444444, \"#bd3786\"], [0.5555555555555556, \"#d8576b\"], [0.6666666666666666, \"#ed7953\"], [0.7777777777777778, \"#fb9f3a\"], [0.8888888888888888, \"#fdca26\"], [1.0, \"#f0f921\"]], \"type\": \"contour\"}], \"contourcarpet\": [{\"colorbar\": {\"outlinewidth\": 0, \"ticks\": \"\"}, \"type\": \"contourcarpet\"}], \"heatmap\": [{\"colorbar\": {\"outlinewidth\": 0, \"ticks\": \"\"}, \"colorscale\": [[0.0, \"#0d0887\"], [0.1111111111111111, \"#46039f\"], [0.2222222222222222, \"#7201a8\"], [0.3333333333333333, \"#9c179e\"], [0.4444444444444444, \"#bd3786\"], [0.5555555555555556, \"#d8576b\"], [0.6666666666666666, \"#ed7953\"], [0.7777777777777778, \"#fb9f3a\"], [0.8888888888888888, \"#fdca26\"], [1.0, \"#f0f921\"]], \"type\": \"heatmap\"}], \"heatmapgl\": [{\"colorbar\": {\"outlinewidth\": 0, \"ticks\": \"\"}, \"colorscale\": [[0.0, \"#0d0887\"], [0.1111111111111111, \"#46039f\"], [0.2222222222222222, \"#7201a8\"], [0.3333333333333333, \"#9c179e\"], [0.4444444444444444, \"#bd3786\"], [0.5555555555555556, \"#d8576b\"], [0.6666666666666666, \"#ed7953\"], [0.7777777777777778, \"#fb9f3a\"], [0.8888888888888888, \"#fdca26\"], [1.0, \"#f0f921\"]], \"type\": \"heatmapgl\"}], \"histogram\": [{\"marker\": {\"colorbar\": {\"outlinewidth\": 0, \"ticks\": \"\"}}, \"type\": \"histogram\"}], \"histogram2d\": [{\"colorbar\": {\"outlinewidth\": 0, \"ticks\": \"\"}, \"colorscale\": [[0.0, \"#0d0887\"], [0.1111111111111111, \"#46039f\"], [0.2222222222222222, \"#7201a8\"], [0.3333333333333333, \"#9c179e\"], [0.4444444444444444, \"#bd3786\"], [0.5555555555555556, \"#d8576b\"], [0.6666666666666666, \"#ed7953\"], [0.7777777777777778, \"#fb9f3a\"], [0.8888888888888888, \"#fdca26\"], [1.0, \"#f0f921\"]], \"type\": \"histogram2d\"}], \"histogram2dcontour\": [{\"colorbar\": {\"outlinewidth\": 0, \"ticks\": \"\"}, \"colorscale\": [[0.0, \"#0d0887\"], [0.1111111111111111, \"#46039f\"], [0.2222222222222222, \"#7201a8\"], [0.3333333333333333, \"#9c179e\"], [0.4444444444444444, \"#bd3786\"], [0.5555555555555556, \"#d8576b\"], [0.6666666666666666, \"#ed7953\"], [0.7777777777777778, \"#fb9f3a\"], [0.8888888888888888, \"#fdca26\"], [1.0, \"#f0f921\"]], \"type\": \"histogram2dcontour\"}], \"mesh3d\": [{\"colorbar\": {\"outlinewidth\": 0, \"ticks\": \"\"}, \"type\": \"mesh3d\"}], \"parcoords\": [{\"line\": {\"colorbar\": {\"outlinewidth\": 0, \"ticks\": \"\"}}, \"type\": \"parcoords\"}], \"pie\": [{\"automargin\": true, \"type\": \"pie\"}], \"scatter\": [{\"marker\": {\"colorbar\": {\"outlinewidth\": 0, \"ticks\": \"\"}}, \"type\": \"scatter\"}], \"scatter3d\": [{\"line\": {\"colorbar\": {\"outlinewidth\": 0, \"ticks\": \"\"}}, \"marker\": {\"colorbar\": {\"outlinewidth\": 0, \"ticks\": \"\"}}, \"type\": \"scatter3d\"}], \"scattercarpet\": [{\"marker\": {\"colorbar\": {\"outlinewidth\": 0, \"ticks\": \"\"}}, \"type\": \"scattercarpet\"}], \"scattergeo\": [{\"marker\": {\"colorbar\": {\"outlinewidth\": 0, \"ticks\": \"\"}}, \"type\": \"scattergeo\"}], \"scattergl\": [{\"marker\": {\"colorbar\": {\"outlinewidth\": 0, \"ticks\": \"\"}}, \"type\": \"scattergl\"}], \"scattermapbox\": [{\"marker\": {\"colorbar\": {\"outlinewidth\": 0, \"ticks\": \"\"}}, \"type\": \"scattermapbox\"}], \"scatterpolar\": [{\"marker\": {\"colorbar\": {\"outlinewidth\": 0, \"ticks\": \"\"}}, \"type\": \"scatterpolar\"}], \"scatterpolargl\": [{\"marker\": {\"colorbar\": {\"outlinewidth\": 0, \"ticks\": \"\"}}, \"type\": \"scatterpolargl\"}], \"scatterternary\": [{\"marker\": {\"colorbar\": {\"outlinewidth\": 0, \"ticks\": \"\"}}, \"type\": \"scatterternary\"}], \"surface\": [{\"colorbar\": {\"outlinewidth\": 0, \"ticks\": \"\"}, \"colorscale\": [[0.0, \"#0d0887\"], [0.1111111111111111, \"#46039f\"], [0.2222222222222222, \"#7201a8\"], [0.3333333333333333, \"#9c179e\"], [0.4444444444444444, \"#bd3786\"], [0.5555555555555556, \"#d8576b\"], [0.6666666666666666, \"#ed7953\"], [0.7777777777777778, \"#fb9f3a\"], [0.8888888888888888, \"#fdca26\"], [1.0, \"#f0f921\"]], \"type\": \"surface\"}], \"table\": [{\"cells\": {\"fill\": {\"color\": \"#EBF0F8\"}, \"line\": {\"color\": \"white\"}}, \"header\": {\"fill\": {\"color\": \"#C8D4E3\"}, \"line\": {\"color\": \"white\"}}, \"type\": \"table\"}]}, \"layout\": {\"annotationdefaults\": {\"arrowcolor\": \"#2a3f5f\", \"arrowhead\": 0, \"arrowwidth\": 1}, \"coloraxis\": {\"colorbar\": {\"outlinewidth\": 0, \"ticks\": \"\"}}, \"colorscale\": {\"diverging\": [[0, \"#8e0152\"], [0.1, \"#c51b7d\"], [0.2, \"#de77ae\"], [0.3, \"#f1b6da\"], [0.4, \"#fde0ef\"], [0.5, \"#f7f7f7\"], [0.6, \"#e6f5d0\"], [0.7, \"#b8e186\"], [0.8, \"#7fbc41\"], [0.9, \"#4d9221\"], [1, \"#276419\"]], \"sequential\": [[0.0, \"#0d0887\"], [0.1111111111111111, \"#46039f\"], [0.2222222222222222, \"#7201a8\"], [0.3333333333333333, \"#9c179e\"], [0.4444444444444444, \"#bd3786\"], [0.5555555555555556, \"#d8576b\"], [0.6666666666666666, \"#ed7953\"], [0.7777777777777778, \"#fb9f3a\"], [0.8888888888888888, \"#fdca26\"], [1.0, \"#f0f921\"]], \"sequentialminus\": [[0.0, \"#0d0887\"], [0.1111111111111111, \"#46039f\"], [0.2222222222222222, \"#7201a8\"], [0.3333333333333333, \"#9c179e\"], [0.4444444444444444, \"#bd3786\"], [0.5555555555555556, \"#d8576b\"], [0.6666666666666666, \"#ed7953\"], [0.7777777777777778, \"#fb9f3a\"], [0.8888888888888888, \"#fdca26\"], [1.0, \"#f0f921\"]]}, \"colorway\": [\"#636efa\", \"#EF553B\", \"#00cc96\", \"#ab63fa\", \"#FFA15A\", \"#19d3f3\", \"#FF6692\", \"#B6E880\", \"#FF97FF\", \"#FECB52\"], \"font\": {\"color\": \"#2a3f5f\"}, \"geo\": {\"bgcolor\": \"white\", \"lakecolor\": \"white\", \"landcolor\": \"#E5ECF6\", \"showlakes\": true, \"showland\": true, \"subunitcolor\": \"white\"}, \"hoverlabel\": {\"align\": \"left\"}, \"hovermode\": \"closest\", \"mapbox\": {\"style\": \"light\"}, \"paper_bgcolor\": \"white\", \"plot_bgcolor\": \"#E5ECF6\", \"polar\": {\"angularaxis\": {\"gridcolor\": \"white\", \"linecolor\": \"white\", \"ticks\": \"\"}, \"bgcolor\": \"#E5ECF6\", \"radialaxis\": {\"gridcolor\": \"white\", \"linecolor\": \"white\", \"ticks\": \"\"}}, \"scene\": {\"xaxis\": {\"backgroundcolor\": \"#E5ECF6\", \"gridcolor\": \"white\", \"gridwidth\": 2, \"linecolor\": \"white\", \"showbackground\": true, \"ticks\": \"\", \"zerolinecolor\": \"white\"}, \"yaxis\": {\"backgroundcolor\": \"#E5ECF6\", \"gridcolor\": \"white\", \"gridwidth\": 2, \"linecolor\": \"white\", \"showbackground\": true, \"ticks\": \"\", \"zerolinecolor\": \"white\"}, \"zaxis\": {\"backgroundcolor\": \"#E5ECF6\", \"gridcolor\": \"white\", \"gridwidth\": 2, \"linecolor\": \"white\", \"showbackground\": true, \"ticks\": \"\", \"zerolinecolor\": \"white\"}}, \"shapedefaults\": {\"line\": {\"color\": \"#2a3f5f\"}}, \"ternary\": {\"aaxis\": {\"gridcolor\": \"white\", \"linecolor\": \"white\", \"ticks\": \"\"}, \"baxis\": {\"gridcolor\": \"white\", \"linecolor\": \"white\", \"ticks\": \"\"}, \"bgcolor\": \"#E5ECF6\", \"caxis\": {\"gridcolor\": \"white\", \"linecolor\": \"white\", \"ticks\": \"\"}}, \"title\": {\"x\": 0.05}, \"xaxis\": {\"automargin\": true, \"gridcolor\": \"white\", \"linecolor\": \"white\", \"ticks\": \"\", \"title\": {\"standoff\": 15}, \"zerolinecolor\": \"white\", \"zerolinewidth\": 2}, \"yaxis\": {\"automargin\": true, \"gridcolor\": \"white\", \"linecolor\": \"white\", \"ticks\": \"\", \"title\": {\"standoff\": 15}, \"zerolinecolor\": \"white\", \"zerolinewidth\": 2}}}},\n",
       "                        {\"responsive\": true}\n",
       "                    ).then(function(){\n",
       "                            \n",
       "var gd = document.getElementById('679d3bcd-d066-4c29-b394-2f9f09226cf9');\n",
       "var x = new MutationObserver(function (mutations, observer) {{\n",
       "        var display = window.getComputedStyle(gd).display;\n",
       "        if (!display || display === 'none') {{\n",
       "            console.log([gd, 'removed!']);\n",
       "            Plotly.purge(gd);\n",
       "            observer.disconnect();\n",
       "        }}\n",
       "}});\n",
       "\n",
       "// Listen for the removal of the full notebook cells\n",
       "var notebookContainer = gd.closest('#notebook-container');\n",
       "if (notebookContainer) {{\n",
       "    x.observe(notebookContainer, {childList: true});\n",
       "}}\n",
       "\n",
       "// Listen for the clearing of the current output cell\n",
       "var outputEl = gd.closest('.output');\n",
       "if (outputEl) {{\n",
       "    x.observe(outputEl, {childList: true});\n",
       "}}\n",
       "\n",
       "                        })\n",
       "                };\n",
       "                });\n",
       "            </script>\n",
       "        </div>"
      ]
     },
     "metadata": {},
     "output_type": "display_data"
    }
   ],
   "source": [
    "#chart to view data and see if results match up\n",
    "fig = go.Figure(data = [go.Bar(name = '2014', x = care.columns, y = care.iloc[0]),\n",
    "                       go.Bar(name = '2015-18', x = care.columns, y = care.iloc[1])])\n",
    "fig.update_layout(barmode='group')\n",
    "fig.show()"
   ]
  },
  {
   "cell_type": "code",
   "execution_count": 76,
   "metadata": {},
   "outputs": [
    {
     "name": "stdout",
     "output_type": "stream",
     "text": [
      "chi2: 5.61462247562772 p-value: 0.005002025418579685 dof: 1\n"
     ]
    }
   ],
   "source": [
    "#perform chi2 test\n",
    "test2 = chi2_contingency(care)\n",
    "pvalue = test2[1]\n",
    "dof = test2[2]\n",
    "print(\"chi2:\", chi2, \"p-value:\", pvalue, \"dof:\", dof)"
   ]
  },
  {
   "cell_type": "code",
   "execution_count": 77,
   "metadata": {},
   "outputs": [
    {
     "data": {
      "text/html": [
       "<div>\n",
       "<style scoped>\n",
       "    .dataframe tbody tr th:only-of-type {\n",
       "        vertical-align: middle;\n",
       "    }\n",
       "\n",
       "    .dataframe tbody tr th {\n",
       "        vertical-align: top;\n",
       "    }\n",
       "\n",
       "    .dataframe thead th {\n",
       "        text-align: right;\n",
       "    }\n",
       "</style>\n",
       "<table border=\"1\" class=\"dataframe\">\n",
       "  <thead>\n",
       "    <tr style=\"text-align: right;\">\n",
       "      <th></th>\n",
       "      <th>Yes</th>\n",
       "      <th>No</th>\n",
       "    </tr>\n",
       "  </thead>\n",
       "  <tbody>\n",
       "    <tr>\n",
       "      <th>2014</th>\n",
       "      <td>9952</td>\n",
       "      <td>1159</td>\n",
       "    </tr>\n",
       "    <tr>\n",
       "      <th>2015-2018</th>\n",
       "      <td>10014</td>\n",
       "      <td>1045</td>\n",
       "    </tr>\n",
       "  </tbody>\n",
       "</table>\n",
       "</div>"
      ],
      "text/plain": [
       "             Yes    No\n",
       "2014        9952  1159\n",
       "2015-2018  10014  1045"
      ]
     },
     "execution_count": 77,
     "metadata": {},
     "output_type": "execute_result"
    }
   ],
   "source": [
    "#do you have health care coverage (with low income participants)?\n",
    "#splitting coverage data on race/income\n",
    "\n",
    "lowcare14 = low_income14['hlthpln1']\n",
    "lowcare1518 = low_income1518['hlthpln1']\n",
    "\n",
    "sample1518 = lowcare1518.sample(n = 11111, random_state = 1)\n",
    "\n",
    "#get counts for each value of having care or not in 2014 data set\n",
    "counts14 = getCounts(lowcare14, 2)\n",
    "\n",
    "#get counts for each value of having care or not in 2014 data set\n",
    "counts1518 = getCounts(sample1518, 2)\n",
    "        \n",
    "lowcare = pd.DataFrame([counts14, counts1518], index = [\"2014\", \"2015-2018\"], \n",
    "                         columns = [\"Yes\", \"No\"])\n",
    "lowcare\n"
   ]
  },
  {
   "cell_type": "code",
   "execution_count": 78,
   "metadata": {},
   "outputs": [
    {
     "data": {
      "application/vnd.plotly.v1+json": {
       "config": {
        "plotlyServerURL": "https://plot.ly"
       },
       "data": [
        {
         "name": "2014",
         "type": "bar",
         "x": [
          "Yes",
          "No"
         ],
         "y": [
          9952,
          1159
         ]
        },
        {
         "name": "2015-18",
         "type": "bar",
         "x": [
          "Yes",
          "No"
         ],
         "y": [
          10014,
          1045
         ]
        }
       ],
       "layout": {
        "barmode": "group",
        "template": {
         "data": {
          "bar": [
           {
            "error_x": {
             "color": "#2a3f5f"
            },
            "error_y": {
             "color": "#2a3f5f"
            },
            "marker": {
             "line": {
              "color": "#E5ECF6",
              "width": 0.5
             }
            },
            "type": "bar"
           }
          ],
          "barpolar": [
           {
            "marker": {
             "line": {
              "color": "#E5ECF6",
              "width": 0.5
             }
            },
            "type": "barpolar"
           }
          ],
          "carpet": [
           {
            "aaxis": {
             "endlinecolor": "#2a3f5f",
             "gridcolor": "white",
             "linecolor": "white",
             "minorgridcolor": "white",
             "startlinecolor": "#2a3f5f"
            },
            "baxis": {
             "endlinecolor": "#2a3f5f",
             "gridcolor": "white",
             "linecolor": "white",
             "minorgridcolor": "white",
             "startlinecolor": "#2a3f5f"
            },
            "type": "carpet"
           }
          ],
          "choropleth": [
           {
            "colorbar": {
             "outlinewidth": 0,
             "ticks": ""
            },
            "type": "choropleth"
           }
          ],
          "contour": [
           {
            "colorbar": {
             "outlinewidth": 0,
             "ticks": ""
            },
            "colorscale": [
             [
              0,
              "#0d0887"
             ],
             [
              0.1111111111111111,
              "#46039f"
             ],
             [
              0.2222222222222222,
              "#7201a8"
             ],
             [
              0.3333333333333333,
              "#9c179e"
             ],
             [
              0.4444444444444444,
              "#bd3786"
             ],
             [
              0.5555555555555556,
              "#d8576b"
             ],
             [
              0.6666666666666666,
              "#ed7953"
             ],
             [
              0.7777777777777778,
              "#fb9f3a"
             ],
             [
              0.8888888888888888,
              "#fdca26"
             ],
             [
              1,
              "#f0f921"
             ]
            ],
            "type": "contour"
           }
          ],
          "contourcarpet": [
           {
            "colorbar": {
             "outlinewidth": 0,
             "ticks": ""
            },
            "type": "contourcarpet"
           }
          ],
          "heatmap": [
           {
            "colorbar": {
             "outlinewidth": 0,
             "ticks": ""
            },
            "colorscale": [
             [
              0,
              "#0d0887"
             ],
             [
              0.1111111111111111,
              "#46039f"
             ],
             [
              0.2222222222222222,
              "#7201a8"
             ],
             [
              0.3333333333333333,
              "#9c179e"
             ],
             [
              0.4444444444444444,
              "#bd3786"
             ],
             [
              0.5555555555555556,
              "#d8576b"
             ],
             [
              0.6666666666666666,
              "#ed7953"
             ],
             [
              0.7777777777777778,
              "#fb9f3a"
             ],
             [
              0.8888888888888888,
              "#fdca26"
             ],
             [
              1,
              "#f0f921"
             ]
            ],
            "type": "heatmap"
           }
          ],
          "heatmapgl": [
           {
            "colorbar": {
             "outlinewidth": 0,
             "ticks": ""
            },
            "colorscale": [
             [
              0,
              "#0d0887"
             ],
             [
              0.1111111111111111,
              "#46039f"
             ],
             [
              0.2222222222222222,
              "#7201a8"
             ],
             [
              0.3333333333333333,
              "#9c179e"
             ],
             [
              0.4444444444444444,
              "#bd3786"
             ],
             [
              0.5555555555555556,
              "#d8576b"
             ],
             [
              0.6666666666666666,
              "#ed7953"
             ],
             [
              0.7777777777777778,
              "#fb9f3a"
             ],
             [
              0.8888888888888888,
              "#fdca26"
             ],
             [
              1,
              "#f0f921"
             ]
            ],
            "type": "heatmapgl"
           }
          ],
          "histogram": [
           {
            "marker": {
             "colorbar": {
              "outlinewidth": 0,
              "ticks": ""
             }
            },
            "type": "histogram"
           }
          ],
          "histogram2d": [
           {
            "colorbar": {
             "outlinewidth": 0,
             "ticks": ""
            },
            "colorscale": [
             [
              0,
              "#0d0887"
             ],
             [
              0.1111111111111111,
              "#46039f"
             ],
             [
              0.2222222222222222,
              "#7201a8"
             ],
             [
              0.3333333333333333,
              "#9c179e"
             ],
             [
              0.4444444444444444,
              "#bd3786"
             ],
             [
              0.5555555555555556,
              "#d8576b"
             ],
             [
              0.6666666666666666,
              "#ed7953"
             ],
             [
              0.7777777777777778,
              "#fb9f3a"
             ],
             [
              0.8888888888888888,
              "#fdca26"
             ],
             [
              1,
              "#f0f921"
             ]
            ],
            "type": "histogram2d"
           }
          ],
          "histogram2dcontour": [
           {
            "colorbar": {
             "outlinewidth": 0,
             "ticks": ""
            },
            "colorscale": [
             [
              0,
              "#0d0887"
             ],
             [
              0.1111111111111111,
              "#46039f"
             ],
             [
              0.2222222222222222,
              "#7201a8"
             ],
             [
              0.3333333333333333,
              "#9c179e"
             ],
             [
              0.4444444444444444,
              "#bd3786"
             ],
             [
              0.5555555555555556,
              "#d8576b"
             ],
             [
              0.6666666666666666,
              "#ed7953"
             ],
             [
              0.7777777777777778,
              "#fb9f3a"
             ],
             [
              0.8888888888888888,
              "#fdca26"
             ],
             [
              1,
              "#f0f921"
             ]
            ],
            "type": "histogram2dcontour"
           }
          ],
          "mesh3d": [
           {
            "colorbar": {
             "outlinewidth": 0,
             "ticks": ""
            },
            "type": "mesh3d"
           }
          ],
          "parcoords": [
           {
            "line": {
             "colorbar": {
              "outlinewidth": 0,
              "ticks": ""
             }
            },
            "type": "parcoords"
           }
          ],
          "pie": [
           {
            "automargin": true,
            "type": "pie"
           }
          ],
          "scatter": [
           {
            "marker": {
             "colorbar": {
              "outlinewidth": 0,
              "ticks": ""
             }
            },
            "type": "scatter"
           }
          ],
          "scatter3d": [
           {
            "line": {
             "colorbar": {
              "outlinewidth": 0,
              "ticks": ""
             }
            },
            "marker": {
             "colorbar": {
              "outlinewidth": 0,
              "ticks": ""
             }
            },
            "type": "scatter3d"
           }
          ],
          "scattercarpet": [
           {
            "marker": {
             "colorbar": {
              "outlinewidth": 0,
              "ticks": ""
             }
            },
            "type": "scattercarpet"
           }
          ],
          "scattergeo": [
           {
            "marker": {
             "colorbar": {
              "outlinewidth": 0,
              "ticks": ""
             }
            },
            "type": "scattergeo"
           }
          ],
          "scattergl": [
           {
            "marker": {
             "colorbar": {
              "outlinewidth": 0,
              "ticks": ""
             }
            },
            "type": "scattergl"
           }
          ],
          "scattermapbox": [
           {
            "marker": {
             "colorbar": {
              "outlinewidth": 0,
              "ticks": ""
             }
            },
            "type": "scattermapbox"
           }
          ],
          "scatterpolar": [
           {
            "marker": {
             "colorbar": {
              "outlinewidth": 0,
              "ticks": ""
             }
            },
            "type": "scatterpolar"
           }
          ],
          "scatterpolargl": [
           {
            "marker": {
             "colorbar": {
              "outlinewidth": 0,
              "ticks": ""
             }
            },
            "type": "scatterpolargl"
           }
          ],
          "scatterternary": [
           {
            "marker": {
             "colorbar": {
              "outlinewidth": 0,
              "ticks": ""
             }
            },
            "type": "scatterternary"
           }
          ],
          "surface": [
           {
            "colorbar": {
             "outlinewidth": 0,
             "ticks": ""
            },
            "colorscale": [
             [
              0,
              "#0d0887"
             ],
             [
              0.1111111111111111,
              "#46039f"
             ],
             [
              0.2222222222222222,
              "#7201a8"
             ],
             [
              0.3333333333333333,
              "#9c179e"
             ],
             [
              0.4444444444444444,
              "#bd3786"
             ],
             [
              0.5555555555555556,
              "#d8576b"
             ],
             [
              0.6666666666666666,
              "#ed7953"
             ],
             [
              0.7777777777777778,
              "#fb9f3a"
             ],
             [
              0.8888888888888888,
              "#fdca26"
             ],
             [
              1,
              "#f0f921"
             ]
            ],
            "type": "surface"
           }
          ],
          "table": [
           {
            "cells": {
             "fill": {
              "color": "#EBF0F8"
             },
             "line": {
              "color": "white"
             }
            },
            "header": {
             "fill": {
              "color": "#C8D4E3"
             },
             "line": {
              "color": "white"
             }
            },
            "type": "table"
           }
          ]
         },
         "layout": {
          "annotationdefaults": {
           "arrowcolor": "#2a3f5f",
           "arrowhead": 0,
           "arrowwidth": 1
          },
          "coloraxis": {
           "colorbar": {
            "outlinewidth": 0,
            "ticks": ""
           }
          },
          "colorscale": {
           "diverging": [
            [
             0,
             "#8e0152"
            ],
            [
             0.1,
             "#c51b7d"
            ],
            [
             0.2,
             "#de77ae"
            ],
            [
             0.3,
             "#f1b6da"
            ],
            [
             0.4,
             "#fde0ef"
            ],
            [
             0.5,
             "#f7f7f7"
            ],
            [
             0.6,
             "#e6f5d0"
            ],
            [
             0.7,
             "#b8e186"
            ],
            [
             0.8,
             "#7fbc41"
            ],
            [
             0.9,
             "#4d9221"
            ],
            [
             1,
             "#276419"
            ]
           ],
           "sequential": [
            [
             0,
             "#0d0887"
            ],
            [
             0.1111111111111111,
             "#46039f"
            ],
            [
             0.2222222222222222,
             "#7201a8"
            ],
            [
             0.3333333333333333,
             "#9c179e"
            ],
            [
             0.4444444444444444,
             "#bd3786"
            ],
            [
             0.5555555555555556,
             "#d8576b"
            ],
            [
             0.6666666666666666,
             "#ed7953"
            ],
            [
             0.7777777777777778,
             "#fb9f3a"
            ],
            [
             0.8888888888888888,
             "#fdca26"
            ],
            [
             1,
             "#f0f921"
            ]
           ],
           "sequentialminus": [
            [
             0,
             "#0d0887"
            ],
            [
             0.1111111111111111,
             "#46039f"
            ],
            [
             0.2222222222222222,
             "#7201a8"
            ],
            [
             0.3333333333333333,
             "#9c179e"
            ],
            [
             0.4444444444444444,
             "#bd3786"
            ],
            [
             0.5555555555555556,
             "#d8576b"
            ],
            [
             0.6666666666666666,
             "#ed7953"
            ],
            [
             0.7777777777777778,
             "#fb9f3a"
            ],
            [
             0.8888888888888888,
             "#fdca26"
            ],
            [
             1,
             "#f0f921"
            ]
           ]
          },
          "colorway": [
           "#636efa",
           "#EF553B",
           "#00cc96",
           "#ab63fa",
           "#FFA15A",
           "#19d3f3",
           "#FF6692",
           "#B6E880",
           "#FF97FF",
           "#FECB52"
          ],
          "font": {
           "color": "#2a3f5f"
          },
          "geo": {
           "bgcolor": "white",
           "lakecolor": "white",
           "landcolor": "#E5ECF6",
           "showlakes": true,
           "showland": true,
           "subunitcolor": "white"
          },
          "hoverlabel": {
           "align": "left"
          },
          "hovermode": "closest",
          "mapbox": {
           "style": "light"
          },
          "paper_bgcolor": "white",
          "plot_bgcolor": "#E5ECF6",
          "polar": {
           "angularaxis": {
            "gridcolor": "white",
            "linecolor": "white",
            "ticks": ""
           },
           "bgcolor": "#E5ECF6",
           "radialaxis": {
            "gridcolor": "white",
            "linecolor": "white",
            "ticks": ""
           }
          },
          "scene": {
           "xaxis": {
            "backgroundcolor": "#E5ECF6",
            "gridcolor": "white",
            "gridwidth": 2,
            "linecolor": "white",
            "showbackground": true,
            "ticks": "",
            "zerolinecolor": "white"
           },
           "yaxis": {
            "backgroundcolor": "#E5ECF6",
            "gridcolor": "white",
            "gridwidth": 2,
            "linecolor": "white",
            "showbackground": true,
            "ticks": "",
            "zerolinecolor": "white"
           },
           "zaxis": {
            "backgroundcolor": "#E5ECF6",
            "gridcolor": "white",
            "gridwidth": 2,
            "linecolor": "white",
            "showbackground": true,
            "ticks": "",
            "zerolinecolor": "white"
           }
          },
          "shapedefaults": {
           "line": {
            "color": "#2a3f5f"
           }
          },
          "ternary": {
           "aaxis": {
            "gridcolor": "white",
            "linecolor": "white",
            "ticks": ""
           },
           "baxis": {
            "gridcolor": "white",
            "linecolor": "white",
            "ticks": ""
           },
           "bgcolor": "#E5ECF6",
           "caxis": {
            "gridcolor": "white",
            "linecolor": "white",
            "ticks": ""
           }
          },
          "title": {
           "x": 0.05
          },
          "xaxis": {
           "automargin": true,
           "gridcolor": "white",
           "linecolor": "white",
           "ticks": "",
           "title": {
            "standoff": 15
           },
           "zerolinecolor": "white",
           "zerolinewidth": 2
          },
          "yaxis": {
           "automargin": true,
           "gridcolor": "white",
           "linecolor": "white",
           "ticks": "",
           "title": {
            "standoff": 15
           },
           "zerolinecolor": "white",
           "zerolinewidth": 2
          }
         }
        }
       }
      },
      "text/html": [
       "<div>\n",
       "        \n",
       "        \n",
       "            <div id=\"6a68ec86-1774-4e38-9cc9-3c4de7f89576\" class=\"plotly-graph-div\" style=\"height:525px; width:100%;\"></div>\n",
       "            <script type=\"text/javascript\">\n",
       "                require([\"plotly\"], function(Plotly) {\n",
       "                    window.PLOTLYENV=window.PLOTLYENV || {};\n",
       "                    \n",
       "                if (document.getElementById(\"6a68ec86-1774-4e38-9cc9-3c4de7f89576\")) {\n",
       "                    Plotly.newPlot(\n",
       "                        '6a68ec86-1774-4e38-9cc9-3c4de7f89576',\n",
       "                        [{\"name\": \"2014\", \"type\": \"bar\", \"x\": [\"Yes\", \"No\"], \"y\": [9952, 1159]}, {\"name\": \"2015-18\", \"type\": \"bar\", \"x\": [\"Yes\", \"No\"], \"y\": [10014, 1045]}],\n",
       "                        {\"barmode\": \"group\", \"template\": {\"data\": {\"bar\": [{\"error_x\": {\"color\": \"#2a3f5f\"}, \"error_y\": {\"color\": \"#2a3f5f\"}, \"marker\": {\"line\": {\"color\": \"#E5ECF6\", \"width\": 0.5}}, \"type\": \"bar\"}], \"barpolar\": [{\"marker\": {\"line\": {\"color\": \"#E5ECF6\", \"width\": 0.5}}, \"type\": \"barpolar\"}], \"carpet\": [{\"aaxis\": {\"endlinecolor\": \"#2a3f5f\", \"gridcolor\": \"white\", \"linecolor\": \"white\", \"minorgridcolor\": \"white\", \"startlinecolor\": \"#2a3f5f\"}, \"baxis\": {\"endlinecolor\": \"#2a3f5f\", \"gridcolor\": \"white\", \"linecolor\": \"white\", \"minorgridcolor\": \"white\", \"startlinecolor\": \"#2a3f5f\"}, \"type\": \"carpet\"}], \"choropleth\": [{\"colorbar\": {\"outlinewidth\": 0, \"ticks\": \"\"}, \"type\": \"choropleth\"}], \"contour\": [{\"colorbar\": {\"outlinewidth\": 0, \"ticks\": \"\"}, \"colorscale\": [[0.0, \"#0d0887\"], [0.1111111111111111, \"#46039f\"], [0.2222222222222222, \"#7201a8\"], [0.3333333333333333, \"#9c179e\"], [0.4444444444444444, \"#bd3786\"], [0.5555555555555556, \"#d8576b\"], [0.6666666666666666, \"#ed7953\"], [0.7777777777777778, \"#fb9f3a\"], [0.8888888888888888, \"#fdca26\"], [1.0, \"#f0f921\"]], \"type\": \"contour\"}], \"contourcarpet\": [{\"colorbar\": {\"outlinewidth\": 0, \"ticks\": \"\"}, \"type\": \"contourcarpet\"}], \"heatmap\": [{\"colorbar\": {\"outlinewidth\": 0, \"ticks\": \"\"}, \"colorscale\": [[0.0, \"#0d0887\"], [0.1111111111111111, \"#46039f\"], [0.2222222222222222, \"#7201a8\"], [0.3333333333333333, \"#9c179e\"], [0.4444444444444444, \"#bd3786\"], [0.5555555555555556, \"#d8576b\"], [0.6666666666666666, \"#ed7953\"], [0.7777777777777778, \"#fb9f3a\"], [0.8888888888888888, \"#fdca26\"], [1.0, \"#f0f921\"]], \"type\": \"heatmap\"}], \"heatmapgl\": [{\"colorbar\": {\"outlinewidth\": 0, \"ticks\": \"\"}, \"colorscale\": [[0.0, \"#0d0887\"], [0.1111111111111111, \"#46039f\"], [0.2222222222222222, \"#7201a8\"], [0.3333333333333333, \"#9c179e\"], [0.4444444444444444, \"#bd3786\"], [0.5555555555555556, \"#d8576b\"], [0.6666666666666666, \"#ed7953\"], [0.7777777777777778, \"#fb9f3a\"], [0.8888888888888888, \"#fdca26\"], [1.0, \"#f0f921\"]], \"type\": \"heatmapgl\"}], \"histogram\": [{\"marker\": {\"colorbar\": {\"outlinewidth\": 0, \"ticks\": \"\"}}, \"type\": \"histogram\"}], \"histogram2d\": [{\"colorbar\": {\"outlinewidth\": 0, \"ticks\": \"\"}, \"colorscale\": [[0.0, \"#0d0887\"], [0.1111111111111111, \"#46039f\"], [0.2222222222222222, \"#7201a8\"], [0.3333333333333333, \"#9c179e\"], [0.4444444444444444, \"#bd3786\"], [0.5555555555555556, \"#d8576b\"], [0.6666666666666666, \"#ed7953\"], [0.7777777777777778, \"#fb9f3a\"], [0.8888888888888888, \"#fdca26\"], [1.0, \"#f0f921\"]], \"type\": \"histogram2d\"}], \"histogram2dcontour\": [{\"colorbar\": {\"outlinewidth\": 0, \"ticks\": \"\"}, \"colorscale\": [[0.0, \"#0d0887\"], [0.1111111111111111, \"#46039f\"], [0.2222222222222222, \"#7201a8\"], [0.3333333333333333, \"#9c179e\"], [0.4444444444444444, \"#bd3786\"], [0.5555555555555556, \"#d8576b\"], [0.6666666666666666, \"#ed7953\"], [0.7777777777777778, \"#fb9f3a\"], [0.8888888888888888, \"#fdca26\"], [1.0, \"#f0f921\"]], \"type\": \"histogram2dcontour\"}], \"mesh3d\": [{\"colorbar\": {\"outlinewidth\": 0, \"ticks\": \"\"}, \"type\": \"mesh3d\"}], \"parcoords\": [{\"line\": {\"colorbar\": {\"outlinewidth\": 0, \"ticks\": \"\"}}, \"type\": \"parcoords\"}], \"pie\": [{\"automargin\": true, \"type\": \"pie\"}], \"scatter\": [{\"marker\": {\"colorbar\": {\"outlinewidth\": 0, \"ticks\": \"\"}}, \"type\": \"scatter\"}], \"scatter3d\": [{\"line\": {\"colorbar\": {\"outlinewidth\": 0, \"ticks\": \"\"}}, \"marker\": {\"colorbar\": {\"outlinewidth\": 0, \"ticks\": \"\"}}, \"type\": \"scatter3d\"}], \"scattercarpet\": [{\"marker\": {\"colorbar\": {\"outlinewidth\": 0, \"ticks\": \"\"}}, \"type\": \"scattercarpet\"}], \"scattergeo\": [{\"marker\": {\"colorbar\": {\"outlinewidth\": 0, \"ticks\": \"\"}}, \"type\": \"scattergeo\"}], \"scattergl\": [{\"marker\": {\"colorbar\": {\"outlinewidth\": 0, \"ticks\": \"\"}}, \"type\": \"scattergl\"}], \"scattermapbox\": [{\"marker\": {\"colorbar\": {\"outlinewidth\": 0, \"ticks\": \"\"}}, \"type\": \"scattermapbox\"}], \"scatterpolar\": [{\"marker\": {\"colorbar\": {\"outlinewidth\": 0, \"ticks\": \"\"}}, \"type\": \"scatterpolar\"}], \"scatterpolargl\": [{\"marker\": {\"colorbar\": {\"outlinewidth\": 0, \"ticks\": \"\"}}, \"type\": \"scatterpolargl\"}], \"scatterternary\": [{\"marker\": {\"colorbar\": {\"outlinewidth\": 0, \"ticks\": \"\"}}, \"type\": \"scatterternary\"}], \"surface\": [{\"colorbar\": {\"outlinewidth\": 0, \"ticks\": \"\"}, \"colorscale\": [[0.0, \"#0d0887\"], [0.1111111111111111, \"#46039f\"], [0.2222222222222222, \"#7201a8\"], [0.3333333333333333, \"#9c179e\"], [0.4444444444444444, \"#bd3786\"], [0.5555555555555556, \"#d8576b\"], [0.6666666666666666, \"#ed7953\"], [0.7777777777777778, \"#fb9f3a\"], [0.8888888888888888, \"#fdca26\"], [1.0, \"#f0f921\"]], \"type\": \"surface\"}], \"table\": [{\"cells\": {\"fill\": {\"color\": \"#EBF0F8\"}, \"line\": {\"color\": \"white\"}}, \"header\": {\"fill\": {\"color\": \"#C8D4E3\"}, \"line\": {\"color\": \"white\"}}, \"type\": \"table\"}]}, \"layout\": {\"annotationdefaults\": {\"arrowcolor\": \"#2a3f5f\", \"arrowhead\": 0, \"arrowwidth\": 1}, \"coloraxis\": {\"colorbar\": {\"outlinewidth\": 0, \"ticks\": \"\"}}, \"colorscale\": {\"diverging\": [[0, \"#8e0152\"], [0.1, \"#c51b7d\"], [0.2, \"#de77ae\"], [0.3, \"#f1b6da\"], [0.4, \"#fde0ef\"], [0.5, \"#f7f7f7\"], [0.6, \"#e6f5d0\"], [0.7, \"#b8e186\"], [0.8, \"#7fbc41\"], [0.9, \"#4d9221\"], [1, \"#276419\"]], \"sequential\": [[0.0, \"#0d0887\"], [0.1111111111111111, \"#46039f\"], [0.2222222222222222, \"#7201a8\"], [0.3333333333333333, \"#9c179e\"], [0.4444444444444444, \"#bd3786\"], [0.5555555555555556, \"#d8576b\"], [0.6666666666666666, \"#ed7953\"], [0.7777777777777778, \"#fb9f3a\"], [0.8888888888888888, \"#fdca26\"], [1.0, \"#f0f921\"]], \"sequentialminus\": [[0.0, \"#0d0887\"], [0.1111111111111111, \"#46039f\"], [0.2222222222222222, \"#7201a8\"], [0.3333333333333333, \"#9c179e\"], [0.4444444444444444, \"#bd3786\"], [0.5555555555555556, \"#d8576b\"], [0.6666666666666666, \"#ed7953\"], [0.7777777777777778, \"#fb9f3a\"], [0.8888888888888888, \"#fdca26\"], [1.0, \"#f0f921\"]]}, \"colorway\": [\"#636efa\", \"#EF553B\", \"#00cc96\", \"#ab63fa\", \"#FFA15A\", \"#19d3f3\", \"#FF6692\", \"#B6E880\", \"#FF97FF\", \"#FECB52\"], \"font\": {\"color\": \"#2a3f5f\"}, \"geo\": {\"bgcolor\": \"white\", \"lakecolor\": \"white\", \"landcolor\": \"#E5ECF6\", \"showlakes\": true, \"showland\": true, \"subunitcolor\": \"white\"}, \"hoverlabel\": {\"align\": \"left\"}, \"hovermode\": \"closest\", \"mapbox\": {\"style\": \"light\"}, \"paper_bgcolor\": \"white\", \"plot_bgcolor\": \"#E5ECF6\", \"polar\": {\"angularaxis\": {\"gridcolor\": \"white\", \"linecolor\": \"white\", \"ticks\": \"\"}, \"bgcolor\": \"#E5ECF6\", \"radialaxis\": {\"gridcolor\": \"white\", \"linecolor\": \"white\", \"ticks\": \"\"}}, \"scene\": {\"xaxis\": {\"backgroundcolor\": \"#E5ECF6\", \"gridcolor\": \"white\", \"gridwidth\": 2, \"linecolor\": \"white\", \"showbackground\": true, \"ticks\": \"\", \"zerolinecolor\": \"white\"}, \"yaxis\": {\"backgroundcolor\": \"#E5ECF6\", \"gridcolor\": \"white\", \"gridwidth\": 2, \"linecolor\": \"white\", \"showbackground\": true, \"ticks\": \"\", \"zerolinecolor\": \"white\"}, \"zaxis\": {\"backgroundcolor\": \"#E5ECF6\", \"gridcolor\": \"white\", \"gridwidth\": 2, \"linecolor\": \"white\", \"showbackground\": true, \"ticks\": \"\", \"zerolinecolor\": \"white\"}}, \"shapedefaults\": {\"line\": {\"color\": \"#2a3f5f\"}}, \"ternary\": {\"aaxis\": {\"gridcolor\": \"white\", \"linecolor\": \"white\", \"ticks\": \"\"}, \"baxis\": {\"gridcolor\": \"white\", \"linecolor\": \"white\", \"ticks\": \"\"}, \"bgcolor\": \"#E5ECF6\", \"caxis\": {\"gridcolor\": \"white\", \"linecolor\": \"white\", \"ticks\": \"\"}}, \"title\": {\"x\": 0.05}, \"xaxis\": {\"automargin\": true, \"gridcolor\": \"white\", \"linecolor\": \"white\", \"ticks\": \"\", \"title\": {\"standoff\": 15}, \"zerolinecolor\": \"white\", \"zerolinewidth\": 2}, \"yaxis\": {\"automargin\": true, \"gridcolor\": \"white\", \"linecolor\": \"white\", \"ticks\": \"\", \"title\": {\"standoff\": 15}, \"zerolinecolor\": \"white\", \"zerolinewidth\": 2}}}},\n",
       "                        {\"responsive\": true}\n",
       "                    ).then(function(){\n",
       "                            \n",
       "var gd = document.getElementById('6a68ec86-1774-4e38-9cc9-3c4de7f89576');\n",
       "var x = new MutationObserver(function (mutations, observer) {{\n",
       "        var display = window.getComputedStyle(gd).display;\n",
       "        if (!display || display === 'none') {{\n",
       "            console.log([gd, 'removed!']);\n",
       "            Plotly.purge(gd);\n",
       "            observer.disconnect();\n",
       "        }}\n",
       "}});\n",
       "\n",
       "// Listen for the removal of the full notebook cells\n",
       "var notebookContainer = gd.closest('#notebook-container');\n",
       "if (notebookContainer) {{\n",
       "    x.observe(notebookContainer, {childList: true});\n",
       "}}\n",
       "\n",
       "// Listen for the clearing of the current output cell\n",
       "var outputEl = gd.closest('.output');\n",
       "if (outputEl) {{\n",
       "    x.observe(outputEl, {childList: true});\n",
       "}}\n",
       "\n",
       "                        })\n",
       "                };\n",
       "                });\n",
       "            </script>\n",
       "        </div>"
      ]
     },
     "metadata": {},
     "output_type": "display_data"
    }
   ],
   "source": [
    "#chart to view data and see if results match up\n",
    "fig = go.Figure(data = [go.Bar(name = '2014', x = lowcare.columns, y = lowcare.iloc[0]),\n",
    "                       go.Bar(name = '2015-18', x = lowcare.columns, y = lowcare.iloc[1])])\n",
    "fig.update_layout(barmode='group')\n",
    "fig.show()"
   ]
  },
  {
   "cell_type": "code",
   "execution_count": 79,
   "metadata": {},
   "outputs": [
    {
     "name": "stdout",
     "output_type": "stream",
     "text": [
      "chi2: 5.857989598121653 p-value: 0.015506495786049559 dof: 1\n"
     ]
    }
   ],
   "source": [
    "#perform chi2 test\n",
    "test2 = chi2_contingency(lowcare)\n",
    "chi2 = test2[0]\n",
    "pvalue = test2[1]\n",
    "dof = test2[2]\n",
    "print(\"chi2:\", chi2, \"p-value:\", pvalue, \"dof:\", dof)"
   ]
  },
  {
   "cell_type": "code",
   "execution_count": 80,
   "metadata": {},
   "outputs": [
    {
     "name": "stdout",
     "output_type": "stream",
     "text": [
      "0        NaN\n",
      "1        NaN\n",
      "2        NaN\n",
      "3        NaN\n",
      "4        NaN\n",
      "          ..\n",
      "193644   NaN\n",
      "193645   NaN\n",
      "193646   NaN\n",
      "193647   NaN\n",
      "193648   NaN\n",
      "Name: carercvd, Length: 193649, dtype: float64\n",
      "Series([], Name: carercvd, dtype: float64)\n"
     ]
    },
    {
     "data": {
      "text/html": [
       "<div>\n",
       "<style scoped>\n",
       "    .dataframe tbody tr th:only-of-type {\n",
       "        vertical-align: middle;\n",
       "    }\n",
       "\n",
       "    .dataframe tbody tr th {\n",
       "        vertical-align: top;\n",
       "    }\n",
       "\n",
       "    .dataframe thead th {\n",
       "        text-align: right;\n",
       "    }\n",
       "</style>\n",
       "<table border=\"1\" class=\"dataframe\">\n",
       "  <thead>\n",
       "    <tr style=\"text-align: right;\">\n",
       "      <th></th>\n",
       "      <th>Very Satisfied</th>\n",
       "      <th>Somewhat Satisfied</th>\n",
       "      <th>Not at all Satisfied</th>\n",
       "    </tr>\n",
       "  </thead>\n",
       "  <tbody>\n",
       "    <tr>\n",
       "      <th>2014</th>\n",
       "      <td>29692</td>\n",
       "      <td>10497</td>\n",
       "      <td>1126</td>\n",
       "    </tr>\n",
       "    <tr>\n",
       "      <th>2015-2018</th>\n",
       "      <td>0</td>\n",
       "      <td>0</td>\n",
       "      <td>0</td>\n",
       "    </tr>\n",
       "  </tbody>\n",
       "</table>\n",
       "</div>"
      ],
      "text/plain": [
       "           Very Satisfied  Somewhat Satisfied  Not at all Satisfied\n",
       "2014                29692               10497                  1126\n",
       "2015-2018               0                   0                     0"
      ]
     },
     "execution_count": 80,
     "metadata": {},
     "output_type": "execute_result"
    }
   ],
   "source": [
    "#In general how satisfied are you with the health care you recieved?\n",
    "hc_sat14 = df_14['carercvd']\n",
    "hc_sat1518 = df_1518['carercvd']\n",
    "#sample1518 = hc_sat1518.sample(n = 51858, random_state = 1)\n",
    "print(hc_sat1518)\n",
    "#get counts for each value of general health in 2014 data set\n",
    "columns = [1, 2]\n",
    "counts14 = [0,0,0]\n",
    "hc_sat14 = hc_sat14.dropna()\n",
    "for row in hc_sat14:\n",
    "    value = (int)(row)\n",
    "    if value < 7:\n",
    "        counts14[value-1] += 1\n",
    "\n",
    "#get counts for each value of general health in 2014 data set\n",
    "columns = [1, 2]\n",
    "counts1518 = [0,0,0]\n",
    "hc_sat1518 = hc_sat1518.dropna()\n",
    "print(hc_sat1518)\n",
    "for row in hc_sat1518:\n",
    "    value = (int)(row)\n",
    "    if value < 7:\n",
    "        counts1518[value-1] += 1\n",
    "        \n",
    "hc_sat = pd.DataFrame([counts14, counts1518], index = [\"2014\", \"2015-2018\"], \n",
    "                         columns = [\"Very Satisfied\", \"Somewhat Satisfied\", \"Not at all Satisfied\"])\n",
    "hc_sat"
   ]
  },
  {
   "cell_type": "code",
   "execution_count": 81,
   "metadata": {},
   "outputs": [
    {
     "name": "stdout",
     "output_type": "stream",
     "text": [
      "(2011-2014) total low income:  54354\n",
      "(2011-2014) total unknown:  74354\n",
      "(2011-2014) total households survyed:  183606\n",
      "\n",
      "(2015-2018) total low income:  28691\n",
      "(2015-2018) total unknown:  91849\n",
      "(2015-2018) total households survyed:  149448\n"
     ]
    }
   ],
   "source": [
    "''' uses new data '''\n",
    "\n",
    "def calculate_low_income(row):\n",
    "    '''\n",
    "    returns the following:\n",
    "        1 = yes, under poverty line\n",
    "        0 = no, above poverty line\n",
    "        NaN = unknown (0.40 occurance)\n",
    "    '''\n",
    "    if pd.isna(row['income2']):\n",
    "        return np.NaN # (occurance: 0.006)\n",
    "    \n",
    "    if (pd.isna(row['numadult']) or pd.isna(row['children']) or int(row['children']) == 99): #99=refused\n",
    "        return np.NaN # (occurance: 0.192)\n",
    "    \n",
    "    income_grp = int(row['income2'])\n",
    "    est_income = 0 #Note: est_income is the max household could have (before adjustments)\n",
    "    income_specs = [10000.0, 15000.0, 20000.0, 25000.0, 35000.0, 50000.0, 75000.0, 75000.0]\n",
    "    \n",
    "    if income_grp < 8:\n",
    "        est_income = income_specs[income_grp - 1]\n",
    "    elif income_grp == 8: # since 8 is anything more than 75000, this will be unknown\n",
    "        if (int(row['numadult']) == 1 and int(row['children']) == 88): \n",
    "            est_income = income_specs[income_grp - 1] # if 1 adult, no children, then >$75000 earnings for single person (known) \n",
    "        else:\n",
    "            return np.NaN # (occurance: 0.207)\n",
    "        \n",
    "    num_adult = row['numadult']\n",
    "    num_children = row['children']\n",
    "    \n",
    "    if (int(num_children) == 88): # 88=none\n",
    "        num_children = 0\n",
    "    \n",
    "    # --------- determine if low income -----------------\n",
    "    # poverty based on household size as defined by: https://aspe.hhs.gov/2019-poverty-guidelines\n",
    "    household_size_poverty_line = [12490, 16910, 21330, 25750, 30170, 34590, 39010, 43430]\n",
    "    above_8_multiplier = 4420\n",
    "    household_size = int(num_adult + num_children)\n",
    "        \n",
    "    if (household_size > 8):\n",
    "        calculated_line = household_size_poverty_line[7]*2 + above_8_multiplier * (household_size - 8)\n",
    "        if est_income < calculated_line:\n",
    "            return 1 \n",
    "        else: \n",
    "            return 0\n",
    "        \n",
    "    return est_income < household_size_poverty_line[household_size - 1]*2\n",
    "    \n",
    "df_1114['low_income'] = df_1114.apply(lambda row: calculate_low_income(row), axis=1)\n",
    "df_new_1518['low_income'] = df_new_1518.apply(lambda row: calculate_low_income(row), axis=1)\n",
    "\n",
    "print(\"(2011-2014) total low income: \", len(df_1114.query('low_income == 1')))\n",
    "print(\"(2011-2014) total unknown: \", df_1114['low_income'].isna().sum())\n",
    "print(\"(2011-2014) total households survyed: \", len(df_1114['low_income']))\n",
    "\n",
    "print(\"\\n(2015-2018) total low income: \", len(df_new_1518.query('low_income == 1')))\n",
    "print(\"(2015-2018) total unknown: \", df_new_1518['low_income'].isna().sum())\n",
    "print(\"(2015-2018) total households survyed: \", len(df_new_1518['low_income']))"
   ]
  },
  {
   "cell_type": "code",
   "execution_count": 82,
   "metadata": {},
   "outputs": [
    {
     "name": "stdout",
     "output_type": "stream",
     "text": [
      "Index(['xstate', 'genhlth', 'hlthpln1', 'numadult', 'race', 'income2',\n",
      "       'physhlth', 'poorhlth', 'persdoc2', 'checkup1', 'exerany2', 'sex',\n",
      "       'educa', 'numadult.1', 'children', 'employ', 'flushot5', 'howlong',\n",
      "       'lastpap2', 'lastsig3', 'hadsigm3', 'xhcvu651', 'medcost', 'year',\n",
      "       'medscost', 'drvisits', 'low_income'],\n",
      "      dtype='object')\n"
     ]
    }
   ],
   "source": [
    "#create new tables for low income\n",
    "low_income1114 = df_1114.loc[df_1114['low_income'] ==1]\n",
    "low_income1518 = df_new_1518.loc[df_new_1518['low_income'] ==1]\n",
    "\n",
    "print(low_income1114.keys())"
   ]
  },
  {
   "cell_type": "code",
   "execution_count": 83,
   "metadata": {},
   "outputs": [
    {
     "data": {
      "text/html": [
       "<div>\n",
       "<style scoped>\n",
       "    .dataframe tbody tr th:only-of-type {\n",
       "        vertical-align: middle;\n",
       "    }\n",
       "\n",
       "    .dataframe tbody tr th {\n",
       "        vertical-align: top;\n",
       "    }\n",
       "\n",
       "    .dataframe thead th {\n",
       "        text-align: right;\n",
       "    }\n",
       "</style>\n",
       "<table border=\"1\" class=\"dataframe\">\n",
       "  <thead>\n",
       "    <tr style=\"text-align: right;\">\n",
       "      <th></th>\n",
       "      <th>Yes</th>\n",
       "      <th>No</th>\n",
       "    </tr>\n",
       "  </thead>\n",
       "  <tbody>\n",
       "    <tr>\n",
       "      <th>2011-2014</th>\n",
       "      <td>3517</td>\n",
       "      <td>25027</td>\n",
       "    </tr>\n",
       "    <tr>\n",
       "      <th>2015-2018</th>\n",
       "      <td>2270</td>\n",
       "      <td>26270</td>\n",
       "    </tr>\n",
       "  </tbody>\n",
       "</table>\n",
       "</div>"
      ],
      "text/plain": [
       "            Yes     No\n",
       "2011-2014  3517  25027\n",
       "2015-2018  2270  26270"
      ]
     },
     "execution_count": 83,
     "metadata": {},
     "output_type": "execute_result"
    }
   ],
   "source": [
    "#MEDCOST\n",
    "#splitting cost data on race/income\n",
    "\n",
    "med_low1114 = low_income1114['medcost']\n",
    "med_low1518 = low_income1518['medcost']\n",
    "\n",
    "\n",
    "sample1114 = med_low1114.sample(n = 28691, random_state = 1)\n",
    "\n",
    "#get counts for each value of having care or not in 2014 data set\n",
    "counts14 = getCounts(sample1114, 2)\n",
    "# total14 = np.sum(sample1114)\n",
    "#get counts for each value of having care or not in 2014 data set\n",
    "counts1518 = getCounts(med_low1518, 2)\n",
    "# total15 = np.sum(med_low1518)\n",
    "\n",
    "# print(total14)\n",
    "# print(total15)\n",
    "\n",
    "med_low = pd.DataFrame([counts14, counts1518], index = [\"2011-2014\", \"2015-2018\"], \n",
    "                         columns = [\"Yes\", \"No\"])\n",
    "med_low"
   ]
  },
  {
   "cell_type": "code",
   "execution_count": 84,
   "metadata": {},
   "outputs": [
    {
     "data": {
      "application/vnd.plotly.v1+json": {
       "config": {
        "plotlyServerURL": "https://plot.ly"
       },
       "data": [
        {
         "name": "2011-14",
         "type": "bar",
         "x": [
          "Yes",
          "No"
         ],
         "y": [
          3517,
          25027
         ]
        },
        {
         "name": "2015-18",
         "type": "bar",
         "x": [
          "Yes",
          "No"
         ],
         "y": [
          2270,
          26270
         ]
        }
       ],
       "layout": {
        "barmode": "group",
        "font": {
         "color": "#7f7f7f",
         "family": "Courier New, monospace",
         "size": 16
        },
        "template": {
         "data": {
          "bar": [
           {
            "error_x": {
             "color": "#2a3f5f"
            },
            "error_y": {
             "color": "#2a3f5f"
            },
            "marker": {
             "line": {
              "color": "#E5ECF6",
              "width": 0.5
             }
            },
            "type": "bar"
           }
          ],
          "barpolar": [
           {
            "marker": {
             "line": {
              "color": "#E5ECF6",
              "width": 0.5
             }
            },
            "type": "barpolar"
           }
          ],
          "carpet": [
           {
            "aaxis": {
             "endlinecolor": "#2a3f5f",
             "gridcolor": "white",
             "linecolor": "white",
             "minorgridcolor": "white",
             "startlinecolor": "#2a3f5f"
            },
            "baxis": {
             "endlinecolor": "#2a3f5f",
             "gridcolor": "white",
             "linecolor": "white",
             "minorgridcolor": "white",
             "startlinecolor": "#2a3f5f"
            },
            "type": "carpet"
           }
          ],
          "choropleth": [
           {
            "colorbar": {
             "outlinewidth": 0,
             "ticks": ""
            },
            "type": "choropleth"
           }
          ],
          "contour": [
           {
            "colorbar": {
             "outlinewidth": 0,
             "ticks": ""
            },
            "colorscale": [
             [
              0,
              "#0d0887"
             ],
             [
              0.1111111111111111,
              "#46039f"
             ],
             [
              0.2222222222222222,
              "#7201a8"
             ],
             [
              0.3333333333333333,
              "#9c179e"
             ],
             [
              0.4444444444444444,
              "#bd3786"
             ],
             [
              0.5555555555555556,
              "#d8576b"
             ],
             [
              0.6666666666666666,
              "#ed7953"
             ],
             [
              0.7777777777777778,
              "#fb9f3a"
             ],
             [
              0.8888888888888888,
              "#fdca26"
             ],
             [
              1,
              "#f0f921"
             ]
            ],
            "type": "contour"
           }
          ],
          "contourcarpet": [
           {
            "colorbar": {
             "outlinewidth": 0,
             "ticks": ""
            },
            "type": "contourcarpet"
           }
          ],
          "heatmap": [
           {
            "colorbar": {
             "outlinewidth": 0,
             "ticks": ""
            },
            "colorscale": [
             [
              0,
              "#0d0887"
             ],
             [
              0.1111111111111111,
              "#46039f"
             ],
             [
              0.2222222222222222,
              "#7201a8"
             ],
             [
              0.3333333333333333,
              "#9c179e"
             ],
             [
              0.4444444444444444,
              "#bd3786"
             ],
             [
              0.5555555555555556,
              "#d8576b"
             ],
             [
              0.6666666666666666,
              "#ed7953"
             ],
             [
              0.7777777777777778,
              "#fb9f3a"
             ],
             [
              0.8888888888888888,
              "#fdca26"
             ],
             [
              1,
              "#f0f921"
             ]
            ],
            "type": "heatmap"
           }
          ],
          "heatmapgl": [
           {
            "colorbar": {
             "outlinewidth": 0,
             "ticks": ""
            },
            "colorscale": [
             [
              0,
              "#0d0887"
             ],
             [
              0.1111111111111111,
              "#46039f"
             ],
             [
              0.2222222222222222,
              "#7201a8"
             ],
             [
              0.3333333333333333,
              "#9c179e"
             ],
             [
              0.4444444444444444,
              "#bd3786"
             ],
             [
              0.5555555555555556,
              "#d8576b"
             ],
             [
              0.6666666666666666,
              "#ed7953"
             ],
             [
              0.7777777777777778,
              "#fb9f3a"
             ],
             [
              0.8888888888888888,
              "#fdca26"
             ],
             [
              1,
              "#f0f921"
             ]
            ],
            "type": "heatmapgl"
           }
          ],
          "histogram": [
           {
            "marker": {
             "colorbar": {
              "outlinewidth": 0,
              "ticks": ""
             }
            },
            "type": "histogram"
           }
          ],
          "histogram2d": [
           {
            "colorbar": {
             "outlinewidth": 0,
             "ticks": ""
            },
            "colorscale": [
             [
              0,
              "#0d0887"
             ],
             [
              0.1111111111111111,
              "#46039f"
             ],
             [
              0.2222222222222222,
              "#7201a8"
             ],
             [
              0.3333333333333333,
              "#9c179e"
             ],
             [
              0.4444444444444444,
              "#bd3786"
             ],
             [
              0.5555555555555556,
              "#d8576b"
             ],
             [
              0.6666666666666666,
              "#ed7953"
             ],
             [
              0.7777777777777778,
              "#fb9f3a"
             ],
             [
              0.8888888888888888,
              "#fdca26"
             ],
             [
              1,
              "#f0f921"
             ]
            ],
            "type": "histogram2d"
           }
          ],
          "histogram2dcontour": [
           {
            "colorbar": {
             "outlinewidth": 0,
             "ticks": ""
            },
            "colorscale": [
             [
              0,
              "#0d0887"
             ],
             [
              0.1111111111111111,
              "#46039f"
             ],
             [
              0.2222222222222222,
              "#7201a8"
             ],
             [
              0.3333333333333333,
              "#9c179e"
             ],
             [
              0.4444444444444444,
              "#bd3786"
             ],
             [
              0.5555555555555556,
              "#d8576b"
             ],
             [
              0.6666666666666666,
              "#ed7953"
             ],
             [
              0.7777777777777778,
              "#fb9f3a"
             ],
             [
              0.8888888888888888,
              "#fdca26"
             ],
             [
              1,
              "#f0f921"
             ]
            ],
            "type": "histogram2dcontour"
           }
          ],
          "mesh3d": [
           {
            "colorbar": {
             "outlinewidth": 0,
             "ticks": ""
            },
            "type": "mesh3d"
           }
          ],
          "parcoords": [
           {
            "line": {
             "colorbar": {
              "outlinewidth": 0,
              "ticks": ""
             }
            },
            "type": "parcoords"
           }
          ],
          "pie": [
           {
            "automargin": true,
            "type": "pie"
           }
          ],
          "scatter": [
           {
            "marker": {
             "colorbar": {
              "outlinewidth": 0,
              "ticks": ""
             }
            },
            "type": "scatter"
           }
          ],
          "scatter3d": [
           {
            "line": {
             "colorbar": {
              "outlinewidth": 0,
              "ticks": ""
             }
            },
            "marker": {
             "colorbar": {
              "outlinewidth": 0,
              "ticks": ""
             }
            },
            "type": "scatter3d"
           }
          ],
          "scattercarpet": [
           {
            "marker": {
             "colorbar": {
              "outlinewidth": 0,
              "ticks": ""
             }
            },
            "type": "scattercarpet"
           }
          ],
          "scattergeo": [
           {
            "marker": {
             "colorbar": {
              "outlinewidth": 0,
              "ticks": ""
             }
            },
            "type": "scattergeo"
           }
          ],
          "scattergl": [
           {
            "marker": {
             "colorbar": {
              "outlinewidth": 0,
              "ticks": ""
             }
            },
            "type": "scattergl"
           }
          ],
          "scattermapbox": [
           {
            "marker": {
             "colorbar": {
              "outlinewidth": 0,
              "ticks": ""
             }
            },
            "type": "scattermapbox"
           }
          ],
          "scatterpolar": [
           {
            "marker": {
             "colorbar": {
              "outlinewidth": 0,
              "ticks": ""
             }
            },
            "type": "scatterpolar"
           }
          ],
          "scatterpolargl": [
           {
            "marker": {
             "colorbar": {
              "outlinewidth": 0,
              "ticks": ""
             }
            },
            "type": "scatterpolargl"
           }
          ],
          "scatterternary": [
           {
            "marker": {
             "colorbar": {
              "outlinewidth": 0,
              "ticks": ""
             }
            },
            "type": "scatterternary"
           }
          ],
          "surface": [
           {
            "colorbar": {
             "outlinewidth": 0,
             "ticks": ""
            },
            "colorscale": [
             [
              0,
              "#0d0887"
             ],
             [
              0.1111111111111111,
              "#46039f"
             ],
             [
              0.2222222222222222,
              "#7201a8"
             ],
             [
              0.3333333333333333,
              "#9c179e"
             ],
             [
              0.4444444444444444,
              "#bd3786"
             ],
             [
              0.5555555555555556,
              "#d8576b"
             ],
             [
              0.6666666666666666,
              "#ed7953"
             ],
             [
              0.7777777777777778,
              "#fb9f3a"
             ],
             [
              0.8888888888888888,
              "#fdca26"
             ],
             [
              1,
              "#f0f921"
             ]
            ],
            "type": "surface"
           }
          ],
          "table": [
           {
            "cells": {
             "fill": {
              "color": "#EBF0F8"
             },
             "line": {
              "color": "white"
             }
            },
            "header": {
             "fill": {
              "color": "#C8D4E3"
             },
             "line": {
              "color": "white"
             }
            },
            "type": "table"
           }
          ]
         },
         "layout": {
          "annotationdefaults": {
           "arrowcolor": "#2a3f5f",
           "arrowhead": 0,
           "arrowwidth": 1
          },
          "coloraxis": {
           "colorbar": {
            "outlinewidth": 0,
            "ticks": ""
           }
          },
          "colorscale": {
           "diverging": [
            [
             0,
             "#8e0152"
            ],
            [
             0.1,
             "#c51b7d"
            ],
            [
             0.2,
             "#de77ae"
            ],
            [
             0.3,
             "#f1b6da"
            ],
            [
             0.4,
             "#fde0ef"
            ],
            [
             0.5,
             "#f7f7f7"
            ],
            [
             0.6,
             "#e6f5d0"
            ],
            [
             0.7,
             "#b8e186"
            ],
            [
             0.8,
             "#7fbc41"
            ],
            [
             0.9,
             "#4d9221"
            ],
            [
             1,
             "#276419"
            ]
           ],
           "sequential": [
            [
             0,
             "#0d0887"
            ],
            [
             0.1111111111111111,
             "#46039f"
            ],
            [
             0.2222222222222222,
             "#7201a8"
            ],
            [
             0.3333333333333333,
             "#9c179e"
            ],
            [
             0.4444444444444444,
             "#bd3786"
            ],
            [
             0.5555555555555556,
             "#d8576b"
            ],
            [
             0.6666666666666666,
             "#ed7953"
            ],
            [
             0.7777777777777778,
             "#fb9f3a"
            ],
            [
             0.8888888888888888,
             "#fdca26"
            ],
            [
             1,
             "#f0f921"
            ]
           ],
           "sequentialminus": [
            [
             0,
             "#0d0887"
            ],
            [
             0.1111111111111111,
             "#46039f"
            ],
            [
             0.2222222222222222,
             "#7201a8"
            ],
            [
             0.3333333333333333,
             "#9c179e"
            ],
            [
             0.4444444444444444,
             "#bd3786"
            ],
            [
             0.5555555555555556,
             "#d8576b"
            ],
            [
             0.6666666666666666,
             "#ed7953"
            ],
            [
             0.7777777777777778,
             "#fb9f3a"
            ],
            [
             0.8888888888888888,
             "#fdca26"
            ],
            [
             1,
             "#f0f921"
            ]
           ]
          },
          "colorway": [
           "#636efa",
           "#EF553B",
           "#00cc96",
           "#ab63fa",
           "#FFA15A",
           "#19d3f3",
           "#FF6692",
           "#B6E880",
           "#FF97FF",
           "#FECB52"
          ],
          "font": {
           "color": "#2a3f5f"
          },
          "geo": {
           "bgcolor": "white",
           "lakecolor": "white",
           "landcolor": "#E5ECF6",
           "showlakes": true,
           "showland": true,
           "subunitcolor": "white"
          },
          "hoverlabel": {
           "align": "left"
          },
          "hovermode": "closest",
          "mapbox": {
           "style": "light"
          },
          "paper_bgcolor": "white",
          "plot_bgcolor": "#E5ECF6",
          "polar": {
           "angularaxis": {
            "gridcolor": "white",
            "linecolor": "white",
            "ticks": ""
           },
           "bgcolor": "#E5ECF6",
           "radialaxis": {
            "gridcolor": "white",
            "linecolor": "white",
            "ticks": ""
           }
          },
          "scene": {
           "xaxis": {
            "backgroundcolor": "#E5ECF6",
            "gridcolor": "white",
            "gridwidth": 2,
            "linecolor": "white",
            "showbackground": true,
            "ticks": "",
            "zerolinecolor": "white"
           },
           "yaxis": {
            "backgroundcolor": "#E5ECF6",
            "gridcolor": "white",
            "gridwidth": 2,
            "linecolor": "white",
            "showbackground": true,
            "ticks": "",
            "zerolinecolor": "white"
           },
           "zaxis": {
            "backgroundcolor": "#E5ECF6",
            "gridcolor": "white",
            "gridwidth": 2,
            "linecolor": "white",
            "showbackground": true,
            "ticks": "",
            "zerolinecolor": "white"
           }
          },
          "shapedefaults": {
           "line": {
            "color": "#2a3f5f"
           }
          },
          "ternary": {
           "aaxis": {
            "gridcolor": "white",
            "linecolor": "white",
            "ticks": ""
           },
           "baxis": {
            "gridcolor": "white",
            "linecolor": "white",
            "ticks": ""
           },
           "bgcolor": "#E5ECF6",
           "caxis": {
            "gridcolor": "white",
            "linecolor": "white",
            "ticks": ""
           }
          },
          "title": {
           "x": 0.05
          },
          "xaxis": {
           "automargin": true,
           "gridcolor": "white",
           "linecolor": "white",
           "ticks": "",
           "title": {
            "standoff": 15
           },
           "zerolinecolor": "white",
           "zerolinewidth": 2
          },
          "yaxis": {
           "automargin": true,
           "gridcolor": "white",
           "linecolor": "white",
           "ticks": "",
           "title": {
            "standoff": 15
           },
           "zerolinecolor": "white",
           "zerolinewidth": 2
          }
         }
        },
        "title": {
         "text": "Was there a time in the past 12 months when you<br> needed to see a doctor but could not because of cost?"
        },
        "xaxis": {
         "title": {
          "text": "Response (medcost)"
         }
        },
        "yaxis": {
         "title": {
          "text": "Number of People"
         }
        }
       }
      },
      "text/html": [
       "<div>\n",
       "        \n",
       "        \n",
       "            <div id=\"4c855bca-8ac4-4b6b-b260-b9e23e27308c\" class=\"plotly-graph-div\" style=\"height:525px; width:100%;\"></div>\n",
       "            <script type=\"text/javascript\">\n",
       "                require([\"plotly\"], function(Plotly) {\n",
       "                    window.PLOTLYENV=window.PLOTLYENV || {};\n",
       "                    \n",
       "                if (document.getElementById(\"4c855bca-8ac4-4b6b-b260-b9e23e27308c\")) {\n",
       "                    Plotly.newPlot(\n",
       "                        '4c855bca-8ac4-4b6b-b260-b9e23e27308c',\n",
       "                        [{\"name\": \"2011-14\", \"type\": \"bar\", \"x\": [\"Yes\", \"No\"], \"y\": [3517, 25027]}, {\"name\": \"2015-18\", \"type\": \"bar\", \"x\": [\"Yes\", \"No\"], \"y\": [2270, 26270]}],\n",
       "                        {\"barmode\": \"group\", \"font\": {\"color\": \"#7f7f7f\", \"family\": \"Courier New, monospace\", \"size\": 16}, \"template\": {\"data\": {\"bar\": [{\"error_x\": {\"color\": \"#2a3f5f\"}, \"error_y\": {\"color\": \"#2a3f5f\"}, \"marker\": {\"line\": {\"color\": \"#E5ECF6\", \"width\": 0.5}}, \"type\": \"bar\"}], \"barpolar\": [{\"marker\": {\"line\": {\"color\": \"#E5ECF6\", \"width\": 0.5}}, \"type\": \"barpolar\"}], \"carpet\": [{\"aaxis\": {\"endlinecolor\": \"#2a3f5f\", \"gridcolor\": \"white\", \"linecolor\": \"white\", \"minorgridcolor\": \"white\", \"startlinecolor\": \"#2a3f5f\"}, \"baxis\": {\"endlinecolor\": \"#2a3f5f\", \"gridcolor\": \"white\", \"linecolor\": \"white\", \"minorgridcolor\": \"white\", \"startlinecolor\": \"#2a3f5f\"}, \"type\": \"carpet\"}], \"choropleth\": [{\"colorbar\": {\"outlinewidth\": 0, \"ticks\": \"\"}, \"type\": \"choropleth\"}], \"contour\": [{\"colorbar\": {\"outlinewidth\": 0, \"ticks\": \"\"}, \"colorscale\": [[0.0, \"#0d0887\"], [0.1111111111111111, \"#46039f\"], [0.2222222222222222, \"#7201a8\"], [0.3333333333333333, \"#9c179e\"], [0.4444444444444444, \"#bd3786\"], [0.5555555555555556, \"#d8576b\"], [0.6666666666666666, \"#ed7953\"], [0.7777777777777778, \"#fb9f3a\"], [0.8888888888888888, \"#fdca26\"], [1.0, \"#f0f921\"]], \"type\": \"contour\"}], \"contourcarpet\": [{\"colorbar\": {\"outlinewidth\": 0, \"ticks\": \"\"}, \"type\": \"contourcarpet\"}], \"heatmap\": [{\"colorbar\": {\"outlinewidth\": 0, \"ticks\": \"\"}, \"colorscale\": [[0.0, \"#0d0887\"], [0.1111111111111111, \"#46039f\"], [0.2222222222222222, \"#7201a8\"], [0.3333333333333333, \"#9c179e\"], [0.4444444444444444, \"#bd3786\"], [0.5555555555555556, \"#d8576b\"], [0.6666666666666666, \"#ed7953\"], [0.7777777777777778, \"#fb9f3a\"], [0.8888888888888888, \"#fdca26\"], [1.0, \"#f0f921\"]], \"type\": \"heatmap\"}], \"heatmapgl\": [{\"colorbar\": {\"outlinewidth\": 0, \"ticks\": \"\"}, \"colorscale\": [[0.0, \"#0d0887\"], [0.1111111111111111, \"#46039f\"], [0.2222222222222222, \"#7201a8\"], [0.3333333333333333, \"#9c179e\"], [0.4444444444444444, \"#bd3786\"], [0.5555555555555556, \"#d8576b\"], [0.6666666666666666, \"#ed7953\"], [0.7777777777777778, \"#fb9f3a\"], [0.8888888888888888, \"#fdca26\"], [1.0, \"#f0f921\"]], \"type\": \"heatmapgl\"}], \"histogram\": [{\"marker\": {\"colorbar\": {\"outlinewidth\": 0, \"ticks\": \"\"}}, \"type\": \"histogram\"}], \"histogram2d\": [{\"colorbar\": {\"outlinewidth\": 0, \"ticks\": \"\"}, \"colorscale\": [[0.0, \"#0d0887\"], [0.1111111111111111, \"#46039f\"], [0.2222222222222222, \"#7201a8\"], [0.3333333333333333, \"#9c179e\"], [0.4444444444444444, \"#bd3786\"], [0.5555555555555556, \"#d8576b\"], [0.6666666666666666, \"#ed7953\"], [0.7777777777777778, \"#fb9f3a\"], [0.8888888888888888, \"#fdca26\"], [1.0, \"#f0f921\"]], \"type\": \"histogram2d\"}], \"histogram2dcontour\": [{\"colorbar\": {\"outlinewidth\": 0, \"ticks\": \"\"}, \"colorscale\": [[0.0, \"#0d0887\"], [0.1111111111111111, \"#46039f\"], [0.2222222222222222, \"#7201a8\"], [0.3333333333333333, \"#9c179e\"], [0.4444444444444444, \"#bd3786\"], [0.5555555555555556, \"#d8576b\"], [0.6666666666666666, \"#ed7953\"], [0.7777777777777778, \"#fb9f3a\"], [0.8888888888888888, \"#fdca26\"], [1.0, \"#f0f921\"]], \"type\": \"histogram2dcontour\"}], \"mesh3d\": [{\"colorbar\": {\"outlinewidth\": 0, \"ticks\": \"\"}, \"type\": \"mesh3d\"}], \"parcoords\": [{\"line\": {\"colorbar\": {\"outlinewidth\": 0, \"ticks\": \"\"}}, \"type\": \"parcoords\"}], \"pie\": [{\"automargin\": true, \"type\": \"pie\"}], \"scatter\": [{\"marker\": {\"colorbar\": {\"outlinewidth\": 0, \"ticks\": \"\"}}, \"type\": \"scatter\"}], \"scatter3d\": [{\"line\": {\"colorbar\": {\"outlinewidth\": 0, \"ticks\": \"\"}}, \"marker\": {\"colorbar\": {\"outlinewidth\": 0, \"ticks\": \"\"}}, \"type\": \"scatter3d\"}], \"scattercarpet\": [{\"marker\": {\"colorbar\": {\"outlinewidth\": 0, \"ticks\": \"\"}}, \"type\": \"scattercarpet\"}], \"scattergeo\": [{\"marker\": {\"colorbar\": {\"outlinewidth\": 0, \"ticks\": \"\"}}, \"type\": \"scattergeo\"}], \"scattergl\": [{\"marker\": {\"colorbar\": {\"outlinewidth\": 0, \"ticks\": \"\"}}, \"type\": \"scattergl\"}], \"scattermapbox\": [{\"marker\": {\"colorbar\": {\"outlinewidth\": 0, \"ticks\": \"\"}}, \"type\": \"scattermapbox\"}], \"scatterpolar\": [{\"marker\": {\"colorbar\": {\"outlinewidth\": 0, \"ticks\": \"\"}}, \"type\": \"scatterpolar\"}], \"scatterpolargl\": [{\"marker\": {\"colorbar\": {\"outlinewidth\": 0, \"ticks\": \"\"}}, \"type\": \"scatterpolargl\"}], \"scatterternary\": [{\"marker\": {\"colorbar\": {\"outlinewidth\": 0, \"ticks\": \"\"}}, \"type\": \"scatterternary\"}], \"surface\": [{\"colorbar\": {\"outlinewidth\": 0, \"ticks\": \"\"}, \"colorscale\": [[0.0, \"#0d0887\"], [0.1111111111111111, \"#46039f\"], [0.2222222222222222, \"#7201a8\"], [0.3333333333333333, \"#9c179e\"], [0.4444444444444444, \"#bd3786\"], [0.5555555555555556, \"#d8576b\"], [0.6666666666666666, \"#ed7953\"], [0.7777777777777778, \"#fb9f3a\"], [0.8888888888888888, \"#fdca26\"], [1.0, \"#f0f921\"]], \"type\": \"surface\"}], \"table\": [{\"cells\": {\"fill\": {\"color\": \"#EBF0F8\"}, \"line\": {\"color\": \"white\"}}, \"header\": {\"fill\": {\"color\": \"#C8D4E3\"}, \"line\": {\"color\": \"white\"}}, \"type\": \"table\"}]}, \"layout\": {\"annotationdefaults\": {\"arrowcolor\": \"#2a3f5f\", \"arrowhead\": 0, \"arrowwidth\": 1}, \"coloraxis\": {\"colorbar\": {\"outlinewidth\": 0, \"ticks\": \"\"}}, \"colorscale\": {\"diverging\": [[0, \"#8e0152\"], [0.1, \"#c51b7d\"], [0.2, \"#de77ae\"], [0.3, \"#f1b6da\"], [0.4, \"#fde0ef\"], [0.5, \"#f7f7f7\"], [0.6, \"#e6f5d0\"], [0.7, \"#b8e186\"], [0.8, \"#7fbc41\"], [0.9, \"#4d9221\"], [1, \"#276419\"]], \"sequential\": [[0.0, \"#0d0887\"], [0.1111111111111111, \"#46039f\"], [0.2222222222222222, \"#7201a8\"], [0.3333333333333333, \"#9c179e\"], [0.4444444444444444, \"#bd3786\"], [0.5555555555555556, \"#d8576b\"], [0.6666666666666666, \"#ed7953\"], [0.7777777777777778, \"#fb9f3a\"], [0.8888888888888888, \"#fdca26\"], [1.0, \"#f0f921\"]], \"sequentialminus\": [[0.0, \"#0d0887\"], [0.1111111111111111, \"#46039f\"], [0.2222222222222222, \"#7201a8\"], [0.3333333333333333, \"#9c179e\"], [0.4444444444444444, \"#bd3786\"], [0.5555555555555556, \"#d8576b\"], [0.6666666666666666, \"#ed7953\"], [0.7777777777777778, \"#fb9f3a\"], [0.8888888888888888, \"#fdca26\"], [1.0, \"#f0f921\"]]}, \"colorway\": [\"#636efa\", \"#EF553B\", \"#00cc96\", \"#ab63fa\", \"#FFA15A\", \"#19d3f3\", \"#FF6692\", \"#B6E880\", \"#FF97FF\", \"#FECB52\"], \"font\": {\"color\": \"#2a3f5f\"}, \"geo\": {\"bgcolor\": \"white\", \"lakecolor\": \"white\", \"landcolor\": \"#E5ECF6\", \"showlakes\": true, \"showland\": true, \"subunitcolor\": \"white\"}, \"hoverlabel\": {\"align\": \"left\"}, \"hovermode\": \"closest\", \"mapbox\": {\"style\": \"light\"}, \"paper_bgcolor\": \"white\", \"plot_bgcolor\": \"#E5ECF6\", \"polar\": {\"angularaxis\": {\"gridcolor\": \"white\", \"linecolor\": \"white\", \"ticks\": \"\"}, \"bgcolor\": \"#E5ECF6\", \"radialaxis\": {\"gridcolor\": \"white\", \"linecolor\": \"white\", \"ticks\": \"\"}}, \"scene\": {\"xaxis\": {\"backgroundcolor\": \"#E5ECF6\", \"gridcolor\": \"white\", \"gridwidth\": 2, \"linecolor\": \"white\", \"showbackground\": true, \"ticks\": \"\", \"zerolinecolor\": \"white\"}, \"yaxis\": {\"backgroundcolor\": \"#E5ECF6\", \"gridcolor\": \"white\", \"gridwidth\": 2, \"linecolor\": \"white\", \"showbackground\": true, \"ticks\": \"\", \"zerolinecolor\": \"white\"}, \"zaxis\": {\"backgroundcolor\": \"#E5ECF6\", \"gridcolor\": \"white\", \"gridwidth\": 2, \"linecolor\": \"white\", \"showbackground\": true, \"ticks\": \"\", \"zerolinecolor\": \"white\"}}, \"shapedefaults\": {\"line\": {\"color\": \"#2a3f5f\"}}, \"ternary\": {\"aaxis\": {\"gridcolor\": \"white\", \"linecolor\": \"white\", \"ticks\": \"\"}, \"baxis\": {\"gridcolor\": \"white\", \"linecolor\": \"white\", \"ticks\": \"\"}, \"bgcolor\": \"#E5ECF6\", \"caxis\": {\"gridcolor\": \"white\", \"linecolor\": \"white\", \"ticks\": \"\"}}, \"title\": {\"x\": 0.05}, \"xaxis\": {\"automargin\": true, \"gridcolor\": \"white\", \"linecolor\": \"white\", \"ticks\": \"\", \"title\": {\"standoff\": 15}, \"zerolinecolor\": \"white\", \"zerolinewidth\": 2}, \"yaxis\": {\"automargin\": true, \"gridcolor\": \"white\", \"linecolor\": \"white\", \"ticks\": \"\", \"title\": {\"standoff\": 15}, \"zerolinecolor\": \"white\", \"zerolinewidth\": 2}}}, \"title\": {\"text\": \"Was there a time in the past 12 months when you<br> needed to see a doctor but could not because of cost?\"}, \"xaxis\": {\"title\": {\"text\": \"Response (medcost)\"}}, \"yaxis\": {\"title\": {\"text\": \"Number of People\"}}},\n",
       "                        {\"responsive\": true}\n",
       "                    ).then(function(){\n",
       "                            \n",
       "var gd = document.getElementById('4c855bca-8ac4-4b6b-b260-b9e23e27308c');\n",
       "var x = new MutationObserver(function (mutations, observer) {{\n",
       "        var display = window.getComputedStyle(gd).display;\n",
       "        if (!display || display === 'none') {{\n",
       "            console.log([gd, 'removed!']);\n",
       "            Plotly.purge(gd);\n",
       "            observer.disconnect();\n",
       "        }}\n",
       "}});\n",
       "\n",
       "// Listen for the removal of the full notebook cells\n",
       "var notebookContainer = gd.closest('#notebook-container');\n",
       "if (notebookContainer) {{\n",
       "    x.observe(notebookContainer, {childList: true});\n",
       "}}\n",
       "\n",
       "// Listen for the clearing of the current output cell\n",
       "var outputEl = gd.closest('.output');\n",
       "if (outputEl) {{\n",
       "    x.observe(outputEl, {childList: true});\n",
       "}}\n",
       "\n",
       "                        })\n",
       "                };\n",
       "                });\n",
       "            </script>\n",
       "        </div>"
      ]
     },
     "metadata": {},
     "output_type": "display_data"
    }
   ],
   "source": [
    "#chart to view data and see if results match up\n",
    "fig = go.Figure(data = [go.Bar(name = '2011-14', x = med_low.columns, y = med_low.iloc[0]),\n",
    "                       go.Bar(name = '2015-18', x = med_low.columns, y = med_low.iloc[1])])\n",
    "fig.update_layout(\n",
    "    barmode='group',\n",
    "    title=\"Was there a time in the past 12 months when you<br> needed to see a doctor but could not because of cost?\",\n",
    "    xaxis_title=\"Response (medcost)\",\n",
    "    yaxis_title=\"Number of People\",\n",
    "    font=dict(\n",
    "        family=\"Courier New, monospace\",\n",
    "        size=16,\n",
    "        color=\"#7f7f7f\"\n",
    "    )\n",
    ")\n",
    "fig.show()"
   ]
  },
  {
   "cell_type": "code",
   "execution_count": 85,
   "metadata": {},
   "outputs": [
    {
     "name": "stdout",
     "output_type": "stream",
     "text": [
      "chi2: 298.3474351815079 p-value: 7.547669004326359e-67 dof: 1\n"
     ]
    }
   ],
   "source": [
    "#perform chi2 test\n",
    "test_medlow = chi2_contingency(med_low)\n",
    "chi2 = test_medlow[0]\n",
    "pvalue = test_medlow[1]\n",
    "dof = test_medlow[2]\n",
    "print(\"chi2:\", chi2, \"p-value:\", pvalue, \"dof:\", dof)"
   ]
  },
  {
   "cell_type": "code",
   "execution_count": 86,
   "metadata": {},
   "outputs": [
    {
     "data": {
      "text/html": [
       "<div>\n",
       "<style scoped>\n",
       "    .dataframe tbody tr th:only-of-type {\n",
       "        vertical-align: middle;\n",
       "    }\n",
       "\n",
       "    .dataframe tbody tr th {\n",
       "        vertical-align: top;\n",
       "    }\n",
       "\n",
       "    .dataframe thead th {\n",
       "        text-align: right;\n",
       "    }\n",
       "</style>\n",
       "<table border=\"1\" class=\"dataframe\">\n",
       "  <thead>\n",
       "    <tr style=\"text-align: right;\">\n",
       "      <th></th>\n",
       "      <th>Yes</th>\n",
       "      <th>No</th>\n",
       "    </tr>\n",
       "  </thead>\n",
       "  <tbody>\n",
       "    <tr>\n",
       "      <th>2011-2014</th>\n",
       "      <td>26118</td>\n",
       "      <td>2388</td>\n",
       "    </tr>\n",
       "    <tr>\n",
       "      <th>2015-2018</th>\n",
       "      <td>27291</td>\n",
       "      <td>1189</td>\n",
       "    </tr>\n",
       "  </tbody>\n",
       "</table>\n",
       "</div>"
      ],
      "text/plain": [
       "             Yes    No\n",
       "2011-2014  26118  2388\n",
       "2015-2018  27291  1189"
      ]
     },
     "execution_count": 86,
     "metadata": {},
     "output_type": "execute_result"
    }
   ],
   "source": [
    "#HLTHPLN1\n",
    "#splitting cost data on race/income\n",
    "\n",
    "hlthpln1114 = low_income1114['hlthpln1']\n",
    "hlthpln1518 = low_income1518['hlthpln1']\n",
    "\n",
    "sample1114 = hlthpln1114.sample(n = 28691, random_state = 1)\n",
    "\n",
    "#get counts for each value of having care or not in 2014 data set\n",
    "counts1114 = getCounts(sample1114, 2)\n",
    "# total14 = np.sum(sample1114)\n",
    "#get counts for each value of having care or not in 2014 data set\n",
    "counts1518 = getCounts(hlthpln1518, 2)\n",
    "# total15 = np.sum(med_low1518)\n",
    "\n",
    "# print(total14)\n",
    "# print(total15)\n",
    "\n",
    "hlthpln = pd.DataFrame([counts1114, counts1518], index = [\"2011-2014\", \"2015-2018\"], \n",
    "                         columns = [\"Yes\", \"No\"])\n",
    "hlthpln"
   ]
  },
  {
   "cell_type": "code",
   "execution_count": 87,
   "metadata": {},
   "outputs": [
    {
     "data": {
      "application/vnd.plotly.v1+json": {
       "config": {
        "plotlyServerURL": "https://plot.ly"
       },
       "data": [
        {
         "name": "2011-14",
         "type": "bar",
         "x": [
          "Yes",
          "No"
         ],
         "y": [
          26118,
          2388
         ]
        },
        {
         "name": "2015-18",
         "type": "bar",
         "x": [
          "Yes",
          "No"
         ],
         "y": [
          27291,
          1189
         ]
        }
       ],
       "layout": {
        "barmode": "group",
        "font": {
         "color": "#7f7f7f",
         "family": "Courier New, monospace",
         "size": 18
        },
        "template": {
         "data": {
          "bar": [
           {
            "error_x": {
             "color": "#2a3f5f"
            },
            "error_y": {
             "color": "#2a3f5f"
            },
            "marker": {
             "line": {
              "color": "#E5ECF6",
              "width": 0.5
             }
            },
            "type": "bar"
           }
          ],
          "barpolar": [
           {
            "marker": {
             "line": {
              "color": "#E5ECF6",
              "width": 0.5
             }
            },
            "type": "barpolar"
           }
          ],
          "carpet": [
           {
            "aaxis": {
             "endlinecolor": "#2a3f5f",
             "gridcolor": "white",
             "linecolor": "white",
             "minorgridcolor": "white",
             "startlinecolor": "#2a3f5f"
            },
            "baxis": {
             "endlinecolor": "#2a3f5f",
             "gridcolor": "white",
             "linecolor": "white",
             "minorgridcolor": "white",
             "startlinecolor": "#2a3f5f"
            },
            "type": "carpet"
           }
          ],
          "choropleth": [
           {
            "colorbar": {
             "outlinewidth": 0,
             "ticks": ""
            },
            "type": "choropleth"
           }
          ],
          "contour": [
           {
            "colorbar": {
             "outlinewidth": 0,
             "ticks": ""
            },
            "colorscale": [
             [
              0,
              "#0d0887"
             ],
             [
              0.1111111111111111,
              "#46039f"
             ],
             [
              0.2222222222222222,
              "#7201a8"
             ],
             [
              0.3333333333333333,
              "#9c179e"
             ],
             [
              0.4444444444444444,
              "#bd3786"
             ],
             [
              0.5555555555555556,
              "#d8576b"
             ],
             [
              0.6666666666666666,
              "#ed7953"
             ],
             [
              0.7777777777777778,
              "#fb9f3a"
             ],
             [
              0.8888888888888888,
              "#fdca26"
             ],
             [
              1,
              "#f0f921"
             ]
            ],
            "type": "contour"
           }
          ],
          "contourcarpet": [
           {
            "colorbar": {
             "outlinewidth": 0,
             "ticks": ""
            },
            "type": "contourcarpet"
           }
          ],
          "heatmap": [
           {
            "colorbar": {
             "outlinewidth": 0,
             "ticks": ""
            },
            "colorscale": [
             [
              0,
              "#0d0887"
             ],
             [
              0.1111111111111111,
              "#46039f"
             ],
             [
              0.2222222222222222,
              "#7201a8"
             ],
             [
              0.3333333333333333,
              "#9c179e"
             ],
             [
              0.4444444444444444,
              "#bd3786"
             ],
             [
              0.5555555555555556,
              "#d8576b"
             ],
             [
              0.6666666666666666,
              "#ed7953"
             ],
             [
              0.7777777777777778,
              "#fb9f3a"
             ],
             [
              0.8888888888888888,
              "#fdca26"
             ],
             [
              1,
              "#f0f921"
             ]
            ],
            "type": "heatmap"
           }
          ],
          "heatmapgl": [
           {
            "colorbar": {
             "outlinewidth": 0,
             "ticks": ""
            },
            "colorscale": [
             [
              0,
              "#0d0887"
             ],
             [
              0.1111111111111111,
              "#46039f"
             ],
             [
              0.2222222222222222,
              "#7201a8"
             ],
             [
              0.3333333333333333,
              "#9c179e"
             ],
             [
              0.4444444444444444,
              "#bd3786"
             ],
             [
              0.5555555555555556,
              "#d8576b"
             ],
             [
              0.6666666666666666,
              "#ed7953"
             ],
             [
              0.7777777777777778,
              "#fb9f3a"
             ],
             [
              0.8888888888888888,
              "#fdca26"
             ],
             [
              1,
              "#f0f921"
             ]
            ],
            "type": "heatmapgl"
           }
          ],
          "histogram": [
           {
            "marker": {
             "colorbar": {
              "outlinewidth": 0,
              "ticks": ""
             }
            },
            "type": "histogram"
           }
          ],
          "histogram2d": [
           {
            "colorbar": {
             "outlinewidth": 0,
             "ticks": ""
            },
            "colorscale": [
             [
              0,
              "#0d0887"
             ],
             [
              0.1111111111111111,
              "#46039f"
             ],
             [
              0.2222222222222222,
              "#7201a8"
             ],
             [
              0.3333333333333333,
              "#9c179e"
             ],
             [
              0.4444444444444444,
              "#bd3786"
             ],
             [
              0.5555555555555556,
              "#d8576b"
             ],
             [
              0.6666666666666666,
              "#ed7953"
             ],
             [
              0.7777777777777778,
              "#fb9f3a"
             ],
             [
              0.8888888888888888,
              "#fdca26"
             ],
             [
              1,
              "#f0f921"
             ]
            ],
            "type": "histogram2d"
           }
          ],
          "histogram2dcontour": [
           {
            "colorbar": {
             "outlinewidth": 0,
             "ticks": ""
            },
            "colorscale": [
             [
              0,
              "#0d0887"
             ],
             [
              0.1111111111111111,
              "#46039f"
             ],
             [
              0.2222222222222222,
              "#7201a8"
             ],
             [
              0.3333333333333333,
              "#9c179e"
             ],
             [
              0.4444444444444444,
              "#bd3786"
             ],
             [
              0.5555555555555556,
              "#d8576b"
             ],
             [
              0.6666666666666666,
              "#ed7953"
             ],
             [
              0.7777777777777778,
              "#fb9f3a"
             ],
             [
              0.8888888888888888,
              "#fdca26"
             ],
             [
              1,
              "#f0f921"
             ]
            ],
            "type": "histogram2dcontour"
           }
          ],
          "mesh3d": [
           {
            "colorbar": {
             "outlinewidth": 0,
             "ticks": ""
            },
            "type": "mesh3d"
           }
          ],
          "parcoords": [
           {
            "line": {
             "colorbar": {
              "outlinewidth": 0,
              "ticks": ""
             }
            },
            "type": "parcoords"
           }
          ],
          "pie": [
           {
            "automargin": true,
            "type": "pie"
           }
          ],
          "scatter": [
           {
            "marker": {
             "colorbar": {
              "outlinewidth": 0,
              "ticks": ""
             }
            },
            "type": "scatter"
           }
          ],
          "scatter3d": [
           {
            "line": {
             "colorbar": {
              "outlinewidth": 0,
              "ticks": ""
             }
            },
            "marker": {
             "colorbar": {
              "outlinewidth": 0,
              "ticks": ""
             }
            },
            "type": "scatter3d"
           }
          ],
          "scattercarpet": [
           {
            "marker": {
             "colorbar": {
              "outlinewidth": 0,
              "ticks": ""
             }
            },
            "type": "scattercarpet"
           }
          ],
          "scattergeo": [
           {
            "marker": {
             "colorbar": {
              "outlinewidth": 0,
              "ticks": ""
             }
            },
            "type": "scattergeo"
           }
          ],
          "scattergl": [
           {
            "marker": {
             "colorbar": {
              "outlinewidth": 0,
              "ticks": ""
             }
            },
            "type": "scattergl"
           }
          ],
          "scattermapbox": [
           {
            "marker": {
             "colorbar": {
              "outlinewidth": 0,
              "ticks": ""
             }
            },
            "type": "scattermapbox"
           }
          ],
          "scatterpolar": [
           {
            "marker": {
             "colorbar": {
              "outlinewidth": 0,
              "ticks": ""
             }
            },
            "type": "scatterpolar"
           }
          ],
          "scatterpolargl": [
           {
            "marker": {
             "colorbar": {
              "outlinewidth": 0,
              "ticks": ""
             }
            },
            "type": "scatterpolargl"
           }
          ],
          "scatterternary": [
           {
            "marker": {
             "colorbar": {
              "outlinewidth": 0,
              "ticks": ""
             }
            },
            "type": "scatterternary"
           }
          ],
          "surface": [
           {
            "colorbar": {
             "outlinewidth": 0,
             "ticks": ""
            },
            "colorscale": [
             [
              0,
              "#0d0887"
             ],
             [
              0.1111111111111111,
              "#46039f"
             ],
             [
              0.2222222222222222,
              "#7201a8"
             ],
             [
              0.3333333333333333,
              "#9c179e"
             ],
             [
              0.4444444444444444,
              "#bd3786"
             ],
             [
              0.5555555555555556,
              "#d8576b"
             ],
             [
              0.6666666666666666,
              "#ed7953"
             ],
             [
              0.7777777777777778,
              "#fb9f3a"
             ],
             [
              0.8888888888888888,
              "#fdca26"
             ],
             [
              1,
              "#f0f921"
             ]
            ],
            "type": "surface"
           }
          ],
          "table": [
           {
            "cells": {
             "fill": {
              "color": "#EBF0F8"
             },
             "line": {
              "color": "white"
             }
            },
            "header": {
             "fill": {
              "color": "#C8D4E3"
             },
             "line": {
              "color": "white"
             }
            },
            "type": "table"
           }
          ]
         },
         "layout": {
          "annotationdefaults": {
           "arrowcolor": "#2a3f5f",
           "arrowhead": 0,
           "arrowwidth": 1
          },
          "coloraxis": {
           "colorbar": {
            "outlinewidth": 0,
            "ticks": ""
           }
          },
          "colorscale": {
           "diverging": [
            [
             0,
             "#8e0152"
            ],
            [
             0.1,
             "#c51b7d"
            ],
            [
             0.2,
             "#de77ae"
            ],
            [
             0.3,
             "#f1b6da"
            ],
            [
             0.4,
             "#fde0ef"
            ],
            [
             0.5,
             "#f7f7f7"
            ],
            [
             0.6,
             "#e6f5d0"
            ],
            [
             0.7,
             "#b8e186"
            ],
            [
             0.8,
             "#7fbc41"
            ],
            [
             0.9,
             "#4d9221"
            ],
            [
             1,
             "#276419"
            ]
           ],
           "sequential": [
            [
             0,
             "#0d0887"
            ],
            [
             0.1111111111111111,
             "#46039f"
            ],
            [
             0.2222222222222222,
             "#7201a8"
            ],
            [
             0.3333333333333333,
             "#9c179e"
            ],
            [
             0.4444444444444444,
             "#bd3786"
            ],
            [
             0.5555555555555556,
             "#d8576b"
            ],
            [
             0.6666666666666666,
             "#ed7953"
            ],
            [
             0.7777777777777778,
             "#fb9f3a"
            ],
            [
             0.8888888888888888,
             "#fdca26"
            ],
            [
             1,
             "#f0f921"
            ]
           ],
           "sequentialminus": [
            [
             0,
             "#0d0887"
            ],
            [
             0.1111111111111111,
             "#46039f"
            ],
            [
             0.2222222222222222,
             "#7201a8"
            ],
            [
             0.3333333333333333,
             "#9c179e"
            ],
            [
             0.4444444444444444,
             "#bd3786"
            ],
            [
             0.5555555555555556,
             "#d8576b"
            ],
            [
             0.6666666666666666,
             "#ed7953"
            ],
            [
             0.7777777777777778,
             "#fb9f3a"
            ],
            [
             0.8888888888888888,
             "#fdca26"
            ],
            [
             1,
             "#f0f921"
            ]
           ]
          },
          "colorway": [
           "#636efa",
           "#EF553B",
           "#00cc96",
           "#ab63fa",
           "#FFA15A",
           "#19d3f3",
           "#FF6692",
           "#B6E880",
           "#FF97FF",
           "#FECB52"
          ],
          "font": {
           "color": "#2a3f5f"
          },
          "geo": {
           "bgcolor": "white",
           "lakecolor": "white",
           "landcolor": "#E5ECF6",
           "showlakes": true,
           "showland": true,
           "subunitcolor": "white"
          },
          "hoverlabel": {
           "align": "left"
          },
          "hovermode": "closest",
          "mapbox": {
           "style": "light"
          },
          "paper_bgcolor": "white",
          "plot_bgcolor": "#E5ECF6",
          "polar": {
           "angularaxis": {
            "gridcolor": "white",
            "linecolor": "white",
            "ticks": ""
           },
           "bgcolor": "#E5ECF6",
           "radialaxis": {
            "gridcolor": "white",
            "linecolor": "white",
            "ticks": ""
           }
          },
          "scene": {
           "xaxis": {
            "backgroundcolor": "#E5ECF6",
            "gridcolor": "white",
            "gridwidth": 2,
            "linecolor": "white",
            "showbackground": true,
            "ticks": "",
            "zerolinecolor": "white"
           },
           "yaxis": {
            "backgroundcolor": "#E5ECF6",
            "gridcolor": "white",
            "gridwidth": 2,
            "linecolor": "white",
            "showbackground": true,
            "ticks": "",
            "zerolinecolor": "white"
           },
           "zaxis": {
            "backgroundcolor": "#E5ECF6",
            "gridcolor": "white",
            "gridwidth": 2,
            "linecolor": "white",
            "showbackground": true,
            "ticks": "",
            "zerolinecolor": "white"
           }
          },
          "shapedefaults": {
           "line": {
            "color": "#2a3f5f"
           }
          },
          "ternary": {
           "aaxis": {
            "gridcolor": "white",
            "linecolor": "white",
            "ticks": ""
           },
           "baxis": {
            "gridcolor": "white",
            "linecolor": "white",
            "ticks": ""
           },
           "bgcolor": "#E5ECF6",
           "caxis": {
            "gridcolor": "white",
            "linecolor": "white",
            "ticks": ""
           }
          },
          "title": {
           "x": 0.05
          },
          "xaxis": {
           "automargin": true,
           "gridcolor": "white",
           "linecolor": "white",
           "ticks": "",
           "title": {
            "standoff": 15
           },
           "zerolinecolor": "white",
           "zerolinewidth": 2
          },
          "yaxis": {
           "automargin": true,
           "gridcolor": "white",
           "linecolor": "white",
           "ticks": "",
           "title": {
            "standoff": 15
           },
           "zerolinecolor": "white",
           "zerolinewidth": 2
          }
         }
        },
        "title": {
         "text": "Do you have any kind of health care coverage, including health<br> insurance, prepaid plans such as HMOs, or government plans<br> such as Medicare, or Indian Health Service?"
        },
        "xaxis": {
         "title": {
          "text": "Response (hlthpln1)"
         }
        },
        "yaxis": {
         "title": {
          "text": "Number of People"
         }
        }
       }
      },
      "text/html": [
       "<div>\n",
       "        \n",
       "        \n",
       "            <div id=\"3e5cb552-9456-4ffe-a62e-f6ac8c73e654\" class=\"plotly-graph-div\" style=\"height:525px; width:100%;\"></div>\n",
       "            <script type=\"text/javascript\">\n",
       "                require([\"plotly\"], function(Plotly) {\n",
       "                    window.PLOTLYENV=window.PLOTLYENV || {};\n",
       "                    \n",
       "                if (document.getElementById(\"3e5cb552-9456-4ffe-a62e-f6ac8c73e654\")) {\n",
       "                    Plotly.newPlot(\n",
       "                        '3e5cb552-9456-4ffe-a62e-f6ac8c73e654',\n",
       "                        [{\"name\": \"2011-14\", \"type\": \"bar\", \"x\": [\"Yes\", \"No\"], \"y\": [26118, 2388]}, {\"name\": \"2015-18\", \"type\": \"bar\", \"x\": [\"Yes\", \"No\"], \"y\": [27291, 1189]}],\n",
       "                        {\"barmode\": \"group\", \"font\": {\"color\": \"#7f7f7f\", \"family\": \"Courier New, monospace\", \"size\": 18}, \"template\": {\"data\": {\"bar\": [{\"error_x\": {\"color\": \"#2a3f5f\"}, \"error_y\": {\"color\": \"#2a3f5f\"}, \"marker\": {\"line\": {\"color\": \"#E5ECF6\", \"width\": 0.5}}, \"type\": \"bar\"}], \"barpolar\": [{\"marker\": {\"line\": {\"color\": \"#E5ECF6\", \"width\": 0.5}}, \"type\": \"barpolar\"}], \"carpet\": [{\"aaxis\": {\"endlinecolor\": \"#2a3f5f\", \"gridcolor\": \"white\", \"linecolor\": \"white\", \"minorgridcolor\": \"white\", \"startlinecolor\": \"#2a3f5f\"}, \"baxis\": {\"endlinecolor\": \"#2a3f5f\", \"gridcolor\": \"white\", \"linecolor\": \"white\", \"minorgridcolor\": \"white\", \"startlinecolor\": \"#2a3f5f\"}, \"type\": \"carpet\"}], \"choropleth\": [{\"colorbar\": {\"outlinewidth\": 0, \"ticks\": \"\"}, \"type\": \"choropleth\"}], \"contour\": [{\"colorbar\": {\"outlinewidth\": 0, \"ticks\": \"\"}, \"colorscale\": [[0.0, \"#0d0887\"], [0.1111111111111111, \"#46039f\"], [0.2222222222222222, \"#7201a8\"], [0.3333333333333333, \"#9c179e\"], [0.4444444444444444, \"#bd3786\"], [0.5555555555555556, \"#d8576b\"], [0.6666666666666666, \"#ed7953\"], [0.7777777777777778, \"#fb9f3a\"], [0.8888888888888888, \"#fdca26\"], [1.0, \"#f0f921\"]], \"type\": \"contour\"}], \"contourcarpet\": [{\"colorbar\": {\"outlinewidth\": 0, \"ticks\": \"\"}, \"type\": \"contourcarpet\"}], \"heatmap\": [{\"colorbar\": {\"outlinewidth\": 0, \"ticks\": \"\"}, \"colorscale\": [[0.0, \"#0d0887\"], [0.1111111111111111, \"#46039f\"], [0.2222222222222222, \"#7201a8\"], [0.3333333333333333, \"#9c179e\"], [0.4444444444444444, \"#bd3786\"], [0.5555555555555556, \"#d8576b\"], [0.6666666666666666, \"#ed7953\"], [0.7777777777777778, \"#fb9f3a\"], [0.8888888888888888, \"#fdca26\"], [1.0, \"#f0f921\"]], \"type\": \"heatmap\"}], \"heatmapgl\": [{\"colorbar\": {\"outlinewidth\": 0, \"ticks\": \"\"}, \"colorscale\": [[0.0, \"#0d0887\"], [0.1111111111111111, \"#46039f\"], [0.2222222222222222, \"#7201a8\"], [0.3333333333333333, \"#9c179e\"], [0.4444444444444444, \"#bd3786\"], [0.5555555555555556, \"#d8576b\"], [0.6666666666666666, \"#ed7953\"], [0.7777777777777778, \"#fb9f3a\"], [0.8888888888888888, \"#fdca26\"], [1.0, \"#f0f921\"]], \"type\": \"heatmapgl\"}], \"histogram\": [{\"marker\": {\"colorbar\": {\"outlinewidth\": 0, \"ticks\": \"\"}}, \"type\": \"histogram\"}], \"histogram2d\": [{\"colorbar\": {\"outlinewidth\": 0, \"ticks\": \"\"}, \"colorscale\": [[0.0, \"#0d0887\"], [0.1111111111111111, \"#46039f\"], [0.2222222222222222, \"#7201a8\"], [0.3333333333333333, \"#9c179e\"], [0.4444444444444444, \"#bd3786\"], [0.5555555555555556, \"#d8576b\"], [0.6666666666666666, \"#ed7953\"], [0.7777777777777778, \"#fb9f3a\"], [0.8888888888888888, \"#fdca26\"], [1.0, \"#f0f921\"]], \"type\": \"histogram2d\"}], \"histogram2dcontour\": [{\"colorbar\": {\"outlinewidth\": 0, \"ticks\": \"\"}, \"colorscale\": [[0.0, \"#0d0887\"], [0.1111111111111111, \"#46039f\"], [0.2222222222222222, \"#7201a8\"], [0.3333333333333333, \"#9c179e\"], [0.4444444444444444, \"#bd3786\"], [0.5555555555555556, \"#d8576b\"], [0.6666666666666666, \"#ed7953\"], [0.7777777777777778, \"#fb9f3a\"], [0.8888888888888888, \"#fdca26\"], [1.0, \"#f0f921\"]], \"type\": \"histogram2dcontour\"}], \"mesh3d\": [{\"colorbar\": {\"outlinewidth\": 0, \"ticks\": \"\"}, \"type\": \"mesh3d\"}], \"parcoords\": [{\"line\": {\"colorbar\": {\"outlinewidth\": 0, \"ticks\": \"\"}}, \"type\": \"parcoords\"}], \"pie\": [{\"automargin\": true, \"type\": \"pie\"}], \"scatter\": [{\"marker\": {\"colorbar\": {\"outlinewidth\": 0, \"ticks\": \"\"}}, \"type\": \"scatter\"}], \"scatter3d\": [{\"line\": {\"colorbar\": {\"outlinewidth\": 0, \"ticks\": \"\"}}, \"marker\": {\"colorbar\": {\"outlinewidth\": 0, \"ticks\": \"\"}}, \"type\": \"scatter3d\"}], \"scattercarpet\": [{\"marker\": {\"colorbar\": {\"outlinewidth\": 0, \"ticks\": \"\"}}, \"type\": \"scattercarpet\"}], \"scattergeo\": [{\"marker\": {\"colorbar\": {\"outlinewidth\": 0, \"ticks\": \"\"}}, \"type\": \"scattergeo\"}], \"scattergl\": [{\"marker\": {\"colorbar\": {\"outlinewidth\": 0, \"ticks\": \"\"}}, \"type\": \"scattergl\"}], \"scattermapbox\": [{\"marker\": {\"colorbar\": {\"outlinewidth\": 0, \"ticks\": \"\"}}, \"type\": \"scattermapbox\"}], \"scatterpolar\": [{\"marker\": {\"colorbar\": {\"outlinewidth\": 0, \"ticks\": \"\"}}, \"type\": \"scatterpolar\"}], \"scatterpolargl\": [{\"marker\": {\"colorbar\": {\"outlinewidth\": 0, \"ticks\": \"\"}}, \"type\": \"scatterpolargl\"}], \"scatterternary\": [{\"marker\": {\"colorbar\": {\"outlinewidth\": 0, \"ticks\": \"\"}}, \"type\": \"scatterternary\"}], \"surface\": [{\"colorbar\": {\"outlinewidth\": 0, \"ticks\": \"\"}, \"colorscale\": [[0.0, \"#0d0887\"], [0.1111111111111111, \"#46039f\"], [0.2222222222222222, \"#7201a8\"], [0.3333333333333333, \"#9c179e\"], [0.4444444444444444, \"#bd3786\"], [0.5555555555555556, \"#d8576b\"], [0.6666666666666666, \"#ed7953\"], [0.7777777777777778, \"#fb9f3a\"], [0.8888888888888888, \"#fdca26\"], [1.0, \"#f0f921\"]], \"type\": \"surface\"}], \"table\": [{\"cells\": {\"fill\": {\"color\": \"#EBF0F8\"}, \"line\": {\"color\": \"white\"}}, \"header\": {\"fill\": {\"color\": \"#C8D4E3\"}, \"line\": {\"color\": \"white\"}}, \"type\": \"table\"}]}, \"layout\": {\"annotationdefaults\": {\"arrowcolor\": \"#2a3f5f\", \"arrowhead\": 0, \"arrowwidth\": 1}, \"coloraxis\": {\"colorbar\": {\"outlinewidth\": 0, \"ticks\": \"\"}}, \"colorscale\": {\"diverging\": [[0, \"#8e0152\"], [0.1, \"#c51b7d\"], [0.2, \"#de77ae\"], [0.3, \"#f1b6da\"], [0.4, \"#fde0ef\"], [0.5, \"#f7f7f7\"], [0.6, \"#e6f5d0\"], [0.7, \"#b8e186\"], [0.8, \"#7fbc41\"], [0.9, \"#4d9221\"], [1, \"#276419\"]], \"sequential\": [[0.0, \"#0d0887\"], [0.1111111111111111, \"#46039f\"], [0.2222222222222222, \"#7201a8\"], [0.3333333333333333, \"#9c179e\"], [0.4444444444444444, \"#bd3786\"], [0.5555555555555556, \"#d8576b\"], [0.6666666666666666, \"#ed7953\"], [0.7777777777777778, \"#fb9f3a\"], [0.8888888888888888, \"#fdca26\"], [1.0, \"#f0f921\"]], \"sequentialminus\": [[0.0, \"#0d0887\"], [0.1111111111111111, \"#46039f\"], [0.2222222222222222, \"#7201a8\"], [0.3333333333333333, \"#9c179e\"], [0.4444444444444444, \"#bd3786\"], [0.5555555555555556, \"#d8576b\"], [0.6666666666666666, \"#ed7953\"], [0.7777777777777778, \"#fb9f3a\"], [0.8888888888888888, \"#fdca26\"], [1.0, \"#f0f921\"]]}, \"colorway\": [\"#636efa\", \"#EF553B\", \"#00cc96\", \"#ab63fa\", \"#FFA15A\", \"#19d3f3\", \"#FF6692\", \"#B6E880\", \"#FF97FF\", \"#FECB52\"], \"font\": {\"color\": \"#2a3f5f\"}, \"geo\": {\"bgcolor\": \"white\", \"lakecolor\": \"white\", \"landcolor\": \"#E5ECF6\", \"showlakes\": true, \"showland\": true, \"subunitcolor\": \"white\"}, \"hoverlabel\": {\"align\": \"left\"}, \"hovermode\": \"closest\", \"mapbox\": {\"style\": \"light\"}, \"paper_bgcolor\": \"white\", \"plot_bgcolor\": \"#E5ECF6\", \"polar\": {\"angularaxis\": {\"gridcolor\": \"white\", \"linecolor\": \"white\", \"ticks\": \"\"}, \"bgcolor\": \"#E5ECF6\", \"radialaxis\": {\"gridcolor\": \"white\", \"linecolor\": \"white\", \"ticks\": \"\"}}, \"scene\": {\"xaxis\": {\"backgroundcolor\": \"#E5ECF6\", \"gridcolor\": \"white\", \"gridwidth\": 2, \"linecolor\": \"white\", \"showbackground\": true, \"ticks\": \"\", \"zerolinecolor\": \"white\"}, \"yaxis\": {\"backgroundcolor\": \"#E5ECF6\", \"gridcolor\": \"white\", \"gridwidth\": 2, \"linecolor\": \"white\", \"showbackground\": true, \"ticks\": \"\", \"zerolinecolor\": \"white\"}, \"zaxis\": {\"backgroundcolor\": \"#E5ECF6\", \"gridcolor\": \"white\", \"gridwidth\": 2, \"linecolor\": \"white\", \"showbackground\": true, \"ticks\": \"\", \"zerolinecolor\": \"white\"}}, \"shapedefaults\": {\"line\": {\"color\": \"#2a3f5f\"}}, \"ternary\": {\"aaxis\": {\"gridcolor\": \"white\", \"linecolor\": \"white\", \"ticks\": \"\"}, \"baxis\": {\"gridcolor\": \"white\", \"linecolor\": \"white\", \"ticks\": \"\"}, \"bgcolor\": \"#E5ECF6\", \"caxis\": {\"gridcolor\": \"white\", \"linecolor\": \"white\", \"ticks\": \"\"}}, \"title\": {\"x\": 0.05}, \"xaxis\": {\"automargin\": true, \"gridcolor\": \"white\", \"linecolor\": \"white\", \"ticks\": \"\", \"title\": {\"standoff\": 15}, \"zerolinecolor\": \"white\", \"zerolinewidth\": 2}, \"yaxis\": {\"automargin\": true, \"gridcolor\": \"white\", \"linecolor\": \"white\", \"ticks\": \"\", \"title\": {\"standoff\": 15}, \"zerolinecolor\": \"white\", \"zerolinewidth\": 2}}}, \"title\": {\"text\": \"Do you have any kind of health care coverage, including health<br> insurance, prepaid plans such as HMOs, or government plans<br> such as Medicare, or Indian Health Service?\"}, \"xaxis\": {\"title\": {\"text\": \"Response (hlthpln1)\"}}, \"yaxis\": {\"title\": {\"text\": \"Number of People\"}}},\n",
       "                        {\"responsive\": true}\n",
       "                    ).then(function(){\n",
       "                            \n",
       "var gd = document.getElementById('3e5cb552-9456-4ffe-a62e-f6ac8c73e654');\n",
       "var x = new MutationObserver(function (mutations, observer) {{\n",
       "        var display = window.getComputedStyle(gd).display;\n",
       "        if (!display || display === 'none') {{\n",
       "            console.log([gd, 'removed!']);\n",
       "            Plotly.purge(gd);\n",
       "            observer.disconnect();\n",
       "        }}\n",
       "}});\n",
       "\n",
       "// Listen for the removal of the full notebook cells\n",
       "var notebookContainer = gd.closest('#notebook-container');\n",
       "if (notebookContainer) {{\n",
       "    x.observe(notebookContainer, {childList: true});\n",
       "}}\n",
       "\n",
       "// Listen for the clearing of the current output cell\n",
       "var outputEl = gd.closest('.output');\n",
       "if (outputEl) {{\n",
       "    x.observe(outputEl, {childList: true});\n",
       "}}\n",
       "\n",
       "                        })\n",
       "                };\n",
       "                });\n",
       "            </script>\n",
       "        </div>"
      ]
     },
     "metadata": {},
     "output_type": "display_data"
    }
   ],
   "source": [
    "#chart to view data and see if results match up\n",
    "fig = go.Figure(data = [go.Bar(name = '2011-14', x = hlthpln.columns, y = hlthpln.iloc[0]),\n",
    "                       go.Bar(name = '2015-18', x = hlthpln.columns, y = hlthpln.iloc[1])])\n",
    "fig.update_layout(\n",
    "    barmode='group',\n",
    "    title=\"Do you have any kind of health care coverage, including health<br> insurance, prepaid plans such as HMOs, or government plans<br> such as Medicare, or Indian Health Service?\",\n",
    "    xaxis_title=\"Response (hlthpln1)\",\n",
    "    yaxis_title=\"Number of People\",\n",
    "    font=dict(\n",
    "        family=\"Courier New, monospace\",\n",
    "        size=18,\n",
    "        color=\"#7f7f7f\"\n",
    "    )\n",
    ")\n",
    "fig.show()"
   ]
  },
  {
   "cell_type": "code",
   "execution_count": 88,
   "metadata": {},
   "outputs": [
    {
     "name": "stdout",
     "output_type": "stream",
     "text": [
      "chi2: 426.9376379266439 p-value: 7.540781605356308e-95 dof: 1\n"
     ]
    }
   ],
   "source": [
    "#perform chi2 test\n",
    "test_hlthpln = chi2_contingency(hlthpln)\n",
    "chi2 = test_hlthpln[0]\n",
    "pvalue = test_hlthpln[1]\n",
    "dof = test_hlthpln[2]\n",
    "print(\"chi2:\", chi2, \"p-value:\", pvalue, \"dof:\", dof)"
   ]
  },
  {
   "cell_type": "code",
   "execution_count": 89,
   "metadata": {},
   "outputs": [
    {
     "data": {
      "text/html": [
       "<div>\n",
       "<style scoped>\n",
       "    .dataframe tbody tr th:only-of-type {\n",
       "        vertical-align: middle;\n",
       "    }\n",
       "\n",
       "    .dataframe tbody tr th {\n",
       "        vertical-align: top;\n",
       "    }\n",
       "\n",
       "    .dataframe thead th {\n",
       "        text-align: right;\n",
       "    }\n",
       "</style>\n",
       "<table border=\"1\" class=\"dataframe\">\n",
       "  <thead>\n",
       "    <tr style=\"text-align: right;\">\n",
       "      <th></th>\n",
       "      <th>Yes</th>\n",
       "      <th>No</th>\n",
       "    </tr>\n",
       "  </thead>\n",
       "  <tbody>\n",
       "    <tr>\n",
       "      <th>2011-2014</th>\n",
       "      <td>110</td>\n",
       "      <td>981</td>\n",
       "    </tr>\n",
       "    <tr>\n",
       "      <th>2015-2018</th>\n",
       "      <td>84</td>\n",
       "      <td>970</td>\n",
       "    </tr>\n",
       "  </tbody>\n",
       "</table>\n",
       "</div>"
      ],
      "text/plain": [
       "           Yes   No\n",
       "2011-2014  110  981\n",
       "2015-2018   84  970"
      ]
     },
     "execution_count": 89,
     "metadata": {},
     "output_type": "execute_result"
    }
   ],
   "source": [
    "#MEDSCOST\n",
    "\n",
    "#THIS TEST IS NOT AS REPRESENTATIVE\n",
    "\n",
    "#splitting cost data on race/income\n",
    "\n",
    "meds_low1114 = low_income1114.loc[low_income1114['medscost'] < 3]\n",
    "meds_low1518 = low_income1518.loc[low_income1518['medscost'] < 3]\n",
    "\n",
    "meds_low1114 = meds_low1114['medscost']\n",
    "meds_low1518 = meds_low1518['medscost']\n",
    "\n",
    "\n",
    "meds_low1114 = meds_low1114.dropna()\n",
    "# meds_low1518\n",
    "meds_low1518 = meds_low1518.dropna()\n",
    "\n",
    "#meds_low1518\n",
    "\n",
    "sample1114 = meds_low1114.sample(n = 1091, random_state = 1)\n",
    "\n",
    "#get counts for each value of having care or not in 2014 data set\n",
    "counts14 = getCounts(sample1114, 2)\n",
    "#get counts for each value of having care or not in 2014 data set\n",
    "counts1518 = getCounts(meds_low1518, 2)\n",
    "\n",
    "meds_low = pd.DataFrame([counts14, counts1518], index = [\"2011-2014\", \"2015-2018\"], \n",
    "                         columns = [\"Yes\", \"No\"])\n",
    "meds_low"
   ]
  },
  {
   "cell_type": "code",
   "execution_count": 90,
   "metadata": {},
   "outputs": [
    {
     "data": {
      "application/vnd.plotly.v1+json": {
       "config": {
        "plotlyServerURL": "https://plot.ly"
       },
       "data": [
        {
         "name": "2011-14",
         "type": "bar",
         "x": [
          "Yes",
          "No"
         ],
         "y": [
          110,
          981
         ]
        },
        {
         "name": "2015-18",
         "type": "bar",
         "x": [
          "Yes",
          "No"
         ],
         "y": [
          84,
          970
         ]
        }
       ],
       "layout": {
        "barmode": "group",
        "font": {
         "color": "#7f7f7f",
         "family": "Courier New, monospace",
         "size": 18
        },
        "template": {
         "data": {
          "bar": [
           {
            "error_x": {
             "color": "#2a3f5f"
            },
            "error_y": {
             "color": "#2a3f5f"
            },
            "marker": {
             "line": {
              "color": "#E5ECF6",
              "width": 0.5
             }
            },
            "type": "bar"
           }
          ],
          "barpolar": [
           {
            "marker": {
             "line": {
              "color": "#E5ECF6",
              "width": 0.5
             }
            },
            "type": "barpolar"
           }
          ],
          "carpet": [
           {
            "aaxis": {
             "endlinecolor": "#2a3f5f",
             "gridcolor": "white",
             "linecolor": "white",
             "minorgridcolor": "white",
             "startlinecolor": "#2a3f5f"
            },
            "baxis": {
             "endlinecolor": "#2a3f5f",
             "gridcolor": "white",
             "linecolor": "white",
             "minorgridcolor": "white",
             "startlinecolor": "#2a3f5f"
            },
            "type": "carpet"
           }
          ],
          "choropleth": [
           {
            "colorbar": {
             "outlinewidth": 0,
             "ticks": ""
            },
            "type": "choropleth"
           }
          ],
          "contour": [
           {
            "colorbar": {
             "outlinewidth": 0,
             "ticks": ""
            },
            "colorscale": [
             [
              0,
              "#0d0887"
             ],
             [
              0.1111111111111111,
              "#46039f"
             ],
             [
              0.2222222222222222,
              "#7201a8"
             ],
             [
              0.3333333333333333,
              "#9c179e"
             ],
             [
              0.4444444444444444,
              "#bd3786"
             ],
             [
              0.5555555555555556,
              "#d8576b"
             ],
             [
              0.6666666666666666,
              "#ed7953"
             ],
             [
              0.7777777777777778,
              "#fb9f3a"
             ],
             [
              0.8888888888888888,
              "#fdca26"
             ],
             [
              1,
              "#f0f921"
             ]
            ],
            "type": "contour"
           }
          ],
          "contourcarpet": [
           {
            "colorbar": {
             "outlinewidth": 0,
             "ticks": ""
            },
            "type": "contourcarpet"
           }
          ],
          "heatmap": [
           {
            "colorbar": {
             "outlinewidth": 0,
             "ticks": ""
            },
            "colorscale": [
             [
              0,
              "#0d0887"
             ],
             [
              0.1111111111111111,
              "#46039f"
             ],
             [
              0.2222222222222222,
              "#7201a8"
             ],
             [
              0.3333333333333333,
              "#9c179e"
             ],
             [
              0.4444444444444444,
              "#bd3786"
             ],
             [
              0.5555555555555556,
              "#d8576b"
             ],
             [
              0.6666666666666666,
              "#ed7953"
             ],
             [
              0.7777777777777778,
              "#fb9f3a"
             ],
             [
              0.8888888888888888,
              "#fdca26"
             ],
             [
              1,
              "#f0f921"
             ]
            ],
            "type": "heatmap"
           }
          ],
          "heatmapgl": [
           {
            "colorbar": {
             "outlinewidth": 0,
             "ticks": ""
            },
            "colorscale": [
             [
              0,
              "#0d0887"
             ],
             [
              0.1111111111111111,
              "#46039f"
             ],
             [
              0.2222222222222222,
              "#7201a8"
             ],
             [
              0.3333333333333333,
              "#9c179e"
             ],
             [
              0.4444444444444444,
              "#bd3786"
             ],
             [
              0.5555555555555556,
              "#d8576b"
             ],
             [
              0.6666666666666666,
              "#ed7953"
             ],
             [
              0.7777777777777778,
              "#fb9f3a"
             ],
             [
              0.8888888888888888,
              "#fdca26"
             ],
             [
              1,
              "#f0f921"
             ]
            ],
            "type": "heatmapgl"
           }
          ],
          "histogram": [
           {
            "marker": {
             "colorbar": {
              "outlinewidth": 0,
              "ticks": ""
             }
            },
            "type": "histogram"
           }
          ],
          "histogram2d": [
           {
            "colorbar": {
             "outlinewidth": 0,
             "ticks": ""
            },
            "colorscale": [
             [
              0,
              "#0d0887"
             ],
             [
              0.1111111111111111,
              "#46039f"
             ],
             [
              0.2222222222222222,
              "#7201a8"
             ],
             [
              0.3333333333333333,
              "#9c179e"
             ],
             [
              0.4444444444444444,
              "#bd3786"
             ],
             [
              0.5555555555555556,
              "#d8576b"
             ],
             [
              0.6666666666666666,
              "#ed7953"
             ],
             [
              0.7777777777777778,
              "#fb9f3a"
             ],
             [
              0.8888888888888888,
              "#fdca26"
             ],
             [
              1,
              "#f0f921"
             ]
            ],
            "type": "histogram2d"
           }
          ],
          "histogram2dcontour": [
           {
            "colorbar": {
             "outlinewidth": 0,
             "ticks": ""
            },
            "colorscale": [
             [
              0,
              "#0d0887"
             ],
             [
              0.1111111111111111,
              "#46039f"
             ],
             [
              0.2222222222222222,
              "#7201a8"
             ],
             [
              0.3333333333333333,
              "#9c179e"
             ],
             [
              0.4444444444444444,
              "#bd3786"
             ],
             [
              0.5555555555555556,
              "#d8576b"
             ],
             [
              0.6666666666666666,
              "#ed7953"
             ],
             [
              0.7777777777777778,
              "#fb9f3a"
             ],
             [
              0.8888888888888888,
              "#fdca26"
             ],
             [
              1,
              "#f0f921"
             ]
            ],
            "type": "histogram2dcontour"
           }
          ],
          "mesh3d": [
           {
            "colorbar": {
             "outlinewidth": 0,
             "ticks": ""
            },
            "type": "mesh3d"
           }
          ],
          "parcoords": [
           {
            "line": {
             "colorbar": {
              "outlinewidth": 0,
              "ticks": ""
             }
            },
            "type": "parcoords"
           }
          ],
          "pie": [
           {
            "automargin": true,
            "type": "pie"
           }
          ],
          "scatter": [
           {
            "marker": {
             "colorbar": {
              "outlinewidth": 0,
              "ticks": ""
             }
            },
            "type": "scatter"
           }
          ],
          "scatter3d": [
           {
            "line": {
             "colorbar": {
              "outlinewidth": 0,
              "ticks": ""
             }
            },
            "marker": {
             "colorbar": {
              "outlinewidth": 0,
              "ticks": ""
             }
            },
            "type": "scatter3d"
           }
          ],
          "scattercarpet": [
           {
            "marker": {
             "colorbar": {
              "outlinewidth": 0,
              "ticks": ""
             }
            },
            "type": "scattercarpet"
           }
          ],
          "scattergeo": [
           {
            "marker": {
             "colorbar": {
              "outlinewidth": 0,
              "ticks": ""
             }
            },
            "type": "scattergeo"
           }
          ],
          "scattergl": [
           {
            "marker": {
             "colorbar": {
              "outlinewidth": 0,
              "ticks": ""
             }
            },
            "type": "scattergl"
           }
          ],
          "scattermapbox": [
           {
            "marker": {
             "colorbar": {
              "outlinewidth": 0,
              "ticks": ""
             }
            },
            "type": "scattermapbox"
           }
          ],
          "scatterpolar": [
           {
            "marker": {
             "colorbar": {
              "outlinewidth": 0,
              "ticks": ""
             }
            },
            "type": "scatterpolar"
           }
          ],
          "scatterpolargl": [
           {
            "marker": {
             "colorbar": {
              "outlinewidth": 0,
              "ticks": ""
             }
            },
            "type": "scatterpolargl"
           }
          ],
          "scatterternary": [
           {
            "marker": {
             "colorbar": {
              "outlinewidth": 0,
              "ticks": ""
             }
            },
            "type": "scatterternary"
           }
          ],
          "surface": [
           {
            "colorbar": {
             "outlinewidth": 0,
             "ticks": ""
            },
            "colorscale": [
             [
              0,
              "#0d0887"
             ],
             [
              0.1111111111111111,
              "#46039f"
             ],
             [
              0.2222222222222222,
              "#7201a8"
             ],
             [
              0.3333333333333333,
              "#9c179e"
             ],
             [
              0.4444444444444444,
              "#bd3786"
             ],
             [
              0.5555555555555556,
              "#d8576b"
             ],
             [
              0.6666666666666666,
              "#ed7953"
             ],
             [
              0.7777777777777778,
              "#fb9f3a"
             ],
             [
              0.8888888888888888,
              "#fdca26"
             ],
             [
              1,
              "#f0f921"
             ]
            ],
            "type": "surface"
           }
          ],
          "table": [
           {
            "cells": {
             "fill": {
              "color": "#EBF0F8"
             },
             "line": {
              "color": "white"
             }
            },
            "header": {
             "fill": {
              "color": "#C8D4E3"
             },
             "line": {
              "color": "white"
             }
            },
            "type": "table"
           }
          ]
         },
         "layout": {
          "annotationdefaults": {
           "arrowcolor": "#2a3f5f",
           "arrowhead": 0,
           "arrowwidth": 1
          },
          "coloraxis": {
           "colorbar": {
            "outlinewidth": 0,
            "ticks": ""
           }
          },
          "colorscale": {
           "diverging": [
            [
             0,
             "#8e0152"
            ],
            [
             0.1,
             "#c51b7d"
            ],
            [
             0.2,
             "#de77ae"
            ],
            [
             0.3,
             "#f1b6da"
            ],
            [
             0.4,
             "#fde0ef"
            ],
            [
             0.5,
             "#f7f7f7"
            ],
            [
             0.6,
             "#e6f5d0"
            ],
            [
             0.7,
             "#b8e186"
            ],
            [
             0.8,
             "#7fbc41"
            ],
            [
             0.9,
             "#4d9221"
            ],
            [
             1,
             "#276419"
            ]
           ],
           "sequential": [
            [
             0,
             "#0d0887"
            ],
            [
             0.1111111111111111,
             "#46039f"
            ],
            [
             0.2222222222222222,
             "#7201a8"
            ],
            [
             0.3333333333333333,
             "#9c179e"
            ],
            [
             0.4444444444444444,
             "#bd3786"
            ],
            [
             0.5555555555555556,
             "#d8576b"
            ],
            [
             0.6666666666666666,
             "#ed7953"
            ],
            [
             0.7777777777777778,
             "#fb9f3a"
            ],
            [
             0.8888888888888888,
             "#fdca26"
            ],
            [
             1,
             "#f0f921"
            ]
           ],
           "sequentialminus": [
            [
             0,
             "#0d0887"
            ],
            [
             0.1111111111111111,
             "#46039f"
            ],
            [
             0.2222222222222222,
             "#7201a8"
            ],
            [
             0.3333333333333333,
             "#9c179e"
            ],
            [
             0.4444444444444444,
             "#bd3786"
            ],
            [
             0.5555555555555556,
             "#d8576b"
            ],
            [
             0.6666666666666666,
             "#ed7953"
            ],
            [
             0.7777777777777778,
             "#fb9f3a"
            ],
            [
             0.8888888888888888,
             "#fdca26"
            ],
            [
             1,
             "#f0f921"
            ]
           ]
          },
          "colorway": [
           "#636efa",
           "#EF553B",
           "#00cc96",
           "#ab63fa",
           "#FFA15A",
           "#19d3f3",
           "#FF6692",
           "#B6E880",
           "#FF97FF",
           "#FECB52"
          ],
          "font": {
           "color": "#2a3f5f"
          },
          "geo": {
           "bgcolor": "white",
           "lakecolor": "white",
           "landcolor": "#E5ECF6",
           "showlakes": true,
           "showland": true,
           "subunitcolor": "white"
          },
          "hoverlabel": {
           "align": "left"
          },
          "hovermode": "closest",
          "mapbox": {
           "style": "light"
          },
          "paper_bgcolor": "white",
          "plot_bgcolor": "#E5ECF6",
          "polar": {
           "angularaxis": {
            "gridcolor": "white",
            "linecolor": "white",
            "ticks": ""
           },
           "bgcolor": "#E5ECF6",
           "radialaxis": {
            "gridcolor": "white",
            "linecolor": "white",
            "ticks": ""
           }
          },
          "scene": {
           "xaxis": {
            "backgroundcolor": "#E5ECF6",
            "gridcolor": "white",
            "gridwidth": 2,
            "linecolor": "white",
            "showbackground": true,
            "ticks": "",
            "zerolinecolor": "white"
           },
           "yaxis": {
            "backgroundcolor": "#E5ECF6",
            "gridcolor": "white",
            "gridwidth": 2,
            "linecolor": "white",
            "showbackground": true,
            "ticks": "",
            "zerolinecolor": "white"
           },
           "zaxis": {
            "backgroundcolor": "#E5ECF6",
            "gridcolor": "white",
            "gridwidth": 2,
            "linecolor": "white",
            "showbackground": true,
            "ticks": "",
            "zerolinecolor": "white"
           }
          },
          "shapedefaults": {
           "line": {
            "color": "#2a3f5f"
           }
          },
          "ternary": {
           "aaxis": {
            "gridcolor": "white",
            "linecolor": "white",
            "ticks": ""
           },
           "baxis": {
            "gridcolor": "white",
            "linecolor": "white",
            "ticks": ""
           },
           "bgcolor": "#E5ECF6",
           "caxis": {
            "gridcolor": "white",
            "linecolor": "white",
            "ticks": ""
           }
          },
          "title": {
           "x": 0.05
          },
          "xaxis": {
           "automargin": true,
           "gridcolor": "white",
           "linecolor": "white",
           "ticks": "",
           "title": {
            "standoff": 15
           },
           "zerolinecolor": "white",
           "zerolinewidth": 2
          },
          "yaxis": {
           "automargin": true,
           "gridcolor": "white",
           "linecolor": "white",
           "ticks": "",
           "title": {
            "standoff": 15
           },
           "zerolinecolor": "white",
           "zerolinewidth": 2
          }
         }
        },
        "title": {
         "text": "Not including over-the-counter (OTC) medications, was there a<br> time in the past 12 months when you did not take your <br>medication as prescribed because of cost?"
        },
        "xaxis": {
         "title": {
          "text": "Response (medscost)"
         }
        },
        "yaxis": {
         "title": {
          "text": "Number of People"
         }
        }
       }
      },
      "text/html": [
       "<div>\n",
       "        \n",
       "        \n",
       "            <div id=\"eaf331d6-02f0-4788-9a6f-273675c63fea\" class=\"plotly-graph-div\" style=\"height:525px; width:100%;\"></div>\n",
       "            <script type=\"text/javascript\">\n",
       "                require([\"plotly\"], function(Plotly) {\n",
       "                    window.PLOTLYENV=window.PLOTLYENV || {};\n",
       "                    \n",
       "                if (document.getElementById(\"eaf331d6-02f0-4788-9a6f-273675c63fea\")) {\n",
       "                    Plotly.newPlot(\n",
       "                        'eaf331d6-02f0-4788-9a6f-273675c63fea',\n",
       "                        [{\"name\": \"2011-14\", \"type\": \"bar\", \"x\": [\"Yes\", \"No\"], \"y\": [110, 981]}, {\"name\": \"2015-18\", \"type\": \"bar\", \"x\": [\"Yes\", \"No\"], \"y\": [84, 970]}],\n",
       "                        {\"barmode\": \"group\", \"font\": {\"color\": \"#7f7f7f\", \"family\": \"Courier New, monospace\", \"size\": 18}, \"template\": {\"data\": {\"bar\": [{\"error_x\": {\"color\": \"#2a3f5f\"}, \"error_y\": {\"color\": \"#2a3f5f\"}, \"marker\": {\"line\": {\"color\": \"#E5ECF6\", \"width\": 0.5}}, \"type\": \"bar\"}], \"barpolar\": [{\"marker\": {\"line\": {\"color\": \"#E5ECF6\", \"width\": 0.5}}, \"type\": \"barpolar\"}], \"carpet\": [{\"aaxis\": {\"endlinecolor\": \"#2a3f5f\", \"gridcolor\": \"white\", \"linecolor\": \"white\", \"minorgridcolor\": \"white\", \"startlinecolor\": \"#2a3f5f\"}, \"baxis\": {\"endlinecolor\": \"#2a3f5f\", \"gridcolor\": \"white\", \"linecolor\": \"white\", \"minorgridcolor\": \"white\", \"startlinecolor\": \"#2a3f5f\"}, \"type\": \"carpet\"}], \"choropleth\": [{\"colorbar\": {\"outlinewidth\": 0, \"ticks\": \"\"}, \"type\": \"choropleth\"}], \"contour\": [{\"colorbar\": {\"outlinewidth\": 0, \"ticks\": \"\"}, \"colorscale\": [[0.0, \"#0d0887\"], [0.1111111111111111, \"#46039f\"], [0.2222222222222222, \"#7201a8\"], [0.3333333333333333, \"#9c179e\"], [0.4444444444444444, \"#bd3786\"], [0.5555555555555556, \"#d8576b\"], [0.6666666666666666, \"#ed7953\"], [0.7777777777777778, \"#fb9f3a\"], [0.8888888888888888, \"#fdca26\"], [1.0, \"#f0f921\"]], \"type\": \"contour\"}], \"contourcarpet\": [{\"colorbar\": {\"outlinewidth\": 0, \"ticks\": \"\"}, \"type\": \"contourcarpet\"}], \"heatmap\": [{\"colorbar\": {\"outlinewidth\": 0, \"ticks\": \"\"}, \"colorscale\": [[0.0, \"#0d0887\"], [0.1111111111111111, \"#46039f\"], [0.2222222222222222, \"#7201a8\"], [0.3333333333333333, \"#9c179e\"], [0.4444444444444444, \"#bd3786\"], [0.5555555555555556, \"#d8576b\"], [0.6666666666666666, \"#ed7953\"], [0.7777777777777778, \"#fb9f3a\"], [0.8888888888888888, \"#fdca26\"], [1.0, \"#f0f921\"]], \"type\": \"heatmap\"}], \"heatmapgl\": [{\"colorbar\": {\"outlinewidth\": 0, \"ticks\": \"\"}, \"colorscale\": [[0.0, \"#0d0887\"], [0.1111111111111111, \"#46039f\"], [0.2222222222222222, \"#7201a8\"], [0.3333333333333333, \"#9c179e\"], [0.4444444444444444, \"#bd3786\"], [0.5555555555555556, \"#d8576b\"], [0.6666666666666666, \"#ed7953\"], [0.7777777777777778, \"#fb9f3a\"], [0.8888888888888888, \"#fdca26\"], [1.0, \"#f0f921\"]], \"type\": \"heatmapgl\"}], \"histogram\": [{\"marker\": {\"colorbar\": {\"outlinewidth\": 0, \"ticks\": \"\"}}, \"type\": \"histogram\"}], \"histogram2d\": [{\"colorbar\": {\"outlinewidth\": 0, \"ticks\": \"\"}, \"colorscale\": [[0.0, \"#0d0887\"], [0.1111111111111111, \"#46039f\"], [0.2222222222222222, \"#7201a8\"], [0.3333333333333333, \"#9c179e\"], [0.4444444444444444, \"#bd3786\"], [0.5555555555555556, \"#d8576b\"], [0.6666666666666666, \"#ed7953\"], [0.7777777777777778, \"#fb9f3a\"], [0.8888888888888888, \"#fdca26\"], [1.0, \"#f0f921\"]], \"type\": \"histogram2d\"}], \"histogram2dcontour\": [{\"colorbar\": {\"outlinewidth\": 0, \"ticks\": \"\"}, \"colorscale\": [[0.0, \"#0d0887\"], [0.1111111111111111, \"#46039f\"], [0.2222222222222222, \"#7201a8\"], [0.3333333333333333, \"#9c179e\"], [0.4444444444444444, \"#bd3786\"], [0.5555555555555556, \"#d8576b\"], [0.6666666666666666, \"#ed7953\"], [0.7777777777777778, \"#fb9f3a\"], [0.8888888888888888, \"#fdca26\"], [1.0, \"#f0f921\"]], \"type\": \"histogram2dcontour\"}], \"mesh3d\": [{\"colorbar\": {\"outlinewidth\": 0, \"ticks\": \"\"}, \"type\": \"mesh3d\"}], \"parcoords\": [{\"line\": {\"colorbar\": {\"outlinewidth\": 0, \"ticks\": \"\"}}, \"type\": \"parcoords\"}], \"pie\": [{\"automargin\": true, \"type\": \"pie\"}], \"scatter\": [{\"marker\": {\"colorbar\": {\"outlinewidth\": 0, \"ticks\": \"\"}}, \"type\": \"scatter\"}], \"scatter3d\": [{\"line\": {\"colorbar\": {\"outlinewidth\": 0, \"ticks\": \"\"}}, \"marker\": {\"colorbar\": {\"outlinewidth\": 0, \"ticks\": \"\"}}, \"type\": \"scatter3d\"}], \"scattercarpet\": [{\"marker\": {\"colorbar\": {\"outlinewidth\": 0, \"ticks\": \"\"}}, \"type\": \"scattercarpet\"}], \"scattergeo\": [{\"marker\": {\"colorbar\": {\"outlinewidth\": 0, \"ticks\": \"\"}}, \"type\": \"scattergeo\"}], \"scattergl\": [{\"marker\": {\"colorbar\": {\"outlinewidth\": 0, \"ticks\": \"\"}}, \"type\": \"scattergl\"}], \"scattermapbox\": [{\"marker\": {\"colorbar\": {\"outlinewidth\": 0, \"ticks\": \"\"}}, \"type\": \"scattermapbox\"}], \"scatterpolar\": [{\"marker\": {\"colorbar\": {\"outlinewidth\": 0, \"ticks\": \"\"}}, \"type\": \"scatterpolar\"}], \"scatterpolargl\": [{\"marker\": {\"colorbar\": {\"outlinewidth\": 0, \"ticks\": \"\"}}, \"type\": \"scatterpolargl\"}], \"scatterternary\": [{\"marker\": {\"colorbar\": {\"outlinewidth\": 0, \"ticks\": \"\"}}, \"type\": \"scatterternary\"}], \"surface\": [{\"colorbar\": {\"outlinewidth\": 0, \"ticks\": \"\"}, \"colorscale\": [[0.0, \"#0d0887\"], [0.1111111111111111, \"#46039f\"], [0.2222222222222222, \"#7201a8\"], [0.3333333333333333, \"#9c179e\"], [0.4444444444444444, \"#bd3786\"], [0.5555555555555556, \"#d8576b\"], [0.6666666666666666, \"#ed7953\"], [0.7777777777777778, \"#fb9f3a\"], [0.8888888888888888, \"#fdca26\"], [1.0, \"#f0f921\"]], \"type\": \"surface\"}], \"table\": [{\"cells\": {\"fill\": {\"color\": \"#EBF0F8\"}, \"line\": {\"color\": \"white\"}}, \"header\": {\"fill\": {\"color\": \"#C8D4E3\"}, \"line\": {\"color\": \"white\"}}, \"type\": \"table\"}]}, \"layout\": {\"annotationdefaults\": {\"arrowcolor\": \"#2a3f5f\", \"arrowhead\": 0, \"arrowwidth\": 1}, \"coloraxis\": {\"colorbar\": {\"outlinewidth\": 0, \"ticks\": \"\"}}, \"colorscale\": {\"diverging\": [[0, \"#8e0152\"], [0.1, \"#c51b7d\"], [0.2, \"#de77ae\"], [0.3, \"#f1b6da\"], [0.4, \"#fde0ef\"], [0.5, \"#f7f7f7\"], [0.6, \"#e6f5d0\"], [0.7, \"#b8e186\"], [0.8, \"#7fbc41\"], [0.9, \"#4d9221\"], [1, \"#276419\"]], \"sequential\": [[0.0, \"#0d0887\"], [0.1111111111111111, \"#46039f\"], [0.2222222222222222, \"#7201a8\"], [0.3333333333333333, \"#9c179e\"], [0.4444444444444444, \"#bd3786\"], [0.5555555555555556, \"#d8576b\"], [0.6666666666666666, \"#ed7953\"], [0.7777777777777778, \"#fb9f3a\"], [0.8888888888888888, \"#fdca26\"], [1.0, \"#f0f921\"]], \"sequentialminus\": [[0.0, \"#0d0887\"], [0.1111111111111111, \"#46039f\"], [0.2222222222222222, \"#7201a8\"], [0.3333333333333333, \"#9c179e\"], [0.4444444444444444, \"#bd3786\"], [0.5555555555555556, \"#d8576b\"], [0.6666666666666666, \"#ed7953\"], [0.7777777777777778, \"#fb9f3a\"], [0.8888888888888888, \"#fdca26\"], [1.0, \"#f0f921\"]]}, \"colorway\": [\"#636efa\", \"#EF553B\", \"#00cc96\", \"#ab63fa\", \"#FFA15A\", \"#19d3f3\", \"#FF6692\", \"#B6E880\", \"#FF97FF\", \"#FECB52\"], \"font\": {\"color\": \"#2a3f5f\"}, \"geo\": {\"bgcolor\": \"white\", \"lakecolor\": \"white\", \"landcolor\": \"#E5ECF6\", \"showlakes\": true, \"showland\": true, \"subunitcolor\": \"white\"}, \"hoverlabel\": {\"align\": \"left\"}, \"hovermode\": \"closest\", \"mapbox\": {\"style\": \"light\"}, \"paper_bgcolor\": \"white\", \"plot_bgcolor\": \"#E5ECF6\", \"polar\": {\"angularaxis\": {\"gridcolor\": \"white\", \"linecolor\": \"white\", \"ticks\": \"\"}, \"bgcolor\": \"#E5ECF6\", \"radialaxis\": {\"gridcolor\": \"white\", \"linecolor\": \"white\", \"ticks\": \"\"}}, \"scene\": {\"xaxis\": {\"backgroundcolor\": \"#E5ECF6\", \"gridcolor\": \"white\", \"gridwidth\": 2, \"linecolor\": \"white\", \"showbackground\": true, \"ticks\": \"\", \"zerolinecolor\": \"white\"}, \"yaxis\": {\"backgroundcolor\": \"#E5ECF6\", \"gridcolor\": \"white\", \"gridwidth\": 2, \"linecolor\": \"white\", \"showbackground\": true, \"ticks\": \"\", \"zerolinecolor\": \"white\"}, \"zaxis\": {\"backgroundcolor\": \"#E5ECF6\", \"gridcolor\": \"white\", \"gridwidth\": 2, \"linecolor\": \"white\", \"showbackground\": true, \"ticks\": \"\", \"zerolinecolor\": \"white\"}}, \"shapedefaults\": {\"line\": {\"color\": \"#2a3f5f\"}}, \"ternary\": {\"aaxis\": {\"gridcolor\": \"white\", \"linecolor\": \"white\", \"ticks\": \"\"}, \"baxis\": {\"gridcolor\": \"white\", \"linecolor\": \"white\", \"ticks\": \"\"}, \"bgcolor\": \"#E5ECF6\", \"caxis\": {\"gridcolor\": \"white\", \"linecolor\": \"white\", \"ticks\": \"\"}}, \"title\": {\"x\": 0.05}, \"xaxis\": {\"automargin\": true, \"gridcolor\": \"white\", \"linecolor\": \"white\", \"ticks\": \"\", \"title\": {\"standoff\": 15}, \"zerolinecolor\": \"white\", \"zerolinewidth\": 2}, \"yaxis\": {\"automargin\": true, \"gridcolor\": \"white\", \"linecolor\": \"white\", \"ticks\": \"\", \"title\": {\"standoff\": 15}, \"zerolinecolor\": \"white\", \"zerolinewidth\": 2}}}, \"title\": {\"text\": \"Not including over-the-counter (OTC) medications, was there a<br> time in the past 12 months when you did not take your <br>medication as prescribed because of cost?\"}, \"xaxis\": {\"title\": {\"text\": \"Response (medscost)\"}}, \"yaxis\": {\"title\": {\"text\": \"Number of People\"}}},\n",
       "                        {\"responsive\": true}\n",
       "                    ).then(function(){\n",
       "                            \n",
       "var gd = document.getElementById('eaf331d6-02f0-4788-9a6f-273675c63fea');\n",
       "var x = new MutationObserver(function (mutations, observer) {{\n",
       "        var display = window.getComputedStyle(gd).display;\n",
       "        if (!display || display === 'none') {{\n",
       "            console.log([gd, 'removed!']);\n",
       "            Plotly.purge(gd);\n",
       "            observer.disconnect();\n",
       "        }}\n",
       "}});\n",
       "\n",
       "// Listen for the removal of the full notebook cells\n",
       "var notebookContainer = gd.closest('#notebook-container');\n",
       "if (notebookContainer) {{\n",
       "    x.observe(notebookContainer, {childList: true});\n",
       "}}\n",
       "\n",
       "// Listen for the clearing of the current output cell\n",
       "var outputEl = gd.closest('.output');\n",
       "if (outputEl) {{\n",
       "    x.observe(outputEl, {childList: true});\n",
       "}}\n",
       "\n",
       "                        })\n",
       "                };\n",
       "                });\n",
       "            </script>\n",
       "        </div>"
      ]
     },
     "metadata": {},
     "output_type": "display_data"
    }
   ],
   "source": [
    "#chart to view data and see if results match up\n",
    "fig = go.Figure(data = [go.Bar(name = '2011-14', x = meds_low.columns, y = meds_low.iloc[0]),\n",
    "                       go.Bar(name = '2015-18', x = meds_low.columns, y = meds_low.iloc[1])])\n",
    "fig.update_layout(\n",
    "    barmode='group',\n",
    "    title=\"Not including over-the-counter (OTC) medications, was there a<br> time in the past 12 months when you did not take your <br>medication as prescribed because of cost?\",\n",
    "    xaxis_title=\"Response (medscost)\",\n",
    "    yaxis_title=\"Number of People\",\n",
    "    font=dict(\n",
    "        family=\"Courier New, monospace\",\n",
    "        size=18,\n",
    "        color=\"#7f7f7f\"\n",
    "    )\n",
    ")\n",
    "fig.show()"
   ]
  },
  {
   "cell_type": "code",
   "execution_count": 91,
   "metadata": {},
   "outputs": [
    {
     "name": "stdout",
     "output_type": "stream",
     "text": [
      "chi2: 2.658020223446203 p-value: 0.10302889955331129 dof: 1\n"
     ]
    }
   ],
   "source": [
    "#perform chi2 test\n",
    "test_meds_low = chi2_contingency(meds_low)\n",
    "chi2 = test_meds_low[0]\n",
    "pvalue = test_meds_low[1]\n",
    "dof = test_meds_low[2]\n",
    "print(\"chi2:\", chi2, \"p-value:\", pvalue, \"dof:\", dof)"
   ]
  },
  {
   "cell_type": "code",
   "execution_count": 92,
   "metadata": {},
   "outputs": [
    {
     "data": {
      "text/html": [
       "<div>\n",
       "<style scoped>\n",
       "    .dataframe tbody tr th:only-of-type {\n",
       "        vertical-align: middle;\n",
       "    }\n",
       "\n",
       "    .dataframe tbody tr th {\n",
       "        vertical-align: top;\n",
       "    }\n",
       "\n",
       "    .dataframe thead th {\n",
       "        text-align: right;\n",
       "    }\n",
       "</style>\n",
       "<table border=\"1\" class=\"dataframe\">\n",
       "  <thead>\n",
       "    <tr style=\"text-align: right;\">\n",
       "      <th></th>\n",
       "      <th>Yes</th>\n",
       "      <th>No</th>\n",
       "    </tr>\n",
       "  </thead>\n",
       "  <tbody>\n",
       "    <tr>\n",
       "      <th>2011-2014</th>\n",
       "      <td>25904</td>\n",
       "      <td>2633</td>\n",
       "    </tr>\n",
       "    <tr>\n",
       "      <th>2015-2018</th>\n",
       "      <td>26479</td>\n",
       "      <td>2027</td>\n",
       "    </tr>\n",
       "  </tbody>\n",
       "</table>\n",
       "</div>"
      ],
      "text/plain": [
       "             Yes    No\n",
       "2011-2014  25904  2633\n",
       "2015-2018  26479  2027"
      ]
     },
     "execution_count": 92,
     "metadata": {},
     "output_type": "execute_result"
    }
   ],
   "source": [
    "#PERSDOC2\n",
    "\n",
    "#splitting cost data on race/income\n",
    "\n",
    "doc_low1114 = low_income1114['persdoc2']\n",
    "doc_low1518 = low_income1518['persdoc2']\n",
    "\n",
    "doc_low1114 = doc_low1114.dropna()\n",
    "doc_low1518 = doc_low1518.dropna()\n",
    "\n",
    "\n",
    "sample1114 = doc_low1114.sample(n = 28691, random_state = 1)\n",
    "\n",
    "#get counts for each value of having care or not in 2014 data set\n",
    "counts14 = getCounts(sample1114, 3)\n",
    "#get counts for each value of having care or not in 2014 data set\n",
    "counts1518 = getCounts(doc_low1518, 3)\n",
    "\n",
    "counts14 = [counts14[0]+counts14[1], counts14[2]]\n",
    "counts1518 = [counts1518[0]+counts1518[1], counts1518[2]]\n",
    "\n",
    "\n",
    "doc_low = pd.DataFrame([counts14, counts1518], index = [\"2011-2014\", \"2015-2018\"], \n",
    "                         columns = [\"Yes\", \"No\"])\n",
    "doc_low"
   ]
  },
  {
   "cell_type": "code",
   "execution_count": 93,
   "metadata": {},
   "outputs": [
    {
     "data": {
      "application/vnd.plotly.v1+json": {
       "config": {
        "plotlyServerURL": "https://plot.ly"
       },
       "data": [
        {
         "name": "2011-14",
         "type": "bar",
         "x": [
          "Yes",
          "No"
         ],
         "y": [
          25904,
          2633
         ]
        },
        {
         "name": "2015-18",
         "type": "bar",
         "x": [
          "Yes",
          "No"
         ],
         "y": [
          26479,
          2027
         ]
        }
       ],
       "layout": {
        "barmode": "group",
        "font": {
         "color": "#7f7f7f",
         "family": "Courier New, monospace",
         "size": 18
        },
        "template": {
         "data": {
          "bar": [
           {
            "error_x": {
             "color": "#2a3f5f"
            },
            "error_y": {
             "color": "#2a3f5f"
            },
            "marker": {
             "line": {
              "color": "#E5ECF6",
              "width": 0.5
             }
            },
            "type": "bar"
           }
          ],
          "barpolar": [
           {
            "marker": {
             "line": {
              "color": "#E5ECF6",
              "width": 0.5
             }
            },
            "type": "barpolar"
           }
          ],
          "carpet": [
           {
            "aaxis": {
             "endlinecolor": "#2a3f5f",
             "gridcolor": "white",
             "linecolor": "white",
             "minorgridcolor": "white",
             "startlinecolor": "#2a3f5f"
            },
            "baxis": {
             "endlinecolor": "#2a3f5f",
             "gridcolor": "white",
             "linecolor": "white",
             "minorgridcolor": "white",
             "startlinecolor": "#2a3f5f"
            },
            "type": "carpet"
           }
          ],
          "choropleth": [
           {
            "colorbar": {
             "outlinewidth": 0,
             "ticks": ""
            },
            "type": "choropleth"
           }
          ],
          "contour": [
           {
            "colorbar": {
             "outlinewidth": 0,
             "ticks": ""
            },
            "colorscale": [
             [
              0,
              "#0d0887"
             ],
             [
              0.1111111111111111,
              "#46039f"
             ],
             [
              0.2222222222222222,
              "#7201a8"
             ],
             [
              0.3333333333333333,
              "#9c179e"
             ],
             [
              0.4444444444444444,
              "#bd3786"
             ],
             [
              0.5555555555555556,
              "#d8576b"
             ],
             [
              0.6666666666666666,
              "#ed7953"
             ],
             [
              0.7777777777777778,
              "#fb9f3a"
             ],
             [
              0.8888888888888888,
              "#fdca26"
             ],
             [
              1,
              "#f0f921"
             ]
            ],
            "type": "contour"
           }
          ],
          "contourcarpet": [
           {
            "colorbar": {
             "outlinewidth": 0,
             "ticks": ""
            },
            "type": "contourcarpet"
           }
          ],
          "heatmap": [
           {
            "colorbar": {
             "outlinewidth": 0,
             "ticks": ""
            },
            "colorscale": [
             [
              0,
              "#0d0887"
             ],
             [
              0.1111111111111111,
              "#46039f"
             ],
             [
              0.2222222222222222,
              "#7201a8"
             ],
             [
              0.3333333333333333,
              "#9c179e"
             ],
             [
              0.4444444444444444,
              "#bd3786"
             ],
             [
              0.5555555555555556,
              "#d8576b"
             ],
             [
              0.6666666666666666,
              "#ed7953"
             ],
             [
              0.7777777777777778,
              "#fb9f3a"
             ],
             [
              0.8888888888888888,
              "#fdca26"
             ],
             [
              1,
              "#f0f921"
             ]
            ],
            "type": "heatmap"
           }
          ],
          "heatmapgl": [
           {
            "colorbar": {
             "outlinewidth": 0,
             "ticks": ""
            },
            "colorscale": [
             [
              0,
              "#0d0887"
             ],
             [
              0.1111111111111111,
              "#46039f"
             ],
             [
              0.2222222222222222,
              "#7201a8"
             ],
             [
              0.3333333333333333,
              "#9c179e"
             ],
             [
              0.4444444444444444,
              "#bd3786"
             ],
             [
              0.5555555555555556,
              "#d8576b"
             ],
             [
              0.6666666666666666,
              "#ed7953"
             ],
             [
              0.7777777777777778,
              "#fb9f3a"
             ],
             [
              0.8888888888888888,
              "#fdca26"
             ],
             [
              1,
              "#f0f921"
             ]
            ],
            "type": "heatmapgl"
           }
          ],
          "histogram": [
           {
            "marker": {
             "colorbar": {
              "outlinewidth": 0,
              "ticks": ""
             }
            },
            "type": "histogram"
           }
          ],
          "histogram2d": [
           {
            "colorbar": {
             "outlinewidth": 0,
             "ticks": ""
            },
            "colorscale": [
             [
              0,
              "#0d0887"
             ],
             [
              0.1111111111111111,
              "#46039f"
             ],
             [
              0.2222222222222222,
              "#7201a8"
             ],
             [
              0.3333333333333333,
              "#9c179e"
             ],
             [
              0.4444444444444444,
              "#bd3786"
             ],
             [
              0.5555555555555556,
              "#d8576b"
             ],
             [
              0.6666666666666666,
              "#ed7953"
             ],
             [
              0.7777777777777778,
              "#fb9f3a"
             ],
             [
              0.8888888888888888,
              "#fdca26"
             ],
             [
              1,
              "#f0f921"
             ]
            ],
            "type": "histogram2d"
           }
          ],
          "histogram2dcontour": [
           {
            "colorbar": {
             "outlinewidth": 0,
             "ticks": ""
            },
            "colorscale": [
             [
              0,
              "#0d0887"
             ],
             [
              0.1111111111111111,
              "#46039f"
             ],
             [
              0.2222222222222222,
              "#7201a8"
             ],
             [
              0.3333333333333333,
              "#9c179e"
             ],
             [
              0.4444444444444444,
              "#bd3786"
             ],
             [
              0.5555555555555556,
              "#d8576b"
             ],
             [
              0.6666666666666666,
              "#ed7953"
             ],
             [
              0.7777777777777778,
              "#fb9f3a"
             ],
             [
              0.8888888888888888,
              "#fdca26"
             ],
             [
              1,
              "#f0f921"
             ]
            ],
            "type": "histogram2dcontour"
           }
          ],
          "mesh3d": [
           {
            "colorbar": {
             "outlinewidth": 0,
             "ticks": ""
            },
            "type": "mesh3d"
           }
          ],
          "parcoords": [
           {
            "line": {
             "colorbar": {
              "outlinewidth": 0,
              "ticks": ""
             }
            },
            "type": "parcoords"
           }
          ],
          "pie": [
           {
            "automargin": true,
            "type": "pie"
           }
          ],
          "scatter": [
           {
            "marker": {
             "colorbar": {
              "outlinewidth": 0,
              "ticks": ""
             }
            },
            "type": "scatter"
           }
          ],
          "scatter3d": [
           {
            "line": {
             "colorbar": {
              "outlinewidth": 0,
              "ticks": ""
             }
            },
            "marker": {
             "colorbar": {
              "outlinewidth": 0,
              "ticks": ""
             }
            },
            "type": "scatter3d"
           }
          ],
          "scattercarpet": [
           {
            "marker": {
             "colorbar": {
              "outlinewidth": 0,
              "ticks": ""
             }
            },
            "type": "scattercarpet"
           }
          ],
          "scattergeo": [
           {
            "marker": {
             "colorbar": {
              "outlinewidth": 0,
              "ticks": ""
             }
            },
            "type": "scattergeo"
           }
          ],
          "scattergl": [
           {
            "marker": {
             "colorbar": {
              "outlinewidth": 0,
              "ticks": ""
             }
            },
            "type": "scattergl"
           }
          ],
          "scattermapbox": [
           {
            "marker": {
             "colorbar": {
              "outlinewidth": 0,
              "ticks": ""
             }
            },
            "type": "scattermapbox"
           }
          ],
          "scatterpolar": [
           {
            "marker": {
             "colorbar": {
              "outlinewidth": 0,
              "ticks": ""
             }
            },
            "type": "scatterpolar"
           }
          ],
          "scatterpolargl": [
           {
            "marker": {
             "colorbar": {
              "outlinewidth": 0,
              "ticks": ""
             }
            },
            "type": "scatterpolargl"
           }
          ],
          "scatterternary": [
           {
            "marker": {
             "colorbar": {
              "outlinewidth": 0,
              "ticks": ""
             }
            },
            "type": "scatterternary"
           }
          ],
          "surface": [
           {
            "colorbar": {
             "outlinewidth": 0,
             "ticks": ""
            },
            "colorscale": [
             [
              0,
              "#0d0887"
             ],
             [
              0.1111111111111111,
              "#46039f"
             ],
             [
              0.2222222222222222,
              "#7201a8"
             ],
             [
              0.3333333333333333,
              "#9c179e"
             ],
             [
              0.4444444444444444,
              "#bd3786"
             ],
             [
              0.5555555555555556,
              "#d8576b"
             ],
             [
              0.6666666666666666,
              "#ed7953"
             ],
             [
              0.7777777777777778,
              "#fb9f3a"
             ],
             [
              0.8888888888888888,
              "#fdca26"
             ],
             [
              1,
              "#f0f921"
             ]
            ],
            "type": "surface"
           }
          ],
          "table": [
           {
            "cells": {
             "fill": {
              "color": "#EBF0F8"
             },
             "line": {
              "color": "white"
             }
            },
            "header": {
             "fill": {
              "color": "#C8D4E3"
             },
             "line": {
              "color": "white"
             }
            },
            "type": "table"
           }
          ]
         },
         "layout": {
          "annotationdefaults": {
           "arrowcolor": "#2a3f5f",
           "arrowhead": 0,
           "arrowwidth": 1
          },
          "coloraxis": {
           "colorbar": {
            "outlinewidth": 0,
            "ticks": ""
           }
          },
          "colorscale": {
           "diverging": [
            [
             0,
             "#8e0152"
            ],
            [
             0.1,
             "#c51b7d"
            ],
            [
             0.2,
             "#de77ae"
            ],
            [
             0.3,
             "#f1b6da"
            ],
            [
             0.4,
             "#fde0ef"
            ],
            [
             0.5,
             "#f7f7f7"
            ],
            [
             0.6,
             "#e6f5d0"
            ],
            [
             0.7,
             "#b8e186"
            ],
            [
             0.8,
             "#7fbc41"
            ],
            [
             0.9,
             "#4d9221"
            ],
            [
             1,
             "#276419"
            ]
           ],
           "sequential": [
            [
             0,
             "#0d0887"
            ],
            [
             0.1111111111111111,
             "#46039f"
            ],
            [
             0.2222222222222222,
             "#7201a8"
            ],
            [
             0.3333333333333333,
             "#9c179e"
            ],
            [
             0.4444444444444444,
             "#bd3786"
            ],
            [
             0.5555555555555556,
             "#d8576b"
            ],
            [
             0.6666666666666666,
             "#ed7953"
            ],
            [
             0.7777777777777778,
             "#fb9f3a"
            ],
            [
             0.8888888888888888,
             "#fdca26"
            ],
            [
             1,
             "#f0f921"
            ]
           ],
           "sequentialminus": [
            [
             0,
             "#0d0887"
            ],
            [
             0.1111111111111111,
             "#46039f"
            ],
            [
             0.2222222222222222,
             "#7201a8"
            ],
            [
             0.3333333333333333,
             "#9c179e"
            ],
            [
             0.4444444444444444,
             "#bd3786"
            ],
            [
             0.5555555555555556,
             "#d8576b"
            ],
            [
             0.6666666666666666,
             "#ed7953"
            ],
            [
             0.7777777777777778,
             "#fb9f3a"
            ],
            [
             0.8888888888888888,
             "#fdca26"
            ],
            [
             1,
             "#f0f921"
            ]
           ]
          },
          "colorway": [
           "#636efa",
           "#EF553B",
           "#00cc96",
           "#ab63fa",
           "#FFA15A",
           "#19d3f3",
           "#FF6692",
           "#B6E880",
           "#FF97FF",
           "#FECB52"
          ],
          "font": {
           "color": "#2a3f5f"
          },
          "geo": {
           "bgcolor": "white",
           "lakecolor": "white",
           "landcolor": "#E5ECF6",
           "showlakes": true,
           "showland": true,
           "subunitcolor": "white"
          },
          "hoverlabel": {
           "align": "left"
          },
          "hovermode": "closest",
          "mapbox": {
           "style": "light"
          },
          "paper_bgcolor": "white",
          "plot_bgcolor": "#E5ECF6",
          "polar": {
           "angularaxis": {
            "gridcolor": "white",
            "linecolor": "white",
            "ticks": ""
           },
           "bgcolor": "#E5ECF6",
           "radialaxis": {
            "gridcolor": "white",
            "linecolor": "white",
            "ticks": ""
           }
          },
          "scene": {
           "xaxis": {
            "backgroundcolor": "#E5ECF6",
            "gridcolor": "white",
            "gridwidth": 2,
            "linecolor": "white",
            "showbackground": true,
            "ticks": "",
            "zerolinecolor": "white"
           },
           "yaxis": {
            "backgroundcolor": "#E5ECF6",
            "gridcolor": "white",
            "gridwidth": 2,
            "linecolor": "white",
            "showbackground": true,
            "ticks": "",
            "zerolinecolor": "white"
           },
           "zaxis": {
            "backgroundcolor": "#E5ECF6",
            "gridcolor": "white",
            "gridwidth": 2,
            "linecolor": "white",
            "showbackground": true,
            "ticks": "",
            "zerolinecolor": "white"
           }
          },
          "shapedefaults": {
           "line": {
            "color": "#2a3f5f"
           }
          },
          "ternary": {
           "aaxis": {
            "gridcolor": "white",
            "linecolor": "white",
            "ticks": ""
           },
           "baxis": {
            "gridcolor": "white",
            "linecolor": "white",
            "ticks": ""
           },
           "bgcolor": "#E5ECF6",
           "caxis": {
            "gridcolor": "white",
            "linecolor": "white",
            "ticks": ""
           }
          },
          "title": {
           "x": 0.05
          },
          "xaxis": {
           "automargin": true,
           "gridcolor": "white",
           "linecolor": "white",
           "ticks": "",
           "title": {
            "standoff": 15
           },
           "zerolinecolor": "white",
           "zerolinewidth": 2
          },
          "yaxis": {
           "automargin": true,
           "gridcolor": "white",
           "linecolor": "white",
           "ticks": "",
           "title": {
            "standoff": 15
           },
           "zerolinecolor": "white",
           "zerolinewidth": 2
          }
         }
        },
        "title": {
         "text": "Do you have one person you think of as your personal doctor or <br>health care provider?"
        },
        "xaxis": {
         "title": {
          "text": "Response (persdoc2)"
         }
        },
        "yaxis": {
         "title": {
          "text": "Number of People"
         }
        }
       }
      },
      "text/html": [
       "<div>\n",
       "        \n",
       "        \n",
       "            <div id=\"46736f21-6c2a-45e4-b0b5-97400e73176c\" class=\"plotly-graph-div\" style=\"height:525px; width:100%;\"></div>\n",
       "            <script type=\"text/javascript\">\n",
       "                require([\"plotly\"], function(Plotly) {\n",
       "                    window.PLOTLYENV=window.PLOTLYENV || {};\n",
       "                    \n",
       "                if (document.getElementById(\"46736f21-6c2a-45e4-b0b5-97400e73176c\")) {\n",
       "                    Plotly.newPlot(\n",
       "                        '46736f21-6c2a-45e4-b0b5-97400e73176c',\n",
       "                        [{\"name\": \"2011-14\", \"type\": \"bar\", \"x\": [\"Yes\", \"No\"], \"y\": [25904, 2633]}, {\"name\": \"2015-18\", \"type\": \"bar\", \"x\": [\"Yes\", \"No\"], \"y\": [26479, 2027]}],\n",
       "                        {\"barmode\": \"group\", \"font\": {\"color\": \"#7f7f7f\", \"family\": \"Courier New, monospace\", \"size\": 18}, \"template\": {\"data\": {\"bar\": [{\"error_x\": {\"color\": \"#2a3f5f\"}, \"error_y\": {\"color\": \"#2a3f5f\"}, \"marker\": {\"line\": {\"color\": \"#E5ECF6\", \"width\": 0.5}}, \"type\": \"bar\"}], \"barpolar\": [{\"marker\": {\"line\": {\"color\": \"#E5ECF6\", \"width\": 0.5}}, \"type\": \"barpolar\"}], \"carpet\": [{\"aaxis\": {\"endlinecolor\": \"#2a3f5f\", \"gridcolor\": \"white\", \"linecolor\": \"white\", \"minorgridcolor\": \"white\", \"startlinecolor\": \"#2a3f5f\"}, \"baxis\": {\"endlinecolor\": \"#2a3f5f\", \"gridcolor\": \"white\", \"linecolor\": \"white\", \"minorgridcolor\": \"white\", \"startlinecolor\": \"#2a3f5f\"}, \"type\": \"carpet\"}], \"choropleth\": [{\"colorbar\": {\"outlinewidth\": 0, \"ticks\": \"\"}, \"type\": \"choropleth\"}], \"contour\": [{\"colorbar\": {\"outlinewidth\": 0, \"ticks\": \"\"}, \"colorscale\": [[0.0, \"#0d0887\"], [0.1111111111111111, \"#46039f\"], [0.2222222222222222, \"#7201a8\"], [0.3333333333333333, \"#9c179e\"], [0.4444444444444444, \"#bd3786\"], [0.5555555555555556, \"#d8576b\"], [0.6666666666666666, \"#ed7953\"], [0.7777777777777778, \"#fb9f3a\"], [0.8888888888888888, \"#fdca26\"], [1.0, \"#f0f921\"]], \"type\": \"contour\"}], \"contourcarpet\": [{\"colorbar\": {\"outlinewidth\": 0, \"ticks\": \"\"}, \"type\": \"contourcarpet\"}], \"heatmap\": [{\"colorbar\": {\"outlinewidth\": 0, \"ticks\": \"\"}, \"colorscale\": [[0.0, \"#0d0887\"], [0.1111111111111111, \"#46039f\"], [0.2222222222222222, \"#7201a8\"], [0.3333333333333333, \"#9c179e\"], [0.4444444444444444, \"#bd3786\"], [0.5555555555555556, \"#d8576b\"], [0.6666666666666666, \"#ed7953\"], [0.7777777777777778, \"#fb9f3a\"], [0.8888888888888888, \"#fdca26\"], [1.0, \"#f0f921\"]], \"type\": \"heatmap\"}], \"heatmapgl\": [{\"colorbar\": {\"outlinewidth\": 0, \"ticks\": \"\"}, \"colorscale\": [[0.0, \"#0d0887\"], [0.1111111111111111, \"#46039f\"], [0.2222222222222222, \"#7201a8\"], [0.3333333333333333, \"#9c179e\"], [0.4444444444444444, \"#bd3786\"], [0.5555555555555556, \"#d8576b\"], [0.6666666666666666, \"#ed7953\"], [0.7777777777777778, \"#fb9f3a\"], [0.8888888888888888, \"#fdca26\"], [1.0, \"#f0f921\"]], \"type\": \"heatmapgl\"}], \"histogram\": [{\"marker\": {\"colorbar\": {\"outlinewidth\": 0, \"ticks\": \"\"}}, \"type\": \"histogram\"}], \"histogram2d\": [{\"colorbar\": {\"outlinewidth\": 0, \"ticks\": \"\"}, \"colorscale\": [[0.0, \"#0d0887\"], [0.1111111111111111, \"#46039f\"], [0.2222222222222222, \"#7201a8\"], [0.3333333333333333, \"#9c179e\"], [0.4444444444444444, \"#bd3786\"], [0.5555555555555556, \"#d8576b\"], [0.6666666666666666, \"#ed7953\"], [0.7777777777777778, \"#fb9f3a\"], [0.8888888888888888, \"#fdca26\"], [1.0, \"#f0f921\"]], \"type\": \"histogram2d\"}], \"histogram2dcontour\": [{\"colorbar\": {\"outlinewidth\": 0, \"ticks\": \"\"}, \"colorscale\": [[0.0, \"#0d0887\"], [0.1111111111111111, \"#46039f\"], [0.2222222222222222, \"#7201a8\"], [0.3333333333333333, \"#9c179e\"], [0.4444444444444444, \"#bd3786\"], [0.5555555555555556, \"#d8576b\"], [0.6666666666666666, \"#ed7953\"], [0.7777777777777778, \"#fb9f3a\"], [0.8888888888888888, \"#fdca26\"], [1.0, \"#f0f921\"]], \"type\": \"histogram2dcontour\"}], \"mesh3d\": [{\"colorbar\": {\"outlinewidth\": 0, \"ticks\": \"\"}, \"type\": \"mesh3d\"}], \"parcoords\": [{\"line\": {\"colorbar\": {\"outlinewidth\": 0, \"ticks\": \"\"}}, \"type\": \"parcoords\"}], \"pie\": [{\"automargin\": true, \"type\": \"pie\"}], \"scatter\": [{\"marker\": {\"colorbar\": {\"outlinewidth\": 0, \"ticks\": \"\"}}, \"type\": \"scatter\"}], \"scatter3d\": [{\"line\": {\"colorbar\": {\"outlinewidth\": 0, \"ticks\": \"\"}}, \"marker\": {\"colorbar\": {\"outlinewidth\": 0, \"ticks\": \"\"}}, \"type\": \"scatter3d\"}], \"scattercarpet\": [{\"marker\": {\"colorbar\": {\"outlinewidth\": 0, \"ticks\": \"\"}}, \"type\": \"scattercarpet\"}], \"scattergeo\": [{\"marker\": {\"colorbar\": {\"outlinewidth\": 0, \"ticks\": \"\"}}, \"type\": \"scattergeo\"}], \"scattergl\": [{\"marker\": {\"colorbar\": {\"outlinewidth\": 0, \"ticks\": \"\"}}, \"type\": \"scattergl\"}], \"scattermapbox\": [{\"marker\": {\"colorbar\": {\"outlinewidth\": 0, \"ticks\": \"\"}}, \"type\": \"scattermapbox\"}], \"scatterpolar\": [{\"marker\": {\"colorbar\": {\"outlinewidth\": 0, \"ticks\": \"\"}}, \"type\": \"scatterpolar\"}], \"scatterpolargl\": [{\"marker\": {\"colorbar\": {\"outlinewidth\": 0, \"ticks\": \"\"}}, \"type\": \"scatterpolargl\"}], \"scatterternary\": [{\"marker\": {\"colorbar\": {\"outlinewidth\": 0, \"ticks\": \"\"}}, \"type\": \"scatterternary\"}], \"surface\": [{\"colorbar\": {\"outlinewidth\": 0, \"ticks\": \"\"}, \"colorscale\": [[0.0, \"#0d0887\"], [0.1111111111111111, \"#46039f\"], [0.2222222222222222, \"#7201a8\"], [0.3333333333333333, \"#9c179e\"], [0.4444444444444444, \"#bd3786\"], [0.5555555555555556, \"#d8576b\"], [0.6666666666666666, \"#ed7953\"], [0.7777777777777778, \"#fb9f3a\"], [0.8888888888888888, \"#fdca26\"], [1.0, \"#f0f921\"]], \"type\": \"surface\"}], \"table\": [{\"cells\": {\"fill\": {\"color\": \"#EBF0F8\"}, \"line\": {\"color\": \"white\"}}, \"header\": {\"fill\": {\"color\": \"#C8D4E3\"}, \"line\": {\"color\": \"white\"}}, \"type\": \"table\"}]}, \"layout\": {\"annotationdefaults\": {\"arrowcolor\": \"#2a3f5f\", \"arrowhead\": 0, \"arrowwidth\": 1}, \"coloraxis\": {\"colorbar\": {\"outlinewidth\": 0, \"ticks\": \"\"}}, \"colorscale\": {\"diverging\": [[0, \"#8e0152\"], [0.1, \"#c51b7d\"], [0.2, \"#de77ae\"], [0.3, \"#f1b6da\"], [0.4, \"#fde0ef\"], [0.5, \"#f7f7f7\"], [0.6, \"#e6f5d0\"], [0.7, \"#b8e186\"], [0.8, \"#7fbc41\"], [0.9, \"#4d9221\"], [1, \"#276419\"]], \"sequential\": [[0.0, \"#0d0887\"], [0.1111111111111111, \"#46039f\"], [0.2222222222222222, \"#7201a8\"], [0.3333333333333333, \"#9c179e\"], [0.4444444444444444, \"#bd3786\"], [0.5555555555555556, \"#d8576b\"], [0.6666666666666666, \"#ed7953\"], [0.7777777777777778, \"#fb9f3a\"], [0.8888888888888888, \"#fdca26\"], [1.0, \"#f0f921\"]], \"sequentialminus\": [[0.0, \"#0d0887\"], [0.1111111111111111, \"#46039f\"], [0.2222222222222222, \"#7201a8\"], [0.3333333333333333, \"#9c179e\"], [0.4444444444444444, \"#bd3786\"], [0.5555555555555556, \"#d8576b\"], [0.6666666666666666, \"#ed7953\"], [0.7777777777777778, \"#fb9f3a\"], [0.8888888888888888, \"#fdca26\"], [1.0, \"#f0f921\"]]}, \"colorway\": [\"#636efa\", \"#EF553B\", \"#00cc96\", \"#ab63fa\", \"#FFA15A\", \"#19d3f3\", \"#FF6692\", \"#B6E880\", \"#FF97FF\", \"#FECB52\"], \"font\": {\"color\": \"#2a3f5f\"}, \"geo\": {\"bgcolor\": \"white\", \"lakecolor\": \"white\", \"landcolor\": \"#E5ECF6\", \"showlakes\": true, \"showland\": true, \"subunitcolor\": \"white\"}, \"hoverlabel\": {\"align\": \"left\"}, \"hovermode\": \"closest\", \"mapbox\": {\"style\": \"light\"}, \"paper_bgcolor\": \"white\", \"plot_bgcolor\": \"#E5ECF6\", \"polar\": {\"angularaxis\": {\"gridcolor\": \"white\", \"linecolor\": \"white\", \"ticks\": \"\"}, \"bgcolor\": \"#E5ECF6\", \"radialaxis\": {\"gridcolor\": \"white\", \"linecolor\": \"white\", \"ticks\": \"\"}}, \"scene\": {\"xaxis\": {\"backgroundcolor\": \"#E5ECF6\", \"gridcolor\": \"white\", \"gridwidth\": 2, \"linecolor\": \"white\", \"showbackground\": true, \"ticks\": \"\", \"zerolinecolor\": \"white\"}, \"yaxis\": {\"backgroundcolor\": \"#E5ECF6\", \"gridcolor\": \"white\", \"gridwidth\": 2, \"linecolor\": \"white\", \"showbackground\": true, \"ticks\": \"\", \"zerolinecolor\": \"white\"}, \"zaxis\": {\"backgroundcolor\": \"#E5ECF6\", \"gridcolor\": \"white\", \"gridwidth\": 2, \"linecolor\": \"white\", \"showbackground\": true, \"ticks\": \"\", \"zerolinecolor\": \"white\"}}, \"shapedefaults\": {\"line\": {\"color\": \"#2a3f5f\"}}, \"ternary\": {\"aaxis\": {\"gridcolor\": \"white\", \"linecolor\": \"white\", \"ticks\": \"\"}, \"baxis\": {\"gridcolor\": \"white\", \"linecolor\": \"white\", \"ticks\": \"\"}, \"bgcolor\": \"#E5ECF6\", \"caxis\": {\"gridcolor\": \"white\", \"linecolor\": \"white\", \"ticks\": \"\"}}, \"title\": {\"x\": 0.05}, \"xaxis\": {\"automargin\": true, \"gridcolor\": \"white\", \"linecolor\": \"white\", \"ticks\": \"\", \"title\": {\"standoff\": 15}, \"zerolinecolor\": \"white\", \"zerolinewidth\": 2}, \"yaxis\": {\"automargin\": true, \"gridcolor\": \"white\", \"linecolor\": \"white\", \"ticks\": \"\", \"title\": {\"standoff\": 15}, \"zerolinecolor\": \"white\", \"zerolinewidth\": 2}}}, \"title\": {\"text\": \"Do you have one person you think of as your personal doctor or <br>health care provider?\"}, \"xaxis\": {\"title\": {\"text\": \"Response (persdoc2)\"}}, \"yaxis\": {\"title\": {\"text\": \"Number of People\"}}},\n",
       "                        {\"responsive\": true}\n",
       "                    ).then(function(){\n",
       "                            \n",
       "var gd = document.getElementById('46736f21-6c2a-45e4-b0b5-97400e73176c');\n",
       "var x = new MutationObserver(function (mutations, observer) {{\n",
       "        var display = window.getComputedStyle(gd).display;\n",
       "        if (!display || display === 'none') {{\n",
       "            console.log([gd, 'removed!']);\n",
       "            Plotly.purge(gd);\n",
       "            observer.disconnect();\n",
       "        }}\n",
       "}});\n",
       "\n",
       "// Listen for the removal of the full notebook cells\n",
       "var notebookContainer = gd.closest('#notebook-container');\n",
       "if (notebookContainer) {{\n",
       "    x.observe(notebookContainer, {childList: true});\n",
       "}}\n",
       "\n",
       "// Listen for the clearing of the current output cell\n",
       "var outputEl = gd.closest('.output');\n",
       "if (outputEl) {{\n",
       "    x.observe(outputEl, {childList: true});\n",
       "}}\n",
       "\n",
       "                        })\n",
       "                };\n",
       "                });\n",
       "            </script>\n",
       "        </div>"
      ]
     },
     "metadata": {},
     "output_type": "display_data"
    }
   ],
   "source": [
    "#chart to view data and see if results match up\n",
    "fig = go.Figure(data = [go.Bar(name = '2011-14', x = doc_low.columns, y = doc_low.iloc[0]),\n",
    "                       go.Bar(name = '2015-18', x = doc_low.columns, y = doc_low.iloc[1])])\n",
    "fig.update_layout(\n",
    "    barmode='group',\n",
    "    title=\"Do you have one person you think of as your personal doctor or <br>health care provider?\",\n",
    "    xaxis_title=\"Response (persdoc2)\",\n",
    "    yaxis_title=\"Number of People\",\n",
    "    font=dict(\n",
    "        family=\"Courier New, monospace\",\n",
    "        size=18,\n",
    "        color=\"#7f7f7f\"\n",
    "    )\n",
    ")\n",
    "fig.show()"
   ]
  },
  {
   "cell_type": "code",
   "execution_count": 94,
   "metadata": {},
   "outputs": [
    {
     "name": "stdout",
     "output_type": "stream",
     "text": [
      "chi2: 84.81906594085524 p-value: 3.2695631622004007e-20 dof: 1\n"
     ]
    }
   ],
   "source": [
    "#perform chi2 test\n",
    "test_doc = chi2_contingency(doc_low)\n",
    "chi2 = test_doc[0]\n",
    "pvalue = test_doc[1]\n",
    "dof = test_doc[2]\n",
    "print(\"chi2:\", chi2, \"p-value:\", pvalue, \"dof:\", dof)"
   ]
  },
  {
   "cell_type": "code",
   "execution_count": 95,
   "metadata": {},
   "outputs": [
    {
     "data": {
      "text/html": [
       "<div>\n",
       "<style scoped>\n",
       "    .dataframe tbody tr th:only-of-type {\n",
       "        vertical-align: middle;\n",
       "    }\n",
       "\n",
       "    .dataframe tbody tr th {\n",
       "        vertical-align: top;\n",
       "    }\n",
       "\n",
       "    .dataframe thead th {\n",
       "        text-align: right;\n",
       "    }\n",
       "</style>\n",
       "<table border=\"1\" class=\"dataframe\">\n",
       "  <thead>\n",
       "    <tr style=\"text-align: right;\">\n",
       "      <th></th>\n",
       "      <th>less than 12 months ago</th>\n",
       "      <th>over 1 year but less than 2</th>\n",
       "      <th>over 2 years but less than 5 years</th>\n",
       "      <th>5 or more years</th>\n",
       "    </tr>\n",
       "  </thead>\n",
       "  <tbody>\n",
       "    <tr>\n",
       "      <th>2011-2014</th>\n",
       "      <td>23140</td>\n",
       "      <td>2760</td>\n",
       "      <td>1251</td>\n",
       "      <td>1012</td>\n",
       "    </tr>\n",
       "    <tr>\n",
       "      <th>2015-2018</th>\n",
       "      <td>23965</td>\n",
       "      <td>2331</td>\n",
       "      <td>997</td>\n",
       "      <td>840</td>\n",
       "    </tr>\n",
       "  </tbody>\n",
       "</table>\n",
       "</div>"
      ],
      "text/plain": [
       "           less than 12 months ago  over 1 year but less than 2  \\\n",
       "2011-2014                    23140                         2760   \n",
       "2015-2018                    23965                         2331   \n",
       "\n",
       "           over 2 years but less than 5 years  5 or more years  \n",
       "2011-2014                                1251             1012  \n",
       "2015-2018                                 997              840  "
      ]
     },
     "execution_count": 95,
     "metadata": {},
     "output_type": "execute_result"
    }
   ],
   "source": [
    "#CHECKUP1\n",
    "\n",
    "#PERSDOC2\n",
    "\n",
    "#splitting cost data on race/income\n",
    "\n",
    "checkup_low1114 = low_income1114['checkup1']\n",
    "checkup_low1518 = low_income1518['checkup1']\n",
    "\n",
    "checkup_low1114 = checkup_low1114.dropna()\n",
    "checkup_low1518 = checkup_low1518.dropna()\n",
    "\n",
    "\n",
    "sample1114 = checkup_low1114.sample(n = 28691, random_state = 1)\n",
    "\n",
    "#get counts for each value of having care or not in 2014 data set\n",
    "counts14 = getCounts(sample1114, 4)\n",
    "#get counts for each value of having care or not in 2014 data set\n",
    "counts1518 = getCounts(checkup_low1518, 4)\n",
    "\n",
    "checkup_low = pd.DataFrame([counts14, counts1518], index = [\"2011-2014\", \"2015-2018\"], \n",
    "                         columns = [\"less than 12 months ago\", \"over 1 year but less than 2\",\"over 2 years but less than 5 years\", \"5 or more years\"])\n",
    "checkup_low"
   ]
  },
  {
   "cell_type": "code",
   "execution_count": 113,
   "metadata": {},
   "outputs": [
    {
     "data": {
      "application/vnd.plotly.v1+json": {
       "config": {
        "plotlyServerURL": "https://plot.ly"
       },
       "data": [
        {
         "name": "2011-14",
         "type": "bar",
         "x": [
          "less than 12 months ago",
          "over 1 year but less than 2",
          "over 2 years but less than 5 years",
          "5 or more years"
         ],
         "y": [
          23140,
          2760,
          1251,
          1012
         ]
        },
        {
         "name": "2015-18",
         "type": "bar",
         "x": [
          "less than 12 months ago",
          "over 1 year but less than 2",
          "over 2 years but less than 5 years",
          "5 or more years"
         ],
         "y": [
          23965,
          2331,
          997,
          840
         ]
        }
       ],
       "layout": {
        "barmode": "group",
        "font": {
         "color": "#7f7f7f",
         "family": "Courier New, monospace",
         "size": 18
        },
        "template": {
         "data": {
          "bar": [
           {
            "error_x": {
             "color": "#2a3f5f"
            },
            "error_y": {
             "color": "#2a3f5f"
            },
            "marker": {
             "line": {
              "color": "#E5ECF6",
              "width": 0.5
             }
            },
            "type": "bar"
           }
          ],
          "barpolar": [
           {
            "marker": {
             "line": {
              "color": "#E5ECF6",
              "width": 0.5
             }
            },
            "type": "barpolar"
           }
          ],
          "carpet": [
           {
            "aaxis": {
             "endlinecolor": "#2a3f5f",
             "gridcolor": "white",
             "linecolor": "white",
             "minorgridcolor": "white",
             "startlinecolor": "#2a3f5f"
            },
            "baxis": {
             "endlinecolor": "#2a3f5f",
             "gridcolor": "white",
             "linecolor": "white",
             "minorgridcolor": "white",
             "startlinecolor": "#2a3f5f"
            },
            "type": "carpet"
           }
          ],
          "choropleth": [
           {
            "colorbar": {
             "outlinewidth": 0,
             "ticks": ""
            },
            "type": "choropleth"
           }
          ],
          "contour": [
           {
            "colorbar": {
             "outlinewidth": 0,
             "ticks": ""
            },
            "colorscale": [
             [
              0,
              "#0d0887"
             ],
             [
              0.1111111111111111,
              "#46039f"
             ],
             [
              0.2222222222222222,
              "#7201a8"
             ],
             [
              0.3333333333333333,
              "#9c179e"
             ],
             [
              0.4444444444444444,
              "#bd3786"
             ],
             [
              0.5555555555555556,
              "#d8576b"
             ],
             [
              0.6666666666666666,
              "#ed7953"
             ],
             [
              0.7777777777777778,
              "#fb9f3a"
             ],
             [
              0.8888888888888888,
              "#fdca26"
             ],
             [
              1,
              "#f0f921"
             ]
            ],
            "type": "contour"
           }
          ],
          "contourcarpet": [
           {
            "colorbar": {
             "outlinewidth": 0,
             "ticks": ""
            },
            "type": "contourcarpet"
           }
          ],
          "heatmap": [
           {
            "colorbar": {
             "outlinewidth": 0,
             "ticks": ""
            },
            "colorscale": [
             [
              0,
              "#0d0887"
             ],
             [
              0.1111111111111111,
              "#46039f"
             ],
             [
              0.2222222222222222,
              "#7201a8"
             ],
             [
              0.3333333333333333,
              "#9c179e"
             ],
             [
              0.4444444444444444,
              "#bd3786"
             ],
             [
              0.5555555555555556,
              "#d8576b"
             ],
             [
              0.6666666666666666,
              "#ed7953"
             ],
             [
              0.7777777777777778,
              "#fb9f3a"
             ],
             [
              0.8888888888888888,
              "#fdca26"
             ],
             [
              1,
              "#f0f921"
             ]
            ],
            "type": "heatmap"
           }
          ],
          "heatmapgl": [
           {
            "colorbar": {
             "outlinewidth": 0,
             "ticks": ""
            },
            "colorscale": [
             [
              0,
              "#0d0887"
             ],
             [
              0.1111111111111111,
              "#46039f"
             ],
             [
              0.2222222222222222,
              "#7201a8"
             ],
             [
              0.3333333333333333,
              "#9c179e"
             ],
             [
              0.4444444444444444,
              "#bd3786"
             ],
             [
              0.5555555555555556,
              "#d8576b"
             ],
             [
              0.6666666666666666,
              "#ed7953"
             ],
             [
              0.7777777777777778,
              "#fb9f3a"
             ],
             [
              0.8888888888888888,
              "#fdca26"
             ],
             [
              1,
              "#f0f921"
             ]
            ],
            "type": "heatmapgl"
           }
          ],
          "histogram": [
           {
            "marker": {
             "colorbar": {
              "outlinewidth": 0,
              "ticks": ""
             }
            },
            "type": "histogram"
           }
          ],
          "histogram2d": [
           {
            "colorbar": {
             "outlinewidth": 0,
             "ticks": ""
            },
            "colorscale": [
             [
              0,
              "#0d0887"
             ],
             [
              0.1111111111111111,
              "#46039f"
             ],
             [
              0.2222222222222222,
              "#7201a8"
             ],
             [
              0.3333333333333333,
              "#9c179e"
             ],
             [
              0.4444444444444444,
              "#bd3786"
             ],
             [
              0.5555555555555556,
              "#d8576b"
             ],
             [
              0.6666666666666666,
              "#ed7953"
             ],
             [
              0.7777777777777778,
              "#fb9f3a"
             ],
             [
              0.8888888888888888,
              "#fdca26"
             ],
             [
              1,
              "#f0f921"
             ]
            ],
            "type": "histogram2d"
           }
          ],
          "histogram2dcontour": [
           {
            "colorbar": {
             "outlinewidth": 0,
             "ticks": ""
            },
            "colorscale": [
             [
              0,
              "#0d0887"
             ],
             [
              0.1111111111111111,
              "#46039f"
             ],
             [
              0.2222222222222222,
              "#7201a8"
             ],
             [
              0.3333333333333333,
              "#9c179e"
             ],
             [
              0.4444444444444444,
              "#bd3786"
             ],
             [
              0.5555555555555556,
              "#d8576b"
             ],
             [
              0.6666666666666666,
              "#ed7953"
             ],
             [
              0.7777777777777778,
              "#fb9f3a"
             ],
             [
              0.8888888888888888,
              "#fdca26"
             ],
             [
              1,
              "#f0f921"
             ]
            ],
            "type": "histogram2dcontour"
           }
          ],
          "mesh3d": [
           {
            "colorbar": {
             "outlinewidth": 0,
             "ticks": ""
            },
            "type": "mesh3d"
           }
          ],
          "parcoords": [
           {
            "line": {
             "colorbar": {
              "outlinewidth": 0,
              "ticks": ""
             }
            },
            "type": "parcoords"
           }
          ],
          "pie": [
           {
            "automargin": true,
            "type": "pie"
           }
          ],
          "scatter": [
           {
            "marker": {
             "colorbar": {
              "outlinewidth": 0,
              "ticks": ""
             }
            },
            "type": "scatter"
           }
          ],
          "scatter3d": [
           {
            "line": {
             "colorbar": {
              "outlinewidth": 0,
              "ticks": ""
             }
            },
            "marker": {
             "colorbar": {
              "outlinewidth": 0,
              "ticks": ""
             }
            },
            "type": "scatter3d"
           }
          ],
          "scattercarpet": [
           {
            "marker": {
             "colorbar": {
              "outlinewidth": 0,
              "ticks": ""
             }
            },
            "type": "scattercarpet"
           }
          ],
          "scattergeo": [
           {
            "marker": {
             "colorbar": {
              "outlinewidth": 0,
              "ticks": ""
             }
            },
            "type": "scattergeo"
           }
          ],
          "scattergl": [
           {
            "marker": {
             "colorbar": {
              "outlinewidth": 0,
              "ticks": ""
             }
            },
            "type": "scattergl"
           }
          ],
          "scattermapbox": [
           {
            "marker": {
             "colorbar": {
              "outlinewidth": 0,
              "ticks": ""
             }
            },
            "type": "scattermapbox"
           }
          ],
          "scatterpolar": [
           {
            "marker": {
             "colorbar": {
              "outlinewidth": 0,
              "ticks": ""
             }
            },
            "type": "scatterpolar"
           }
          ],
          "scatterpolargl": [
           {
            "marker": {
             "colorbar": {
              "outlinewidth": 0,
              "ticks": ""
             }
            },
            "type": "scatterpolargl"
           }
          ],
          "scatterternary": [
           {
            "marker": {
             "colorbar": {
              "outlinewidth": 0,
              "ticks": ""
             }
            },
            "type": "scatterternary"
           }
          ],
          "surface": [
           {
            "colorbar": {
             "outlinewidth": 0,
             "ticks": ""
            },
            "colorscale": [
             [
              0,
              "#0d0887"
             ],
             [
              0.1111111111111111,
              "#46039f"
             ],
             [
              0.2222222222222222,
              "#7201a8"
             ],
             [
              0.3333333333333333,
              "#9c179e"
             ],
             [
              0.4444444444444444,
              "#bd3786"
             ],
             [
              0.5555555555555556,
              "#d8576b"
             ],
             [
              0.6666666666666666,
              "#ed7953"
             ],
             [
              0.7777777777777778,
              "#fb9f3a"
             ],
             [
              0.8888888888888888,
              "#fdca26"
             ],
             [
              1,
              "#f0f921"
             ]
            ],
            "type": "surface"
           }
          ],
          "table": [
           {
            "cells": {
             "fill": {
              "color": "#EBF0F8"
             },
             "line": {
              "color": "white"
             }
            },
            "header": {
             "fill": {
              "color": "#C8D4E3"
             },
             "line": {
              "color": "white"
             }
            },
            "type": "table"
           }
          ]
         },
         "layout": {
          "annotationdefaults": {
           "arrowcolor": "#2a3f5f",
           "arrowhead": 0,
           "arrowwidth": 1
          },
          "coloraxis": {
           "colorbar": {
            "outlinewidth": 0,
            "ticks": ""
           }
          },
          "colorscale": {
           "diverging": [
            [
             0,
             "#8e0152"
            ],
            [
             0.1,
             "#c51b7d"
            ],
            [
             0.2,
             "#de77ae"
            ],
            [
             0.3,
             "#f1b6da"
            ],
            [
             0.4,
             "#fde0ef"
            ],
            [
             0.5,
             "#f7f7f7"
            ],
            [
             0.6,
             "#e6f5d0"
            ],
            [
             0.7,
             "#b8e186"
            ],
            [
             0.8,
             "#7fbc41"
            ],
            [
             0.9,
             "#4d9221"
            ],
            [
             1,
             "#276419"
            ]
           ],
           "sequential": [
            [
             0,
             "#0d0887"
            ],
            [
             0.1111111111111111,
             "#46039f"
            ],
            [
             0.2222222222222222,
             "#7201a8"
            ],
            [
             0.3333333333333333,
             "#9c179e"
            ],
            [
             0.4444444444444444,
             "#bd3786"
            ],
            [
             0.5555555555555556,
             "#d8576b"
            ],
            [
             0.6666666666666666,
             "#ed7953"
            ],
            [
             0.7777777777777778,
             "#fb9f3a"
            ],
            [
             0.8888888888888888,
             "#fdca26"
            ],
            [
             1,
             "#f0f921"
            ]
           ],
           "sequentialminus": [
            [
             0,
             "#0d0887"
            ],
            [
             0.1111111111111111,
             "#46039f"
            ],
            [
             0.2222222222222222,
             "#7201a8"
            ],
            [
             0.3333333333333333,
             "#9c179e"
            ],
            [
             0.4444444444444444,
             "#bd3786"
            ],
            [
             0.5555555555555556,
             "#d8576b"
            ],
            [
             0.6666666666666666,
             "#ed7953"
            ],
            [
             0.7777777777777778,
             "#fb9f3a"
            ],
            [
             0.8888888888888888,
             "#fdca26"
            ],
            [
             1,
             "#f0f921"
            ]
           ]
          },
          "colorway": [
           "#636efa",
           "#EF553B",
           "#00cc96",
           "#ab63fa",
           "#FFA15A",
           "#19d3f3",
           "#FF6692",
           "#B6E880",
           "#FF97FF",
           "#FECB52"
          ],
          "font": {
           "color": "#2a3f5f"
          },
          "geo": {
           "bgcolor": "white",
           "lakecolor": "white",
           "landcolor": "#E5ECF6",
           "showlakes": true,
           "showland": true,
           "subunitcolor": "white"
          },
          "hoverlabel": {
           "align": "left"
          },
          "hovermode": "closest",
          "mapbox": {
           "style": "light"
          },
          "paper_bgcolor": "white",
          "plot_bgcolor": "#E5ECF6",
          "polar": {
           "angularaxis": {
            "gridcolor": "white",
            "linecolor": "white",
            "ticks": ""
           },
           "bgcolor": "#E5ECF6",
           "radialaxis": {
            "gridcolor": "white",
            "linecolor": "white",
            "ticks": ""
           }
          },
          "scene": {
           "xaxis": {
            "backgroundcolor": "#E5ECF6",
            "gridcolor": "white",
            "gridwidth": 2,
            "linecolor": "white",
            "showbackground": true,
            "ticks": "",
            "zerolinecolor": "white"
           },
           "yaxis": {
            "backgroundcolor": "#E5ECF6",
            "gridcolor": "white",
            "gridwidth": 2,
            "linecolor": "white",
            "showbackground": true,
            "ticks": "",
            "zerolinecolor": "white"
           },
           "zaxis": {
            "backgroundcolor": "#E5ECF6",
            "gridcolor": "white",
            "gridwidth": 2,
            "linecolor": "white",
            "showbackground": true,
            "ticks": "",
            "zerolinecolor": "white"
           }
          },
          "shapedefaults": {
           "line": {
            "color": "#2a3f5f"
           }
          },
          "ternary": {
           "aaxis": {
            "gridcolor": "white",
            "linecolor": "white",
            "ticks": ""
           },
           "baxis": {
            "gridcolor": "white",
            "linecolor": "white",
            "ticks": ""
           },
           "bgcolor": "#E5ECF6",
           "caxis": {
            "gridcolor": "white",
            "linecolor": "white",
            "ticks": ""
           }
          },
          "title": {
           "x": 0.05
          },
          "xaxis": {
           "automargin": true,
           "gridcolor": "white",
           "linecolor": "white",
           "ticks": "",
           "title": {
            "standoff": 15
           },
           "zerolinecolor": "white",
           "zerolinewidth": 2
          },
          "yaxis": {
           "automargin": true,
           "gridcolor": "white",
           "linecolor": "white",
           "ticks": "",
           "title": {
            "standoff": 15
           },
           "zerolinecolor": "white",
           "zerolinewidth": 2
          }
         }
        },
        "title": {
         "text": "Length of Time between Last Checkup"
        },
        "xaxis": {
         "title": {
          "text": "Response (checkup1)"
         }
        },
        "yaxis": {
         "title": {
          "text": "Number of People"
         }
        }
       }
      },
      "text/html": [
       "<div>\n",
       "        \n",
       "        \n",
       "            <div id=\"7b273f20-9b2d-4072-8af2-92223dee7657\" class=\"plotly-graph-div\" style=\"height:525px; width:100%;\"></div>\n",
       "            <script type=\"text/javascript\">\n",
       "                require([\"plotly\"], function(Plotly) {\n",
       "                    window.PLOTLYENV=window.PLOTLYENV || {};\n",
       "                    \n",
       "                if (document.getElementById(\"7b273f20-9b2d-4072-8af2-92223dee7657\")) {\n",
       "                    Plotly.newPlot(\n",
       "                        '7b273f20-9b2d-4072-8af2-92223dee7657',\n",
       "                        [{\"name\": \"2011-14\", \"type\": \"bar\", \"x\": [\"less than 12 months ago\", \"over 1 year but less than 2\", \"over 2 years but less than 5 years\", \"5 or more years\"], \"y\": [23140, 2760, 1251, 1012]}, {\"name\": \"2015-18\", \"type\": \"bar\", \"x\": [\"less than 12 months ago\", \"over 1 year but less than 2\", \"over 2 years but less than 5 years\", \"5 or more years\"], \"y\": [23965, 2331, 997, 840]}],\n",
       "                        {\"barmode\": \"group\", \"font\": {\"color\": \"#7f7f7f\", \"family\": \"Courier New, monospace\", \"size\": 18}, \"template\": {\"data\": {\"bar\": [{\"error_x\": {\"color\": \"#2a3f5f\"}, \"error_y\": {\"color\": \"#2a3f5f\"}, \"marker\": {\"line\": {\"color\": \"#E5ECF6\", \"width\": 0.5}}, \"type\": \"bar\"}], \"barpolar\": [{\"marker\": {\"line\": {\"color\": \"#E5ECF6\", \"width\": 0.5}}, \"type\": \"barpolar\"}], \"carpet\": [{\"aaxis\": {\"endlinecolor\": \"#2a3f5f\", \"gridcolor\": \"white\", \"linecolor\": \"white\", \"minorgridcolor\": \"white\", \"startlinecolor\": \"#2a3f5f\"}, \"baxis\": {\"endlinecolor\": \"#2a3f5f\", \"gridcolor\": \"white\", \"linecolor\": \"white\", \"minorgridcolor\": \"white\", \"startlinecolor\": \"#2a3f5f\"}, \"type\": \"carpet\"}], \"choropleth\": [{\"colorbar\": {\"outlinewidth\": 0, \"ticks\": \"\"}, \"type\": \"choropleth\"}], \"contour\": [{\"colorbar\": {\"outlinewidth\": 0, \"ticks\": \"\"}, \"colorscale\": [[0.0, \"#0d0887\"], [0.1111111111111111, \"#46039f\"], [0.2222222222222222, \"#7201a8\"], [0.3333333333333333, \"#9c179e\"], [0.4444444444444444, \"#bd3786\"], [0.5555555555555556, \"#d8576b\"], [0.6666666666666666, \"#ed7953\"], [0.7777777777777778, \"#fb9f3a\"], [0.8888888888888888, \"#fdca26\"], [1.0, \"#f0f921\"]], \"type\": \"contour\"}], \"contourcarpet\": [{\"colorbar\": {\"outlinewidth\": 0, \"ticks\": \"\"}, \"type\": \"contourcarpet\"}], \"heatmap\": [{\"colorbar\": {\"outlinewidth\": 0, \"ticks\": \"\"}, \"colorscale\": [[0.0, \"#0d0887\"], [0.1111111111111111, \"#46039f\"], [0.2222222222222222, \"#7201a8\"], [0.3333333333333333, \"#9c179e\"], [0.4444444444444444, \"#bd3786\"], [0.5555555555555556, \"#d8576b\"], [0.6666666666666666, \"#ed7953\"], [0.7777777777777778, \"#fb9f3a\"], [0.8888888888888888, \"#fdca26\"], [1.0, \"#f0f921\"]], \"type\": \"heatmap\"}], \"heatmapgl\": [{\"colorbar\": {\"outlinewidth\": 0, \"ticks\": \"\"}, \"colorscale\": [[0.0, \"#0d0887\"], [0.1111111111111111, \"#46039f\"], [0.2222222222222222, \"#7201a8\"], [0.3333333333333333, \"#9c179e\"], [0.4444444444444444, \"#bd3786\"], [0.5555555555555556, \"#d8576b\"], [0.6666666666666666, \"#ed7953\"], [0.7777777777777778, \"#fb9f3a\"], [0.8888888888888888, \"#fdca26\"], [1.0, \"#f0f921\"]], \"type\": \"heatmapgl\"}], \"histogram\": [{\"marker\": {\"colorbar\": {\"outlinewidth\": 0, \"ticks\": \"\"}}, \"type\": \"histogram\"}], \"histogram2d\": [{\"colorbar\": {\"outlinewidth\": 0, \"ticks\": \"\"}, \"colorscale\": [[0.0, \"#0d0887\"], [0.1111111111111111, \"#46039f\"], [0.2222222222222222, \"#7201a8\"], [0.3333333333333333, \"#9c179e\"], [0.4444444444444444, \"#bd3786\"], [0.5555555555555556, \"#d8576b\"], [0.6666666666666666, \"#ed7953\"], [0.7777777777777778, \"#fb9f3a\"], [0.8888888888888888, \"#fdca26\"], [1.0, \"#f0f921\"]], \"type\": \"histogram2d\"}], \"histogram2dcontour\": [{\"colorbar\": {\"outlinewidth\": 0, \"ticks\": \"\"}, \"colorscale\": [[0.0, \"#0d0887\"], [0.1111111111111111, \"#46039f\"], [0.2222222222222222, \"#7201a8\"], [0.3333333333333333, \"#9c179e\"], [0.4444444444444444, \"#bd3786\"], [0.5555555555555556, \"#d8576b\"], [0.6666666666666666, \"#ed7953\"], [0.7777777777777778, \"#fb9f3a\"], [0.8888888888888888, \"#fdca26\"], [1.0, \"#f0f921\"]], \"type\": \"histogram2dcontour\"}], \"mesh3d\": [{\"colorbar\": {\"outlinewidth\": 0, \"ticks\": \"\"}, \"type\": \"mesh3d\"}], \"parcoords\": [{\"line\": {\"colorbar\": {\"outlinewidth\": 0, \"ticks\": \"\"}}, \"type\": \"parcoords\"}], \"pie\": [{\"automargin\": true, \"type\": \"pie\"}], \"scatter\": [{\"marker\": {\"colorbar\": {\"outlinewidth\": 0, \"ticks\": \"\"}}, \"type\": \"scatter\"}], \"scatter3d\": [{\"line\": {\"colorbar\": {\"outlinewidth\": 0, \"ticks\": \"\"}}, \"marker\": {\"colorbar\": {\"outlinewidth\": 0, \"ticks\": \"\"}}, \"type\": \"scatter3d\"}], \"scattercarpet\": [{\"marker\": {\"colorbar\": {\"outlinewidth\": 0, \"ticks\": \"\"}}, \"type\": \"scattercarpet\"}], \"scattergeo\": [{\"marker\": {\"colorbar\": {\"outlinewidth\": 0, \"ticks\": \"\"}}, \"type\": \"scattergeo\"}], \"scattergl\": [{\"marker\": {\"colorbar\": {\"outlinewidth\": 0, \"ticks\": \"\"}}, \"type\": \"scattergl\"}], \"scattermapbox\": [{\"marker\": {\"colorbar\": {\"outlinewidth\": 0, \"ticks\": \"\"}}, \"type\": \"scattermapbox\"}], \"scatterpolar\": [{\"marker\": {\"colorbar\": {\"outlinewidth\": 0, \"ticks\": \"\"}}, \"type\": \"scatterpolar\"}], \"scatterpolargl\": [{\"marker\": {\"colorbar\": {\"outlinewidth\": 0, \"ticks\": \"\"}}, \"type\": \"scatterpolargl\"}], \"scatterternary\": [{\"marker\": {\"colorbar\": {\"outlinewidth\": 0, \"ticks\": \"\"}}, \"type\": \"scatterternary\"}], \"surface\": [{\"colorbar\": {\"outlinewidth\": 0, \"ticks\": \"\"}, \"colorscale\": [[0.0, \"#0d0887\"], [0.1111111111111111, \"#46039f\"], [0.2222222222222222, \"#7201a8\"], [0.3333333333333333, \"#9c179e\"], [0.4444444444444444, \"#bd3786\"], [0.5555555555555556, \"#d8576b\"], [0.6666666666666666, \"#ed7953\"], [0.7777777777777778, \"#fb9f3a\"], [0.8888888888888888, \"#fdca26\"], [1.0, \"#f0f921\"]], \"type\": \"surface\"}], \"table\": [{\"cells\": {\"fill\": {\"color\": \"#EBF0F8\"}, \"line\": {\"color\": \"white\"}}, \"header\": {\"fill\": {\"color\": \"#C8D4E3\"}, \"line\": {\"color\": \"white\"}}, \"type\": \"table\"}]}, \"layout\": {\"annotationdefaults\": {\"arrowcolor\": \"#2a3f5f\", \"arrowhead\": 0, \"arrowwidth\": 1}, \"coloraxis\": {\"colorbar\": {\"outlinewidth\": 0, \"ticks\": \"\"}}, \"colorscale\": {\"diverging\": [[0, \"#8e0152\"], [0.1, \"#c51b7d\"], [0.2, \"#de77ae\"], [0.3, \"#f1b6da\"], [0.4, \"#fde0ef\"], [0.5, \"#f7f7f7\"], [0.6, \"#e6f5d0\"], [0.7, \"#b8e186\"], [0.8, \"#7fbc41\"], [0.9, \"#4d9221\"], [1, \"#276419\"]], \"sequential\": [[0.0, \"#0d0887\"], [0.1111111111111111, \"#46039f\"], [0.2222222222222222, \"#7201a8\"], [0.3333333333333333, \"#9c179e\"], [0.4444444444444444, \"#bd3786\"], [0.5555555555555556, \"#d8576b\"], [0.6666666666666666, \"#ed7953\"], [0.7777777777777778, \"#fb9f3a\"], [0.8888888888888888, \"#fdca26\"], [1.0, \"#f0f921\"]], \"sequentialminus\": [[0.0, \"#0d0887\"], [0.1111111111111111, \"#46039f\"], [0.2222222222222222, \"#7201a8\"], [0.3333333333333333, \"#9c179e\"], [0.4444444444444444, \"#bd3786\"], [0.5555555555555556, \"#d8576b\"], [0.6666666666666666, \"#ed7953\"], [0.7777777777777778, \"#fb9f3a\"], [0.8888888888888888, \"#fdca26\"], [1.0, \"#f0f921\"]]}, \"colorway\": [\"#636efa\", \"#EF553B\", \"#00cc96\", \"#ab63fa\", \"#FFA15A\", \"#19d3f3\", \"#FF6692\", \"#B6E880\", \"#FF97FF\", \"#FECB52\"], \"font\": {\"color\": \"#2a3f5f\"}, \"geo\": {\"bgcolor\": \"white\", \"lakecolor\": \"white\", \"landcolor\": \"#E5ECF6\", \"showlakes\": true, \"showland\": true, \"subunitcolor\": \"white\"}, \"hoverlabel\": {\"align\": \"left\"}, \"hovermode\": \"closest\", \"mapbox\": {\"style\": \"light\"}, \"paper_bgcolor\": \"white\", \"plot_bgcolor\": \"#E5ECF6\", \"polar\": {\"angularaxis\": {\"gridcolor\": \"white\", \"linecolor\": \"white\", \"ticks\": \"\"}, \"bgcolor\": \"#E5ECF6\", \"radialaxis\": {\"gridcolor\": \"white\", \"linecolor\": \"white\", \"ticks\": \"\"}}, \"scene\": {\"xaxis\": {\"backgroundcolor\": \"#E5ECF6\", \"gridcolor\": \"white\", \"gridwidth\": 2, \"linecolor\": \"white\", \"showbackground\": true, \"ticks\": \"\", \"zerolinecolor\": \"white\"}, \"yaxis\": {\"backgroundcolor\": \"#E5ECF6\", \"gridcolor\": \"white\", \"gridwidth\": 2, \"linecolor\": \"white\", \"showbackground\": true, \"ticks\": \"\", \"zerolinecolor\": \"white\"}, \"zaxis\": {\"backgroundcolor\": \"#E5ECF6\", \"gridcolor\": \"white\", \"gridwidth\": 2, \"linecolor\": \"white\", \"showbackground\": true, \"ticks\": \"\", \"zerolinecolor\": \"white\"}}, \"shapedefaults\": {\"line\": {\"color\": \"#2a3f5f\"}}, \"ternary\": {\"aaxis\": {\"gridcolor\": \"white\", \"linecolor\": \"white\", \"ticks\": \"\"}, \"baxis\": {\"gridcolor\": \"white\", \"linecolor\": \"white\", \"ticks\": \"\"}, \"bgcolor\": \"#E5ECF6\", \"caxis\": {\"gridcolor\": \"white\", \"linecolor\": \"white\", \"ticks\": \"\"}}, \"title\": {\"x\": 0.05}, \"xaxis\": {\"automargin\": true, \"gridcolor\": \"white\", \"linecolor\": \"white\", \"ticks\": \"\", \"title\": {\"standoff\": 15}, \"zerolinecolor\": \"white\", \"zerolinewidth\": 2}, \"yaxis\": {\"automargin\": true, \"gridcolor\": \"white\", \"linecolor\": \"white\", \"ticks\": \"\", \"title\": {\"standoff\": 15}, \"zerolinecolor\": \"white\", \"zerolinewidth\": 2}}}, \"title\": {\"text\": \"Length of Time between Last Checkup\"}, \"xaxis\": {\"title\": {\"text\": \"Response (checkup1)\"}}, \"yaxis\": {\"title\": {\"text\": \"Number of People\"}}},\n",
       "                        {\"responsive\": true}\n",
       "                    ).then(function(){\n",
       "                            \n",
       "var gd = document.getElementById('7b273f20-9b2d-4072-8af2-92223dee7657');\n",
       "var x = new MutationObserver(function (mutations, observer) {{\n",
       "        var display = window.getComputedStyle(gd).display;\n",
       "        if (!display || display === 'none') {{\n",
       "            console.log([gd, 'removed!']);\n",
       "            Plotly.purge(gd);\n",
       "            observer.disconnect();\n",
       "        }}\n",
       "}});\n",
       "\n",
       "// Listen for the removal of the full notebook cells\n",
       "var notebookContainer = gd.closest('#notebook-container');\n",
       "if (notebookContainer) {{\n",
       "    x.observe(notebookContainer, {childList: true});\n",
       "}}\n",
       "\n",
       "// Listen for the clearing of the current output cell\n",
       "var outputEl = gd.closest('.output');\n",
       "if (outputEl) {{\n",
       "    x.observe(outputEl, {childList: true});\n",
       "}}\n",
       "\n",
       "                        })\n",
       "                };\n",
       "                });\n",
       "            </script>\n",
       "        </div>"
      ]
     },
     "metadata": {},
     "output_type": "display_data"
    }
   ],
   "source": [
    "#chart to view data and see if results match up\n",
    "fig = go.Figure(data = [go.Bar(name = '2011-14', x = checkup_low.columns, y = checkup_low.iloc[0]),\n",
    "                       go.Bar(name = '2015-18', x = checkup_low.columns, y = checkup_low.iloc[1])])\n",
    "fig.update_layout(\n",
    "    barmode='group',\n",
    "    title=\"Length of Time Between Last Checkup\",\n",
    "    xaxis_title=\"Response (checkup1)\",\n",
    "    yaxis_title=\"Number of People\",\n",
    "    font=dict(\n",
    "        family=\"Courier New, monospace\",\n",
    "        size=18,\n",
    "        color=\"#7f7f7f\"\n",
    "    )\n",
    ")\n",
    "fig.show()"
   ]
  },
  {
   "cell_type": "code",
   "execution_count": 97,
   "metadata": {},
   "outputs": [
    {
     "name": "stdout",
     "output_type": "stream",
     "text": [
      "chi2: 95.25677869586599 p-value: 1.6260384661061595e-20 dof: 3\n"
     ]
    }
   ],
   "source": [
    "#perform chi2 test\n",
    "test_checkup_low = chi2_contingency(checkup_low)\n",
    "chi2 = test_checkup_low[0]\n",
    "pvalue = test_checkup_low[1]\n",
    "dof = test_checkup_low[2]\n",
    "print(\"chi2:\", chi2, \"p-value:\", pvalue, \"dof:\", dof)\n"
   ]
  },
  {
   "cell_type": "code",
   "execution_count": 98,
   "metadata": {},
   "outputs": [
    {
     "name": "stdout",
     "output_type": "stream",
     "text": [
      "7333\n",
      "7333\n"
     ]
    },
    {
     "data": {
      "text/html": [
       "<div>\n",
       "<style scoped>\n",
       "    .dataframe tbody tr th:only-of-type {\n",
       "        vertical-align: middle;\n",
       "    }\n",
       "\n",
       "    .dataframe tbody tr th {\n",
       "        vertical-align: top;\n",
       "    }\n",
       "\n",
       "    .dataframe thead th {\n",
       "        text-align: right;\n",
       "    }\n",
       "</style>\n",
       "<table border=\"1\" class=\"dataframe\">\n",
       "  <thead>\n",
       "    <tr style=\"text-align: right;\">\n",
       "      <th></th>\n",
       "      <th>0-6 days</th>\n",
       "      <th>7-12 days</th>\n",
       "      <th>13-18 days</th>\n",
       "      <th>19-24 days</th>\n",
       "      <th>25-30 days</th>\n",
       "    </tr>\n",
       "  </thead>\n",
       "  <tbody>\n",
       "    <tr>\n",
       "      <th>2011-2014</th>\n",
       "      <td>2594</td>\n",
       "      <td>1078</td>\n",
       "      <td>883</td>\n",
       "      <td>538</td>\n",
       "      <td>2240</td>\n",
       "    </tr>\n",
       "    <tr>\n",
       "      <th>2015-2018</th>\n",
       "      <td>2523</td>\n",
       "      <td>1062</td>\n",
       "      <td>862</td>\n",
       "      <td>590</td>\n",
       "      <td>2296</td>\n",
       "    </tr>\n",
       "  </tbody>\n",
       "</table>\n",
       "</div>"
      ],
      "text/plain": [
       "           0-6 days  7-12 days  13-18 days  19-24 days  25-30 days\n",
       "2011-2014      2594       1078         883         538        2240\n",
       "2015-2018      2523       1062         862         590        2296"
      ]
     },
     "execution_count": 98,
     "metadata": {},
     "output_type": "execute_result"
    }
   ],
   "source": [
    "#test for poor health\n",
    "poorhlth1114 = low_income1114.loc[low_income1114['poorhlth'] < 77]\n",
    "poorhlth1518 = low_income1518.loc[low_income1518['poorhlth'] < 77]\n",
    "\n",
    "\n",
    "poorhlth1114 = poorhlth1114.sample(n = 7333, random_state = 1)\n",
    "\n",
    "_0_6_1114 = poorhlth1114.loc[(poorhlth1114['poorhlth'] <= 6) & (poorhlth1114['poorhlth'] >= 0)]['poorhlth']\n",
    "_7_12_1114 = poorhlth1114.loc[(poorhlth1114['poorhlth'] <= 12) & (poorhlth1114['poorhlth'] >= 7)]['poorhlth']\n",
    "_13_18_1114 = poorhlth1114.loc[(poorhlth1114['poorhlth'] <= 18) & (poorhlth1114['poorhlth'] >= 13)]['poorhlth']\n",
    "_19_24_1114 = poorhlth1114.loc[(poorhlth1114['poorhlth'] <= 24) & (poorhlth1114['poorhlth'] >= 19)]['poorhlth']\n",
    "_25_30_1114 = poorhlth1114.loc[(poorhlth1114['poorhlth'] <= 30) & (poorhlth1114['poorhlth'] >= 25)]['poorhlth']\n",
    "\n",
    "\n",
    "counts1114 = [_0_6_1114.size, _7_12_1114.size, _13_18_1114.size, _19_24_1114.size, _25_30_1114.size]\n",
    "\n",
    "\n",
    "print(sum(counts1114))\n",
    "\n",
    "_0_6_1518 = poorhlth1518.loc[(poorhlth1518['poorhlth'] <= 6) & (poorhlth1518['poorhlth'] >= 0)]['poorhlth']\n",
    "_7_12_1518 = poorhlth1518.loc[(poorhlth1518['poorhlth'] <= 12) & (poorhlth1518['poorhlth'] >= 7)]['poorhlth']\n",
    "_13_18_1518 = poorhlth1518.loc[(poorhlth1518['poorhlth'] <= 18) & (poorhlth1518['poorhlth'] >= 13)]['poorhlth']\n",
    "_19_24_1518 = poorhlth1518.loc[(poorhlth1518['poorhlth'] <= 24) & (poorhlth1518['poorhlth'] >= 19)]['poorhlth']\n",
    "_25_30_1518 = poorhlth1518.loc[(poorhlth1518['poorhlth'] <= 30) & (poorhlth1518['poorhlth'] >= 25)]['poorhlth']\n",
    "\n",
    "counts1518 = [_0_6_1518.size, _7_12_1518.size, _13_18_1518.size, _19_24_1518.size, _25_30_1518.size]\n",
    "counts1518\n",
    "print(sum(counts1518))\n",
    "\n",
    "poor_health = pd.DataFrame([counts1114, counts1518], index = [\"2011-2014\", \"2015-2018\"], \n",
    "                         columns = [\"0-6 days\", \"7-12 days\", \"13-18 days\", \"19-24 days\", \"25-30 days\"])\n",
    "poor_health"
   ]
  },
  {
   "cell_type": "code",
   "execution_count": 99,
   "metadata": {},
   "outputs": [
    {
     "data": {
      "application/vnd.plotly.v1+json": {
       "config": {
        "plotlyServerURL": "https://plot.ly"
       },
       "data": [
        {
         "name": "2011-14",
         "type": "bar",
         "x": [
          "0-6 days",
          "7-12 days",
          "13-18 days",
          "19-24 days",
          "25-30 days"
         ],
         "y": [
          2594,
          1078,
          883,
          538,
          2240
         ]
        },
        {
         "name": "2015-18",
         "type": "bar",
         "x": [
          "0-6 days",
          "7-12 days",
          "13-18 days",
          "19-24 days",
          "25-30 days"
         ],
         "y": [
          2523,
          1062,
          862,
          590,
          2296
         ]
        }
       ],
       "layout": {
        "barmode": "group",
        "template": {
         "data": {
          "bar": [
           {
            "error_x": {
             "color": "#2a3f5f"
            },
            "error_y": {
             "color": "#2a3f5f"
            },
            "marker": {
             "line": {
              "color": "#E5ECF6",
              "width": 0.5
             }
            },
            "type": "bar"
           }
          ],
          "barpolar": [
           {
            "marker": {
             "line": {
              "color": "#E5ECF6",
              "width": 0.5
             }
            },
            "type": "barpolar"
           }
          ],
          "carpet": [
           {
            "aaxis": {
             "endlinecolor": "#2a3f5f",
             "gridcolor": "white",
             "linecolor": "white",
             "minorgridcolor": "white",
             "startlinecolor": "#2a3f5f"
            },
            "baxis": {
             "endlinecolor": "#2a3f5f",
             "gridcolor": "white",
             "linecolor": "white",
             "minorgridcolor": "white",
             "startlinecolor": "#2a3f5f"
            },
            "type": "carpet"
           }
          ],
          "choropleth": [
           {
            "colorbar": {
             "outlinewidth": 0,
             "ticks": ""
            },
            "type": "choropleth"
           }
          ],
          "contour": [
           {
            "colorbar": {
             "outlinewidth": 0,
             "ticks": ""
            },
            "colorscale": [
             [
              0,
              "#0d0887"
             ],
             [
              0.1111111111111111,
              "#46039f"
             ],
             [
              0.2222222222222222,
              "#7201a8"
             ],
             [
              0.3333333333333333,
              "#9c179e"
             ],
             [
              0.4444444444444444,
              "#bd3786"
             ],
             [
              0.5555555555555556,
              "#d8576b"
             ],
             [
              0.6666666666666666,
              "#ed7953"
             ],
             [
              0.7777777777777778,
              "#fb9f3a"
             ],
             [
              0.8888888888888888,
              "#fdca26"
             ],
             [
              1,
              "#f0f921"
             ]
            ],
            "type": "contour"
           }
          ],
          "contourcarpet": [
           {
            "colorbar": {
             "outlinewidth": 0,
             "ticks": ""
            },
            "type": "contourcarpet"
           }
          ],
          "heatmap": [
           {
            "colorbar": {
             "outlinewidth": 0,
             "ticks": ""
            },
            "colorscale": [
             [
              0,
              "#0d0887"
             ],
             [
              0.1111111111111111,
              "#46039f"
             ],
             [
              0.2222222222222222,
              "#7201a8"
             ],
             [
              0.3333333333333333,
              "#9c179e"
             ],
             [
              0.4444444444444444,
              "#bd3786"
             ],
             [
              0.5555555555555556,
              "#d8576b"
             ],
             [
              0.6666666666666666,
              "#ed7953"
             ],
             [
              0.7777777777777778,
              "#fb9f3a"
             ],
             [
              0.8888888888888888,
              "#fdca26"
             ],
             [
              1,
              "#f0f921"
             ]
            ],
            "type": "heatmap"
           }
          ],
          "heatmapgl": [
           {
            "colorbar": {
             "outlinewidth": 0,
             "ticks": ""
            },
            "colorscale": [
             [
              0,
              "#0d0887"
             ],
             [
              0.1111111111111111,
              "#46039f"
             ],
             [
              0.2222222222222222,
              "#7201a8"
             ],
             [
              0.3333333333333333,
              "#9c179e"
             ],
             [
              0.4444444444444444,
              "#bd3786"
             ],
             [
              0.5555555555555556,
              "#d8576b"
             ],
             [
              0.6666666666666666,
              "#ed7953"
             ],
             [
              0.7777777777777778,
              "#fb9f3a"
             ],
             [
              0.8888888888888888,
              "#fdca26"
             ],
             [
              1,
              "#f0f921"
             ]
            ],
            "type": "heatmapgl"
           }
          ],
          "histogram": [
           {
            "marker": {
             "colorbar": {
              "outlinewidth": 0,
              "ticks": ""
             }
            },
            "type": "histogram"
           }
          ],
          "histogram2d": [
           {
            "colorbar": {
             "outlinewidth": 0,
             "ticks": ""
            },
            "colorscale": [
             [
              0,
              "#0d0887"
             ],
             [
              0.1111111111111111,
              "#46039f"
             ],
             [
              0.2222222222222222,
              "#7201a8"
             ],
             [
              0.3333333333333333,
              "#9c179e"
             ],
             [
              0.4444444444444444,
              "#bd3786"
             ],
             [
              0.5555555555555556,
              "#d8576b"
             ],
             [
              0.6666666666666666,
              "#ed7953"
             ],
             [
              0.7777777777777778,
              "#fb9f3a"
             ],
             [
              0.8888888888888888,
              "#fdca26"
             ],
             [
              1,
              "#f0f921"
             ]
            ],
            "type": "histogram2d"
           }
          ],
          "histogram2dcontour": [
           {
            "colorbar": {
             "outlinewidth": 0,
             "ticks": ""
            },
            "colorscale": [
             [
              0,
              "#0d0887"
             ],
             [
              0.1111111111111111,
              "#46039f"
             ],
             [
              0.2222222222222222,
              "#7201a8"
             ],
             [
              0.3333333333333333,
              "#9c179e"
             ],
             [
              0.4444444444444444,
              "#bd3786"
             ],
             [
              0.5555555555555556,
              "#d8576b"
             ],
             [
              0.6666666666666666,
              "#ed7953"
             ],
             [
              0.7777777777777778,
              "#fb9f3a"
             ],
             [
              0.8888888888888888,
              "#fdca26"
             ],
             [
              1,
              "#f0f921"
             ]
            ],
            "type": "histogram2dcontour"
           }
          ],
          "mesh3d": [
           {
            "colorbar": {
             "outlinewidth": 0,
             "ticks": ""
            },
            "type": "mesh3d"
           }
          ],
          "parcoords": [
           {
            "line": {
             "colorbar": {
              "outlinewidth": 0,
              "ticks": ""
             }
            },
            "type": "parcoords"
           }
          ],
          "pie": [
           {
            "automargin": true,
            "type": "pie"
           }
          ],
          "scatter": [
           {
            "marker": {
             "colorbar": {
              "outlinewidth": 0,
              "ticks": ""
             }
            },
            "type": "scatter"
           }
          ],
          "scatter3d": [
           {
            "line": {
             "colorbar": {
              "outlinewidth": 0,
              "ticks": ""
             }
            },
            "marker": {
             "colorbar": {
              "outlinewidth": 0,
              "ticks": ""
             }
            },
            "type": "scatter3d"
           }
          ],
          "scattercarpet": [
           {
            "marker": {
             "colorbar": {
              "outlinewidth": 0,
              "ticks": ""
             }
            },
            "type": "scattercarpet"
           }
          ],
          "scattergeo": [
           {
            "marker": {
             "colorbar": {
              "outlinewidth": 0,
              "ticks": ""
             }
            },
            "type": "scattergeo"
           }
          ],
          "scattergl": [
           {
            "marker": {
             "colorbar": {
              "outlinewidth": 0,
              "ticks": ""
             }
            },
            "type": "scattergl"
           }
          ],
          "scattermapbox": [
           {
            "marker": {
             "colorbar": {
              "outlinewidth": 0,
              "ticks": ""
             }
            },
            "type": "scattermapbox"
           }
          ],
          "scatterpolar": [
           {
            "marker": {
             "colorbar": {
              "outlinewidth": 0,
              "ticks": ""
             }
            },
            "type": "scatterpolar"
           }
          ],
          "scatterpolargl": [
           {
            "marker": {
             "colorbar": {
              "outlinewidth": 0,
              "ticks": ""
             }
            },
            "type": "scatterpolargl"
           }
          ],
          "scatterternary": [
           {
            "marker": {
             "colorbar": {
              "outlinewidth": 0,
              "ticks": ""
             }
            },
            "type": "scatterternary"
           }
          ],
          "surface": [
           {
            "colorbar": {
             "outlinewidth": 0,
             "ticks": ""
            },
            "colorscale": [
             [
              0,
              "#0d0887"
             ],
             [
              0.1111111111111111,
              "#46039f"
             ],
             [
              0.2222222222222222,
              "#7201a8"
             ],
             [
              0.3333333333333333,
              "#9c179e"
             ],
             [
              0.4444444444444444,
              "#bd3786"
             ],
             [
              0.5555555555555556,
              "#d8576b"
             ],
             [
              0.6666666666666666,
              "#ed7953"
             ],
             [
              0.7777777777777778,
              "#fb9f3a"
             ],
             [
              0.8888888888888888,
              "#fdca26"
             ],
             [
              1,
              "#f0f921"
             ]
            ],
            "type": "surface"
           }
          ],
          "table": [
           {
            "cells": {
             "fill": {
              "color": "#EBF0F8"
             },
             "line": {
              "color": "white"
             }
            },
            "header": {
             "fill": {
              "color": "#C8D4E3"
             },
             "line": {
              "color": "white"
             }
            },
            "type": "table"
           }
          ]
         },
         "layout": {
          "annotationdefaults": {
           "arrowcolor": "#2a3f5f",
           "arrowhead": 0,
           "arrowwidth": 1
          },
          "coloraxis": {
           "colorbar": {
            "outlinewidth": 0,
            "ticks": ""
           }
          },
          "colorscale": {
           "diverging": [
            [
             0,
             "#8e0152"
            ],
            [
             0.1,
             "#c51b7d"
            ],
            [
             0.2,
             "#de77ae"
            ],
            [
             0.3,
             "#f1b6da"
            ],
            [
             0.4,
             "#fde0ef"
            ],
            [
             0.5,
             "#f7f7f7"
            ],
            [
             0.6,
             "#e6f5d0"
            ],
            [
             0.7,
             "#b8e186"
            ],
            [
             0.8,
             "#7fbc41"
            ],
            [
             0.9,
             "#4d9221"
            ],
            [
             1,
             "#276419"
            ]
           ],
           "sequential": [
            [
             0,
             "#0d0887"
            ],
            [
             0.1111111111111111,
             "#46039f"
            ],
            [
             0.2222222222222222,
             "#7201a8"
            ],
            [
             0.3333333333333333,
             "#9c179e"
            ],
            [
             0.4444444444444444,
             "#bd3786"
            ],
            [
             0.5555555555555556,
             "#d8576b"
            ],
            [
             0.6666666666666666,
             "#ed7953"
            ],
            [
             0.7777777777777778,
             "#fb9f3a"
            ],
            [
             0.8888888888888888,
             "#fdca26"
            ],
            [
             1,
             "#f0f921"
            ]
           ],
           "sequentialminus": [
            [
             0,
             "#0d0887"
            ],
            [
             0.1111111111111111,
             "#46039f"
            ],
            [
             0.2222222222222222,
             "#7201a8"
            ],
            [
             0.3333333333333333,
             "#9c179e"
            ],
            [
             0.4444444444444444,
             "#bd3786"
            ],
            [
             0.5555555555555556,
             "#d8576b"
            ],
            [
             0.6666666666666666,
             "#ed7953"
            ],
            [
             0.7777777777777778,
             "#fb9f3a"
            ],
            [
             0.8888888888888888,
             "#fdca26"
            ],
            [
             1,
             "#f0f921"
            ]
           ]
          },
          "colorway": [
           "#636efa",
           "#EF553B",
           "#00cc96",
           "#ab63fa",
           "#FFA15A",
           "#19d3f3",
           "#FF6692",
           "#B6E880",
           "#FF97FF",
           "#FECB52"
          ],
          "font": {
           "color": "#2a3f5f"
          },
          "geo": {
           "bgcolor": "white",
           "lakecolor": "white",
           "landcolor": "#E5ECF6",
           "showlakes": true,
           "showland": true,
           "subunitcolor": "white"
          },
          "hoverlabel": {
           "align": "left"
          },
          "hovermode": "closest",
          "mapbox": {
           "style": "light"
          },
          "paper_bgcolor": "white",
          "plot_bgcolor": "#E5ECF6",
          "polar": {
           "angularaxis": {
            "gridcolor": "white",
            "linecolor": "white",
            "ticks": ""
           },
           "bgcolor": "#E5ECF6",
           "radialaxis": {
            "gridcolor": "white",
            "linecolor": "white",
            "ticks": ""
           }
          },
          "scene": {
           "xaxis": {
            "backgroundcolor": "#E5ECF6",
            "gridcolor": "white",
            "gridwidth": 2,
            "linecolor": "white",
            "showbackground": true,
            "ticks": "",
            "zerolinecolor": "white"
           },
           "yaxis": {
            "backgroundcolor": "#E5ECF6",
            "gridcolor": "white",
            "gridwidth": 2,
            "linecolor": "white",
            "showbackground": true,
            "ticks": "",
            "zerolinecolor": "white"
           },
           "zaxis": {
            "backgroundcolor": "#E5ECF6",
            "gridcolor": "white",
            "gridwidth": 2,
            "linecolor": "white",
            "showbackground": true,
            "ticks": "",
            "zerolinecolor": "white"
           }
          },
          "shapedefaults": {
           "line": {
            "color": "#2a3f5f"
           }
          },
          "ternary": {
           "aaxis": {
            "gridcolor": "white",
            "linecolor": "white",
            "ticks": ""
           },
           "baxis": {
            "gridcolor": "white",
            "linecolor": "white",
            "ticks": ""
           },
           "bgcolor": "#E5ECF6",
           "caxis": {
            "gridcolor": "white",
            "linecolor": "white",
            "ticks": ""
           }
          },
          "title": {
           "x": 0.05
          },
          "xaxis": {
           "automargin": true,
           "gridcolor": "white",
           "linecolor": "white",
           "ticks": "",
           "title": {
            "standoff": 15
           },
           "zerolinecolor": "white",
           "zerolinewidth": 2
          },
          "yaxis": {
           "automargin": true,
           "gridcolor": "white",
           "linecolor": "white",
           "ticks": "",
           "title": {
            "standoff": 15
           },
           "zerolinecolor": "white",
           "zerolinewidth": 2
          }
         }
        }
       }
      },
      "text/html": [
       "<div>\n",
       "        \n",
       "        \n",
       "            <div id=\"13c163ff-9a6a-417e-a476-0df6c129652a\" class=\"plotly-graph-div\" style=\"height:525px; width:100%;\"></div>\n",
       "            <script type=\"text/javascript\">\n",
       "                require([\"plotly\"], function(Plotly) {\n",
       "                    window.PLOTLYENV=window.PLOTLYENV || {};\n",
       "                    \n",
       "                if (document.getElementById(\"13c163ff-9a6a-417e-a476-0df6c129652a\")) {\n",
       "                    Plotly.newPlot(\n",
       "                        '13c163ff-9a6a-417e-a476-0df6c129652a',\n",
       "                        [{\"name\": \"2011-14\", \"type\": \"bar\", \"x\": [\"0-6 days\", \"7-12 days\", \"13-18 days\", \"19-24 days\", \"25-30 days\"], \"y\": [2594, 1078, 883, 538, 2240]}, {\"name\": \"2015-18\", \"type\": \"bar\", \"x\": [\"0-6 days\", \"7-12 days\", \"13-18 days\", \"19-24 days\", \"25-30 days\"], \"y\": [2523, 1062, 862, 590, 2296]}],\n",
       "                        {\"barmode\": \"group\", \"template\": {\"data\": {\"bar\": [{\"error_x\": {\"color\": \"#2a3f5f\"}, \"error_y\": {\"color\": \"#2a3f5f\"}, \"marker\": {\"line\": {\"color\": \"#E5ECF6\", \"width\": 0.5}}, \"type\": \"bar\"}], \"barpolar\": [{\"marker\": {\"line\": {\"color\": \"#E5ECF6\", \"width\": 0.5}}, \"type\": \"barpolar\"}], \"carpet\": [{\"aaxis\": {\"endlinecolor\": \"#2a3f5f\", \"gridcolor\": \"white\", \"linecolor\": \"white\", \"minorgridcolor\": \"white\", \"startlinecolor\": \"#2a3f5f\"}, \"baxis\": {\"endlinecolor\": \"#2a3f5f\", \"gridcolor\": \"white\", \"linecolor\": \"white\", \"minorgridcolor\": \"white\", \"startlinecolor\": \"#2a3f5f\"}, \"type\": \"carpet\"}], \"choropleth\": [{\"colorbar\": {\"outlinewidth\": 0, \"ticks\": \"\"}, \"type\": \"choropleth\"}], \"contour\": [{\"colorbar\": {\"outlinewidth\": 0, \"ticks\": \"\"}, \"colorscale\": [[0.0, \"#0d0887\"], [0.1111111111111111, \"#46039f\"], [0.2222222222222222, \"#7201a8\"], [0.3333333333333333, \"#9c179e\"], [0.4444444444444444, \"#bd3786\"], [0.5555555555555556, \"#d8576b\"], [0.6666666666666666, \"#ed7953\"], [0.7777777777777778, \"#fb9f3a\"], [0.8888888888888888, \"#fdca26\"], [1.0, \"#f0f921\"]], \"type\": \"contour\"}], \"contourcarpet\": [{\"colorbar\": {\"outlinewidth\": 0, \"ticks\": \"\"}, \"type\": \"contourcarpet\"}], \"heatmap\": [{\"colorbar\": {\"outlinewidth\": 0, \"ticks\": \"\"}, \"colorscale\": [[0.0, \"#0d0887\"], [0.1111111111111111, \"#46039f\"], [0.2222222222222222, \"#7201a8\"], [0.3333333333333333, \"#9c179e\"], [0.4444444444444444, \"#bd3786\"], [0.5555555555555556, \"#d8576b\"], [0.6666666666666666, \"#ed7953\"], [0.7777777777777778, \"#fb9f3a\"], [0.8888888888888888, \"#fdca26\"], [1.0, \"#f0f921\"]], \"type\": \"heatmap\"}], \"heatmapgl\": [{\"colorbar\": {\"outlinewidth\": 0, \"ticks\": \"\"}, \"colorscale\": [[0.0, \"#0d0887\"], [0.1111111111111111, \"#46039f\"], [0.2222222222222222, \"#7201a8\"], [0.3333333333333333, \"#9c179e\"], [0.4444444444444444, \"#bd3786\"], [0.5555555555555556, \"#d8576b\"], [0.6666666666666666, \"#ed7953\"], [0.7777777777777778, \"#fb9f3a\"], [0.8888888888888888, \"#fdca26\"], [1.0, \"#f0f921\"]], \"type\": \"heatmapgl\"}], \"histogram\": [{\"marker\": {\"colorbar\": {\"outlinewidth\": 0, \"ticks\": \"\"}}, \"type\": \"histogram\"}], \"histogram2d\": [{\"colorbar\": {\"outlinewidth\": 0, \"ticks\": \"\"}, \"colorscale\": [[0.0, \"#0d0887\"], [0.1111111111111111, \"#46039f\"], [0.2222222222222222, \"#7201a8\"], [0.3333333333333333, \"#9c179e\"], [0.4444444444444444, \"#bd3786\"], [0.5555555555555556, \"#d8576b\"], [0.6666666666666666, \"#ed7953\"], [0.7777777777777778, \"#fb9f3a\"], [0.8888888888888888, \"#fdca26\"], [1.0, \"#f0f921\"]], \"type\": \"histogram2d\"}], \"histogram2dcontour\": [{\"colorbar\": {\"outlinewidth\": 0, \"ticks\": \"\"}, \"colorscale\": [[0.0, \"#0d0887\"], [0.1111111111111111, \"#46039f\"], [0.2222222222222222, \"#7201a8\"], [0.3333333333333333, \"#9c179e\"], [0.4444444444444444, \"#bd3786\"], [0.5555555555555556, \"#d8576b\"], [0.6666666666666666, \"#ed7953\"], [0.7777777777777778, \"#fb9f3a\"], [0.8888888888888888, \"#fdca26\"], [1.0, \"#f0f921\"]], \"type\": \"histogram2dcontour\"}], \"mesh3d\": [{\"colorbar\": {\"outlinewidth\": 0, \"ticks\": \"\"}, \"type\": \"mesh3d\"}], \"parcoords\": [{\"line\": {\"colorbar\": {\"outlinewidth\": 0, \"ticks\": \"\"}}, \"type\": \"parcoords\"}], \"pie\": [{\"automargin\": true, \"type\": \"pie\"}], \"scatter\": [{\"marker\": {\"colorbar\": {\"outlinewidth\": 0, \"ticks\": \"\"}}, \"type\": \"scatter\"}], \"scatter3d\": [{\"line\": {\"colorbar\": {\"outlinewidth\": 0, \"ticks\": \"\"}}, \"marker\": {\"colorbar\": {\"outlinewidth\": 0, \"ticks\": \"\"}}, \"type\": \"scatter3d\"}], \"scattercarpet\": [{\"marker\": {\"colorbar\": {\"outlinewidth\": 0, \"ticks\": \"\"}}, \"type\": \"scattercarpet\"}], \"scattergeo\": [{\"marker\": {\"colorbar\": {\"outlinewidth\": 0, \"ticks\": \"\"}}, \"type\": \"scattergeo\"}], \"scattergl\": [{\"marker\": {\"colorbar\": {\"outlinewidth\": 0, \"ticks\": \"\"}}, \"type\": \"scattergl\"}], \"scattermapbox\": [{\"marker\": {\"colorbar\": {\"outlinewidth\": 0, \"ticks\": \"\"}}, \"type\": \"scattermapbox\"}], \"scatterpolar\": [{\"marker\": {\"colorbar\": {\"outlinewidth\": 0, \"ticks\": \"\"}}, \"type\": \"scatterpolar\"}], \"scatterpolargl\": [{\"marker\": {\"colorbar\": {\"outlinewidth\": 0, \"ticks\": \"\"}}, \"type\": \"scatterpolargl\"}], \"scatterternary\": [{\"marker\": {\"colorbar\": {\"outlinewidth\": 0, \"ticks\": \"\"}}, \"type\": \"scatterternary\"}], \"surface\": [{\"colorbar\": {\"outlinewidth\": 0, \"ticks\": \"\"}, \"colorscale\": [[0.0, \"#0d0887\"], [0.1111111111111111, \"#46039f\"], [0.2222222222222222, \"#7201a8\"], [0.3333333333333333, \"#9c179e\"], [0.4444444444444444, \"#bd3786\"], [0.5555555555555556, \"#d8576b\"], [0.6666666666666666, \"#ed7953\"], [0.7777777777777778, \"#fb9f3a\"], [0.8888888888888888, \"#fdca26\"], [1.0, \"#f0f921\"]], \"type\": \"surface\"}], \"table\": [{\"cells\": {\"fill\": {\"color\": \"#EBF0F8\"}, \"line\": {\"color\": \"white\"}}, \"header\": {\"fill\": {\"color\": \"#C8D4E3\"}, \"line\": {\"color\": \"white\"}}, \"type\": \"table\"}]}, \"layout\": {\"annotationdefaults\": {\"arrowcolor\": \"#2a3f5f\", \"arrowhead\": 0, \"arrowwidth\": 1}, \"coloraxis\": {\"colorbar\": {\"outlinewidth\": 0, \"ticks\": \"\"}}, \"colorscale\": {\"diverging\": [[0, \"#8e0152\"], [0.1, \"#c51b7d\"], [0.2, \"#de77ae\"], [0.3, \"#f1b6da\"], [0.4, \"#fde0ef\"], [0.5, \"#f7f7f7\"], [0.6, \"#e6f5d0\"], [0.7, \"#b8e186\"], [0.8, \"#7fbc41\"], [0.9, \"#4d9221\"], [1, \"#276419\"]], \"sequential\": [[0.0, \"#0d0887\"], [0.1111111111111111, \"#46039f\"], [0.2222222222222222, \"#7201a8\"], [0.3333333333333333, \"#9c179e\"], [0.4444444444444444, \"#bd3786\"], [0.5555555555555556, \"#d8576b\"], [0.6666666666666666, \"#ed7953\"], [0.7777777777777778, \"#fb9f3a\"], [0.8888888888888888, \"#fdca26\"], [1.0, \"#f0f921\"]], \"sequentialminus\": [[0.0, \"#0d0887\"], [0.1111111111111111, \"#46039f\"], [0.2222222222222222, \"#7201a8\"], [0.3333333333333333, \"#9c179e\"], [0.4444444444444444, \"#bd3786\"], [0.5555555555555556, \"#d8576b\"], [0.6666666666666666, \"#ed7953\"], [0.7777777777777778, \"#fb9f3a\"], [0.8888888888888888, \"#fdca26\"], [1.0, \"#f0f921\"]]}, \"colorway\": [\"#636efa\", \"#EF553B\", \"#00cc96\", \"#ab63fa\", \"#FFA15A\", \"#19d3f3\", \"#FF6692\", \"#B6E880\", \"#FF97FF\", \"#FECB52\"], \"font\": {\"color\": \"#2a3f5f\"}, \"geo\": {\"bgcolor\": \"white\", \"lakecolor\": \"white\", \"landcolor\": \"#E5ECF6\", \"showlakes\": true, \"showland\": true, \"subunitcolor\": \"white\"}, \"hoverlabel\": {\"align\": \"left\"}, \"hovermode\": \"closest\", \"mapbox\": {\"style\": \"light\"}, \"paper_bgcolor\": \"white\", \"plot_bgcolor\": \"#E5ECF6\", \"polar\": {\"angularaxis\": {\"gridcolor\": \"white\", \"linecolor\": \"white\", \"ticks\": \"\"}, \"bgcolor\": \"#E5ECF6\", \"radialaxis\": {\"gridcolor\": \"white\", \"linecolor\": \"white\", \"ticks\": \"\"}}, \"scene\": {\"xaxis\": {\"backgroundcolor\": \"#E5ECF6\", \"gridcolor\": \"white\", \"gridwidth\": 2, \"linecolor\": \"white\", \"showbackground\": true, \"ticks\": \"\", \"zerolinecolor\": \"white\"}, \"yaxis\": {\"backgroundcolor\": \"#E5ECF6\", \"gridcolor\": \"white\", \"gridwidth\": 2, \"linecolor\": \"white\", \"showbackground\": true, \"ticks\": \"\", \"zerolinecolor\": \"white\"}, \"zaxis\": {\"backgroundcolor\": \"#E5ECF6\", \"gridcolor\": \"white\", \"gridwidth\": 2, \"linecolor\": \"white\", \"showbackground\": true, \"ticks\": \"\", \"zerolinecolor\": \"white\"}}, \"shapedefaults\": {\"line\": {\"color\": \"#2a3f5f\"}}, \"ternary\": {\"aaxis\": {\"gridcolor\": \"white\", \"linecolor\": \"white\", \"ticks\": \"\"}, \"baxis\": {\"gridcolor\": \"white\", \"linecolor\": \"white\", \"ticks\": \"\"}, \"bgcolor\": \"#E5ECF6\", \"caxis\": {\"gridcolor\": \"white\", \"linecolor\": \"white\", \"ticks\": \"\"}}, \"title\": {\"x\": 0.05}, \"xaxis\": {\"automargin\": true, \"gridcolor\": \"white\", \"linecolor\": \"white\", \"ticks\": \"\", \"title\": {\"standoff\": 15}, \"zerolinecolor\": \"white\", \"zerolinewidth\": 2}, \"yaxis\": {\"automargin\": true, \"gridcolor\": \"white\", \"linecolor\": \"white\", \"ticks\": \"\", \"title\": {\"standoff\": 15}, \"zerolinecolor\": \"white\", \"zerolinewidth\": 2}}}},\n",
       "                        {\"responsive\": true}\n",
       "                    ).then(function(){\n",
       "                            \n",
       "var gd = document.getElementById('13c163ff-9a6a-417e-a476-0df6c129652a');\n",
       "var x = new MutationObserver(function (mutations, observer) {{\n",
       "        var display = window.getComputedStyle(gd).display;\n",
       "        if (!display || display === 'none') {{\n",
       "            console.log([gd, 'removed!']);\n",
       "            Plotly.purge(gd);\n",
       "            observer.disconnect();\n",
       "        }}\n",
       "}});\n",
       "\n",
       "// Listen for the removal of the full notebook cells\n",
       "var notebookContainer = gd.closest('#notebook-container');\n",
       "if (notebookContainer) {{\n",
       "    x.observe(notebookContainer, {childList: true});\n",
       "}}\n",
       "\n",
       "// Listen for the clearing of the current output cell\n",
       "var outputEl = gd.closest('.output');\n",
       "if (outputEl) {{\n",
       "    x.observe(outputEl, {childList: true});\n",
       "}}\n",
       "\n",
       "                        })\n",
       "                };\n",
       "                });\n",
       "            </script>\n",
       "        </div>"
      ]
     },
     "metadata": {},
     "output_type": "display_data"
    }
   ],
   "source": [
    "#chart to view data and see if results match up\n",
    "fig = go.Figure(data = [go.Bar(name = '2011-14', x = poor_health.columns, y = poor_health.iloc[0]),\n",
    "                       go.Bar(name = '2015-18', x = poor_health.columns, y = poor_health.iloc[1])])\n",
    "fig.update_layout(barmode='group')\n",
    "fig.show()"
   ]
  },
  {
   "cell_type": "code",
   "execution_count": 100,
   "metadata": {},
   "outputs": [
    {
     "name": "stdout",
     "output_type": "stream",
     "text": [
      "chi2: 4.446016923911332 p-value: 0.34899655299439436 dof: 4\n"
     ]
    }
   ],
   "source": [
    "#perform chi2 test\n",
    "test_poor_hlth = chi2_contingency(poor_health)\n",
    "chi2 = test_poor_hlth[0]\n",
    "pvalue = test_poor_hlth[1]\n",
    "dof = test_poor_hlth[2]\n",
    "print(\"chi2:\", chi2, \"p-value:\", pvalue, \"dof:\", dof)"
   ]
  },
  {
   "cell_type": "code",
   "execution_count": 101,
   "metadata": {},
   "outputs": [
    {
     "data": {
      "text/html": [
       "<div>\n",
       "<style scoped>\n",
       "    .dataframe tbody tr th:only-of-type {\n",
       "        vertical-align: middle;\n",
       "    }\n",
       "\n",
       "    .dataframe tbody tr th {\n",
       "        vertical-align: top;\n",
       "    }\n",
       "\n",
       "    .dataframe thead th {\n",
       "        text-align: right;\n",
       "    }\n",
       "</style>\n",
       "<table border=\"1\" class=\"dataframe\">\n",
       "  <thead>\n",
       "    <tr style=\"text-align: right;\">\n",
       "      <th></th>\n",
       "      <th>Excellent</th>\n",
       "      <th>Very Good</th>\n",
       "      <th>Good</th>\n",
       "      <th>Fair</th>\n",
       "      <th>Poor</th>\n",
       "    </tr>\n",
       "  </thead>\n",
       "  <tbody>\n",
       "    <tr>\n",
       "      <th>2011-2014</th>\n",
       "      <td>3797</td>\n",
       "      <td>7546</td>\n",
       "      <td>9130</td>\n",
       "      <td>5518</td>\n",
       "      <td>2573</td>\n",
       "    </tr>\n",
       "    <tr>\n",
       "      <th>2015-2018</th>\n",
       "      <td>3972</td>\n",
       "      <td>8114</td>\n",
       "      <td>9036</td>\n",
       "      <td>5121</td>\n",
       "      <td>2321</td>\n",
       "    </tr>\n",
       "  </tbody>\n",
       "</table>\n",
       "</div>"
      ],
      "text/plain": [
       "           Excellent  Very Good  Good  Fair  Poor\n",
       "2011-2014       3797       7546  9130  5518  2573\n",
       "2015-2018       3972       8114  9036  5121  2321"
      ]
     },
     "execution_count": 101,
     "metadata": {},
     "output_type": "execute_result"
    }
   ],
   "source": [
    "#GENHLTH\n",
    "\n",
    "#splitting cost data on race/income\n",
    "\n",
    "gen_hlth1114 = low_income1114.loc[low_income1114['genhlth'] < 7]['genhlth']\n",
    "gen_hlth1518 = low_income1518.loc[low_income1518['genhlth'] < 7]['genhlth']\n",
    "\n",
    "gen_hlth1114 = gen_hlth1114.dropna()\n",
    "# meds_low1518\n",
    "gen_hlth1518 = gen_hlth1518.dropna()\n",
    "\n",
    "gen_hlth1518\n",
    "\n",
    "sample1114 = gen_hlth1114.sample(n = 28564, random_state = 1)\n",
    "\n",
    "#get counts for each value of having care or not in 2014 data set\n",
    "counts14 = getCounts(sample1114, 5)\n",
    "#get counts for each value of having care or not in 2014 data set\n",
    "counts1518 = getCounts(gen_hlth1518, 5)\n",
    "\n",
    "gen_hlth = pd.DataFrame([counts14, counts1518], index = [\"2011-2014\", \"2015-2018\"], \n",
    "                         columns = [\"Excellent\", \"Very Good\", \"Good\", \"Fair\", \"Poor\"])\n",
    "gen_hlth"
   ]
  },
  {
   "cell_type": "code",
   "execution_count": 102,
   "metadata": {},
   "outputs": [
    {
     "data": {
      "application/vnd.plotly.v1+json": {
       "config": {
        "plotlyServerURL": "https://plot.ly"
       },
       "data": [
        {
         "name": "2011-14",
         "type": "bar",
         "x": [
          "Excellent",
          "Very Good",
          "Good",
          "Fair",
          "Poor"
         ],
         "y": [
          3797,
          7546,
          9130,
          5518,
          2573
         ]
        },
        {
         "name": "2015-18",
         "type": "bar",
         "x": [
          "Excellent",
          "Very Good",
          "Good",
          "Fair",
          "Poor"
         ],
         "y": [
          3972,
          8114,
          9036,
          5121,
          2321
         ]
        }
       ],
       "layout": {
        "barmode": "group",
        "template": {
         "data": {
          "bar": [
           {
            "error_x": {
             "color": "#2a3f5f"
            },
            "error_y": {
             "color": "#2a3f5f"
            },
            "marker": {
             "line": {
              "color": "#E5ECF6",
              "width": 0.5
             }
            },
            "type": "bar"
           }
          ],
          "barpolar": [
           {
            "marker": {
             "line": {
              "color": "#E5ECF6",
              "width": 0.5
             }
            },
            "type": "barpolar"
           }
          ],
          "carpet": [
           {
            "aaxis": {
             "endlinecolor": "#2a3f5f",
             "gridcolor": "white",
             "linecolor": "white",
             "minorgridcolor": "white",
             "startlinecolor": "#2a3f5f"
            },
            "baxis": {
             "endlinecolor": "#2a3f5f",
             "gridcolor": "white",
             "linecolor": "white",
             "minorgridcolor": "white",
             "startlinecolor": "#2a3f5f"
            },
            "type": "carpet"
           }
          ],
          "choropleth": [
           {
            "colorbar": {
             "outlinewidth": 0,
             "ticks": ""
            },
            "type": "choropleth"
           }
          ],
          "contour": [
           {
            "colorbar": {
             "outlinewidth": 0,
             "ticks": ""
            },
            "colorscale": [
             [
              0,
              "#0d0887"
             ],
             [
              0.1111111111111111,
              "#46039f"
             ],
             [
              0.2222222222222222,
              "#7201a8"
             ],
             [
              0.3333333333333333,
              "#9c179e"
             ],
             [
              0.4444444444444444,
              "#bd3786"
             ],
             [
              0.5555555555555556,
              "#d8576b"
             ],
             [
              0.6666666666666666,
              "#ed7953"
             ],
             [
              0.7777777777777778,
              "#fb9f3a"
             ],
             [
              0.8888888888888888,
              "#fdca26"
             ],
             [
              1,
              "#f0f921"
             ]
            ],
            "type": "contour"
           }
          ],
          "contourcarpet": [
           {
            "colorbar": {
             "outlinewidth": 0,
             "ticks": ""
            },
            "type": "contourcarpet"
           }
          ],
          "heatmap": [
           {
            "colorbar": {
             "outlinewidth": 0,
             "ticks": ""
            },
            "colorscale": [
             [
              0,
              "#0d0887"
             ],
             [
              0.1111111111111111,
              "#46039f"
             ],
             [
              0.2222222222222222,
              "#7201a8"
             ],
             [
              0.3333333333333333,
              "#9c179e"
             ],
             [
              0.4444444444444444,
              "#bd3786"
             ],
             [
              0.5555555555555556,
              "#d8576b"
             ],
             [
              0.6666666666666666,
              "#ed7953"
             ],
             [
              0.7777777777777778,
              "#fb9f3a"
             ],
             [
              0.8888888888888888,
              "#fdca26"
             ],
             [
              1,
              "#f0f921"
             ]
            ],
            "type": "heatmap"
           }
          ],
          "heatmapgl": [
           {
            "colorbar": {
             "outlinewidth": 0,
             "ticks": ""
            },
            "colorscale": [
             [
              0,
              "#0d0887"
             ],
             [
              0.1111111111111111,
              "#46039f"
             ],
             [
              0.2222222222222222,
              "#7201a8"
             ],
             [
              0.3333333333333333,
              "#9c179e"
             ],
             [
              0.4444444444444444,
              "#bd3786"
             ],
             [
              0.5555555555555556,
              "#d8576b"
             ],
             [
              0.6666666666666666,
              "#ed7953"
             ],
             [
              0.7777777777777778,
              "#fb9f3a"
             ],
             [
              0.8888888888888888,
              "#fdca26"
             ],
             [
              1,
              "#f0f921"
             ]
            ],
            "type": "heatmapgl"
           }
          ],
          "histogram": [
           {
            "marker": {
             "colorbar": {
              "outlinewidth": 0,
              "ticks": ""
             }
            },
            "type": "histogram"
           }
          ],
          "histogram2d": [
           {
            "colorbar": {
             "outlinewidth": 0,
             "ticks": ""
            },
            "colorscale": [
             [
              0,
              "#0d0887"
             ],
             [
              0.1111111111111111,
              "#46039f"
             ],
             [
              0.2222222222222222,
              "#7201a8"
             ],
             [
              0.3333333333333333,
              "#9c179e"
             ],
             [
              0.4444444444444444,
              "#bd3786"
             ],
             [
              0.5555555555555556,
              "#d8576b"
             ],
             [
              0.6666666666666666,
              "#ed7953"
             ],
             [
              0.7777777777777778,
              "#fb9f3a"
             ],
             [
              0.8888888888888888,
              "#fdca26"
             ],
             [
              1,
              "#f0f921"
             ]
            ],
            "type": "histogram2d"
           }
          ],
          "histogram2dcontour": [
           {
            "colorbar": {
             "outlinewidth": 0,
             "ticks": ""
            },
            "colorscale": [
             [
              0,
              "#0d0887"
             ],
             [
              0.1111111111111111,
              "#46039f"
             ],
             [
              0.2222222222222222,
              "#7201a8"
             ],
             [
              0.3333333333333333,
              "#9c179e"
             ],
             [
              0.4444444444444444,
              "#bd3786"
             ],
             [
              0.5555555555555556,
              "#d8576b"
             ],
             [
              0.6666666666666666,
              "#ed7953"
             ],
             [
              0.7777777777777778,
              "#fb9f3a"
             ],
             [
              0.8888888888888888,
              "#fdca26"
             ],
             [
              1,
              "#f0f921"
             ]
            ],
            "type": "histogram2dcontour"
           }
          ],
          "mesh3d": [
           {
            "colorbar": {
             "outlinewidth": 0,
             "ticks": ""
            },
            "type": "mesh3d"
           }
          ],
          "parcoords": [
           {
            "line": {
             "colorbar": {
              "outlinewidth": 0,
              "ticks": ""
             }
            },
            "type": "parcoords"
           }
          ],
          "pie": [
           {
            "automargin": true,
            "type": "pie"
           }
          ],
          "scatter": [
           {
            "marker": {
             "colorbar": {
              "outlinewidth": 0,
              "ticks": ""
             }
            },
            "type": "scatter"
           }
          ],
          "scatter3d": [
           {
            "line": {
             "colorbar": {
              "outlinewidth": 0,
              "ticks": ""
             }
            },
            "marker": {
             "colorbar": {
              "outlinewidth": 0,
              "ticks": ""
             }
            },
            "type": "scatter3d"
           }
          ],
          "scattercarpet": [
           {
            "marker": {
             "colorbar": {
              "outlinewidth": 0,
              "ticks": ""
             }
            },
            "type": "scattercarpet"
           }
          ],
          "scattergeo": [
           {
            "marker": {
             "colorbar": {
              "outlinewidth": 0,
              "ticks": ""
             }
            },
            "type": "scattergeo"
           }
          ],
          "scattergl": [
           {
            "marker": {
             "colorbar": {
              "outlinewidth": 0,
              "ticks": ""
             }
            },
            "type": "scattergl"
           }
          ],
          "scattermapbox": [
           {
            "marker": {
             "colorbar": {
              "outlinewidth": 0,
              "ticks": ""
             }
            },
            "type": "scattermapbox"
           }
          ],
          "scatterpolar": [
           {
            "marker": {
             "colorbar": {
              "outlinewidth": 0,
              "ticks": ""
             }
            },
            "type": "scatterpolar"
           }
          ],
          "scatterpolargl": [
           {
            "marker": {
             "colorbar": {
              "outlinewidth": 0,
              "ticks": ""
             }
            },
            "type": "scatterpolargl"
           }
          ],
          "scatterternary": [
           {
            "marker": {
             "colorbar": {
              "outlinewidth": 0,
              "ticks": ""
             }
            },
            "type": "scatterternary"
           }
          ],
          "surface": [
           {
            "colorbar": {
             "outlinewidth": 0,
             "ticks": ""
            },
            "colorscale": [
             [
              0,
              "#0d0887"
             ],
             [
              0.1111111111111111,
              "#46039f"
             ],
             [
              0.2222222222222222,
              "#7201a8"
             ],
             [
              0.3333333333333333,
              "#9c179e"
             ],
             [
              0.4444444444444444,
              "#bd3786"
             ],
             [
              0.5555555555555556,
              "#d8576b"
             ],
             [
              0.6666666666666666,
              "#ed7953"
             ],
             [
              0.7777777777777778,
              "#fb9f3a"
             ],
             [
              0.8888888888888888,
              "#fdca26"
             ],
             [
              1,
              "#f0f921"
             ]
            ],
            "type": "surface"
           }
          ],
          "table": [
           {
            "cells": {
             "fill": {
              "color": "#EBF0F8"
             },
             "line": {
              "color": "white"
             }
            },
            "header": {
             "fill": {
              "color": "#C8D4E3"
             },
             "line": {
              "color": "white"
             }
            },
            "type": "table"
           }
          ]
         },
         "layout": {
          "annotationdefaults": {
           "arrowcolor": "#2a3f5f",
           "arrowhead": 0,
           "arrowwidth": 1
          },
          "coloraxis": {
           "colorbar": {
            "outlinewidth": 0,
            "ticks": ""
           }
          },
          "colorscale": {
           "diverging": [
            [
             0,
             "#8e0152"
            ],
            [
             0.1,
             "#c51b7d"
            ],
            [
             0.2,
             "#de77ae"
            ],
            [
             0.3,
             "#f1b6da"
            ],
            [
             0.4,
             "#fde0ef"
            ],
            [
             0.5,
             "#f7f7f7"
            ],
            [
             0.6,
             "#e6f5d0"
            ],
            [
             0.7,
             "#b8e186"
            ],
            [
             0.8,
             "#7fbc41"
            ],
            [
             0.9,
             "#4d9221"
            ],
            [
             1,
             "#276419"
            ]
           ],
           "sequential": [
            [
             0,
             "#0d0887"
            ],
            [
             0.1111111111111111,
             "#46039f"
            ],
            [
             0.2222222222222222,
             "#7201a8"
            ],
            [
             0.3333333333333333,
             "#9c179e"
            ],
            [
             0.4444444444444444,
             "#bd3786"
            ],
            [
             0.5555555555555556,
             "#d8576b"
            ],
            [
             0.6666666666666666,
             "#ed7953"
            ],
            [
             0.7777777777777778,
             "#fb9f3a"
            ],
            [
             0.8888888888888888,
             "#fdca26"
            ],
            [
             1,
             "#f0f921"
            ]
           ],
           "sequentialminus": [
            [
             0,
             "#0d0887"
            ],
            [
             0.1111111111111111,
             "#46039f"
            ],
            [
             0.2222222222222222,
             "#7201a8"
            ],
            [
             0.3333333333333333,
             "#9c179e"
            ],
            [
             0.4444444444444444,
             "#bd3786"
            ],
            [
             0.5555555555555556,
             "#d8576b"
            ],
            [
             0.6666666666666666,
             "#ed7953"
            ],
            [
             0.7777777777777778,
             "#fb9f3a"
            ],
            [
             0.8888888888888888,
             "#fdca26"
            ],
            [
             1,
             "#f0f921"
            ]
           ]
          },
          "colorway": [
           "#636efa",
           "#EF553B",
           "#00cc96",
           "#ab63fa",
           "#FFA15A",
           "#19d3f3",
           "#FF6692",
           "#B6E880",
           "#FF97FF",
           "#FECB52"
          ],
          "font": {
           "color": "#2a3f5f"
          },
          "geo": {
           "bgcolor": "white",
           "lakecolor": "white",
           "landcolor": "#E5ECF6",
           "showlakes": true,
           "showland": true,
           "subunitcolor": "white"
          },
          "hoverlabel": {
           "align": "left"
          },
          "hovermode": "closest",
          "mapbox": {
           "style": "light"
          },
          "paper_bgcolor": "white",
          "plot_bgcolor": "#E5ECF6",
          "polar": {
           "angularaxis": {
            "gridcolor": "white",
            "linecolor": "white",
            "ticks": ""
           },
           "bgcolor": "#E5ECF6",
           "radialaxis": {
            "gridcolor": "white",
            "linecolor": "white",
            "ticks": ""
           }
          },
          "scene": {
           "xaxis": {
            "backgroundcolor": "#E5ECF6",
            "gridcolor": "white",
            "gridwidth": 2,
            "linecolor": "white",
            "showbackground": true,
            "ticks": "",
            "zerolinecolor": "white"
           },
           "yaxis": {
            "backgroundcolor": "#E5ECF6",
            "gridcolor": "white",
            "gridwidth": 2,
            "linecolor": "white",
            "showbackground": true,
            "ticks": "",
            "zerolinecolor": "white"
           },
           "zaxis": {
            "backgroundcolor": "#E5ECF6",
            "gridcolor": "white",
            "gridwidth": 2,
            "linecolor": "white",
            "showbackground": true,
            "ticks": "",
            "zerolinecolor": "white"
           }
          },
          "shapedefaults": {
           "line": {
            "color": "#2a3f5f"
           }
          },
          "ternary": {
           "aaxis": {
            "gridcolor": "white",
            "linecolor": "white",
            "ticks": ""
           },
           "baxis": {
            "gridcolor": "white",
            "linecolor": "white",
            "ticks": ""
           },
           "bgcolor": "#E5ECF6",
           "caxis": {
            "gridcolor": "white",
            "linecolor": "white",
            "ticks": ""
           }
          },
          "title": {
           "x": 0.05
          },
          "xaxis": {
           "automargin": true,
           "gridcolor": "white",
           "linecolor": "white",
           "ticks": "",
           "title": {
            "standoff": 15
           },
           "zerolinecolor": "white",
           "zerolinewidth": 2
          },
          "yaxis": {
           "automargin": true,
           "gridcolor": "white",
           "linecolor": "white",
           "ticks": "",
           "title": {
            "standoff": 15
           },
           "zerolinecolor": "white",
           "zerolinewidth": 2
          }
         }
        }
       }
      },
      "text/html": [
       "<div>\n",
       "        \n",
       "        \n",
       "            <div id=\"9f324c09-340b-4aa5-a164-1712c4c34fd6\" class=\"plotly-graph-div\" style=\"height:525px; width:100%;\"></div>\n",
       "            <script type=\"text/javascript\">\n",
       "                require([\"plotly\"], function(Plotly) {\n",
       "                    window.PLOTLYENV=window.PLOTLYENV || {};\n",
       "                    \n",
       "                if (document.getElementById(\"9f324c09-340b-4aa5-a164-1712c4c34fd6\")) {\n",
       "                    Plotly.newPlot(\n",
       "                        '9f324c09-340b-4aa5-a164-1712c4c34fd6',\n",
       "                        [{\"name\": \"2011-14\", \"type\": \"bar\", \"x\": [\"Excellent\", \"Very Good\", \"Good\", \"Fair\", \"Poor\"], \"y\": [3797, 7546, 9130, 5518, 2573]}, {\"name\": \"2015-18\", \"type\": \"bar\", \"x\": [\"Excellent\", \"Very Good\", \"Good\", \"Fair\", \"Poor\"], \"y\": [3972, 8114, 9036, 5121, 2321]}],\n",
       "                        {\"barmode\": \"group\", \"template\": {\"data\": {\"bar\": [{\"error_x\": {\"color\": \"#2a3f5f\"}, \"error_y\": {\"color\": \"#2a3f5f\"}, \"marker\": {\"line\": {\"color\": \"#E5ECF6\", \"width\": 0.5}}, \"type\": \"bar\"}], \"barpolar\": [{\"marker\": {\"line\": {\"color\": \"#E5ECF6\", \"width\": 0.5}}, \"type\": \"barpolar\"}], \"carpet\": [{\"aaxis\": {\"endlinecolor\": \"#2a3f5f\", \"gridcolor\": \"white\", \"linecolor\": \"white\", \"minorgridcolor\": \"white\", \"startlinecolor\": \"#2a3f5f\"}, \"baxis\": {\"endlinecolor\": \"#2a3f5f\", \"gridcolor\": \"white\", \"linecolor\": \"white\", \"minorgridcolor\": \"white\", \"startlinecolor\": \"#2a3f5f\"}, \"type\": \"carpet\"}], \"choropleth\": [{\"colorbar\": {\"outlinewidth\": 0, \"ticks\": \"\"}, \"type\": \"choropleth\"}], \"contour\": [{\"colorbar\": {\"outlinewidth\": 0, \"ticks\": \"\"}, \"colorscale\": [[0.0, \"#0d0887\"], [0.1111111111111111, \"#46039f\"], [0.2222222222222222, \"#7201a8\"], [0.3333333333333333, \"#9c179e\"], [0.4444444444444444, \"#bd3786\"], [0.5555555555555556, \"#d8576b\"], [0.6666666666666666, \"#ed7953\"], [0.7777777777777778, \"#fb9f3a\"], [0.8888888888888888, \"#fdca26\"], [1.0, \"#f0f921\"]], \"type\": \"contour\"}], \"contourcarpet\": [{\"colorbar\": {\"outlinewidth\": 0, \"ticks\": \"\"}, \"type\": \"contourcarpet\"}], \"heatmap\": [{\"colorbar\": {\"outlinewidth\": 0, \"ticks\": \"\"}, \"colorscale\": [[0.0, \"#0d0887\"], [0.1111111111111111, \"#46039f\"], [0.2222222222222222, \"#7201a8\"], [0.3333333333333333, \"#9c179e\"], [0.4444444444444444, \"#bd3786\"], [0.5555555555555556, \"#d8576b\"], [0.6666666666666666, \"#ed7953\"], [0.7777777777777778, \"#fb9f3a\"], [0.8888888888888888, \"#fdca26\"], [1.0, \"#f0f921\"]], \"type\": \"heatmap\"}], \"heatmapgl\": [{\"colorbar\": {\"outlinewidth\": 0, \"ticks\": \"\"}, \"colorscale\": [[0.0, \"#0d0887\"], [0.1111111111111111, \"#46039f\"], [0.2222222222222222, \"#7201a8\"], [0.3333333333333333, \"#9c179e\"], [0.4444444444444444, \"#bd3786\"], [0.5555555555555556, \"#d8576b\"], [0.6666666666666666, \"#ed7953\"], [0.7777777777777778, \"#fb9f3a\"], [0.8888888888888888, \"#fdca26\"], [1.0, \"#f0f921\"]], \"type\": \"heatmapgl\"}], \"histogram\": [{\"marker\": {\"colorbar\": {\"outlinewidth\": 0, \"ticks\": \"\"}}, \"type\": \"histogram\"}], \"histogram2d\": [{\"colorbar\": {\"outlinewidth\": 0, \"ticks\": \"\"}, \"colorscale\": [[0.0, \"#0d0887\"], [0.1111111111111111, \"#46039f\"], [0.2222222222222222, \"#7201a8\"], [0.3333333333333333, \"#9c179e\"], [0.4444444444444444, \"#bd3786\"], [0.5555555555555556, \"#d8576b\"], [0.6666666666666666, \"#ed7953\"], [0.7777777777777778, \"#fb9f3a\"], [0.8888888888888888, \"#fdca26\"], [1.0, \"#f0f921\"]], \"type\": \"histogram2d\"}], \"histogram2dcontour\": [{\"colorbar\": {\"outlinewidth\": 0, \"ticks\": \"\"}, \"colorscale\": [[0.0, \"#0d0887\"], [0.1111111111111111, \"#46039f\"], [0.2222222222222222, \"#7201a8\"], [0.3333333333333333, \"#9c179e\"], [0.4444444444444444, \"#bd3786\"], [0.5555555555555556, \"#d8576b\"], [0.6666666666666666, \"#ed7953\"], [0.7777777777777778, \"#fb9f3a\"], [0.8888888888888888, \"#fdca26\"], [1.0, \"#f0f921\"]], \"type\": \"histogram2dcontour\"}], \"mesh3d\": [{\"colorbar\": {\"outlinewidth\": 0, \"ticks\": \"\"}, \"type\": \"mesh3d\"}], \"parcoords\": [{\"line\": {\"colorbar\": {\"outlinewidth\": 0, \"ticks\": \"\"}}, \"type\": \"parcoords\"}], \"pie\": [{\"automargin\": true, \"type\": \"pie\"}], \"scatter\": [{\"marker\": {\"colorbar\": {\"outlinewidth\": 0, \"ticks\": \"\"}}, \"type\": \"scatter\"}], \"scatter3d\": [{\"line\": {\"colorbar\": {\"outlinewidth\": 0, \"ticks\": \"\"}}, \"marker\": {\"colorbar\": {\"outlinewidth\": 0, \"ticks\": \"\"}}, \"type\": \"scatter3d\"}], \"scattercarpet\": [{\"marker\": {\"colorbar\": {\"outlinewidth\": 0, \"ticks\": \"\"}}, \"type\": \"scattercarpet\"}], \"scattergeo\": [{\"marker\": {\"colorbar\": {\"outlinewidth\": 0, \"ticks\": \"\"}}, \"type\": \"scattergeo\"}], \"scattergl\": [{\"marker\": {\"colorbar\": {\"outlinewidth\": 0, \"ticks\": \"\"}}, \"type\": \"scattergl\"}], \"scattermapbox\": [{\"marker\": {\"colorbar\": {\"outlinewidth\": 0, \"ticks\": \"\"}}, \"type\": \"scattermapbox\"}], \"scatterpolar\": [{\"marker\": {\"colorbar\": {\"outlinewidth\": 0, \"ticks\": \"\"}}, \"type\": \"scatterpolar\"}], \"scatterpolargl\": [{\"marker\": {\"colorbar\": {\"outlinewidth\": 0, \"ticks\": \"\"}}, \"type\": \"scatterpolargl\"}], \"scatterternary\": [{\"marker\": {\"colorbar\": {\"outlinewidth\": 0, \"ticks\": \"\"}}, \"type\": \"scatterternary\"}], \"surface\": [{\"colorbar\": {\"outlinewidth\": 0, \"ticks\": \"\"}, \"colorscale\": [[0.0, \"#0d0887\"], [0.1111111111111111, \"#46039f\"], [0.2222222222222222, \"#7201a8\"], [0.3333333333333333, \"#9c179e\"], [0.4444444444444444, \"#bd3786\"], [0.5555555555555556, \"#d8576b\"], [0.6666666666666666, \"#ed7953\"], [0.7777777777777778, \"#fb9f3a\"], [0.8888888888888888, \"#fdca26\"], [1.0, \"#f0f921\"]], \"type\": \"surface\"}], \"table\": [{\"cells\": {\"fill\": {\"color\": \"#EBF0F8\"}, \"line\": {\"color\": \"white\"}}, \"header\": {\"fill\": {\"color\": \"#C8D4E3\"}, \"line\": {\"color\": \"white\"}}, \"type\": \"table\"}]}, \"layout\": {\"annotationdefaults\": {\"arrowcolor\": \"#2a3f5f\", \"arrowhead\": 0, \"arrowwidth\": 1}, \"coloraxis\": {\"colorbar\": {\"outlinewidth\": 0, \"ticks\": \"\"}}, \"colorscale\": {\"diverging\": [[0, \"#8e0152\"], [0.1, \"#c51b7d\"], [0.2, \"#de77ae\"], [0.3, \"#f1b6da\"], [0.4, \"#fde0ef\"], [0.5, \"#f7f7f7\"], [0.6, \"#e6f5d0\"], [0.7, \"#b8e186\"], [0.8, \"#7fbc41\"], [0.9, \"#4d9221\"], [1, \"#276419\"]], \"sequential\": [[0.0, \"#0d0887\"], [0.1111111111111111, \"#46039f\"], [0.2222222222222222, \"#7201a8\"], [0.3333333333333333, \"#9c179e\"], [0.4444444444444444, \"#bd3786\"], [0.5555555555555556, \"#d8576b\"], [0.6666666666666666, \"#ed7953\"], [0.7777777777777778, \"#fb9f3a\"], [0.8888888888888888, \"#fdca26\"], [1.0, \"#f0f921\"]], \"sequentialminus\": [[0.0, \"#0d0887\"], [0.1111111111111111, \"#46039f\"], [0.2222222222222222, \"#7201a8\"], [0.3333333333333333, \"#9c179e\"], [0.4444444444444444, \"#bd3786\"], [0.5555555555555556, \"#d8576b\"], [0.6666666666666666, \"#ed7953\"], [0.7777777777777778, \"#fb9f3a\"], [0.8888888888888888, \"#fdca26\"], [1.0, \"#f0f921\"]]}, \"colorway\": [\"#636efa\", \"#EF553B\", \"#00cc96\", \"#ab63fa\", \"#FFA15A\", \"#19d3f3\", \"#FF6692\", \"#B6E880\", \"#FF97FF\", \"#FECB52\"], \"font\": {\"color\": \"#2a3f5f\"}, \"geo\": {\"bgcolor\": \"white\", \"lakecolor\": \"white\", \"landcolor\": \"#E5ECF6\", \"showlakes\": true, \"showland\": true, \"subunitcolor\": \"white\"}, \"hoverlabel\": {\"align\": \"left\"}, \"hovermode\": \"closest\", \"mapbox\": {\"style\": \"light\"}, \"paper_bgcolor\": \"white\", \"plot_bgcolor\": \"#E5ECF6\", \"polar\": {\"angularaxis\": {\"gridcolor\": \"white\", \"linecolor\": \"white\", \"ticks\": \"\"}, \"bgcolor\": \"#E5ECF6\", \"radialaxis\": {\"gridcolor\": \"white\", \"linecolor\": \"white\", \"ticks\": \"\"}}, \"scene\": {\"xaxis\": {\"backgroundcolor\": \"#E5ECF6\", \"gridcolor\": \"white\", \"gridwidth\": 2, \"linecolor\": \"white\", \"showbackground\": true, \"ticks\": \"\", \"zerolinecolor\": \"white\"}, \"yaxis\": {\"backgroundcolor\": \"#E5ECF6\", \"gridcolor\": \"white\", \"gridwidth\": 2, \"linecolor\": \"white\", \"showbackground\": true, \"ticks\": \"\", \"zerolinecolor\": \"white\"}, \"zaxis\": {\"backgroundcolor\": \"#E5ECF6\", \"gridcolor\": \"white\", \"gridwidth\": 2, \"linecolor\": \"white\", \"showbackground\": true, \"ticks\": \"\", \"zerolinecolor\": \"white\"}}, \"shapedefaults\": {\"line\": {\"color\": \"#2a3f5f\"}}, \"ternary\": {\"aaxis\": {\"gridcolor\": \"white\", \"linecolor\": \"white\", \"ticks\": \"\"}, \"baxis\": {\"gridcolor\": \"white\", \"linecolor\": \"white\", \"ticks\": \"\"}, \"bgcolor\": \"#E5ECF6\", \"caxis\": {\"gridcolor\": \"white\", \"linecolor\": \"white\", \"ticks\": \"\"}}, \"title\": {\"x\": 0.05}, \"xaxis\": {\"automargin\": true, \"gridcolor\": \"white\", \"linecolor\": \"white\", \"ticks\": \"\", \"title\": {\"standoff\": 15}, \"zerolinecolor\": \"white\", \"zerolinewidth\": 2}, \"yaxis\": {\"automargin\": true, \"gridcolor\": \"white\", \"linecolor\": \"white\", \"ticks\": \"\", \"title\": {\"standoff\": 15}, \"zerolinecolor\": \"white\", \"zerolinewidth\": 2}}}},\n",
       "                        {\"responsive\": true}\n",
       "                    ).then(function(){\n",
       "                            \n",
       "var gd = document.getElementById('9f324c09-340b-4aa5-a164-1712c4c34fd6');\n",
       "var x = new MutationObserver(function (mutations, observer) {{\n",
       "        var display = window.getComputedStyle(gd).display;\n",
       "        if (!display || display === 'none') {{\n",
       "            console.log([gd, 'removed!']);\n",
       "            Plotly.purge(gd);\n",
       "            observer.disconnect();\n",
       "        }}\n",
       "}});\n",
       "\n",
       "// Listen for the removal of the full notebook cells\n",
       "var notebookContainer = gd.closest('#notebook-container');\n",
       "if (notebookContainer) {{\n",
       "    x.observe(notebookContainer, {childList: true});\n",
       "}}\n",
       "\n",
       "// Listen for the clearing of the current output cell\n",
       "var outputEl = gd.closest('.output');\n",
       "if (outputEl) {{\n",
       "    x.observe(outputEl, {childList: true});\n",
       "}}\n",
       "\n",
       "                        })\n",
       "                };\n",
       "                });\n",
       "            </script>\n",
       "        </div>"
      ]
     },
     "metadata": {},
     "output_type": "display_data"
    }
   ],
   "source": [
    "#chart to view data and see if results match up\n",
    "fig = go.Figure(data = [go.Bar(name = '2011-14', x = gen_hlth.columns, y = gen_hlth.iloc[0]),\n",
    "                       go.Bar(name = '2015-18', x = gen_hlth.columns, y = gen_hlth.iloc[1])])\n",
    "fig.update_layout(barmode='group')\n",
    "fig.show()"
   ]
  },
  {
   "cell_type": "code",
   "execution_count": 103,
   "metadata": {},
   "outputs": [
    {
     "name": "stdout",
     "output_type": "stream",
     "text": [
      "chi2: 52.82029703818233 p-value: 9.292436898390347e-11 dof: 4\n"
     ]
    }
   ],
   "source": [
    "#perform chi2 test\n",
    "test_gen_hlth = chi2_contingency(gen_hlth)\n",
    "chi2 = test_gen_hlth[0]\n",
    "pvalue = test_gen_hlth[1]\n",
    "dof = test_gen_hlth[2]\n",
    "print(\"chi2:\", chi2, \"p-value:\", pvalue, \"dof:\", dof)\n",
    "#------ DONE WITH NEW TESTS -----------------------"
   ]
  },
  {
   "cell_type": "code",
   "execution_count": 104,
   "metadata": {},
   "outputs": [
    {
     "name": "stdout",
     "output_type": "stream",
     "text": [
      "Income Counts Before:\n"
     ]
    },
    {
     "data": {
      "text/html": [
       "<div>\n",
       "<style scoped>\n",
       "    .dataframe tbody tr th:only-of-type {\n",
       "        vertical-align: middle;\n",
       "    }\n",
       "\n",
       "    .dataframe tbody tr th {\n",
       "        vertical-align: top;\n",
       "    }\n",
       "\n",
       "    .dataframe thead th {\n",
       "        text-align: right;\n",
       "    }\n",
       "</style>\n",
       "<table border=\"1\" class=\"dataframe\">\n",
       "  <thead>\n",
       "    <tr style=\"text-align: right;\">\n",
       "      <th></th>\n",
       "      <th>&lt;$10,000</th>\n",
       "      <th>&lt;$15,000</th>\n",
       "      <th>&lt;$20,000</th>\n",
       "      <th>&lt;$25,000</th>\n",
       "      <th>&lt;$35,000</th>\n",
       "      <th>&lt;$50,000</th>\n",
       "      <th>&lt;$75,000</th>\n",
       "      <th>&gt;$75,000</th>\n",
       "    </tr>\n",
       "  </thead>\n",
       "  <tbody>\n",
       "    <tr>\n",
       "      <th>2011-14</th>\n",
       "      <td>7019</td>\n",
       "      <td>8555</td>\n",
       "      <td>11080</td>\n",
       "      <td>13613</td>\n",
       "      <td>15871</td>\n",
       "      <td>21187</td>\n",
       "      <td>24606</td>\n",
       "      <td>53139</td>\n",
       "    </tr>\n",
       "    <tr>\n",
       "      <th>2015-18</th>\n",
       "      <td>6070</td>\n",
       "      <td>7934</td>\n",
       "      <td>10297</td>\n",
       "      <td>11797</td>\n",
       "      <td>15259</td>\n",
       "      <td>21784</td>\n",
       "      <td>26003</td>\n",
       "      <td>59590</td>\n",
       "    </tr>\n",
       "  </tbody>\n",
       "</table>\n",
       "</div>"
      ],
      "text/plain": [
       "         <$10,000  <$15,000  <$20,000  <$25,000  <$35,000  <$50,000  <$75,000  \\\n",
       "2011-14      7019      8555     11080     13613     15871     21187     24606   \n",
       "2015-18      6070      7934     10297     11797     15259     21784     26003   \n",
       "\n",
       "         >$75,000  \n",
       "2011-14     53139  \n",
       "2015-18     59590  "
      ]
     },
     "execution_count": 104,
     "metadata": {},
     "output_type": "execute_result"
    }
   ],
   "source": [
    "''' uses new data '''\n",
    "def calculate_adjusted_income(row):\n",
    "    '''\n",
    "    returns the following:\n",
    "        0 = less than $5,000 per person,\n",
    "        1 = less than $10,000 per person, \n",
    "        2 = less than $15,000 per person, \n",
    "        3 = less than $20,000 per person, \n",
    "        4 = less than $25,000 per person, \n",
    "        5 = less than $35,000 per person, \n",
    "        6 = less than $50,000 per person, \n",
    "        7 = less than $75,000 per person, \n",
    "        8 = $75,000 or more per person,\n",
    "        \n",
    "        NaN (orig 9) = unknown amt per person, because don't know exact incomes of those earning more than $75000 originally. \n",
    "        NaN (orig 10) = unknown amt per person, because number of adults / children not given. \n",
    "        NaN = unknown because income not given. \n",
    "        (9 + 10 + other NaN = 0.40 occurance)\n",
    "    '''\n",
    "    if pd.isna(row['income2']):\n",
    "        return np.NaN # (occurance: 0.006)\n",
    "    \n",
    "    if (pd.isna(row['numadult']) or pd.isna(row['children']) or int(row['children']) == 99): #99=refused\n",
    "        return np.NaN #10 (occurance: 0.192)\n",
    "    \n",
    "    income_grp = int(row['income2'])\n",
    "    est_income = 0 #Note: est_income is the max household could have (before adjustments)\n",
    "    income_specs = [10000.0, 15000.0, 20000.0, 25000.0, 35000.0, 50000.0, 75000.0]\n",
    "    \n",
    "    if income_grp < 8:\n",
    "        est_income = income_specs[income_grp - 1]\n",
    "    elif income_grp == 8: # since 8 is anything more than 75000, this will be unknown\n",
    "        if (int(row['numadult']) == 1 and int(row['children']) == 88): \n",
    "            return 8 # if 1 adult, no children, then all earnings for single person. (occurance: 0.02) \n",
    "        else:\n",
    "            #print(\"high_total_income: adult, children: \", row['numadult'], row['children'])\n",
    "            return np.NaN #9 (occurance: 0.207)\n",
    "        \n",
    "    num_adult = row['numadult']\n",
    "    num_children = row['children']\n",
    "    \n",
    "    if (int(num_children) == 88): # 88=none\n",
    "        num_children = 0\n",
    "        \n",
    "    # --------- calculate adjusted income per person ------------\n",
    "    \n",
    "       #print(\"adults, children: \", num_adult, num_children)\n",
    "    adj_est_income = est_income / (num_adult + num_children)\n",
    "    \n",
    "    new_income_specs = [5000.0, 10000.0, 15000.0, 20000.0, 25000.0, 35000.0, 50000.0, 75000.0]\n",
    "\n",
    "    for i in range(len(new_income_specs)):\n",
    "        if adj_est_income <= new_income_specs[i]: \n",
    "            return i\n",
    "    return 8 # Shouldn't get to this point though\n",
    "    \n",
    "df_1114['income_per_person'] = df_1114.apply (lambda row: calculate_adjusted_income(row), axis=1)\n",
    "df_new_1518['income_per_person'] = df_new_1518.apply (lambda row: calculate_adjusted_income(row), axis=1)\n",
    "\n",
    "#print(df_1114['income_per_person'].dropna())\n",
    "#print(len(df_1114['income_per_person'])) # ~110163 (60%) final non-NA results\n",
    "#print(df_1114['income_per_person'].isna().sum() / len(df_1114['income_per_person']))\n",
    "\n",
    "print(\"Income Counts Before:\")\n",
    "counts_before_1114 = getCounts(df_1114['income2'].dropna(), 8, 9)\n",
    "counts_before_1518 = getCounts(df_1518['income2'].dropna(), 8, 9)\n",
    "\n",
    "income_before_df = pd.DataFrame([counts_before_1114, counts_before_1518], \n",
    "                         index = [\"2011-14\", \"2015-18\"], \n",
    "                         columns = [\"<$10,000\", \"<$15,000\", \"<$20,000\", \"<$25,000\", \"<$35,000\", \"<$50,000\", \"<$75,000\", \">$75,000\"]) \n",
    "income_before_df"
   ]
  },
  {
   "cell_type": "code",
   "execution_count": 105,
   "metadata": {},
   "outputs": [
    {
     "name": "stdout",
     "output_type": "stream",
     "text": [
      "Income adjusted per person:\n"
     ]
    },
    {
     "data": {
      "text/html": [
       "<div>\n",
       "<style scoped>\n",
       "    .dataframe tbody tr th:only-of-type {\n",
       "        vertical-align: middle;\n",
       "    }\n",
       "\n",
       "    .dataframe tbody tr th {\n",
       "        vertical-align: top;\n",
       "    }\n",
       "\n",
       "    .dataframe thead th {\n",
       "        text-align: right;\n",
       "    }\n",
       "</style>\n",
       "<table border=\"1\" class=\"dataframe\">\n",
       "  <thead>\n",
       "    <tr style=\"text-align: right;\">\n",
       "      <th></th>\n",
       "      <th>&lt;$5000</th>\n",
       "      <th>&lt;$10,000</th>\n",
       "      <th>&lt;$15,000</th>\n",
       "      <th>&lt;$20,000</th>\n",
       "      <th>&lt;$25,000</th>\n",
       "      <th>&lt;$35,000</th>\n",
       "      <th>&lt;$50,000</th>\n",
       "      <th>&lt;$75,000</th>\n",
       "      <th>&gt;$75,000</th>\n",
       "    </tr>\n",
       "  </thead>\n",
       "  <tbody>\n",
       "    <tr>\n",
       "      <th>2011-14</th>\n",
       "      <td>11535</td>\n",
       "      <td>11729</td>\n",
       "      <td>13381</td>\n",
       "      <td>14840</td>\n",
       "      <td>5705</td>\n",
       "      <td>14160</td>\n",
       "      <td>5435</td>\n",
       "      <td>5175</td>\n",
       "      <td>27292</td>\n",
       "    </tr>\n",
       "    <tr>\n",
       "      <th>2015-18</th>\n",
       "      <td>4194</td>\n",
       "      <td>4831</td>\n",
       "      <td>6050</td>\n",
       "      <td>7179</td>\n",
       "      <td>3235</td>\n",
       "      <td>8093</td>\n",
       "      <td>3132</td>\n",
       "      <td>3390</td>\n",
       "      <td>17495</td>\n",
       "    </tr>\n",
       "  </tbody>\n",
       "</table>\n",
       "</div>"
      ],
      "text/plain": [
       "         <$5000  <$10,000  <$15,000  <$20,000  <$25,000  <$35,000  <$50,000  \\\n",
       "2011-14   11535     11729     13381     14840      5705     14160      5435   \n",
       "2015-18    4194      4831      6050      7179      3235      8093      3132   \n",
       "\n",
       "         <$75,000  >$75,000  \n",
       "2011-14      5175     27292  \n",
       "2015-18      3390     17495  "
      ]
     },
     "execution_count": 105,
     "metadata": {},
     "output_type": "execute_result"
    }
   ],
   "source": [
    "''' uses new data '''\n",
    "\n",
    "print(\"Income adjusted per person:\")\n",
    "\n",
    "counts_per_person_1114 = getCounts(df_1114['income_per_person'].dropna(), 9, 10)\n",
    "counts_per_person_1518 = getCounts(df_new_1518['income_per_person'].dropna(), 9, 10)\n",
    "\n",
    "income_per_person_df = pd.DataFrame([counts_per_person_1114, counts_per_person_1518], \n",
    "                         index = [\"2011-14\", \"2015-18\"], \n",
    "                         columns = [\"<$5000\", \"<$10,000\", \"<$15,000\", \"<$20,000\", \"<$25,000\", \"<$35,000\", \"<$50,000\", \"<$75,000\", \">$75,000\"]) \n",
    "income_per_person_df"
   ]
  },
  {
   "cell_type": "code",
   "execution_count": 106,
   "metadata": {},
   "outputs": [],
   "source": [
    "def highlight_change(current_df, other_df): \n",
    "    return pd.DataFrame(np.where(current_df.gt(other_df), 'background-color: lightgreen', \n",
    "                                 np.where(current_df.lt(other_df), 'background-color: pink', '')), # else\n",
    "                        index=current_df.index, \n",
    "                        columns=current_df.columns)"
   ]
  },
  {
   "cell_type": "code",
   "execution_count": 107,
   "metadata": {},
   "outputs": [
    {
     "name": "stdout",
     "output_type": "stream",
     "text": [
      "Q: General health of the participant (1 = excellent -> 5 = poor) (2011-2014)\n",
      "Using household income divided by # people in household\n"
     ]
    },
    {
     "data": {
      "text/html": [
       "<div>\n",
       "<style scoped>\n",
       "    .dataframe tbody tr th:only-of-type {\n",
       "        vertical-align: middle;\n",
       "    }\n",
       "\n",
       "    .dataframe tbody tr th {\n",
       "        vertical-align: top;\n",
       "    }\n",
       "\n",
       "    .dataframe thead th {\n",
       "        text-align: right;\n",
       "    }\n",
       "</style>\n",
       "<table border=\"1\" class=\"dataframe\">\n",
       "  <thead>\n",
       "    <tr style=\"text-align: right;\">\n",
       "      <th></th>\n",
       "      <th>Excellent</th>\n",
       "      <th>Very Good</th>\n",
       "      <th>Good</th>\n",
       "      <th>Fair</th>\n",
       "      <th>Poor</th>\n",
       "      <th>Not Sure</th>\n",
       "      <th>Refused</th>\n",
       "      <th>Total Respondents</th>\n",
       "      <th>% Excellent</th>\n",
       "      <th>% Very Good</th>\n",
       "      <th>% Good</th>\n",
       "      <th>% Fair</th>\n",
       "      <th>% Poor</th>\n",
       "      <th>%Positive (1-3)</th>\n",
       "      <th>%Neutral</th>\n",
       "      <th>%Negative (5)</th>\n",
       "    </tr>\n",
       "  </thead>\n",
       "  <tbody>\n",
       "    <tr>\n",
       "      <th>&lt;$5,000</th>\n",
       "      <td>4503.0</td>\n",
       "      <td>7965.0</td>\n",
       "      <td>8340.0</td>\n",
       "      <td>4477.0</td>\n",
       "      <td>1838.0</td>\n",
       "      <td>95.0</td>\n",
       "      <td>74.0</td>\n",
       "      <td>27123.0</td>\n",
       "      <td>16.60</td>\n",
       "      <td>29.37</td>\n",
       "      <td>30.75</td>\n",
       "      <td>16.51</td>\n",
       "      <td>6.78</td>\n",
       "      <td>76.72</td>\n",
       "      <td>16.51</td>\n",
       "      <td>6.78</td>\n",
       "    </tr>\n",
       "    <tr>\n",
       "      <th>&lt;$10,000</th>\n",
       "      <td>1248.0</td>\n",
       "      <td>2545.0</td>\n",
       "      <td>3674.0</td>\n",
       "      <td>2689.0</td>\n",
       "      <td>1313.0</td>\n",
       "      <td>41.0</td>\n",
       "      <td>25.0</td>\n",
       "      <td>11469.0</td>\n",
       "      <td>10.88</td>\n",
       "      <td>22.19</td>\n",
       "      <td>32.03</td>\n",
       "      <td>23.45</td>\n",
       "      <td>11.45</td>\n",
       "      <td>65.10</td>\n",
       "      <td>23.45</td>\n",
       "      <td>11.45</td>\n",
       "    </tr>\n",
       "    <tr>\n",
       "      <th>&lt;$15,000</th>\n",
       "      <td>1374.0</td>\n",
       "      <td>3089.0</td>\n",
       "      <td>3788.0</td>\n",
       "      <td>2283.0</td>\n",
       "      <td>1148.0</td>\n",
       "      <td>28.0</td>\n",
       "      <td>19.0</td>\n",
       "      <td>11682.0</td>\n",
       "      <td>11.76</td>\n",
       "      <td>26.44</td>\n",
       "      <td>32.43</td>\n",
       "      <td>19.54</td>\n",
       "      <td>9.83</td>\n",
       "      <td>70.63</td>\n",
       "      <td>19.54</td>\n",
       "      <td>9.83</td>\n",
       "    </tr>\n",
       "    <tr>\n",
       "      <th>&lt;$20,000</th>\n",
       "      <td>1782.0</td>\n",
       "      <td>4069.0</td>\n",
       "      <td>4459.0</td>\n",
       "      <td>2154.0</td>\n",
       "      <td>877.0</td>\n",
       "      <td>21.0</td>\n",
       "      <td>19.0</td>\n",
       "      <td>13341.0</td>\n",
       "      <td>13.36</td>\n",
       "      <td>30.50</td>\n",
       "      <td>33.42</td>\n",
       "      <td>16.15</td>\n",
       "      <td>6.57</td>\n",
       "      <td>77.28</td>\n",
       "      <td>16.15</td>\n",
       "      <td>6.57</td>\n",
       "    </tr>\n",
       "    <tr>\n",
       "      <th>&lt;$25,000</th>\n",
       "      <td>2228.0</td>\n",
       "      <td>4935.0</td>\n",
       "      <td>4918.0</td>\n",
       "      <td>2003.0</td>\n",
       "      <td>704.0</td>\n",
       "      <td>24.0</td>\n",
       "      <td>28.0</td>\n",
       "      <td>14788.0</td>\n",
       "      <td>15.07</td>\n",
       "      <td>33.37</td>\n",
       "      <td>33.26</td>\n",
       "      <td>13.54</td>\n",
       "      <td>4.76</td>\n",
       "      <td>81.70</td>\n",
       "      <td>13.54</td>\n",
       "      <td>4.76</td>\n",
       "    </tr>\n",
       "    <tr>\n",
       "      <th>&lt;$35,000</th>\n",
       "      <td>747.0</td>\n",
       "      <td>1886.0</td>\n",
       "      <td>1970.0</td>\n",
       "      <td>822.0</td>\n",
       "      <td>266.0</td>\n",
       "      <td>7.0</td>\n",
       "      <td>7.0</td>\n",
       "      <td>5691.0</td>\n",
       "      <td>13.13</td>\n",
       "      <td>33.14</td>\n",
       "      <td>34.62</td>\n",
       "      <td>14.44</td>\n",
       "      <td>4.67</td>\n",
       "      <td>80.89</td>\n",
       "      <td>14.44</td>\n",
       "      <td>4.67</td>\n",
       "    </tr>\n",
       "    <tr>\n",
       "      <th>&lt;$50,000</th>\n",
       "      <td>2623.0</td>\n",
       "      <td>5544.0</td>\n",
       "      <td>4282.0</td>\n",
       "      <td>1311.0</td>\n",
       "      <td>365.0</td>\n",
       "      <td>15.0</td>\n",
       "      <td>20.0</td>\n",
       "      <td>14125.0</td>\n",
       "      <td>18.57</td>\n",
       "      <td>39.25</td>\n",
       "      <td>30.32</td>\n",
       "      <td>9.28</td>\n",
       "      <td>2.58</td>\n",
       "      <td>88.14</td>\n",
       "      <td>9.28</td>\n",
       "      <td>2.58</td>\n",
       "    </tr>\n",
       "    <tr>\n",
       "      <th>&lt;$75,000</th>\n",
       "      <td>1201.0</td>\n",
       "      <td>2237.0</td>\n",
       "      <td>1489.0</td>\n",
       "      <td>415.0</td>\n",
       "      <td>84.0</td>\n",
       "      <td>4.0</td>\n",
       "      <td>5.0</td>\n",
       "      <td>5426.0</td>\n",
       "      <td>22.13</td>\n",
       "      <td>41.23</td>\n",
       "      <td>27.44</td>\n",
       "      <td>7.65</td>\n",
       "      <td>1.55</td>\n",
       "      <td>90.80</td>\n",
       "      <td>7.65</td>\n",
       "      <td>1.55</td>\n",
       "    </tr>\n",
       "    <tr>\n",
       "      <th>&gt;$75,000</th>\n",
       "      <td>1557.0</td>\n",
       "      <td>2076.0</td>\n",
       "      <td>1198.0</td>\n",
       "      <td>268.0</td>\n",
       "      <td>67.0</td>\n",
       "      <td>4.0</td>\n",
       "      <td>5.0</td>\n",
       "      <td>5166.0</td>\n",
       "      <td>30.14</td>\n",
       "      <td>40.19</td>\n",
       "      <td>23.19</td>\n",
       "      <td>5.19</td>\n",
       "      <td>1.30</td>\n",
       "      <td>93.52</td>\n",
       "      <td>5.19</td>\n",
       "      <td>1.30</td>\n",
       "    </tr>\n",
       "  </tbody>\n",
       "</table>\n",
       "</div>"
      ],
      "text/plain": [
       "          Excellent  Very Good    Good    Fair    Poor  Not Sure  Refused  \\\n",
       "<$5,000      4503.0     7965.0  8340.0  4477.0  1838.0      95.0     74.0   \n",
       "<$10,000     1248.0     2545.0  3674.0  2689.0  1313.0      41.0     25.0   \n",
       "<$15,000     1374.0     3089.0  3788.0  2283.0  1148.0      28.0     19.0   \n",
       "<$20,000     1782.0     4069.0  4459.0  2154.0   877.0      21.0     19.0   \n",
       "<$25,000     2228.0     4935.0  4918.0  2003.0   704.0      24.0     28.0   \n",
       "<$35,000      747.0     1886.0  1970.0   822.0   266.0       7.0      7.0   \n",
       "<$50,000     2623.0     5544.0  4282.0  1311.0   365.0      15.0     20.0   \n",
       "<$75,000     1201.0     2237.0  1489.0   415.0    84.0       4.0      5.0   \n",
       ">$75,000     1557.0     2076.0  1198.0   268.0    67.0       4.0      5.0   \n",
       "\n",
       "          Total Respondents  % Excellent  % Very Good  % Good  % Fair  % Poor  \\\n",
       "<$5,000             27123.0        16.60        29.37   30.75   16.51    6.78   \n",
       "<$10,000            11469.0        10.88        22.19   32.03   23.45   11.45   \n",
       "<$15,000            11682.0        11.76        26.44   32.43   19.54    9.83   \n",
       "<$20,000            13341.0        13.36        30.50   33.42   16.15    6.57   \n",
       "<$25,000            14788.0        15.07        33.37   33.26   13.54    4.76   \n",
       "<$35,000             5691.0        13.13        33.14   34.62   14.44    4.67   \n",
       "<$50,000            14125.0        18.57        39.25   30.32    9.28    2.58   \n",
       "<$75,000             5426.0        22.13        41.23   27.44    7.65    1.55   \n",
       ">$75,000             5166.0        30.14        40.19   23.19    5.19    1.30   \n",
       "\n",
       "          %Positive (1-3)  %Neutral  %Negative (5)  \n",
       "<$5,000             76.72     16.51           6.78  \n",
       "<$10,000            65.10     23.45          11.45  \n",
       "<$15,000            70.63     19.54           9.83  \n",
       "<$20,000            77.28     16.15           6.57  \n",
       "<$25,000            81.70     13.54           4.76  \n",
       "<$35,000            80.89     14.44           4.67  \n",
       "<$50,000            88.14      9.28           2.58  \n",
       "<$75,000            90.80      7.65           1.55  \n",
       ">$75,000            93.52      5.19           1.30  "
      ]
     },
     "execution_count": 107,
     "metadata": {},
     "output_type": "execute_result"
    }
   ],
   "source": [
    "''' uses new data '''\n",
    "\n",
    "# generate table for adjusted income x genhlth for 2011-14, and for 2015-18\n",
    "income_x_health_1114 = np.zeros(shape=(9, 16)) #income by genhlth\n",
    "income_x_health_1518 = np.zeros(shape=(9, 16)) #income by genhlth\n",
    "\n",
    "genhlth_options = [1,2,3,4,5,7,9]\n",
    "\n",
    "for i in range(9): # for each income group (<$5000, <$10,000, <$15,000, <$20,000, <$25,000, <$35,000, <$50,000, <$75,000, >$75,000)\n",
    "    for j in range(7): # for each genhlth option (1=excellent through 5=poor, with 7=not sure and 9=refused)\n",
    "        genhlth_i = genhlth_options[j]\n",
    "        income_x_health_1114[i, j] = len(df_1114.query('income_per_person == @i & genhlth == @genhlth_i')) \n",
    "        income_x_health_1518[i, j] = len(df_new_1518.query('income_per_person == @i & genhlth == @genhlth_i'))\n",
    "        \n",
    "    # calculate total respondents\n",
    "    for opt in range(5):\n",
    "        income_x_health_1114[i, 7] += income_x_health_1114[i, opt]\n",
    "        income_x_health_1518[i, 7] += income_x_health_1518[i, opt]\n",
    "    \n",
    "    # calculate % that said #\n",
    "    for opt in range(5):\n",
    "        income_x_health_1114[i, 8+opt] = (income_x_health_1114[i, opt] / income_x_health_1114[i, 7]).round(4) * 100\n",
    "        income_x_health_1518[i, 8+opt] = (income_x_health_1518[i, opt] / income_x_health_1518[i, 7]).round(4) * 100\n",
    "\n",
    "    income_x_health_1114[i, 13] = income_x_health_1114[i, 8] + income_x_health_1114[i, 9] + income_x_health_1114[i, 10]\n",
    "    income_x_health_1518[i, 13] = income_x_health_1518[i, 8] + income_x_health_1518[i, 9] + income_x_health_1518[i, 10]\n",
    "    \n",
    "    income_x_health_1114[i, 14] = income_x_health_1114[i, 11] \n",
    "    income_x_health_1518[i, 14] = income_x_health_1518[i, 11]\n",
    "    \n",
    "    income_x_health_1114[i, 15] = income_x_health_1114[i, 12] \n",
    "    income_x_health_1518[i, 15] = income_x_health_1518[i, 12]\n",
    "      \n",
    "income_x_health_1114_df = pd.DataFrame(income_x_health_1114, \n",
    "                 index = [\"<$5,000\", \"<$10,000\", \"<$15,000\", \"<$20,000\", \"<$25,000\", \"<$35,000\", \"<$50,000\", \"<$75,000\", \">$75,000\"], \n",
    "                 columns=[\"Excellent\", \"Very Good\", \"Good\", \"Fair\", \"Poor\", \"Not Sure\", \"Refused\", \"Total Respondents\", \"% Excellent\", \"% Very Good\", \"% Good\", \"% Fair\", \"% Poor\", \"%Positive (1-3)\", \"%Neutral\", \"%Negative (5)\"])\n",
    "\n",
    "income_x_health_1518_df = pd.DataFrame(income_x_health_1518, \n",
    "                 index = [\"<$5,000\", \"<$10,000\", \"<$15,000\", \"<$20,000\", \"<$25,000\", \"<$35,000\", \"<$50,000\", \"<$75,000\", \">$75,000\"], \n",
    "                 columns=[\"Excellent\", \"Very Good\", \"Good\", \"Fair\", \"Poor\", \"Not Sure\", \"Refused\", \"Total Respondents\", \"% Excellent\", \"% Very Good\", \"% Good\", \"% Fair\", \"% Poor\", \"%Positive (1-3)\", \"%Neutral\", \"%Negative (5)\"])\n",
    "\n",
    "print(\"Q: General health of the participant (1 = excellent -> 5 = poor) (2011-2014)\")\n",
    "print(\"Using household income divided by # people in household\")\n",
    "income_x_health_1114_df"
   ]
  },
  {
   "cell_type": "code",
   "execution_count": 108,
   "metadata": {},
   "outputs": [
    {
     "name": "stdout",
     "output_type": "stream",
     "text": [
      "Q: General health of the participant (1 = excellent -> 5 = poor) (Sampled 2015-2018)\n",
      "Using household income divided by # people in household\n",
      "Colored based on change from 2011-14 -> green = increase, pink = decrease, white = no change\n"
     ]
    },
    {
     "data": {
      "text/html": [
       "<style  type=\"text/css\" >\n",
       "    #T_4c046228_7f14_11ea_a82b_acde48001122row0_col0 {\n",
       "            background-color:  pink;\n",
       "        }    #T_4c046228_7f14_11ea_a82b_acde48001122row0_col1 {\n",
       "            background-color:  pink;\n",
       "        }    #T_4c046228_7f14_11ea_a82b_acde48001122row0_col2 {\n",
       "            background-color:  pink;\n",
       "        }    #T_4c046228_7f14_11ea_a82b_acde48001122row0_col3 {\n",
       "            background-color:  pink;\n",
       "        }    #T_4c046228_7f14_11ea_a82b_acde48001122row0_col4 {\n",
       "            background-color:  pink;\n",
       "        }    #T_4c046228_7f14_11ea_a82b_acde48001122row0_col5 {\n",
       "            background-color:  pink;\n",
       "        }    #T_4c046228_7f14_11ea_a82b_acde48001122row0_col6 {\n",
       "            background-color:  pink;\n",
       "        }    #T_4c046228_7f14_11ea_a82b_acde48001122row0_col7 {\n",
       "            background-color:  pink;\n",
       "        }    #T_4c046228_7f14_11ea_a82b_acde48001122row0_col8 {\n",
       "            background-color:  lightgreen;\n",
       "        }    #T_4c046228_7f14_11ea_a82b_acde48001122row0_col9 {\n",
       "            background-color:  lightgreen;\n",
       "        }    #T_4c046228_7f14_11ea_a82b_acde48001122row0_col10 {\n",
       "            background-color:  pink;\n",
       "        }    #T_4c046228_7f14_11ea_a82b_acde48001122row0_col11 {\n",
       "            background-color:  pink;\n",
       "        }    #T_4c046228_7f14_11ea_a82b_acde48001122row0_col12 {\n",
       "            background-color:  pink;\n",
       "        }    #T_4c046228_7f14_11ea_a82b_acde48001122row0_col13 {\n",
       "            background-color:  lightgreen;\n",
       "        }    #T_4c046228_7f14_11ea_a82b_acde48001122row0_col14 {\n",
       "            background-color:  pink;\n",
       "        }    #T_4c046228_7f14_11ea_a82b_acde48001122row0_col15 {\n",
       "            background-color:  pink;\n",
       "        }    #T_4c046228_7f14_11ea_a82b_acde48001122row1_col0 {\n",
       "            background-color:  pink;\n",
       "        }    #T_4c046228_7f14_11ea_a82b_acde48001122row1_col1 {\n",
       "            background-color:  pink;\n",
       "        }    #T_4c046228_7f14_11ea_a82b_acde48001122row1_col2 {\n",
       "            background-color:  pink;\n",
       "        }    #T_4c046228_7f14_11ea_a82b_acde48001122row1_col3 {\n",
       "            background-color:  pink;\n",
       "        }    #T_4c046228_7f14_11ea_a82b_acde48001122row1_col4 {\n",
       "            background-color:  pink;\n",
       "        }    #T_4c046228_7f14_11ea_a82b_acde48001122row1_col5 {\n",
       "            background-color:  pink;\n",
       "        }    #T_4c046228_7f14_11ea_a82b_acde48001122row1_col6 {\n",
       "            background-color:  pink;\n",
       "        }    #T_4c046228_7f14_11ea_a82b_acde48001122row1_col7 {\n",
       "            background-color:  pink;\n",
       "        }    #T_4c046228_7f14_11ea_a82b_acde48001122row1_col8 {\n",
       "            background-color:  pink;\n",
       "        }    #T_4c046228_7f14_11ea_a82b_acde48001122row1_col9 {\n",
       "            background-color:  pink;\n",
       "        }    #T_4c046228_7f14_11ea_a82b_acde48001122row1_col10 {\n",
       "            background-color:  lightgreen;\n",
       "        }    #T_4c046228_7f14_11ea_a82b_acde48001122row1_col11 {\n",
       "            background-color:  lightgreen;\n",
       "        }    #T_4c046228_7f14_11ea_a82b_acde48001122row1_col12 {\n",
       "            background-color:  lightgreen;\n",
       "        }    #T_4c046228_7f14_11ea_a82b_acde48001122row1_col13 {\n",
       "            background-color:  pink;\n",
       "        }    #T_4c046228_7f14_11ea_a82b_acde48001122row1_col14 {\n",
       "            background-color:  lightgreen;\n",
       "        }    #T_4c046228_7f14_11ea_a82b_acde48001122row1_col15 {\n",
       "            background-color:  lightgreen;\n",
       "        }    #T_4c046228_7f14_11ea_a82b_acde48001122row2_col0 {\n",
       "            background-color:  pink;\n",
       "        }    #T_4c046228_7f14_11ea_a82b_acde48001122row2_col1 {\n",
       "            background-color:  pink;\n",
       "        }    #T_4c046228_7f14_11ea_a82b_acde48001122row2_col2 {\n",
       "            background-color:  pink;\n",
       "        }    #T_4c046228_7f14_11ea_a82b_acde48001122row2_col3 {\n",
       "            background-color:  pink;\n",
       "        }    #T_4c046228_7f14_11ea_a82b_acde48001122row2_col4 {\n",
       "            background-color:  pink;\n",
       "        }    #T_4c046228_7f14_11ea_a82b_acde48001122row2_col5 {\n",
       "            background-color:  pink;\n",
       "        }    #T_4c046228_7f14_11ea_a82b_acde48001122row2_col6 {\n",
       "            background-color:  pink;\n",
       "        }    #T_4c046228_7f14_11ea_a82b_acde48001122row2_col7 {\n",
       "            background-color:  pink;\n",
       "        }    #T_4c046228_7f14_11ea_a82b_acde48001122row2_col8 {\n",
       "            background-color:  pink;\n",
       "        }    #T_4c046228_7f14_11ea_a82b_acde48001122row2_col9 {\n",
       "            background-color:  pink;\n",
       "        }    #T_4c046228_7f14_11ea_a82b_acde48001122row2_col10 {\n",
       "            background-color:  lightgreen;\n",
       "        }    #T_4c046228_7f14_11ea_a82b_acde48001122row2_col11 {\n",
       "            background-color:  lightgreen;\n",
       "        }    #T_4c046228_7f14_11ea_a82b_acde48001122row2_col12 {\n",
       "            background-color:  lightgreen;\n",
       "        }    #T_4c046228_7f14_11ea_a82b_acde48001122row2_col13 {\n",
       "            background-color:  pink;\n",
       "        }    #T_4c046228_7f14_11ea_a82b_acde48001122row2_col14 {\n",
       "            background-color:  lightgreen;\n",
       "        }    #T_4c046228_7f14_11ea_a82b_acde48001122row2_col15 {\n",
       "            background-color:  lightgreen;\n",
       "        }    #T_4c046228_7f14_11ea_a82b_acde48001122row3_col0 {\n",
       "            background-color:  pink;\n",
       "        }    #T_4c046228_7f14_11ea_a82b_acde48001122row3_col1 {\n",
       "            background-color:  pink;\n",
       "        }    #T_4c046228_7f14_11ea_a82b_acde48001122row3_col2 {\n",
       "            background-color:  pink;\n",
       "        }    #T_4c046228_7f14_11ea_a82b_acde48001122row3_col3 {\n",
       "            background-color:  pink;\n",
       "        }    #T_4c046228_7f14_11ea_a82b_acde48001122row3_col4 {\n",
       "            background-color:  pink;\n",
       "        }    #T_4c046228_7f14_11ea_a82b_acde48001122row3_col5 {\n",
       "            background-color:  pink;\n",
       "        }    #T_4c046228_7f14_11ea_a82b_acde48001122row3_col6 {\n",
       "            background-color:  pink;\n",
       "        }    #T_4c046228_7f14_11ea_a82b_acde48001122row3_col7 {\n",
       "            background-color:  pink;\n",
       "        }    #T_4c046228_7f14_11ea_a82b_acde48001122row3_col8 {\n",
       "            background-color:  pink;\n",
       "        }    #T_4c046228_7f14_11ea_a82b_acde48001122row3_col9 {\n",
       "            background-color:  pink;\n",
       "        }    #T_4c046228_7f14_11ea_a82b_acde48001122row3_col10 {\n",
       "            background-color:  pink;\n",
       "        }    #T_4c046228_7f14_11ea_a82b_acde48001122row3_col11 {\n",
       "            background-color:  lightgreen;\n",
       "        }    #T_4c046228_7f14_11ea_a82b_acde48001122row3_col12 {\n",
       "            background-color:  lightgreen;\n",
       "        }    #T_4c046228_7f14_11ea_a82b_acde48001122row3_col13 {\n",
       "            background-color:  pink;\n",
       "        }    #T_4c046228_7f14_11ea_a82b_acde48001122row3_col14 {\n",
       "            background-color:  lightgreen;\n",
       "        }    #T_4c046228_7f14_11ea_a82b_acde48001122row3_col15 {\n",
       "            background-color:  lightgreen;\n",
       "        }    #T_4c046228_7f14_11ea_a82b_acde48001122row4_col0 {\n",
       "            background-color:  pink;\n",
       "        }    #T_4c046228_7f14_11ea_a82b_acde48001122row4_col1 {\n",
       "            background-color:  pink;\n",
       "        }    #T_4c046228_7f14_11ea_a82b_acde48001122row4_col2 {\n",
       "            background-color:  pink;\n",
       "        }    #T_4c046228_7f14_11ea_a82b_acde48001122row4_col3 {\n",
       "            background-color:  pink;\n",
       "        }    #T_4c046228_7f14_11ea_a82b_acde48001122row4_col4 {\n",
       "            background-color:  pink;\n",
       "        }    #T_4c046228_7f14_11ea_a82b_acde48001122row4_col5 {\n",
       "            background-color:  pink;\n",
       "        }    #T_4c046228_7f14_11ea_a82b_acde48001122row4_col6 {\n",
       "            background-color:  pink;\n",
       "        }    #T_4c046228_7f14_11ea_a82b_acde48001122row4_col7 {\n",
       "            background-color:  pink;\n",
       "        }    #T_4c046228_7f14_11ea_a82b_acde48001122row4_col8 {\n",
       "            background-color:  pink;\n",
       "        }    #T_4c046228_7f14_11ea_a82b_acde48001122row4_col9 {\n",
       "            background-color:  lightgreen;\n",
       "        }    #T_4c046228_7f14_11ea_a82b_acde48001122row4_col10 {\n",
       "            background-color:  lightgreen;\n",
       "        }    #T_4c046228_7f14_11ea_a82b_acde48001122row4_col11 {\n",
       "            background-color:  lightgreen;\n",
       "        }    #T_4c046228_7f14_11ea_a82b_acde48001122row4_col13 {\n",
       "            background-color:  pink;\n",
       "        }    #T_4c046228_7f14_11ea_a82b_acde48001122row4_col14 {\n",
       "            background-color:  lightgreen;\n",
       "        }    #T_4c046228_7f14_11ea_a82b_acde48001122row5_col0 {\n",
       "            background-color:  pink;\n",
       "        }    #T_4c046228_7f14_11ea_a82b_acde48001122row5_col1 {\n",
       "            background-color:  pink;\n",
       "        }    #T_4c046228_7f14_11ea_a82b_acde48001122row5_col2 {\n",
       "            background-color:  pink;\n",
       "        }    #T_4c046228_7f14_11ea_a82b_acde48001122row5_col3 {\n",
       "            background-color:  pink;\n",
       "        }    #T_4c046228_7f14_11ea_a82b_acde48001122row5_col4 {\n",
       "            background-color:  pink;\n",
       "        }    #T_4c046228_7f14_11ea_a82b_acde48001122row5_col5 {\n",
       "            background-color:  lightgreen;\n",
       "        }    #T_4c046228_7f14_11ea_a82b_acde48001122row5_col6 {\n",
       "            background-color:  pink;\n",
       "        }    #T_4c046228_7f14_11ea_a82b_acde48001122row5_col7 {\n",
       "            background-color:  pink;\n",
       "        }    #T_4c046228_7f14_11ea_a82b_acde48001122row5_col8 {\n",
       "            background-color:  pink;\n",
       "        }    #T_4c046228_7f14_11ea_a82b_acde48001122row5_col9 {\n",
       "            background-color:  lightgreen;\n",
       "        }    #T_4c046228_7f14_11ea_a82b_acde48001122row5_col10 {\n",
       "            background-color:  pink;\n",
       "        }    #T_4c046228_7f14_11ea_a82b_acde48001122row5_col11 {\n",
       "            background-color:  lightgreen;\n",
       "        }    #T_4c046228_7f14_11ea_a82b_acde48001122row5_col12 {\n",
       "            background-color:  lightgreen;\n",
       "        }    #T_4c046228_7f14_11ea_a82b_acde48001122row5_col13 {\n",
       "            background-color:  pink;\n",
       "        }    #T_4c046228_7f14_11ea_a82b_acde48001122row5_col14 {\n",
       "            background-color:  lightgreen;\n",
       "        }    #T_4c046228_7f14_11ea_a82b_acde48001122row5_col15 {\n",
       "            background-color:  lightgreen;\n",
       "        }    #T_4c046228_7f14_11ea_a82b_acde48001122row6_col0 {\n",
       "            background-color:  pink;\n",
       "        }    #T_4c046228_7f14_11ea_a82b_acde48001122row6_col1 {\n",
       "            background-color:  pink;\n",
       "        }    #T_4c046228_7f14_11ea_a82b_acde48001122row6_col2 {\n",
       "            background-color:  pink;\n",
       "        }    #T_4c046228_7f14_11ea_a82b_acde48001122row6_col3 {\n",
       "            background-color:  pink;\n",
       "        }    #T_4c046228_7f14_11ea_a82b_acde48001122row6_col4 {\n",
       "            background-color:  pink;\n",
       "        }    #T_4c046228_7f14_11ea_a82b_acde48001122row6_col5 {\n",
       "            background-color:  pink;\n",
       "        }    #T_4c046228_7f14_11ea_a82b_acde48001122row6_col6 {\n",
       "            background-color:  pink;\n",
       "        }    #T_4c046228_7f14_11ea_a82b_acde48001122row6_col7 {\n",
       "            background-color:  pink;\n",
       "        }    #T_4c046228_7f14_11ea_a82b_acde48001122row6_col8 {\n",
       "            background-color:  pink;\n",
       "        }    #T_4c046228_7f14_11ea_a82b_acde48001122row6_col9 {\n",
       "            background-color:  pink;\n",
       "        }    #T_4c046228_7f14_11ea_a82b_acde48001122row6_col10 {\n",
       "            background-color:  lightgreen;\n",
       "        }    #T_4c046228_7f14_11ea_a82b_acde48001122row6_col11 {\n",
       "            background-color:  lightgreen;\n",
       "        }    #T_4c046228_7f14_11ea_a82b_acde48001122row6_col12 {\n",
       "            background-color:  lightgreen;\n",
       "        }    #T_4c046228_7f14_11ea_a82b_acde48001122row6_col13 {\n",
       "            background-color:  pink;\n",
       "        }    #T_4c046228_7f14_11ea_a82b_acde48001122row6_col14 {\n",
       "            background-color:  lightgreen;\n",
       "        }    #T_4c046228_7f14_11ea_a82b_acde48001122row6_col15 {\n",
       "            background-color:  lightgreen;\n",
       "        }    #T_4c046228_7f14_11ea_a82b_acde48001122row7_col0 {\n",
       "            background-color:  pink;\n",
       "        }    #T_4c046228_7f14_11ea_a82b_acde48001122row7_col1 {\n",
       "            background-color:  pink;\n",
       "        }    #T_4c046228_7f14_11ea_a82b_acde48001122row7_col2 {\n",
       "            background-color:  pink;\n",
       "        }    #T_4c046228_7f14_11ea_a82b_acde48001122row7_col3 {\n",
       "            background-color:  pink;\n",
       "        }    #T_4c046228_7f14_11ea_a82b_acde48001122row7_col4 {\n",
       "            background-color:  pink;\n",
       "        }    #T_4c046228_7f14_11ea_a82b_acde48001122row7_col6 {\n",
       "            background-color:  pink;\n",
       "        }    #T_4c046228_7f14_11ea_a82b_acde48001122row7_col7 {\n",
       "            background-color:  pink;\n",
       "        }    #T_4c046228_7f14_11ea_a82b_acde48001122row7_col8 {\n",
       "            background-color:  pink;\n",
       "        }    #T_4c046228_7f14_11ea_a82b_acde48001122row7_col9 {\n",
       "            background-color:  lightgreen;\n",
       "        }    #T_4c046228_7f14_11ea_a82b_acde48001122row7_col10 {\n",
       "            background-color:  lightgreen;\n",
       "        }    #T_4c046228_7f14_11ea_a82b_acde48001122row7_col11 {\n",
       "            background-color:  lightgreen;\n",
       "        }    #T_4c046228_7f14_11ea_a82b_acde48001122row7_col12 {\n",
       "            background-color:  lightgreen;\n",
       "        }    #T_4c046228_7f14_11ea_a82b_acde48001122row7_col13 {\n",
       "            background-color:  pink;\n",
       "        }    #T_4c046228_7f14_11ea_a82b_acde48001122row7_col14 {\n",
       "            background-color:  lightgreen;\n",
       "        }    #T_4c046228_7f14_11ea_a82b_acde48001122row7_col15 {\n",
       "            background-color:  lightgreen;\n",
       "        }    #T_4c046228_7f14_11ea_a82b_acde48001122row8_col0 {\n",
       "            background-color:  pink;\n",
       "        }    #T_4c046228_7f14_11ea_a82b_acde48001122row8_col1 {\n",
       "            background-color:  pink;\n",
       "        }    #T_4c046228_7f14_11ea_a82b_acde48001122row8_col2 {\n",
       "            background-color:  pink;\n",
       "        }    #T_4c046228_7f14_11ea_a82b_acde48001122row8_col3 {\n",
       "            background-color:  pink;\n",
       "        }    #T_4c046228_7f14_11ea_a82b_acde48001122row8_col4 {\n",
       "            background-color:  pink;\n",
       "        }    #T_4c046228_7f14_11ea_a82b_acde48001122row8_col5 {\n",
       "            background-color:  pink;\n",
       "        }    #T_4c046228_7f14_11ea_a82b_acde48001122row8_col6 {\n",
       "            background-color:  pink;\n",
       "        }    #T_4c046228_7f14_11ea_a82b_acde48001122row8_col7 {\n",
       "            background-color:  pink;\n",
       "        }    #T_4c046228_7f14_11ea_a82b_acde48001122row8_col8 {\n",
       "            background-color:  pink;\n",
       "        }    #T_4c046228_7f14_11ea_a82b_acde48001122row8_col9 {\n",
       "            background-color:  lightgreen;\n",
       "        }    #T_4c046228_7f14_11ea_a82b_acde48001122row8_col10 {\n",
       "            background-color:  lightgreen;\n",
       "        }    #T_4c046228_7f14_11ea_a82b_acde48001122row8_col11 {\n",
       "            background-color:  lightgreen;\n",
       "        }    #T_4c046228_7f14_11ea_a82b_acde48001122row8_col12 {\n",
       "            background-color:  lightgreen;\n",
       "        }    #T_4c046228_7f14_11ea_a82b_acde48001122row8_col13 {\n",
       "            background-color:  pink;\n",
       "        }    #T_4c046228_7f14_11ea_a82b_acde48001122row8_col14 {\n",
       "            background-color:  lightgreen;\n",
       "        }    #T_4c046228_7f14_11ea_a82b_acde48001122row8_col15 {\n",
       "            background-color:  lightgreen;\n",
       "        }</style><table id=\"T_4c046228_7f14_11ea_a82b_acde48001122\" ><thead>    <tr>        <th class=\"blank level0\" ></th>        <th class=\"col_heading level0 col0\" >Excellent</th>        <th class=\"col_heading level0 col1\" >Very Good</th>        <th class=\"col_heading level0 col2\" >Good</th>        <th class=\"col_heading level0 col3\" >Fair</th>        <th class=\"col_heading level0 col4\" >Poor</th>        <th class=\"col_heading level0 col5\" >Not Sure</th>        <th class=\"col_heading level0 col6\" >Refused</th>        <th class=\"col_heading level0 col7\" >Total Respondents</th>        <th class=\"col_heading level0 col8\" >% Excellent</th>        <th class=\"col_heading level0 col9\" >% Very Good</th>        <th class=\"col_heading level0 col10\" >% Good</th>        <th class=\"col_heading level0 col11\" >% Fair</th>        <th class=\"col_heading level0 col12\" >% Poor</th>        <th class=\"col_heading level0 col13\" >%Positive (1-3)</th>        <th class=\"col_heading level0 col14\" >%Neutral</th>        <th class=\"col_heading level0 col15\" >%Negative (5)</th>    </tr></thead><tbody>\n",
       "                <tr>\n",
       "                        <th id=\"T_4c046228_7f14_11ea_a82b_acde48001122level0_row0\" class=\"row_heading level0 row0\" ><$5,000</th>\n",
       "                        <td id=\"T_4c046228_7f14_11ea_a82b_acde48001122row0_col0\" class=\"data row0 col0\" >2957.000000</td>\n",
       "                        <td id=\"T_4c046228_7f14_11ea_a82b_acde48001122row0_col1\" class=\"data row0 col1\" >5627.000000</td>\n",
       "                        <td id=\"T_4c046228_7f14_11ea_a82b_acde48001122row0_col2\" class=\"data row0 col2\" >5342.000000</td>\n",
       "                        <td id=\"T_4c046228_7f14_11ea_a82b_acde48001122row0_col3\" class=\"data row0 col3\" >2504.000000</td>\n",
       "                        <td id=\"T_4c046228_7f14_11ea_a82b_acde48001122row0_col4\" class=\"data row0 col4\" >970.000000</td>\n",
       "                        <td id=\"T_4c046228_7f14_11ea_a82b_acde48001122row0_col5\" class=\"data row0 col5\" >56.000000</td>\n",
       "                        <td id=\"T_4c046228_7f14_11ea_a82b_acde48001122row0_col6\" class=\"data row0 col6\" >39.000000</td>\n",
       "                        <td id=\"T_4c046228_7f14_11ea_a82b_acde48001122row0_col7\" class=\"data row0 col7\" >17400.000000</td>\n",
       "                        <td id=\"T_4c046228_7f14_11ea_a82b_acde48001122row0_col8\" class=\"data row0 col8\" >16.990000</td>\n",
       "                        <td id=\"T_4c046228_7f14_11ea_a82b_acde48001122row0_col9\" class=\"data row0 col9\" >32.340000</td>\n",
       "                        <td id=\"T_4c046228_7f14_11ea_a82b_acde48001122row0_col10\" class=\"data row0 col10\" >30.700000</td>\n",
       "                        <td id=\"T_4c046228_7f14_11ea_a82b_acde48001122row0_col11\" class=\"data row0 col11\" >14.390000</td>\n",
       "                        <td id=\"T_4c046228_7f14_11ea_a82b_acde48001122row0_col12\" class=\"data row0 col12\" >5.570000</td>\n",
       "                        <td id=\"T_4c046228_7f14_11ea_a82b_acde48001122row0_col13\" class=\"data row0 col13\" >80.030000</td>\n",
       "                        <td id=\"T_4c046228_7f14_11ea_a82b_acde48001122row0_col14\" class=\"data row0 col14\" >14.390000</td>\n",
       "                        <td id=\"T_4c046228_7f14_11ea_a82b_acde48001122row0_col15\" class=\"data row0 col15\" >5.570000</td>\n",
       "            </tr>\n",
       "            <tr>\n",
       "                        <th id=\"T_4c046228_7f14_11ea_a82b_acde48001122level0_row1\" class=\"row_heading level0 row1\" ><$10,000</th>\n",
       "                        <td id=\"T_4c046228_7f14_11ea_a82b_acde48001122row1_col0\" class=\"data row1 col0\" >414.000000</td>\n",
       "                        <td id=\"T_4c046228_7f14_11ea_a82b_acde48001122row1_col1\" class=\"data row1 col1\" >850.000000</td>\n",
       "                        <td id=\"T_4c046228_7f14_11ea_a82b_acde48001122row1_col2\" class=\"data row1 col2\" >1385.000000</td>\n",
       "                        <td id=\"T_4c046228_7f14_11ea_a82b_acde48001122row1_col3\" class=\"data row1 col3\" >1015.000000</td>\n",
       "                        <td id=\"T_4c046228_7f14_11ea_a82b_acde48001122row1_col4\" class=\"data row1 col4\" >520.000000</td>\n",
       "                        <td id=\"T_4c046228_7f14_11ea_a82b_acde48001122row1_col5\" class=\"data row1 col5\" >10.000000</td>\n",
       "                        <td id=\"T_4c046228_7f14_11ea_a82b_acde48001122row1_col6\" class=\"data row1 col6\" >0.000000</td>\n",
       "                        <td id=\"T_4c046228_7f14_11ea_a82b_acde48001122row1_col7\" class=\"data row1 col7\" >4184.000000</td>\n",
       "                        <td id=\"T_4c046228_7f14_11ea_a82b_acde48001122row1_col8\" class=\"data row1 col8\" >9.890000</td>\n",
       "                        <td id=\"T_4c046228_7f14_11ea_a82b_acde48001122row1_col9\" class=\"data row1 col9\" >20.320000</td>\n",
       "                        <td id=\"T_4c046228_7f14_11ea_a82b_acde48001122row1_col10\" class=\"data row1 col10\" >33.100000</td>\n",
       "                        <td id=\"T_4c046228_7f14_11ea_a82b_acde48001122row1_col11\" class=\"data row1 col11\" >24.260000</td>\n",
       "                        <td id=\"T_4c046228_7f14_11ea_a82b_acde48001122row1_col12\" class=\"data row1 col12\" >12.430000</td>\n",
       "                        <td id=\"T_4c046228_7f14_11ea_a82b_acde48001122row1_col13\" class=\"data row1 col13\" >63.310000</td>\n",
       "                        <td id=\"T_4c046228_7f14_11ea_a82b_acde48001122row1_col14\" class=\"data row1 col14\" >24.260000</td>\n",
       "                        <td id=\"T_4c046228_7f14_11ea_a82b_acde48001122row1_col15\" class=\"data row1 col15\" >12.430000</td>\n",
       "            </tr>\n",
       "            <tr>\n",
       "                        <th id=\"T_4c046228_7f14_11ea_a82b_acde48001122level0_row2\" class=\"row_heading level0 row2\" ><$15,000</th>\n",
       "                        <td id=\"T_4c046228_7f14_11ea_a82b_acde48001122row2_col0\" class=\"data row2 col0\" >472.000000</td>\n",
       "                        <td id=\"T_4c046228_7f14_11ea_a82b_acde48001122row2_col1\" class=\"data row2 col1\" >1171.000000</td>\n",
       "                        <td id=\"T_4c046228_7f14_11ea_a82b_acde48001122row2_col2\" class=\"data row2 col2\" >1602.000000</td>\n",
       "                        <td id=\"T_4c046228_7f14_11ea_a82b_acde48001122row2_col3\" class=\"data row2 col3\" >1015.000000</td>\n",
       "                        <td id=\"T_4c046228_7f14_11ea_a82b_acde48001122row2_col4\" class=\"data row2 col4\" >559.000000</td>\n",
       "                        <td id=\"T_4c046228_7f14_11ea_a82b_acde48001122row2_col5\" class=\"data row2 col5\" >8.000000</td>\n",
       "                        <td id=\"T_4c046228_7f14_11ea_a82b_acde48001122row2_col6\" class=\"data row2 col6\" >4.000000</td>\n",
       "                        <td id=\"T_4c046228_7f14_11ea_a82b_acde48001122row2_col7\" class=\"data row2 col7\" >4819.000000</td>\n",
       "                        <td id=\"T_4c046228_7f14_11ea_a82b_acde48001122row2_col8\" class=\"data row2 col8\" >9.790000</td>\n",
       "                        <td id=\"T_4c046228_7f14_11ea_a82b_acde48001122row2_col9\" class=\"data row2 col9\" >24.300000</td>\n",
       "                        <td id=\"T_4c046228_7f14_11ea_a82b_acde48001122row2_col10\" class=\"data row2 col10\" >33.240000</td>\n",
       "                        <td id=\"T_4c046228_7f14_11ea_a82b_acde48001122row2_col11\" class=\"data row2 col11\" >21.060000</td>\n",
       "                        <td id=\"T_4c046228_7f14_11ea_a82b_acde48001122row2_col12\" class=\"data row2 col12\" >11.600000</td>\n",
       "                        <td id=\"T_4c046228_7f14_11ea_a82b_acde48001122row2_col13\" class=\"data row2 col13\" >67.330000</td>\n",
       "                        <td id=\"T_4c046228_7f14_11ea_a82b_acde48001122row2_col14\" class=\"data row2 col14\" >21.060000</td>\n",
       "                        <td id=\"T_4c046228_7f14_11ea_a82b_acde48001122row2_col15\" class=\"data row2 col15\" >11.600000</td>\n",
       "            </tr>\n",
       "            <tr>\n",
       "                        <th id=\"T_4c046228_7f14_11ea_a82b_acde48001122level0_row3\" class=\"row_heading level0 row3\" ><$20,000</th>\n",
       "                        <td id=\"T_4c046228_7f14_11ea_a82b_acde48001122row3_col0\" class=\"data row3 col0\" >686.000000</td>\n",
       "                        <td id=\"T_4c046228_7f14_11ea_a82b_acde48001122row3_col1\" class=\"data row3 col1\" >1836.000000</td>\n",
       "                        <td id=\"T_4c046228_7f14_11ea_a82b_acde48001122row3_col2\" class=\"data row3 col2\" >1990.000000</td>\n",
       "                        <td id=\"T_4c046228_7f14_11ea_a82b_acde48001122row3_col3\" class=\"data row3 col3\" >1082.000000</td>\n",
       "                        <td id=\"T_4c046228_7f14_11ea_a82b_acde48001122row3_col4\" class=\"data row3 col4\" >445.000000</td>\n",
       "                        <td id=\"T_4c046228_7f14_11ea_a82b_acde48001122row3_col5\" class=\"data row3 col5\" >8.000000</td>\n",
       "                        <td id=\"T_4c046228_7f14_11ea_a82b_acde48001122row3_col6\" class=\"data row3 col6\" >3.000000</td>\n",
       "                        <td id=\"T_4c046228_7f14_11ea_a82b_acde48001122row3_col7\" class=\"data row3 col7\" >6039.000000</td>\n",
       "                        <td id=\"T_4c046228_7f14_11ea_a82b_acde48001122row3_col8\" class=\"data row3 col8\" >11.360000</td>\n",
       "                        <td id=\"T_4c046228_7f14_11ea_a82b_acde48001122row3_col9\" class=\"data row3 col9\" >30.400000</td>\n",
       "                        <td id=\"T_4c046228_7f14_11ea_a82b_acde48001122row3_col10\" class=\"data row3 col10\" >32.950000</td>\n",
       "                        <td id=\"T_4c046228_7f14_11ea_a82b_acde48001122row3_col11\" class=\"data row3 col11\" >17.920000</td>\n",
       "                        <td id=\"T_4c046228_7f14_11ea_a82b_acde48001122row3_col12\" class=\"data row3 col12\" >7.370000</td>\n",
       "                        <td id=\"T_4c046228_7f14_11ea_a82b_acde48001122row3_col13\" class=\"data row3 col13\" >74.710000</td>\n",
       "                        <td id=\"T_4c046228_7f14_11ea_a82b_acde48001122row3_col14\" class=\"data row3 col14\" >17.920000</td>\n",
       "                        <td id=\"T_4c046228_7f14_11ea_a82b_acde48001122row3_col15\" class=\"data row3 col15\" >7.370000</td>\n",
       "            </tr>\n",
       "            <tr>\n",
       "                        <th id=\"T_4c046228_7f14_11ea_a82b_acde48001122level0_row4\" class=\"row_heading level0 row4\" ><$25,000</th>\n",
       "                        <td id=\"T_4c046228_7f14_11ea_a82b_acde48001122row4_col0\" class=\"data row4 col0\" >922.000000</td>\n",
       "                        <td id=\"T_4c046228_7f14_11ea_a82b_acde48001122row4_col1\" class=\"data row4 col1\" >2439.000000</td>\n",
       "                        <td id=\"T_4c046228_7f14_11ea_a82b_acde48001122row4_col2\" class=\"data row4 col2\" >2442.000000</td>\n",
       "                        <td id=\"T_4c046228_7f14_11ea_a82b_acde48001122row4_col3\" class=\"data row4 col3\" >1026.000000</td>\n",
       "                        <td id=\"T_4c046228_7f14_11ea_a82b_acde48001122row4_col4\" class=\"data row4 col4\" >341.000000</td>\n",
       "                        <td id=\"T_4c046228_7f14_11ea_a82b_acde48001122row4_col5\" class=\"data row4 col5\" >4.000000</td>\n",
       "                        <td id=\"T_4c046228_7f14_11ea_a82b_acde48001122row4_col6\" class=\"data row4 col6\" >5.000000</td>\n",
       "                        <td id=\"T_4c046228_7f14_11ea_a82b_acde48001122row4_col7\" class=\"data row4 col7\" >7170.000000</td>\n",
       "                        <td id=\"T_4c046228_7f14_11ea_a82b_acde48001122row4_col8\" class=\"data row4 col8\" >12.860000</td>\n",
       "                        <td id=\"T_4c046228_7f14_11ea_a82b_acde48001122row4_col9\" class=\"data row4 col9\" >34.020000</td>\n",
       "                        <td id=\"T_4c046228_7f14_11ea_a82b_acde48001122row4_col10\" class=\"data row4 col10\" >34.060000</td>\n",
       "                        <td id=\"T_4c046228_7f14_11ea_a82b_acde48001122row4_col11\" class=\"data row4 col11\" >14.310000</td>\n",
       "                        <td id=\"T_4c046228_7f14_11ea_a82b_acde48001122row4_col12\" class=\"data row4 col12\" >4.760000</td>\n",
       "                        <td id=\"T_4c046228_7f14_11ea_a82b_acde48001122row4_col13\" class=\"data row4 col13\" >80.940000</td>\n",
       "                        <td id=\"T_4c046228_7f14_11ea_a82b_acde48001122row4_col14\" class=\"data row4 col14\" >14.310000</td>\n",
       "                        <td id=\"T_4c046228_7f14_11ea_a82b_acde48001122row4_col15\" class=\"data row4 col15\" >4.760000</td>\n",
       "            </tr>\n",
       "            <tr>\n",
       "                        <th id=\"T_4c046228_7f14_11ea_a82b_acde48001122level0_row5\" class=\"row_heading level0 row5\" ><$35,000</th>\n",
       "                        <td id=\"T_4c046228_7f14_11ea_a82b_acde48001122row5_col0\" class=\"data row5 col0\" >374.000000</td>\n",
       "                        <td id=\"T_4c046228_7f14_11ea_a82b_acde48001122row5_col1\" class=\"data row5 col1\" >1088.000000</td>\n",
       "                        <td id=\"T_4c046228_7f14_11ea_a82b_acde48001122row5_col2\" class=\"data row5 col2\" >1112.000000</td>\n",
       "                        <td id=\"T_4c046228_7f14_11ea_a82b_acde48001122row5_col3\" class=\"data row5 col3\" >483.000000</td>\n",
       "                        <td id=\"T_4c046228_7f14_11ea_a82b_acde48001122row5_col4\" class=\"data row5 col4\" >168.000000</td>\n",
       "                        <td id=\"T_4c046228_7f14_11ea_a82b_acde48001122row5_col5\" class=\"data row5 col5\" >8.000000</td>\n",
       "                        <td id=\"T_4c046228_7f14_11ea_a82b_acde48001122row5_col6\" class=\"data row5 col6\" >2.000000</td>\n",
       "                        <td id=\"T_4c046228_7f14_11ea_a82b_acde48001122row5_col7\" class=\"data row5 col7\" >3225.000000</td>\n",
       "                        <td id=\"T_4c046228_7f14_11ea_a82b_acde48001122row5_col8\" class=\"data row5 col8\" >11.600000</td>\n",
       "                        <td id=\"T_4c046228_7f14_11ea_a82b_acde48001122row5_col9\" class=\"data row5 col9\" >33.740000</td>\n",
       "                        <td id=\"T_4c046228_7f14_11ea_a82b_acde48001122row5_col10\" class=\"data row5 col10\" >34.480000</td>\n",
       "                        <td id=\"T_4c046228_7f14_11ea_a82b_acde48001122row5_col11\" class=\"data row5 col11\" >14.980000</td>\n",
       "                        <td id=\"T_4c046228_7f14_11ea_a82b_acde48001122row5_col12\" class=\"data row5 col12\" >5.210000</td>\n",
       "                        <td id=\"T_4c046228_7f14_11ea_a82b_acde48001122row5_col13\" class=\"data row5 col13\" >79.820000</td>\n",
       "                        <td id=\"T_4c046228_7f14_11ea_a82b_acde48001122row5_col14\" class=\"data row5 col14\" >14.980000</td>\n",
       "                        <td id=\"T_4c046228_7f14_11ea_a82b_acde48001122row5_col15\" class=\"data row5 col15\" >5.210000</td>\n",
       "            </tr>\n",
       "            <tr>\n",
       "                        <th id=\"T_4c046228_7f14_11ea_a82b_acde48001122level0_row6\" class=\"row_heading level0 row6\" ><$50,000</th>\n",
       "                        <td id=\"T_4c046228_7f14_11ea_a82b_acde48001122row6_col0\" class=\"data row6 col0\" >1365.000000</td>\n",
       "                        <td id=\"T_4c046228_7f14_11ea_a82b_acde48001122row6_col1\" class=\"data row6 col1\" >3123.000000</td>\n",
       "                        <td id=\"T_4c046228_7f14_11ea_a82b_acde48001122row6_col2\" class=\"data row6 col2\" >2576.000000</td>\n",
       "                        <td id=\"T_4c046228_7f14_11ea_a82b_acde48001122row6_col3\" class=\"data row6 col3\" >812.000000</td>\n",
       "                        <td id=\"T_4c046228_7f14_11ea_a82b_acde48001122row6_col4\" class=\"data row6 col4\" >211.000000</td>\n",
       "                        <td id=\"T_4c046228_7f14_11ea_a82b_acde48001122row6_col5\" class=\"data row6 col5\" >4.000000</td>\n",
       "                        <td id=\"T_4c046228_7f14_11ea_a82b_acde48001122row6_col6\" class=\"data row6 col6\" >2.000000</td>\n",
       "                        <td id=\"T_4c046228_7f14_11ea_a82b_acde48001122row6_col7\" class=\"data row6 col7\" >8087.000000</td>\n",
       "                        <td id=\"T_4c046228_7f14_11ea_a82b_acde48001122row6_col8\" class=\"data row6 col8\" >16.880000</td>\n",
       "                        <td id=\"T_4c046228_7f14_11ea_a82b_acde48001122row6_col9\" class=\"data row6 col9\" >38.620000</td>\n",
       "                        <td id=\"T_4c046228_7f14_11ea_a82b_acde48001122row6_col10\" class=\"data row6 col10\" >31.850000</td>\n",
       "                        <td id=\"T_4c046228_7f14_11ea_a82b_acde48001122row6_col11\" class=\"data row6 col11\" >10.040000</td>\n",
       "                        <td id=\"T_4c046228_7f14_11ea_a82b_acde48001122row6_col12\" class=\"data row6 col12\" >2.610000</td>\n",
       "                        <td id=\"T_4c046228_7f14_11ea_a82b_acde48001122row6_col13\" class=\"data row6 col13\" >87.350000</td>\n",
       "                        <td id=\"T_4c046228_7f14_11ea_a82b_acde48001122row6_col14\" class=\"data row6 col14\" >10.040000</td>\n",
       "                        <td id=\"T_4c046228_7f14_11ea_a82b_acde48001122row6_col15\" class=\"data row6 col15\" >2.610000</td>\n",
       "            </tr>\n",
       "            <tr>\n",
       "                        <th id=\"T_4c046228_7f14_11ea_a82b_acde48001122level0_row7\" class=\"row_heading level0 row7\" ><$75,000</th>\n",
       "                        <td id=\"T_4c046228_7f14_11ea_a82b_acde48001122row7_col0\" class=\"data row7 col0\" >532.000000</td>\n",
       "                        <td id=\"T_4c046228_7f14_11ea_a82b_acde48001122row7_col1\" class=\"data row7 col1\" >1316.000000</td>\n",
       "                        <td id=\"T_4c046228_7f14_11ea_a82b_acde48001122row7_col2\" class=\"data row7 col2\" >916.000000</td>\n",
       "                        <td id=\"T_4c046228_7f14_11ea_a82b_acde48001122row7_col3\" class=\"data row7 col3\" >291.000000</td>\n",
       "                        <td id=\"T_4c046228_7f14_11ea_a82b_acde48001122row7_col4\" class=\"data row7 col4\" >73.000000</td>\n",
       "                        <td id=\"T_4c046228_7f14_11ea_a82b_acde48001122row7_col5\" class=\"data row7 col5\" >4.000000</td>\n",
       "                        <td id=\"T_4c046228_7f14_11ea_a82b_acde48001122row7_col6\" class=\"data row7 col6\" >0.000000</td>\n",
       "                        <td id=\"T_4c046228_7f14_11ea_a82b_acde48001122row7_col7\" class=\"data row7 col7\" >3128.000000</td>\n",
       "                        <td id=\"T_4c046228_7f14_11ea_a82b_acde48001122row7_col8\" class=\"data row7 col8\" >17.010000</td>\n",
       "                        <td id=\"T_4c046228_7f14_11ea_a82b_acde48001122row7_col9\" class=\"data row7 col9\" >42.070000</td>\n",
       "                        <td id=\"T_4c046228_7f14_11ea_a82b_acde48001122row7_col10\" class=\"data row7 col10\" >29.280000</td>\n",
       "                        <td id=\"T_4c046228_7f14_11ea_a82b_acde48001122row7_col11\" class=\"data row7 col11\" >9.300000</td>\n",
       "                        <td id=\"T_4c046228_7f14_11ea_a82b_acde48001122row7_col12\" class=\"data row7 col12\" >2.330000</td>\n",
       "                        <td id=\"T_4c046228_7f14_11ea_a82b_acde48001122row7_col13\" class=\"data row7 col13\" >88.360000</td>\n",
       "                        <td id=\"T_4c046228_7f14_11ea_a82b_acde48001122row7_col14\" class=\"data row7 col14\" >9.300000</td>\n",
       "                        <td id=\"T_4c046228_7f14_11ea_a82b_acde48001122row7_col15\" class=\"data row7 col15\" >2.330000</td>\n",
       "            </tr>\n",
       "            <tr>\n",
       "                        <th id=\"T_4c046228_7f14_11ea_a82b_acde48001122level0_row8\" class=\"row_heading level0 row8\" >>$75,000</th>\n",
       "                        <td id=\"T_4c046228_7f14_11ea_a82b_acde48001122row8_col0\" class=\"data row8 col0\" >862.000000</td>\n",
       "                        <td id=\"T_4c046228_7f14_11ea_a82b_acde48001122row8_col1\" class=\"data row8 col1\" >1406.000000</td>\n",
       "                        <td id=\"T_4c046228_7f14_11ea_a82b_acde48001122row8_col2\" class=\"data row8 col2\" >842.000000</td>\n",
       "                        <td id=\"T_4c046228_7f14_11ea_a82b_acde48001122row8_col3\" class=\"data row8 col3\" >220.000000</td>\n",
       "                        <td id=\"T_4c046228_7f14_11ea_a82b_acde48001122row8_col4\" class=\"data row8 col4\" >54.000000</td>\n",
       "                        <td id=\"T_4c046228_7f14_11ea_a82b_acde48001122row8_col5\" class=\"data row8 col5\" >3.000000</td>\n",
       "                        <td id=\"T_4c046228_7f14_11ea_a82b_acde48001122row8_col6\" class=\"data row8 col6\" >3.000000</td>\n",
       "                        <td id=\"T_4c046228_7f14_11ea_a82b_acde48001122row8_col7\" class=\"data row8 col7\" >3384.000000</td>\n",
       "                        <td id=\"T_4c046228_7f14_11ea_a82b_acde48001122row8_col8\" class=\"data row8 col8\" >25.470000</td>\n",
       "                        <td id=\"T_4c046228_7f14_11ea_a82b_acde48001122row8_col9\" class=\"data row8 col9\" >41.550000</td>\n",
       "                        <td id=\"T_4c046228_7f14_11ea_a82b_acde48001122row8_col10\" class=\"data row8 col10\" >24.880000</td>\n",
       "                        <td id=\"T_4c046228_7f14_11ea_a82b_acde48001122row8_col11\" class=\"data row8 col11\" >6.500000</td>\n",
       "                        <td id=\"T_4c046228_7f14_11ea_a82b_acde48001122row8_col12\" class=\"data row8 col12\" >1.600000</td>\n",
       "                        <td id=\"T_4c046228_7f14_11ea_a82b_acde48001122row8_col13\" class=\"data row8 col13\" >91.900000</td>\n",
       "                        <td id=\"T_4c046228_7f14_11ea_a82b_acde48001122row8_col14\" class=\"data row8 col14\" >6.500000</td>\n",
       "                        <td id=\"T_4c046228_7f14_11ea_a82b_acde48001122row8_col15\" class=\"data row8 col15\" >1.600000</td>\n",
       "            </tr>\n",
       "    </tbody></table>"
      ],
      "text/plain": [
       "<pandas.io.formats.style.Styler at 0x12114d518>"
      ]
     },
     "execution_count": 108,
     "metadata": {},
     "output_type": "execute_result"
    }
   ],
   "source": [
    "''' uses new data '''\n",
    "\n",
    "print(\"Q: General health of the participant (1 = excellent -> 5 = poor) (Sampled 2015-2018)\")\n",
    "print(\"Using household income divided by # people in household\")\n",
    "print(\"Colored based on change from 2011-14 -> green = increase, pink = decrease, white = no change\")\n",
    " \n",
    "income_x_health_1518_df.style.apply(highlight_change, other_df=income_x_health_1114_df, axis=None)"
   ]
  },
  {
   "cell_type": "code",
   "execution_count": 109,
   "metadata": {},
   "outputs": [
    {
     "name": "stdout",
     "output_type": "stream",
     "text": [
      "183606\n",
      "149448\n",
      "Q: Do you have any health care coverage? (2014)\n"
     ]
    },
    {
     "data": {
      "text/html": [
       "<div>\n",
       "<style scoped>\n",
       "    .dataframe tbody tr th:only-of-type {\n",
       "        vertical-align: middle;\n",
       "    }\n",
       "\n",
       "    .dataframe tbody tr th {\n",
       "        vertical-align: top;\n",
       "    }\n",
       "\n",
       "    .dataframe thead th {\n",
       "        text-align: right;\n",
       "    }\n",
       "</style>\n",
       "<table border=\"1\" class=\"dataframe\">\n",
       "  <thead>\n",
       "    <tr style=\"text-align: right;\">\n",
       "      <th></th>\n",
       "      <th>Yes</th>\n",
       "      <th>No</th>\n",
       "      <th>Not Sure</th>\n",
       "      <th>Refused</th>\n",
       "      <th>Total Respondents</th>\n",
       "      <th>Yes Percentage</th>\n",
       "    </tr>\n",
       "  </thead>\n",
       "  <tbody>\n",
       "    <tr>\n",
       "      <th>&lt;$10,000</th>\n",
       "      <td>1539.0</td>\n",
       "      <td>224.0</td>\n",
       "      <td>4.0</td>\n",
       "      <td>1.0</td>\n",
       "      <td>1763.0</td>\n",
       "      <td>87.29</td>\n",
       "    </tr>\n",
       "    <tr>\n",
       "      <th>&lt;$15,000</th>\n",
       "      <td>2171.0</td>\n",
       "      <td>224.0</td>\n",
       "      <td>5.0</td>\n",
       "      <td>5.0</td>\n",
       "      <td>2395.0</td>\n",
       "      <td>90.65</td>\n",
       "    </tr>\n",
       "    <tr>\n",
       "      <th>&lt;$20,000</th>\n",
       "      <td>2734.0</td>\n",
       "      <td>330.0</td>\n",
       "      <td>2.0</td>\n",
       "      <td>2.0</td>\n",
       "      <td>3064.0</td>\n",
       "      <td>89.23</td>\n",
       "    </tr>\n",
       "    <tr>\n",
       "      <th>&lt;$25,000</th>\n",
       "      <td>3508.0</td>\n",
       "      <td>381.0</td>\n",
       "      <td>6.0</td>\n",
       "      <td>7.0</td>\n",
       "      <td>3889.0</td>\n",
       "      <td>90.20</td>\n",
       "    </tr>\n",
       "    <tr>\n",
       "      <th>&lt;$35,000</th>\n",
       "      <td>4136.0</td>\n",
       "      <td>342.0</td>\n",
       "      <td>13.0</td>\n",
       "      <td>4.0</td>\n",
       "      <td>4478.0</td>\n",
       "      <td>92.36</td>\n",
       "    </tr>\n",
       "    <tr>\n",
       "      <th>&lt;$50,000</th>\n",
       "      <td>5652.0</td>\n",
       "      <td>373.0</td>\n",
       "      <td>8.0</td>\n",
       "      <td>4.0</td>\n",
       "      <td>6025.0</td>\n",
       "      <td>93.81</td>\n",
       "    </tr>\n",
       "    <tr>\n",
       "      <th>&lt;$75,000</th>\n",
       "      <td>6854.0</td>\n",
       "      <td>229.0</td>\n",
       "      <td>3.0</td>\n",
       "      <td>3.0</td>\n",
       "      <td>7083.0</td>\n",
       "      <td>96.77</td>\n",
       "    </tr>\n",
       "    <tr>\n",
       "      <th>&gt;$75,000</th>\n",
       "      <td>14823.0</td>\n",
       "      <td>182.0</td>\n",
       "      <td>12.0</td>\n",
       "      <td>3.0</td>\n",
       "      <td>15005.0</td>\n",
       "      <td>98.79</td>\n",
       "    </tr>\n",
       "  </tbody>\n",
       "</table>\n",
       "</div>"
      ],
      "text/plain": [
       "              Yes     No  Not Sure  Refused  Total Respondents  Yes Percentage\n",
       "<$10,000   1539.0  224.0       4.0      1.0             1763.0           87.29\n",
       "<$15,000   2171.0  224.0       5.0      5.0             2395.0           90.65\n",
       "<$20,000   2734.0  330.0       2.0      2.0             3064.0           89.23\n",
       "<$25,000   3508.0  381.0       6.0      7.0             3889.0           90.20\n",
       "<$35,000   4136.0  342.0      13.0      4.0             4478.0           92.36\n",
       "<$50,000   5652.0  373.0       8.0      4.0             6025.0           93.81\n",
       "<$75,000   6854.0  229.0       3.0      3.0             7083.0           96.77\n",
       ">$75,000  14823.0  182.0      12.0      3.0            15005.0           98.79"
      ]
     },
     "execution_count": 109,
     "metadata": {},
     "output_type": "execute_result"
    }
   ],
   "source": [
    "# generate table for income2 x hcare for 2014, and for 2015-18\n",
    "print(len(df_1114.index))\n",
    "print(len(df_new_1518.index))\n",
    "\n",
    "num_samples = 20\n",
    "summed_cross_14 = np.zeros(shape=(8, 6))\n",
    "summed_cross_1518 = np.zeros(shape=(8, 6))\n",
    "#df_14 = df_1114 # TODO: TEMP for testing, take out later!\n",
    "\n",
    "for sample_i in range(num_samples): # to average across multiple samples of 2015-2018 data\n",
    "    sample_df1518 = df_1518.sample(n = 51858)#, random_state = 1)\n",
    "    #sample_df1518 = df_new_1518 # TODO: TEMP for testing, take out later!\n",
    "\n",
    "    income_x_hcare_14 = np.zeros(shape=(8, 6)) #income by hlthpln\n",
    "    income_x_hcare_1518 = np.zeros(shape=(8, 6)) #income by hlthpln\n",
    "\n",
    "    hlthpln_options = [1,2,7,9]\n",
    "\n",
    "    for i in range(1,9): # for each income group (<$10,000, <$15,000, <$20,000, <$25,000, <$35,000, <$50,000, <$75,000, >$75,000)\n",
    "        for j in range(4): # for each healthplan group (Yes, no, not sure, refused)\n",
    "            hlthpln_i = hlthpln_options[j]\n",
    "            income_x_hcare_14[i-1, j] = len(df_14.query('income2 == @i & hlthpln1 == @hlthpln_i')) \n",
    "            income_x_hcare_1518[i-1, j] = len(sample_df1518.query('income2 == @i & hlthpln1 == @hlthpln_i'))\n",
    "        \n",
    "        # calculate total respondents\n",
    "        income_x_hcare_14[i-1, 4] = income_x_hcare_14[i-1, 0] + income_x_hcare_14[i-1, 1]\n",
    "        income_x_hcare_1518[i-1, 4] = income_x_hcare_1518[i-1, 0] + income_x_hcare_1518[i-1, 1]\n",
    "    \n",
    "        # calculate % that said Yes\n",
    "        income_x_hcare_14[i-1, 5] = (income_x_hcare_14[i-1, 0] / income_x_hcare_14[i-1, 4]).round(4) * 100\n",
    "        income_x_hcare_1518[i-1, 5] = (income_x_hcare_1518[i-1, 0] / income_x_hcare_1518[i-1, 4]).round(4) * 100\n",
    "\n",
    "    summed_cross_14 += income_x_hcare_14\n",
    "    summed_cross_1518 += income_x_hcare_1518\n",
    "    \n",
    "averaged_cross_14 = summed_cross_14 / num_samples\n",
    "averaged_cross_1518 = summed_cross_1518 / num_samples\n",
    "    \n",
    "income_x_hcare_14_df = pd.DataFrame(income_x_hcare_14, \n",
    "                 index = [\"<$10,000\", \"<$15,000\", \"<$20,000\", \"<$25,000\", \"<$35,000\", \"<$50,000\", \"<$75,000\", \">$75,000\"], \n",
    "                 columns=[\"Yes\", \"No\", \"Not Sure\", \"Refused\", \"Total Respondents\", \"Yes Percentage\"])\n",
    "\n",
    "income_x_hcare_1518_df = pd.DataFrame(income_x_hcare_1518, \n",
    "                 index = [\"<$10,000\", \"<$15,000\", \"<$20,000\", \"<$25,000\", \"<$35,000\", \"<$50,000\", \"<$75,000\", \">$75,000\"], \n",
    "                 columns=[\"Yes\", \"No\", \"Not Sure\", \"Refused\", \"Total Respondents\", \"Yes Percentage\"])\n",
    "\n",
    "print(\"Q: Do you have any health care coverage? (2014)\")\n",
    "income_x_hcare_14_df"
   ]
  },
  {
   "cell_type": "code",
   "execution_count": 110,
   "metadata": {},
   "outputs": [
    {
     "name": "stdout",
     "output_type": "stream",
     "text": [
      "Q: Do you have any health care coverage? (Sampled 2015-2018)\n",
      "Colored based on change from 2014 -> green = increase, pink = decrease, white = no change\n"
     ]
    },
    {
     "data": {
      "text/html": [
       "<style  type=\"text/css\" >\n",
       "    #T_4f34733e_7f14_11ea_a82b_acde48001122row0_col0 {\n",
       "            background-color:  pink;\n",
       "        }    #T_4f34733e_7f14_11ea_a82b_acde48001122row0_col1 {\n",
       "            background-color:  pink;\n",
       "        }    #T_4f34733e_7f14_11ea_a82b_acde48001122row0_col2 {\n",
       "            background-color:  lightgreen;\n",
       "        }    #T_4f34733e_7f14_11ea_a82b_acde48001122row0_col3 {\n",
       "            background-color:  lightgreen;\n",
       "        }    #T_4f34733e_7f14_11ea_a82b_acde48001122row0_col4 {\n",
       "            background-color:  pink;\n",
       "        }    #T_4f34733e_7f14_11ea_a82b_acde48001122row0_col5 {\n",
       "            background-color:  lightgreen;\n",
       "        }    #T_4f34733e_7f14_11ea_a82b_acde48001122row1_col0 {\n",
       "            background-color:  pink;\n",
       "        }    #T_4f34733e_7f14_11ea_a82b_acde48001122row1_col1 {\n",
       "            background-color:  pink;\n",
       "        }    #T_4f34733e_7f14_11ea_a82b_acde48001122row1_col2 {\n",
       "            background-color:  lightgreen;\n",
       "        }    #T_4f34733e_7f14_11ea_a82b_acde48001122row1_col3 {\n",
       "            background-color:  lightgreen;\n",
       "        }    #T_4f34733e_7f14_11ea_a82b_acde48001122row1_col4 {\n",
       "            background-color:  pink;\n",
       "        }    #T_4f34733e_7f14_11ea_a82b_acde48001122row1_col5 {\n",
       "            background-color:  lightgreen;\n",
       "        }    #T_4f34733e_7f14_11ea_a82b_acde48001122row2_col0 {\n",
       "            background-color:  pink;\n",
       "        }    #T_4f34733e_7f14_11ea_a82b_acde48001122row2_col1 {\n",
       "            background-color:  pink;\n",
       "        }    #T_4f34733e_7f14_11ea_a82b_acde48001122row2_col2 {\n",
       "            background-color:  lightgreen;\n",
       "        }    #T_4f34733e_7f14_11ea_a82b_acde48001122row2_col3 {\n",
       "            background-color:  lightgreen;\n",
       "        }    #T_4f34733e_7f14_11ea_a82b_acde48001122row2_col4 {\n",
       "            background-color:  pink;\n",
       "        }    #T_4f34733e_7f14_11ea_a82b_acde48001122row2_col5 {\n",
       "            background-color:  lightgreen;\n",
       "        }    #T_4f34733e_7f14_11ea_a82b_acde48001122row3_col0 {\n",
       "            background-color:  pink;\n",
       "        }    #T_4f34733e_7f14_11ea_a82b_acde48001122row3_col1 {\n",
       "            background-color:  pink;\n",
       "        }    #T_4f34733e_7f14_11ea_a82b_acde48001122row3_col2 {\n",
       "            background-color:  pink;\n",
       "        }    #T_4f34733e_7f14_11ea_a82b_acde48001122row3_col3 {\n",
       "            background-color:  pink;\n",
       "        }    #T_4f34733e_7f14_11ea_a82b_acde48001122row3_col4 {\n",
       "            background-color:  pink;\n",
       "        }    #T_4f34733e_7f14_11ea_a82b_acde48001122row3_col5 {\n",
       "            background-color:  lightgreen;\n",
       "        }    #T_4f34733e_7f14_11ea_a82b_acde48001122row4_col0 {\n",
       "            background-color:  pink;\n",
       "        }    #T_4f34733e_7f14_11ea_a82b_acde48001122row4_col1 {\n",
       "            background-color:  pink;\n",
       "        }    #T_4f34733e_7f14_11ea_a82b_acde48001122row4_col2 {\n",
       "            background-color:  pink;\n",
       "        }    #T_4f34733e_7f14_11ea_a82b_acde48001122row4_col3 {\n",
       "            background-color:  pink;\n",
       "        }    #T_4f34733e_7f14_11ea_a82b_acde48001122row4_col4 {\n",
       "            background-color:  pink;\n",
       "        }    #T_4f34733e_7f14_11ea_a82b_acde48001122row4_col5 {\n",
       "            background-color:  lightgreen;\n",
       "        }    #T_4f34733e_7f14_11ea_a82b_acde48001122row5_col0 {\n",
       "            background-color:  pink;\n",
       "        }    #T_4f34733e_7f14_11ea_a82b_acde48001122row5_col1 {\n",
       "            background-color:  pink;\n",
       "        }    #T_4f34733e_7f14_11ea_a82b_acde48001122row5_col2 {\n",
       "            background-color:  pink;\n",
       "        }    #T_4f34733e_7f14_11ea_a82b_acde48001122row5_col3 {\n",
       "            background-color:  pink;\n",
       "        }    #T_4f34733e_7f14_11ea_a82b_acde48001122row5_col4 {\n",
       "            background-color:  pink;\n",
       "        }    #T_4f34733e_7f14_11ea_a82b_acde48001122row5_col5 {\n",
       "            background-color:  lightgreen;\n",
       "        }    #T_4f34733e_7f14_11ea_a82b_acde48001122row6_col0 {\n",
       "            background-color:  lightgreen;\n",
       "        }    #T_4f34733e_7f14_11ea_a82b_acde48001122row6_col1 {\n",
       "            background-color:  pink;\n",
       "        }    #T_4f34733e_7f14_11ea_a82b_acde48001122row6_col2 {\n",
       "            background-color:  pink;\n",
       "        }    #T_4f34733e_7f14_11ea_a82b_acde48001122row6_col3 {\n",
       "            background-color:  pink;\n",
       "        }    #T_4f34733e_7f14_11ea_a82b_acde48001122row6_col4 {\n",
       "            background-color:  lightgreen;\n",
       "        }    #T_4f34733e_7f14_11ea_a82b_acde48001122row6_col5 {\n",
       "            background-color:  lightgreen;\n",
       "        }    #T_4f34733e_7f14_11ea_a82b_acde48001122row7_col0 {\n",
       "            background-color:  lightgreen;\n",
       "        }    #T_4f34733e_7f14_11ea_a82b_acde48001122row7_col1 {\n",
       "            background-color:  lightgreen;\n",
       "        }    #T_4f34733e_7f14_11ea_a82b_acde48001122row7_col2 {\n",
       "            background-color:  pink;\n",
       "        }    #T_4f34733e_7f14_11ea_a82b_acde48001122row7_col4 {\n",
       "            background-color:  lightgreen;\n",
       "        }    #T_4f34733e_7f14_11ea_a82b_acde48001122row7_col5 {\n",
       "            background-color:  pink;\n",
       "        }</style><table id=\"T_4f34733e_7f14_11ea_a82b_acde48001122\" ><thead>    <tr>        <th class=\"blank level0\" ></th>        <th class=\"col_heading level0 col0\" >Yes</th>        <th class=\"col_heading level0 col1\" >No</th>        <th class=\"col_heading level0 col2\" >Not Sure</th>        <th class=\"col_heading level0 col3\" >Refused</th>        <th class=\"col_heading level0 col4\" >Total Respondents</th>        <th class=\"col_heading level0 col5\" >Yes Percentage</th>    </tr></thead><tbody>\n",
       "                <tr>\n",
       "                        <th id=\"T_4f34733e_7f14_11ea_a82b_acde48001122level0_row0\" class=\"row_heading level0 row0\" ><$10,000</th>\n",
       "                        <td id=\"T_4f34733e_7f14_11ea_a82b_acde48001122row0_col0\" class=\"data row0 col0\" >1478.000000</td>\n",
       "                        <td id=\"T_4f34733e_7f14_11ea_a82b_acde48001122row0_col1\" class=\"data row0 col1\" >182.000000</td>\n",
       "                        <td id=\"T_4f34733e_7f14_11ea_a82b_acde48001122row0_col2\" class=\"data row0 col2\" >7.000000</td>\n",
       "                        <td id=\"T_4f34733e_7f14_11ea_a82b_acde48001122row0_col3\" class=\"data row0 col3\" >2.000000</td>\n",
       "                        <td id=\"T_4f34733e_7f14_11ea_a82b_acde48001122row0_col4\" class=\"data row0 col4\" >1660.000000</td>\n",
       "                        <td id=\"T_4f34733e_7f14_11ea_a82b_acde48001122row0_col5\" class=\"data row0 col5\" >89.040000</td>\n",
       "            </tr>\n",
       "            <tr>\n",
       "                        <th id=\"T_4f34733e_7f14_11ea_a82b_acde48001122level0_row1\" class=\"row_heading level0 row1\" ><$15,000</th>\n",
       "                        <td id=\"T_4f34733e_7f14_11ea_a82b_acde48001122row1_col0\" class=\"data row1 col0\" >1913.000000</td>\n",
       "                        <td id=\"T_4f34733e_7f14_11ea_a82b_acde48001122row1_col1\" class=\"data row1 col1\" >165.000000</td>\n",
       "                        <td id=\"T_4f34733e_7f14_11ea_a82b_acde48001122row1_col2\" class=\"data row1 col2\" >9.000000</td>\n",
       "                        <td id=\"T_4f34733e_7f14_11ea_a82b_acde48001122row1_col3\" class=\"data row1 col3\" >6.000000</td>\n",
       "                        <td id=\"T_4f34733e_7f14_11ea_a82b_acde48001122row1_col4\" class=\"data row1 col4\" >2078.000000</td>\n",
       "                        <td id=\"T_4f34733e_7f14_11ea_a82b_acde48001122row1_col5\" class=\"data row1 col5\" >92.060000</td>\n",
       "            </tr>\n",
       "            <tr>\n",
       "                        <th id=\"T_4f34733e_7f14_11ea_a82b_acde48001122level0_row2\" class=\"row_heading level0 row2\" ><$20,000</th>\n",
       "                        <td id=\"T_4f34733e_7f14_11ea_a82b_acde48001122row2_col0\" class=\"data row2 col0\" >2393.000000</td>\n",
       "                        <td id=\"T_4f34733e_7f14_11ea_a82b_acde48001122row2_col1\" class=\"data row2 col1\" >259.000000</td>\n",
       "                        <td id=\"T_4f34733e_7f14_11ea_a82b_acde48001122row2_col2\" class=\"data row2 col2\" >5.000000</td>\n",
       "                        <td id=\"T_4f34733e_7f14_11ea_a82b_acde48001122row2_col3\" class=\"data row2 col3\" >4.000000</td>\n",
       "                        <td id=\"T_4f34733e_7f14_11ea_a82b_acde48001122row2_col4\" class=\"data row2 col4\" >2652.000000</td>\n",
       "                        <td id=\"T_4f34733e_7f14_11ea_a82b_acde48001122row2_col5\" class=\"data row2 col5\" >90.230000</td>\n",
       "            </tr>\n",
       "            <tr>\n",
       "                        <th id=\"T_4f34733e_7f14_11ea_a82b_acde48001122level0_row3\" class=\"row_heading level0 row3\" ><$25,000</th>\n",
       "                        <td id=\"T_4f34733e_7f14_11ea_a82b_acde48001122row3_col0\" class=\"data row3 col0\" >2825.000000</td>\n",
       "                        <td id=\"T_4f34733e_7f14_11ea_a82b_acde48001122row3_col1\" class=\"data row3 col1\" >268.000000</td>\n",
       "                        <td id=\"T_4f34733e_7f14_11ea_a82b_acde48001122row3_col2\" class=\"data row3 col2\" >5.000000</td>\n",
       "                        <td id=\"T_4f34733e_7f14_11ea_a82b_acde48001122row3_col3\" class=\"data row3 col3\" >2.000000</td>\n",
       "                        <td id=\"T_4f34733e_7f14_11ea_a82b_acde48001122row3_col4\" class=\"data row3 col4\" >3093.000000</td>\n",
       "                        <td id=\"T_4f34733e_7f14_11ea_a82b_acde48001122row3_col5\" class=\"data row3 col5\" >91.340000</td>\n",
       "            </tr>\n",
       "            <tr>\n",
       "                        <th id=\"T_4f34733e_7f14_11ea_a82b_acde48001122level0_row4\" class=\"row_heading level0 row4\" ><$35,000</th>\n",
       "                        <td id=\"T_4f34733e_7f14_11ea_a82b_acde48001122row4_col0\" class=\"data row4 col0\" >3789.000000</td>\n",
       "                        <td id=\"T_4f34733e_7f14_11ea_a82b_acde48001122row4_col1\" class=\"data row4 col1\" >265.000000</td>\n",
       "                        <td id=\"T_4f34733e_7f14_11ea_a82b_acde48001122row4_col2\" class=\"data row4 col2\" >12.000000</td>\n",
       "                        <td id=\"T_4f34733e_7f14_11ea_a82b_acde48001122row4_col3\" class=\"data row4 col3\" >3.000000</td>\n",
       "                        <td id=\"T_4f34733e_7f14_11ea_a82b_acde48001122row4_col4\" class=\"data row4 col4\" >4054.000000</td>\n",
       "                        <td id=\"T_4f34733e_7f14_11ea_a82b_acde48001122row4_col5\" class=\"data row4 col5\" >93.460000</td>\n",
       "            </tr>\n",
       "            <tr>\n",
       "                        <th id=\"T_4f34733e_7f14_11ea_a82b_acde48001122level0_row5\" class=\"row_heading level0 row5\" ><$50,000</th>\n",
       "                        <td id=\"T_4f34733e_7f14_11ea_a82b_acde48001122row5_col0\" class=\"data row5 col0\" >5549.000000</td>\n",
       "                        <td id=\"T_4f34733e_7f14_11ea_a82b_acde48001122row5_col1\" class=\"data row5 col1\" >320.000000</td>\n",
       "                        <td id=\"T_4f34733e_7f14_11ea_a82b_acde48001122row5_col2\" class=\"data row5 col2\" >5.000000</td>\n",
       "                        <td id=\"T_4f34733e_7f14_11ea_a82b_acde48001122row5_col3\" class=\"data row5 col3\" >3.000000</td>\n",
       "                        <td id=\"T_4f34733e_7f14_11ea_a82b_acde48001122row5_col4\" class=\"data row5 col4\" >5869.000000</td>\n",
       "                        <td id=\"T_4f34733e_7f14_11ea_a82b_acde48001122row5_col5\" class=\"data row5 col5\" >94.550000</td>\n",
       "            </tr>\n",
       "            <tr>\n",
       "                        <th id=\"T_4f34733e_7f14_11ea_a82b_acde48001122level0_row6\" class=\"row_heading level0 row6\" ><$75,000</th>\n",
       "                        <td id=\"T_4f34733e_7f14_11ea_a82b_acde48001122row6_col0\" class=\"data row6 col0\" >6895.000000</td>\n",
       "                        <td id=\"T_4f34733e_7f14_11ea_a82b_acde48001122row6_col1\" class=\"data row6 col1\" >227.000000</td>\n",
       "                        <td id=\"T_4f34733e_7f14_11ea_a82b_acde48001122row6_col2\" class=\"data row6 col2\" >1.000000</td>\n",
       "                        <td id=\"T_4f34733e_7f14_11ea_a82b_acde48001122row6_col3\" class=\"data row6 col3\" >2.000000</td>\n",
       "                        <td id=\"T_4f34733e_7f14_11ea_a82b_acde48001122row6_col4\" class=\"data row6 col4\" >7122.000000</td>\n",
       "                        <td id=\"T_4f34733e_7f14_11ea_a82b_acde48001122row6_col5\" class=\"data row6 col5\" >96.810000</td>\n",
       "            </tr>\n",
       "            <tr>\n",
       "                        <th id=\"T_4f34733e_7f14_11ea_a82b_acde48001122level0_row7\" class=\"row_heading level0 row7\" >>$75,000</th>\n",
       "                        <td id=\"T_4f34733e_7f14_11ea_a82b_acde48001122row7_col0\" class=\"data row7 col0\" >15548.000000</td>\n",
       "                        <td id=\"T_4f34733e_7f14_11ea_a82b_acde48001122row7_col1\" class=\"data row7 col1\" >258.000000</td>\n",
       "                        <td id=\"T_4f34733e_7f14_11ea_a82b_acde48001122row7_col2\" class=\"data row7 col2\" >6.000000</td>\n",
       "                        <td id=\"T_4f34733e_7f14_11ea_a82b_acde48001122row7_col3\" class=\"data row7 col3\" >3.000000</td>\n",
       "                        <td id=\"T_4f34733e_7f14_11ea_a82b_acde48001122row7_col4\" class=\"data row7 col4\" >15806.000000</td>\n",
       "                        <td id=\"T_4f34733e_7f14_11ea_a82b_acde48001122row7_col5\" class=\"data row7 col5\" >98.370000</td>\n",
       "            </tr>\n",
       "    </tbody></table>"
      ],
      "text/plain": [
       "<pandas.io.formats.style.Styler at 0x12397ed68>"
      ]
     },
     "execution_count": 110,
     "metadata": {},
     "output_type": "execute_result"
    }
   ],
   "source": [
    "print(\"Q: Do you have any health care coverage? (Sampled 2015-2018)\")\n",
    "print(\"Colored based on change from 2014 -> green = increase, pink = decrease, white = no change\")\n",
    "\n",
    "income_x_hcare_1518_df.style.apply(highlight_change, other_df=income_x_hcare_14_df, axis=None)\n",
    "\n",
    "#TODO: Percent with health care coverage seems to have increased, check significance / chi-squared?"
   ]
  },
  {
   "cell_type": "code",
   "execution_count": 111,
   "metadata": {
    "scrolled": false
   },
   "outputs": [
    {
     "name": "stdout",
     "output_type": "stream",
     "text": [
      "Q: General health of the participant (1 = excellent -> 5 = poor) (2014)\n"
     ]
    },
    {
     "data": {
      "text/html": [
       "<div>\n",
       "<style scoped>\n",
       "    .dataframe tbody tr th:only-of-type {\n",
       "        vertical-align: middle;\n",
       "    }\n",
       "\n",
       "    .dataframe tbody tr th {\n",
       "        vertical-align: top;\n",
       "    }\n",
       "\n",
       "    .dataframe thead th {\n",
       "        text-align: right;\n",
       "    }\n",
       "</style>\n",
       "<table border=\"1\" class=\"dataframe\">\n",
       "  <thead>\n",
       "    <tr style=\"text-align: right;\">\n",
       "      <th></th>\n",
       "      <th>Excellent</th>\n",
       "      <th>Very Good</th>\n",
       "      <th>Good</th>\n",
       "      <th>Fair</th>\n",
       "      <th>Poor</th>\n",
       "      <th>Not Sure</th>\n",
       "      <th>Refused</th>\n",
       "      <th>Total Respondents</th>\n",
       "      <th>% Excellent</th>\n",
       "      <th>% Very Good</th>\n",
       "      <th>% Good</th>\n",
       "      <th>% Fair</th>\n",
       "      <th>% Poor</th>\n",
       "      <th>%Positive (1-3)</th>\n",
       "      <th>%Neutral</th>\n",
       "      <th>%Negative (5)</th>\n",
       "    </tr>\n",
       "  </thead>\n",
       "  <tbody>\n",
       "    <tr>\n",
       "      <th>&lt;$10,000</th>\n",
       "      <td>177.0</td>\n",
       "      <td>314.0</td>\n",
       "      <td>533.0</td>\n",
       "      <td>446.0</td>\n",
       "      <td>287.0</td>\n",
       "      <td>7.0</td>\n",
       "      <td>4.0</td>\n",
       "      <td>1757.0</td>\n",
       "      <td>10.07</td>\n",
       "      <td>17.87</td>\n",
       "      <td>30.34</td>\n",
       "      <td>25.38</td>\n",
       "      <td>16.33</td>\n",
       "      <td>58.28</td>\n",
       "      <td>25.38</td>\n",
       "      <td>16.33</td>\n",
       "    </tr>\n",
       "    <tr>\n",
       "      <th>&lt;$15,000</th>\n",
       "      <td>190.0</td>\n",
       "      <td>437.0</td>\n",
       "      <td>744.0</td>\n",
       "      <td>672.0</td>\n",
       "      <td>353.0</td>\n",
       "      <td>6.0</td>\n",
       "      <td>3.0</td>\n",
       "      <td>2396.0</td>\n",
       "      <td>7.93</td>\n",
       "      <td>18.24</td>\n",
       "      <td>31.05</td>\n",
       "      <td>28.05</td>\n",
       "      <td>14.73</td>\n",
       "      <td>57.22</td>\n",
       "      <td>28.05</td>\n",
       "      <td>14.73</td>\n",
       "    </tr>\n",
       "    <tr>\n",
       "      <th>&lt;$20,000</th>\n",
       "      <td>299.0</td>\n",
       "      <td>685.0</td>\n",
       "      <td>1049.0</td>\n",
       "      <td>685.0</td>\n",
       "      <td>340.0</td>\n",
       "      <td>6.0</td>\n",
       "      <td>4.0</td>\n",
       "      <td>3058.0</td>\n",
       "      <td>9.78</td>\n",
       "      <td>22.40</td>\n",
       "      <td>34.30</td>\n",
       "      <td>22.40</td>\n",
       "      <td>11.12</td>\n",
       "      <td>66.48</td>\n",
       "      <td>22.40</td>\n",
       "      <td>11.12</td>\n",
       "    </tr>\n",
       "    <tr>\n",
       "      <th>&lt;$25,000</th>\n",
       "      <td>455.0</td>\n",
       "      <td>1093.0</td>\n",
       "      <td>1339.0</td>\n",
       "      <td>702.0</td>\n",
       "      <td>298.0</td>\n",
       "      <td>7.0</td>\n",
       "      <td>8.0</td>\n",
       "      <td>3887.0</td>\n",
       "      <td>11.71</td>\n",
       "      <td>28.12</td>\n",
       "      <td>34.45</td>\n",
       "      <td>18.06</td>\n",
       "      <td>7.67</td>\n",
       "      <td>74.28</td>\n",
       "      <td>18.06</td>\n",
       "      <td>7.67</td>\n",
       "    </tr>\n",
       "    <tr>\n",
       "      <th>&lt;$35,000</th>\n",
       "      <td>678.0</td>\n",
       "      <td>1512.0</td>\n",
       "      <td>1504.0</td>\n",
       "      <td>606.0</td>\n",
       "      <td>185.0</td>\n",
       "      <td>6.0</td>\n",
       "      <td>4.0</td>\n",
       "      <td>4485.0</td>\n",
       "      <td>15.12</td>\n",
       "      <td>33.71</td>\n",
       "      <td>33.53</td>\n",
       "      <td>13.51</td>\n",
       "      <td>4.12</td>\n",
       "      <td>82.36</td>\n",
       "      <td>13.51</td>\n",
       "      <td>4.12</td>\n",
       "    </tr>\n",
       "    <tr>\n",
       "      <th>&lt;$50,000</th>\n",
       "      <td>1084.0</td>\n",
       "      <td>2260.0</td>\n",
       "      <td>1915.0</td>\n",
       "      <td>610.0</td>\n",
       "      <td>158.0</td>\n",
       "      <td>5.0</td>\n",
       "      <td>5.0</td>\n",
       "      <td>6027.0</td>\n",
       "      <td>17.99</td>\n",
       "      <td>37.50</td>\n",
       "      <td>31.77</td>\n",
       "      <td>10.12</td>\n",
       "      <td>2.62</td>\n",
       "      <td>87.26</td>\n",
       "      <td>10.12</td>\n",
       "      <td>2.62</td>\n",
       "    </tr>\n",
       "    <tr>\n",
       "      <th>&lt;$75,000</th>\n",
       "      <td>1470.0</td>\n",
       "      <td>3036.0</td>\n",
       "      <td>1942.0</td>\n",
       "      <td>508.0</td>\n",
       "      <td>122.0</td>\n",
       "      <td>4.0</td>\n",
       "      <td>7.0</td>\n",
       "      <td>7078.0</td>\n",
       "      <td>20.77</td>\n",
       "      <td>42.89</td>\n",
       "      <td>27.44</td>\n",
       "      <td>7.18</td>\n",
       "      <td>1.72</td>\n",
       "      <td>91.10</td>\n",
       "      <td>7.18</td>\n",
       "      <td>1.72</td>\n",
       "    </tr>\n",
       "    <tr>\n",
       "      <th>&gt;$75,000</th>\n",
       "      <td>4749.0</td>\n",
       "      <td>6530.0</td>\n",
       "      <td>3057.0</td>\n",
       "      <td>541.0</td>\n",
       "      <td>125.0</td>\n",
       "      <td>9.0</td>\n",
       "      <td>9.0</td>\n",
       "      <td>15002.0</td>\n",
       "      <td>31.66</td>\n",
       "      <td>43.53</td>\n",
       "      <td>20.38</td>\n",
       "      <td>3.61</td>\n",
       "      <td>0.83</td>\n",
       "      <td>95.57</td>\n",
       "      <td>3.61</td>\n",
       "      <td>0.83</td>\n",
       "    </tr>\n",
       "  </tbody>\n",
       "</table>\n",
       "</div>"
      ],
      "text/plain": [
       "          Excellent  Very Good    Good   Fair   Poor  Not Sure  Refused  \\\n",
       "<$10,000      177.0      314.0   533.0  446.0  287.0       7.0      4.0   \n",
       "<$15,000      190.0      437.0   744.0  672.0  353.0       6.0      3.0   \n",
       "<$20,000      299.0      685.0  1049.0  685.0  340.0       6.0      4.0   \n",
       "<$25,000      455.0     1093.0  1339.0  702.0  298.0       7.0      8.0   \n",
       "<$35,000      678.0     1512.0  1504.0  606.0  185.0       6.0      4.0   \n",
       "<$50,000     1084.0     2260.0  1915.0  610.0  158.0       5.0      5.0   \n",
       "<$75,000     1470.0     3036.0  1942.0  508.0  122.0       4.0      7.0   \n",
       ">$75,000     4749.0     6530.0  3057.0  541.0  125.0       9.0      9.0   \n",
       "\n",
       "          Total Respondents  % Excellent  % Very Good  % Good  % Fair  % Poor  \\\n",
       "<$10,000             1757.0        10.07        17.87   30.34   25.38   16.33   \n",
       "<$15,000             2396.0         7.93        18.24   31.05   28.05   14.73   \n",
       "<$20,000             3058.0         9.78        22.40   34.30   22.40   11.12   \n",
       "<$25,000             3887.0        11.71        28.12   34.45   18.06    7.67   \n",
       "<$35,000             4485.0        15.12        33.71   33.53   13.51    4.12   \n",
       "<$50,000             6027.0        17.99        37.50   31.77   10.12    2.62   \n",
       "<$75,000             7078.0        20.77        42.89   27.44    7.18    1.72   \n",
       ">$75,000            15002.0        31.66        43.53   20.38    3.61    0.83   \n",
       "\n",
       "          %Positive (1-3)  %Neutral  %Negative (5)  \n",
       "<$10,000            58.28     25.38          16.33  \n",
       "<$15,000            57.22     28.05          14.73  \n",
       "<$20,000            66.48     22.40          11.12  \n",
       "<$25,000            74.28     18.06           7.67  \n",
       "<$35,000            82.36     13.51           4.12  \n",
       "<$50,000            87.26     10.12           2.62  \n",
       "<$75,000            91.10      7.18           1.72  \n",
       ">$75,000            95.57      3.61           0.83  "
      ]
     },
     "execution_count": 111,
     "metadata": {},
     "output_type": "execute_result"
    }
   ],
   "source": [
    "# generate table for income1 x genhlth for 2014, and for 2015-18\n",
    "\n",
    "num_samples = 20\n",
    "\n",
    "summed_cross_14 = np.zeros(shape=(8, 16))\n",
    "summed_cross_1518 = np.zeros(shape=(8, 16))\n",
    "\n",
    "for sample_i in range(num_samples): # to average across multiple samples of 2015-2018 data\n",
    "    sample_df1518 = df_1518.sample(n = 51858)\n",
    "\n",
    "    income_x_health_14 = np.zeros(shape=(8, 16)) #income by genhlth\n",
    "    income_x_health_1518 = np.zeros(shape=(8, 16)) #income by genhlth\n",
    "\n",
    "    genhlth_options = [1,2,3,4,5,7,9]\n",
    "\n",
    "    for i in range(1,9): # for each income group (<$10,000, <$15,000, <$20,000, <$25,000, <$35,000, <$50,000, <$75,000, >$75,000)\n",
    "        for j in range(7): # for each genhlth option (1=excellent through 5=poor, with 7=not sure and 9=refused)\n",
    "            genhlth_i = genhlth_options[j]\n",
    "            income_x_health_14[i-1, j] = len(df_14.query('income2 == @i & genhlth == @genhlth_i')) \n",
    "            income_x_health_1518[i-1, j] = len(sample_df1518.query('income2 == @i & genhlth == @genhlth_i'))\n",
    "        \n",
    "        # calculate total respondents\n",
    "        for opt in range(5):\n",
    "            income_x_health_14[i-1, 7] += income_x_health_14[i-1, opt]\n",
    "            income_x_health_1518[i-1, 7] += income_x_health_1518[i-1, opt]\n",
    "    \n",
    "        # calculate % that said #\n",
    "        for opt in range(5):\n",
    "            income_x_health_14[i-1, 8+opt] = (income_x_health_14[i-1, opt] / income_x_health_14[i-1, 7]).round(4) * 100\n",
    "            income_x_health_1518[i-1, 8+opt] = (income_x_health_1518[i-1, opt] / income_x_health_1518[i-1, 7]).round(4) * 100\n",
    "\n",
    "        income_x_health_14[i-1, 13] = income_x_health_14[i-1, 8] + income_x_health_14[i-1, 9] + income_x_health_14[i-1, 10]\n",
    "        income_x_health_1518[i-1, 13] = income_x_health_1518[i-1, 8] + income_x_health_1518[i-1, 9] + income_x_health_1518[i-1, 10]\n",
    "    \n",
    "        income_x_health_14[i-1, 14] = income_x_health_14[i-1, 11] \n",
    "        income_x_health_1518[i-1, 14] = income_x_health_1518[i-1, 11]\n",
    "    \n",
    "        income_x_health_14[i-1, 15] = income_x_health_14[i-1, 12] \n",
    "        income_x_health_1518[i-1, 15] = income_x_health_1518[i-1, 12]\n",
    "        \n",
    "    summed_cross_14 += income_x_health_14\n",
    "    summed_cross_1518 += income_x_health_1518\n",
    "    \n",
    "averaged_cross_14 = summed_cross_14 / num_samples\n",
    "averaged_cross_1518 = summed_cross_1518 / num_samples\n",
    "    \n",
    "income_x_health_14_df = pd.DataFrame(averaged_cross_14, \n",
    "                 index = [\"<$10,000\", \"<$15,000\", \"<$20,000\", \"<$25,000\", \"<$35,000\", \"<$50,000\", \"<$75,000\", \">$75,000\"], \n",
    "                 columns=[\"Excellent\", \"Very Good\", \"Good\", \"Fair\", \"Poor\", \"Not Sure\", \"Refused\", \"Total Respondents\", \"% Excellent\", \"% Very Good\", \"% Good\", \"% Fair\", \"% Poor\", \"%Positive (1-3)\", \"%Neutral\", \"%Negative (5)\"])\n",
    "\n",
    "income_x_health_1518_df = pd.DataFrame(averaged_cross_1518, \n",
    "                 index = [\"<$10,000\", \"<$15,000\", \"<$20,000\", \"<$25,000\", \"<$35,000\", \"<$50,000\", \"<$75,000\", \">$75,000\"], \n",
    "                 columns=[\"Excellent\", \"Very Good\", \"Good\", \"Fair\", \"Poor\", \"Not Sure\", \"Refused\", \"Total Respondents\", \"% Excellent\", \"% Very Good\", \"% Good\", \"% Fair\", \"% Poor\", \"%Positive (1-3)\", \"%Neutral\", \"%Negative (5)\"])\n",
    "\n",
    "print(\"Q: General health of the participant (1 = excellent -> 5 = poor) (2014)\")\n",
    "income_x_health_14_df"
   ]
  },
  {
   "cell_type": "code",
   "execution_count": 112,
   "metadata": {},
   "outputs": [
    {
     "name": "stdout",
     "output_type": "stream",
     "text": [
      "Q: General health of the participant (1 = excellent -> 5 = poor) (Sampled 2015-2018)\n",
      "Colored based on change from 2014 -> green = increase, pink = decrease, white = no change\n"
     ]
    },
    {
     "data": {
      "text/html": [
       "<style  type=\"text/css\" >\n",
       "    #T_54220708_7f14_11ea_a82b_acde48001122row0_col0 {\n",
       "            background-color:  pink;\n",
       "        }    #T_54220708_7f14_11ea_a82b_acde48001122row0_col1 {\n",
       "            background-color:  pink;\n",
       "        }    #T_54220708_7f14_11ea_a82b_acde48001122row0_col2 {\n",
       "            background-color:  pink;\n",
       "        }    #T_54220708_7f14_11ea_a82b_acde48001122row0_col3 {\n",
       "            background-color:  pink;\n",
       "        }    #T_54220708_7f14_11ea_a82b_acde48001122row0_col4 {\n",
       "            background-color:  pink;\n",
       "        }    #T_54220708_7f14_11ea_a82b_acde48001122row0_col5 {\n",
       "            background-color:  pink;\n",
       "        }    #T_54220708_7f14_11ea_a82b_acde48001122row0_col6 {\n",
       "            background-color:  pink;\n",
       "        }    #T_54220708_7f14_11ea_a82b_acde48001122row0_col7 {\n",
       "            background-color:  pink;\n",
       "        }    #T_54220708_7f14_11ea_a82b_acde48001122row0_col8 {\n",
       "            background-color:  pink;\n",
       "        }    #T_54220708_7f14_11ea_a82b_acde48001122row0_col9 {\n",
       "            background-color:  pink;\n",
       "        }    #T_54220708_7f14_11ea_a82b_acde48001122row0_col10 {\n",
       "            background-color:  lightgreen;\n",
       "        }    #T_54220708_7f14_11ea_a82b_acde48001122row0_col11 {\n",
       "            background-color:  lightgreen;\n",
       "        }    #T_54220708_7f14_11ea_a82b_acde48001122row0_col12 {\n",
       "            background-color:  lightgreen;\n",
       "        }    #T_54220708_7f14_11ea_a82b_acde48001122row0_col13 {\n",
       "            background-color:  pink;\n",
       "        }    #T_54220708_7f14_11ea_a82b_acde48001122row0_col14 {\n",
       "            background-color:  lightgreen;\n",
       "        }    #T_54220708_7f14_11ea_a82b_acde48001122row0_col15 {\n",
       "            background-color:  lightgreen;\n",
       "        }    #T_54220708_7f14_11ea_a82b_acde48001122row1_col0 {\n",
       "            background-color:  pink;\n",
       "        }    #T_54220708_7f14_11ea_a82b_acde48001122row1_col1 {\n",
       "            background-color:  pink;\n",
       "        }    #T_54220708_7f14_11ea_a82b_acde48001122row1_col2 {\n",
       "            background-color:  pink;\n",
       "        }    #T_54220708_7f14_11ea_a82b_acde48001122row1_col3 {\n",
       "            background-color:  pink;\n",
       "        }    #T_54220708_7f14_11ea_a82b_acde48001122row1_col4 {\n",
       "            background-color:  pink;\n",
       "        }    #T_54220708_7f14_11ea_a82b_acde48001122row1_col5 {\n",
       "            background-color:  pink;\n",
       "        }    #T_54220708_7f14_11ea_a82b_acde48001122row1_col6 {\n",
       "            background-color:  lightgreen;\n",
       "        }    #T_54220708_7f14_11ea_a82b_acde48001122row1_col7 {\n",
       "            background-color:  pink;\n",
       "        }    #T_54220708_7f14_11ea_a82b_acde48001122row1_col8 {\n",
       "            background-color:  pink;\n",
       "        }    #T_54220708_7f14_11ea_a82b_acde48001122row1_col9 {\n",
       "            background-color:  pink;\n",
       "        }    #T_54220708_7f14_11ea_a82b_acde48001122row1_col10 {\n",
       "            background-color:  lightgreen;\n",
       "        }    #T_54220708_7f14_11ea_a82b_acde48001122row1_col11 {\n",
       "            background-color:  pink;\n",
       "        }    #T_54220708_7f14_11ea_a82b_acde48001122row1_col12 {\n",
       "            background-color:  lightgreen;\n",
       "        }    #T_54220708_7f14_11ea_a82b_acde48001122row1_col13 {\n",
       "            background-color:  lightgreen;\n",
       "        }    #T_54220708_7f14_11ea_a82b_acde48001122row1_col14 {\n",
       "            background-color:  pink;\n",
       "        }    #T_54220708_7f14_11ea_a82b_acde48001122row1_col15 {\n",
       "            background-color:  lightgreen;\n",
       "        }    #T_54220708_7f14_11ea_a82b_acde48001122row2_col0 {\n",
       "            background-color:  pink;\n",
       "        }    #T_54220708_7f14_11ea_a82b_acde48001122row2_col1 {\n",
       "            background-color:  pink;\n",
       "        }    #T_54220708_7f14_11ea_a82b_acde48001122row2_col2 {\n",
       "            background-color:  pink;\n",
       "        }    #T_54220708_7f14_11ea_a82b_acde48001122row2_col3 {\n",
       "            background-color:  pink;\n",
       "        }    #T_54220708_7f14_11ea_a82b_acde48001122row2_col4 {\n",
       "            background-color:  pink;\n",
       "        }    #T_54220708_7f14_11ea_a82b_acde48001122row2_col5 {\n",
       "            background-color:  pink;\n",
       "        }    #T_54220708_7f14_11ea_a82b_acde48001122row2_col6 {\n",
       "            background-color:  pink;\n",
       "        }    #T_54220708_7f14_11ea_a82b_acde48001122row2_col7 {\n",
       "            background-color:  pink;\n",
       "        }    #T_54220708_7f14_11ea_a82b_acde48001122row2_col8 {\n",
       "            background-color:  lightgreen;\n",
       "        }    #T_54220708_7f14_11ea_a82b_acde48001122row2_col9 {\n",
       "            background-color:  lightgreen;\n",
       "        }    #T_54220708_7f14_11ea_a82b_acde48001122row2_col10 {\n",
       "            background-color:  pink;\n",
       "        }    #T_54220708_7f14_11ea_a82b_acde48001122row2_col11 {\n",
       "            background-color:  lightgreen;\n",
       "        }    #T_54220708_7f14_11ea_a82b_acde48001122row2_col12 {\n",
       "            background-color:  pink;\n",
       "        }    #T_54220708_7f14_11ea_a82b_acde48001122row2_col13 {\n",
       "            background-color:  pink;\n",
       "        }    #T_54220708_7f14_11ea_a82b_acde48001122row2_col14 {\n",
       "            background-color:  lightgreen;\n",
       "        }    #T_54220708_7f14_11ea_a82b_acde48001122row2_col15 {\n",
       "            background-color:  pink;\n",
       "        }    #T_54220708_7f14_11ea_a82b_acde48001122row3_col0 {\n",
       "            background-color:  pink;\n",
       "        }    #T_54220708_7f14_11ea_a82b_acde48001122row3_col1 {\n",
       "            background-color:  pink;\n",
       "        }    #T_54220708_7f14_11ea_a82b_acde48001122row3_col2 {\n",
       "            background-color:  pink;\n",
       "        }    #T_54220708_7f14_11ea_a82b_acde48001122row3_col3 {\n",
       "            background-color:  pink;\n",
       "        }    #T_54220708_7f14_11ea_a82b_acde48001122row3_col4 {\n",
       "            background-color:  pink;\n",
       "        }    #T_54220708_7f14_11ea_a82b_acde48001122row3_col5 {\n",
       "            background-color:  pink;\n",
       "        }    #T_54220708_7f14_11ea_a82b_acde48001122row3_col6 {\n",
       "            background-color:  pink;\n",
       "        }    #T_54220708_7f14_11ea_a82b_acde48001122row3_col7 {\n",
       "            background-color:  pink;\n",
       "        }    #T_54220708_7f14_11ea_a82b_acde48001122row3_col8 {\n",
       "            background-color:  pink;\n",
       "        }    #T_54220708_7f14_11ea_a82b_acde48001122row3_col9 {\n",
       "            background-color:  pink;\n",
       "        }    #T_54220708_7f14_11ea_a82b_acde48001122row3_col10 {\n",
       "            background-color:  lightgreen;\n",
       "        }    #T_54220708_7f14_11ea_a82b_acde48001122row3_col11 {\n",
       "            background-color:  lightgreen;\n",
       "        }    #T_54220708_7f14_11ea_a82b_acde48001122row3_col12 {\n",
       "            background-color:  pink;\n",
       "        }    #T_54220708_7f14_11ea_a82b_acde48001122row3_col13 {\n",
       "            background-color:  lightgreen;\n",
       "        }    #T_54220708_7f14_11ea_a82b_acde48001122row3_col14 {\n",
       "            background-color:  lightgreen;\n",
       "        }    #T_54220708_7f14_11ea_a82b_acde48001122row3_col15 {\n",
       "            background-color:  pink;\n",
       "        }    #T_54220708_7f14_11ea_a82b_acde48001122row4_col0 {\n",
       "            background-color:  pink;\n",
       "        }    #T_54220708_7f14_11ea_a82b_acde48001122row4_col1 {\n",
       "            background-color:  pink;\n",
       "        }    #T_54220708_7f14_11ea_a82b_acde48001122row4_col2 {\n",
       "            background-color:  pink;\n",
       "        }    #T_54220708_7f14_11ea_a82b_acde48001122row4_col3 {\n",
       "            background-color:  pink;\n",
       "        }    #T_54220708_7f14_11ea_a82b_acde48001122row4_col4 {\n",
       "            background-color:  lightgreen;\n",
       "        }    #T_54220708_7f14_11ea_a82b_acde48001122row4_col5 {\n",
       "            background-color:  pink;\n",
       "        }    #T_54220708_7f14_11ea_a82b_acde48001122row4_col6 {\n",
       "            background-color:  pink;\n",
       "        }    #T_54220708_7f14_11ea_a82b_acde48001122row4_col7 {\n",
       "            background-color:  pink;\n",
       "        }    #T_54220708_7f14_11ea_a82b_acde48001122row4_col8 {\n",
       "            background-color:  pink;\n",
       "        }    #T_54220708_7f14_11ea_a82b_acde48001122row4_col9 {\n",
       "            background-color:  pink;\n",
       "        }    #T_54220708_7f14_11ea_a82b_acde48001122row4_col10 {\n",
       "            background-color:  lightgreen;\n",
       "        }    #T_54220708_7f14_11ea_a82b_acde48001122row4_col11 {\n",
       "            background-color:  lightgreen;\n",
       "        }    #T_54220708_7f14_11ea_a82b_acde48001122row4_col12 {\n",
       "            background-color:  lightgreen;\n",
       "        }    #T_54220708_7f14_11ea_a82b_acde48001122row4_col13 {\n",
       "            background-color:  pink;\n",
       "        }    #T_54220708_7f14_11ea_a82b_acde48001122row4_col14 {\n",
       "            background-color:  lightgreen;\n",
       "        }    #T_54220708_7f14_11ea_a82b_acde48001122row4_col15 {\n",
       "            background-color:  lightgreen;\n",
       "        }    #T_54220708_7f14_11ea_a82b_acde48001122row5_col0 {\n",
       "            background-color:  pink;\n",
       "        }    #T_54220708_7f14_11ea_a82b_acde48001122row5_col1 {\n",
       "            background-color:  pink;\n",
       "        }    #T_54220708_7f14_11ea_a82b_acde48001122row5_col2 {\n",
       "            background-color:  lightgreen;\n",
       "        }    #T_54220708_7f14_11ea_a82b_acde48001122row5_col3 {\n",
       "            background-color:  pink;\n",
       "        }    #T_54220708_7f14_11ea_a82b_acde48001122row5_col4 {\n",
       "            background-color:  lightgreen;\n",
       "        }    #T_54220708_7f14_11ea_a82b_acde48001122row5_col5 {\n",
       "            background-color:  pink;\n",
       "        }    #T_54220708_7f14_11ea_a82b_acde48001122row5_col6 {\n",
       "            background-color:  pink;\n",
       "        }    #T_54220708_7f14_11ea_a82b_acde48001122row5_col7 {\n",
       "            background-color:  pink;\n",
       "        }    #T_54220708_7f14_11ea_a82b_acde48001122row5_col8 {\n",
       "            background-color:  pink;\n",
       "        }    #T_54220708_7f14_11ea_a82b_acde48001122row5_col9 {\n",
       "            background-color:  pink;\n",
       "        }    #T_54220708_7f14_11ea_a82b_acde48001122row5_col10 {\n",
       "            background-color:  lightgreen;\n",
       "        }    #T_54220708_7f14_11ea_a82b_acde48001122row5_col11 {\n",
       "            background-color:  lightgreen;\n",
       "        }    #T_54220708_7f14_11ea_a82b_acde48001122row5_col12 {\n",
       "            background-color:  lightgreen;\n",
       "        }    #T_54220708_7f14_11ea_a82b_acde48001122row5_col13 {\n",
       "            background-color:  pink;\n",
       "        }    #T_54220708_7f14_11ea_a82b_acde48001122row5_col14 {\n",
       "            background-color:  lightgreen;\n",
       "        }    #T_54220708_7f14_11ea_a82b_acde48001122row5_col15 {\n",
       "            background-color:  lightgreen;\n",
       "        }    #T_54220708_7f14_11ea_a82b_acde48001122row6_col0 {\n",
       "            background-color:  pink;\n",
       "        }    #T_54220708_7f14_11ea_a82b_acde48001122row6_col1 {\n",
       "            background-color:  pink;\n",
       "        }    #T_54220708_7f14_11ea_a82b_acde48001122row6_col2 {\n",
       "            background-color:  lightgreen;\n",
       "        }    #T_54220708_7f14_11ea_a82b_acde48001122row6_col3 {\n",
       "            background-color:  lightgreen;\n",
       "        }    #T_54220708_7f14_11ea_a82b_acde48001122row6_col4 {\n",
       "            background-color:  lightgreen;\n",
       "        }    #T_54220708_7f14_11ea_a82b_acde48001122row6_col5 {\n",
       "            background-color:  pink;\n",
       "        }    #T_54220708_7f14_11ea_a82b_acde48001122row6_col6 {\n",
       "            background-color:  pink;\n",
       "        }    #T_54220708_7f14_11ea_a82b_acde48001122row6_col7 {\n",
       "            background-color:  pink;\n",
       "        }    #T_54220708_7f14_11ea_a82b_acde48001122row6_col8 {\n",
       "            background-color:  pink;\n",
       "        }    #T_54220708_7f14_11ea_a82b_acde48001122row6_col9 {\n",
       "            background-color:  pink;\n",
       "        }    #T_54220708_7f14_11ea_a82b_acde48001122row6_col10 {\n",
       "            background-color:  lightgreen;\n",
       "        }    #T_54220708_7f14_11ea_a82b_acde48001122row6_col11 {\n",
       "            background-color:  lightgreen;\n",
       "        }    #T_54220708_7f14_11ea_a82b_acde48001122row6_col12 {\n",
       "            background-color:  lightgreen;\n",
       "        }    #T_54220708_7f14_11ea_a82b_acde48001122row6_col13 {\n",
       "            background-color:  pink;\n",
       "        }    #T_54220708_7f14_11ea_a82b_acde48001122row6_col14 {\n",
       "            background-color:  lightgreen;\n",
       "        }    #T_54220708_7f14_11ea_a82b_acde48001122row6_col15 {\n",
       "            background-color:  lightgreen;\n",
       "        }    #T_54220708_7f14_11ea_a82b_acde48001122row7_col0 {\n",
       "            background-color:  lightgreen;\n",
       "        }    #T_54220708_7f14_11ea_a82b_acde48001122row7_col1 {\n",
       "            background-color:  lightgreen;\n",
       "        }    #T_54220708_7f14_11ea_a82b_acde48001122row7_col2 {\n",
       "            background-color:  lightgreen;\n",
       "        }    #T_54220708_7f14_11ea_a82b_acde48001122row7_col3 {\n",
       "            background-color:  lightgreen;\n",
       "        }    #T_54220708_7f14_11ea_a82b_acde48001122row7_col4 {\n",
       "            background-color:  lightgreen;\n",
       "        }    #T_54220708_7f14_11ea_a82b_acde48001122row7_col5 {\n",
       "            background-color:  pink;\n",
       "        }    #T_54220708_7f14_11ea_a82b_acde48001122row7_col6 {\n",
       "            background-color:  pink;\n",
       "        }    #T_54220708_7f14_11ea_a82b_acde48001122row7_col7 {\n",
       "            background-color:  lightgreen;\n",
       "        }    #T_54220708_7f14_11ea_a82b_acde48001122row7_col8 {\n",
       "            background-color:  pink;\n",
       "        }    #T_54220708_7f14_11ea_a82b_acde48001122row7_col9 {\n",
       "            background-color:  lightgreen;\n",
       "        }    #T_54220708_7f14_11ea_a82b_acde48001122row7_col10 {\n",
       "            background-color:  lightgreen;\n",
       "        }    #T_54220708_7f14_11ea_a82b_acde48001122row7_col11 {\n",
       "            background-color:  lightgreen;\n",
       "        }    #T_54220708_7f14_11ea_a82b_acde48001122row7_col12 {\n",
       "            background-color:  lightgreen;\n",
       "        }    #T_54220708_7f14_11ea_a82b_acde48001122row7_col13 {\n",
       "            background-color:  pink;\n",
       "        }    #T_54220708_7f14_11ea_a82b_acde48001122row7_col14 {\n",
       "            background-color:  lightgreen;\n",
       "        }    #T_54220708_7f14_11ea_a82b_acde48001122row7_col15 {\n",
       "            background-color:  lightgreen;\n",
       "        }</style><table id=\"T_54220708_7f14_11ea_a82b_acde48001122\" ><thead>    <tr>        <th class=\"blank level0\" ></th>        <th class=\"col_heading level0 col0\" >Excellent</th>        <th class=\"col_heading level0 col1\" >Very Good</th>        <th class=\"col_heading level0 col2\" >Good</th>        <th class=\"col_heading level0 col3\" >Fair</th>        <th class=\"col_heading level0 col4\" >Poor</th>        <th class=\"col_heading level0 col5\" >Not Sure</th>        <th class=\"col_heading level0 col6\" >Refused</th>        <th class=\"col_heading level0 col7\" >Total Respondents</th>        <th class=\"col_heading level0 col8\" >% Excellent</th>        <th class=\"col_heading level0 col9\" >% Very Good</th>        <th class=\"col_heading level0 col10\" >% Good</th>        <th class=\"col_heading level0 col11\" >% Fair</th>        <th class=\"col_heading level0 col12\" >% Poor</th>        <th class=\"col_heading level0 col13\" >%Positive (1-3)</th>        <th class=\"col_heading level0 col14\" >%Neutral</th>        <th class=\"col_heading level0 col15\" >%Negative (5)</th>    </tr></thead><tbody>\n",
       "                <tr>\n",
       "                        <th id=\"T_54220708_7f14_11ea_a82b_acde48001122level0_row0\" class=\"row_heading level0 row0\" ><$10,000</th>\n",
       "                        <td id=\"T_54220708_7f14_11ea_a82b_acde48001122row0_col0\" class=\"data row0 col0\" >147.400000</td>\n",
       "                        <td id=\"T_54220708_7f14_11ea_a82b_acde48001122row0_col1\" class=\"data row0 col1\" >274.150000</td>\n",
       "                        <td id=\"T_54220708_7f14_11ea_a82b_acde48001122row0_col2\" class=\"data row0 col2\" >493.300000</td>\n",
       "                        <td id=\"T_54220708_7f14_11ea_a82b_acde48001122row0_col3\" class=\"data row0 col3\" >430.500000</td>\n",
       "                        <td id=\"T_54220708_7f14_11ea_a82b_acde48001122row0_col4\" class=\"data row0 col4\" >265.750000</td>\n",
       "                        <td id=\"T_54220708_7f14_11ea_a82b_acde48001122row0_col5\" class=\"data row0 col5\" >6.600000</td>\n",
       "                        <td id=\"T_54220708_7f14_11ea_a82b_acde48001122row0_col6\" class=\"data row0 col6\" >0.850000</td>\n",
       "                        <td id=\"T_54220708_7f14_11ea_a82b_acde48001122row0_col7\" class=\"data row0 col7\" >1611.100000</td>\n",
       "                        <td id=\"T_54220708_7f14_11ea_a82b_acde48001122row0_col8\" class=\"data row0 col8\" >9.149500</td>\n",
       "                        <td id=\"T_54220708_7f14_11ea_a82b_acde48001122row0_col9\" class=\"data row0 col9\" >17.016000</td>\n",
       "                        <td id=\"T_54220708_7f14_11ea_a82b_acde48001122row0_col10\" class=\"data row0 col10\" >30.611500</td>\n",
       "                        <td id=\"T_54220708_7f14_11ea_a82b_acde48001122row0_col11\" class=\"data row0 col11\" >26.727000</td>\n",
       "                        <td id=\"T_54220708_7f14_11ea_a82b_acde48001122row0_col12\" class=\"data row0 col12\" >16.495000</td>\n",
       "                        <td id=\"T_54220708_7f14_11ea_a82b_acde48001122row0_col13\" class=\"data row0 col13\" >56.777000</td>\n",
       "                        <td id=\"T_54220708_7f14_11ea_a82b_acde48001122row0_col14\" class=\"data row0 col14\" >26.727000</td>\n",
       "                        <td id=\"T_54220708_7f14_11ea_a82b_acde48001122row0_col15\" class=\"data row0 col15\" >16.495000</td>\n",
       "            </tr>\n",
       "            <tr>\n",
       "                        <th id=\"T_54220708_7f14_11ea_a82b_acde48001122level0_row1\" class=\"row_heading level0 row1\" ><$15,000</th>\n",
       "                        <td id=\"T_54220708_7f14_11ea_a82b_acde48001122row1_col0\" class=\"data row1 col0\" >160.800000</td>\n",
       "                        <td id=\"T_54220708_7f14_11ea_a82b_acde48001122row1_col1\" class=\"data row1 col1\" >377.500000</td>\n",
       "                        <td id=\"T_54220708_7f14_11ea_a82b_acde48001122row1_col2\" class=\"data row1 col2\" >720.250000</td>\n",
       "                        <td id=\"T_54220708_7f14_11ea_a82b_acde48001122row1_col3\" class=\"data row1 col3\" >540.800000</td>\n",
       "                        <td id=\"T_54220708_7f14_11ea_a82b_acde48001122row1_col4\" class=\"data row1 col4\" >310.950000</td>\n",
       "                        <td id=\"T_54220708_7f14_11ea_a82b_acde48001122row1_col5\" class=\"data row1 col5\" >2.500000</td>\n",
       "                        <td id=\"T_54220708_7f14_11ea_a82b_acde48001122row1_col6\" class=\"data row1 col6\" >4.250000</td>\n",
       "                        <td id=\"T_54220708_7f14_11ea_a82b_acde48001122row1_col7\" class=\"data row1 col7\" >2110.300000</td>\n",
       "                        <td id=\"T_54220708_7f14_11ea_a82b_acde48001122row1_col8\" class=\"data row1 col8\" >7.619000</td>\n",
       "                        <td id=\"T_54220708_7f14_11ea_a82b_acde48001122row1_col9\" class=\"data row1 col9\" >17.886000</td>\n",
       "                        <td id=\"T_54220708_7f14_11ea_a82b_acde48001122row1_col10\" class=\"data row1 col10\" >34.132000</td>\n",
       "                        <td id=\"T_54220708_7f14_11ea_a82b_acde48001122row1_col11\" class=\"data row1 col11\" >25.625000</td>\n",
       "                        <td id=\"T_54220708_7f14_11ea_a82b_acde48001122row1_col12\" class=\"data row1 col12\" >14.737500</td>\n",
       "                        <td id=\"T_54220708_7f14_11ea_a82b_acde48001122row1_col13\" class=\"data row1 col13\" >59.637000</td>\n",
       "                        <td id=\"T_54220708_7f14_11ea_a82b_acde48001122row1_col14\" class=\"data row1 col14\" >25.625000</td>\n",
       "                        <td id=\"T_54220708_7f14_11ea_a82b_acde48001122row1_col15\" class=\"data row1 col15\" >14.737500</td>\n",
       "            </tr>\n",
       "            <tr>\n",
       "                        <th id=\"T_54220708_7f14_11ea_a82b_acde48001122level0_row2\" class=\"row_heading level0 row2\" ><$20,000</th>\n",
       "                        <td id=\"T_54220708_7f14_11ea_a82b_acde48001122row2_col0\" class=\"data row2 col0\" >281.850000</td>\n",
       "                        <td id=\"T_54220708_7f14_11ea_a82b_acde48001122row2_col1\" class=\"data row2 col1\" >626.900000</td>\n",
       "                        <td id=\"T_54220708_7f14_11ea_a82b_acde48001122row2_col2\" class=\"data row2 col2\" >910.400000</td>\n",
       "                        <td id=\"T_54220708_7f14_11ea_a82b_acde48001122row2_col3\" class=\"data row2 col3\" >639.800000</td>\n",
       "                        <td id=\"T_54220708_7f14_11ea_a82b_acde48001122row2_col4\" class=\"data row2 col4\" >296.050000</td>\n",
       "                        <td id=\"T_54220708_7f14_11ea_a82b_acde48001122row2_col5\" class=\"data row2 col5\" >4.250000</td>\n",
       "                        <td id=\"T_54220708_7f14_11ea_a82b_acde48001122row2_col6\" class=\"data row2 col6\" >2.200000</td>\n",
       "                        <td id=\"T_54220708_7f14_11ea_a82b_acde48001122row2_col7\" class=\"data row2 col7\" >2755.000000</td>\n",
       "                        <td id=\"T_54220708_7f14_11ea_a82b_acde48001122row2_col8\" class=\"data row2 col8\" >10.230500</td>\n",
       "                        <td id=\"T_54220708_7f14_11ea_a82b_acde48001122row2_col9\" class=\"data row2 col9\" >22.754500</td>\n",
       "                        <td id=\"T_54220708_7f14_11ea_a82b_acde48001122row2_col10\" class=\"data row2 col10\" >33.046000</td>\n",
       "                        <td id=\"T_54220708_7f14_11ea_a82b_acde48001122row2_col11\" class=\"data row2 col11\" >23.222500</td>\n",
       "                        <td id=\"T_54220708_7f14_11ea_a82b_acde48001122row2_col12\" class=\"data row2 col12\" >10.748000</td>\n",
       "                        <td id=\"T_54220708_7f14_11ea_a82b_acde48001122row2_col13\" class=\"data row2 col13\" >66.031000</td>\n",
       "                        <td id=\"T_54220708_7f14_11ea_a82b_acde48001122row2_col14\" class=\"data row2 col14\" >23.222500</td>\n",
       "                        <td id=\"T_54220708_7f14_11ea_a82b_acde48001122row2_col15\" class=\"data row2 col15\" >10.748000</td>\n",
       "            </tr>\n",
       "            <tr>\n",
       "                        <th id=\"T_54220708_7f14_11ea_a82b_acde48001122level0_row3\" class=\"row_heading level0 row3\" ><$25,000</th>\n",
       "                        <td id=\"T_54220708_7f14_11ea_a82b_acde48001122row3_col0\" class=\"data row3 col0\" >350.000000</td>\n",
       "                        <td id=\"T_54220708_7f14_11ea_a82b_acde48001122row3_col1\" class=\"data row3 col1\" >877.600000</td>\n",
       "                        <td id=\"T_54220708_7f14_11ea_a82b_acde48001122row3_col2\" class=\"data row3 col2\" >1131.500000</td>\n",
       "                        <td id=\"T_54220708_7f14_11ea_a82b_acde48001122row3_col3\" class=\"data row3 col3\" >574.100000</td>\n",
       "                        <td id=\"T_54220708_7f14_11ea_a82b_acde48001122row3_col4\" class=\"data row3 col4\" >227.100000</td>\n",
       "                        <td id=\"T_54220708_7f14_11ea_a82b_acde48001122row3_col5\" class=\"data row3 col5\" >2.100000</td>\n",
       "                        <td id=\"T_54220708_7f14_11ea_a82b_acde48001122row3_col6\" class=\"data row3 col6\" >3.150000</td>\n",
       "                        <td id=\"T_54220708_7f14_11ea_a82b_acde48001122row3_col7\" class=\"data row3 col7\" >3160.300000</td>\n",
       "                        <td id=\"T_54220708_7f14_11ea_a82b_acde48001122row3_col8\" class=\"data row3 col8\" >11.076500</td>\n",
       "                        <td id=\"T_54220708_7f14_11ea_a82b_acde48001122row3_col9\" class=\"data row3 col9\" >27.770000</td>\n",
       "                        <td id=\"T_54220708_7f14_11ea_a82b_acde48001122row3_col10\" class=\"data row3 col10\" >35.802500</td>\n",
       "                        <td id=\"T_54220708_7f14_11ea_a82b_acde48001122row3_col11\" class=\"data row3 col11\" >18.161000</td>\n",
       "                        <td id=\"T_54220708_7f14_11ea_a82b_acde48001122row3_col12\" class=\"data row3 col12\" >7.190000</td>\n",
       "                        <td id=\"T_54220708_7f14_11ea_a82b_acde48001122row3_col13\" class=\"data row3 col13\" >74.649000</td>\n",
       "                        <td id=\"T_54220708_7f14_11ea_a82b_acde48001122row3_col14\" class=\"data row3 col14\" >18.161000</td>\n",
       "                        <td id=\"T_54220708_7f14_11ea_a82b_acde48001122row3_col15\" class=\"data row3 col15\" >7.190000</td>\n",
       "            </tr>\n",
       "            <tr>\n",
       "                        <th id=\"T_54220708_7f14_11ea_a82b_acde48001122level0_row4\" class=\"row_heading level0 row4\" ><$35,000</th>\n",
       "                        <td id=\"T_54220708_7f14_11ea_a82b_acde48001122row4_col0\" class=\"data row4 col0\" >539.400000</td>\n",
       "                        <td id=\"T_54220708_7f14_11ea_a82b_acde48001122row4_col1\" class=\"data row4 col1\" >1352.100000</td>\n",
       "                        <td id=\"T_54220708_7f14_11ea_a82b_acde48001122row4_col2\" class=\"data row4 col2\" >1377.250000</td>\n",
       "                        <td id=\"T_54220708_7f14_11ea_a82b_acde48001122row4_col3\" class=\"data row4 col3\" >604.800000</td>\n",
       "                        <td id=\"T_54220708_7f14_11ea_a82b_acde48001122row4_col4\" class=\"data row4 col4\" >196.650000</td>\n",
       "                        <td id=\"T_54220708_7f14_11ea_a82b_acde48001122row4_col5\" class=\"data row4 col5\" >3.700000</td>\n",
       "                        <td id=\"T_54220708_7f14_11ea_a82b_acde48001122row4_col6\" class=\"data row4 col6\" >3.800000</td>\n",
       "                        <td id=\"T_54220708_7f14_11ea_a82b_acde48001122row4_col7\" class=\"data row4 col7\" >4070.200000</td>\n",
       "                        <td id=\"T_54220708_7f14_11ea_a82b_acde48001122row4_col8\" class=\"data row4 col8\" >13.252000</td>\n",
       "                        <td id=\"T_54220708_7f14_11ea_a82b_acde48001122row4_col9\" class=\"data row4 col9\" >33.219500</td>\n",
       "                        <td id=\"T_54220708_7f14_11ea_a82b_acde48001122row4_col10\" class=\"data row4 col10\" >33.835500</td>\n",
       "                        <td id=\"T_54220708_7f14_11ea_a82b_acde48001122row4_col11\" class=\"data row4 col11\" >14.859500</td>\n",
       "                        <td id=\"T_54220708_7f14_11ea_a82b_acde48001122row4_col12\" class=\"data row4 col12\" >4.832500</td>\n",
       "                        <td id=\"T_54220708_7f14_11ea_a82b_acde48001122row4_col13\" class=\"data row4 col13\" >80.307000</td>\n",
       "                        <td id=\"T_54220708_7f14_11ea_a82b_acde48001122row4_col14\" class=\"data row4 col14\" >14.859500</td>\n",
       "                        <td id=\"T_54220708_7f14_11ea_a82b_acde48001122row4_col15\" class=\"data row4 col15\" >4.832500</td>\n",
       "            </tr>\n",
       "            <tr>\n",
       "                        <th id=\"T_54220708_7f14_11ea_a82b_acde48001122level0_row5\" class=\"row_heading level0 row5\" ><$50,000</th>\n",
       "                        <td id=\"T_54220708_7f14_11ea_a82b_acde48001122row5_col0\" class=\"data row5 col0\" >1015.350000</td>\n",
       "                        <td id=\"T_54220708_7f14_11ea_a82b_acde48001122row5_col1\" class=\"data row5 col1\" >2125.550000</td>\n",
       "                        <td id=\"T_54220708_7f14_11ea_a82b_acde48001122row5_col2\" class=\"data row5 col2\" >1932.600000</td>\n",
       "                        <td id=\"T_54220708_7f14_11ea_a82b_acde48001122row5_col3\" class=\"data row5 col3\" >600.900000</td>\n",
       "                        <td id=\"T_54220708_7f14_11ea_a82b_acde48001122row5_col4\" class=\"data row5 col4\" >180.300000</td>\n",
       "                        <td id=\"T_54220708_7f14_11ea_a82b_acde48001122row5_col5\" class=\"data row5 col5\" >3.550000</td>\n",
       "                        <td id=\"T_54220708_7f14_11ea_a82b_acde48001122row5_col6\" class=\"data row5 col6\" >2.600000</td>\n",
       "                        <td id=\"T_54220708_7f14_11ea_a82b_acde48001122row5_col7\" class=\"data row5 col7\" >5854.700000</td>\n",
       "                        <td id=\"T_54220708_7f14_11ea_a82b_acde48001122row5_col8\" class=\"data row5 col8\" >17.343000</td>\n",
       "                        <td id=\"T_54220708_7f14_11ea_a82b_acde48001122row5_col9\" class=\"data row5 col9\" >36.303500</td>\n",
       "                        <td id=\"T_54220708_7f14_11ea_a82b_acde48001122row5_col10\" class=\"data row5 col10\" >33.013000</td>\n",
       "                        <td id=\"T_54220708_7f14_11ea_a82b_acde48001122row5_col11\" class=\"data row5 col11\" >10.262500</td>\n",
       "                        <td id=\"T_54220708_7f14_11ea_a82b_acde48001122row5_col12\" class=\"data row5 col12\" >3.080000</td>\n",
       "                        <td id=\"T_54220708_7f14_11ea_a82b_acde48001122row5_col13\" class=\"data row5 col13\" >86.659500</td>\n",
       "                        <td id=\"T_54220708_7f14_11ea_a82b_acde48001122row5_col14\" class=\"data row5 col14\" >10.262500</td>\n",
       "                        <td id=\"T_54220708_7f14_11ea_a82b_acde48001122row5_col15\" class=\"data row5 col15\" >3.080000</td>\n",
       "            </tr>\n",
       "            <tr>\n",
       "                        <th id=\"T_54220708_7f14_11ea_a82b_acde48001122level0_row6\" class=\"row_heading level0 row6\" ><$75,000</th>\n",
       "                        <td id=\"T_54220708_7f14_11ea_a82b_acde48001122row6_col0\" class=\"data row6 col0\" >1410.600000</td>\n",
       "                        <td id=\"T_54220708_7f14_11ea_a82b_acde48001122row6_col1\" class=\"data row6 col1\" >2824.650000</td>\n",
       "                        <td id=\"T_54220708_7f14_11ea_a82b_acde48001122row6_col2\" class=\"data row6 col2\" >2043.150000</td>\n",
       "                        <td id=\"T_54220708_7f14_11ea_a82b_acde48001122row6_col3\" class=\"data row6 col3\" >547.650000</td>\n",
       "                        <td id=\"T_54220708_7f14_11ea_a82b_acde48001122row6_col4\" class=\"data row6 col4\" >135.050000</td>\n",
       "                        <td id=\"T_54220708_7f14_11ea_a82b_acde48001122row6_col5\" class=\"data row6 col5\" >0.900000</td>\n",
       "                        <td id=\"T_54220708_7f14_11ea_a82b_acde48001122row6_col6\" class=\"data row6 col6\" >2.750000</td>\n",
       "                        <td id=\"T_54220708_7f14_11ea_a82b_acde48001122row6_col7\" class=\"data row6 col7\" >6961.100000</td>\n",
       "                        <td id=\"T_54220708_7f14_11ea_a82b_acde48001122row6_col8\" class=\"data row6 col8\" >20.265500</td>\n",
       "                        <td id=\"T_54220708_7f14_11ea_a82b_acde48001122row6_col9\" class=\"data row6 col9\" >40.577000</td>\n",
       "                        <td id=\"T_54220708_7f14_11ea_a82b_acde48001122row6_col10\" class=\"data row6 col10\" >29.351500</td>\n",
       "                        <td id=\"T_54220708_7f14_11ea_a82b_acde48001122row6_col11\" class=\"data row6 col11\" >7.868000</td>\n",
       "                        <td id=\"T_54220708_7f14_11ea_a82b_acde48001122row6_col12\" class=\"data row6 col12\" >1.940500</td>\n",
       "                        <td id=\"T_54220708_7f14_11ea_a82b_acde48001122row6_col13\" class=\"data row6 col13\" >90.194000</td>\n",
       "                        <td id=\"T_54220708_7f14_11ea_a82b_acde48001122row6_col14\" class=\"data row6 col14\" >7.868000</td>\n",
       "                        <td id=\"T_54220708_7f14_11ea_a82b_acde48001122row6_col15\" class=\"data row6 col15\" >1.940500</td>\n",
       "            </tr>\n",
       "            <tr>\n",
       "                        <th id=\"T_54220708_7f14_11ea_a82b_acde48001122level0_row7\" class=\"row_heading level0 row7\" >>$75,000</th>\n",
       "                        <td id=\"T_54220708_7f14_11ea_a82b_acde48001122row7_col0\" class=\"data row7 col0\" >4752.350000</td>\n",
       "                        <td id=\"T_54220708_7f14_11ea_a82b_acde48001122row7_col1\" class=\"data row7 col1\" >6952.300000</td>\n",
       "                        <td id=\"T_54220708_7f14_11ea_a82b_acde48001122row7_col2\" class=\"data row7 col2\" >3389.500000</td>\n",
       "                        <td id=\"T_54220708_7f14_11ea_a82b_acde48001122row7_col3\" class=\"data row7 col3\" >688.900000</td>\n",
       "                        <td id=\"T_54220708_7f14_11ea_a82b_acde48001122row7_col4\" class=\"data row7 col4\" >143.600000</td>\n",
       "                        <td id=\"T_54220708_7f14_11ea_a82b_acde48001122row7_col5\" class=\"data row7 col5\" >7.000000</td>\n",
       "                        <td id=\"T_54220708_7f14_11ea_a82b_acde48001122row7_col6\" class=\"data row7 col6\" >3.400000</td>\n",
       "                        <td id=\"T_54220708_7f14_11ea_a82b_acde48001122row7_col7\" class=\"data row7 col7\" >15926.650000</td>\n",
       "                        <td id=\"T_54220708_7f14_11ea_a82b_acde48001122row7_col8\" class=\"data row7 col8\" >29.839000</td>\n",
       "                        <td id=\"T_54220708_7f14_11ea_a82b_acde48001122row7_col9\" class=\"data row7 col9\" >43.651500</td>\n",
       "                        <td id=\"T_54220708_7f14_11ea_a82b_acde48001122row7_col10\" class=\"data row7 col10\" >21.282500</td>\n",
       "                        <td id=\"T_54220708_7f14_11ea_a82b_acde48001122row7_col11\" class=\"data row7 col11\" >4.325500</td>\n",
       "                        <td id=\"T_54220708_7f14_11ea_a82b_acde48001122row7_col12\" class=\"data row7 col12\" >0.901500</td>\n",
       "                        <td id=\"T_54220708_7f14_11ea_a82b_acde48001122row7_col13\" class=\"data row7 col13\" >94.773000</td>\n",
       "                        <td id=\"T_54220708_7f14_11ea_a82b_acde48001122row7_col14\" class=\"data row7 col14\" >4.325500</td>\n",
       "                        <td id=\"T_54220708_7f14_11ea_a82b_acde48001122row7_col15\" class=\"data row7 col15\" >0.901500</td>\n",
       "            </tr>\n",
       "    </tbody></table>"
      ],
      "text/plain": [
       "<pandas.io.formats.style.Styler at 0x120f55c18>"
      ]
     },
     "execution_count": 112,
     "metadata": {},
     "output_type": "execute_result"
    }
   ],
   "source": [
    "print(\"Q: General health of the participant (1 = excellent -> 5 = poor) (Sampled 2015-2018)\")\n",
    "print(\"Colored based on change from 2014 -> green = increase, pink = decrease, white = no change\")\n",
    " \n",
    "income_x_health_1518_df.style.apply(highlight_change, other_df=income_x_health_14_df, axis=None)"
   ]
  },
  {
   "cell_type": "code",
   "execution_count": null,
   "metadata": {},
   "outputs": [],
   "source": []
  },
  {
   "cell_type": "code",
   "execution_count": null,
   "metadata": {},
   "outputs": [],
   "source": []
  }
 ],
 "metadata": {
  "kernelspec": {
   "display_name": "Python 3",
   "language": "python",
   "name": "python3"
  },
  "language_info": {
   "codemirror_mode": {
    "name": "ipython",
    "version": 3
   },
   "file_extension": ".py",
   "mimetype": "text/x-python",
   "name": "python",
   "nbconvert_exporter": "python",
   "pygments_lexer": "ipython3",
   "version": "3.7.3"
  }
 },
 "nbformat": 4,
 "nbformat_minor": 4
}
